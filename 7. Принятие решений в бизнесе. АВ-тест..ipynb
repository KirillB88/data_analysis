{
 "cells": [
  {
   "cell_type": "markdown",
   "metadata": {},
   "source": [
    "# Принятие решений в бизнесе. А/В тестирование"
   ]
  },
  {
   "cell_type": "markdown",
   "metadata": {},
   "source": [
    "### Описание проекта\n",
    "\n",
    "Аналитика крупного интернет-магазина. Вместе с отделом маркетинга мы подготовили список гипотез для увеличения выручки.\n",
    "\n",
    "<b>Цель исследования:</b> \n",
    "- Приоритизировать гипотезы.\n",
    "- Запустить A/B-тест.\n",
    "- Проанализировать результаты.\n",
    "\n",
    "<b>Ход исследования:</b> \n",
    "\n",
    "*1. Откроем файлы с данными, изучим общую информацию и подготовим данные*\n",
    "\n",
    "Путь к файлам:\n",
    "\n",
    "`/datasets/hypothesis.csv /datasets/orders.csv /datasets/hypothesis.csv` - гипотезы\n",
    "\n",
    "`/datasets/hypothesis.csv /datasets/orders.csv /datasets/visitors.csv` - пользователи\n",
    "\n",
    "`/datasets/hypothesis.csv /datasets/orders.csv /datasets/orders.csv` - заказы\n",
    "\n",
    "*2. Проведем приоритизацию гипотез*\n",
    "\n",
    "В файле `/datasets/hypothesis.csv` 9 гипотез по увеличению выручки интернет-магазина с указанными параметрами Reach, Impact, Confidence, Effort.\n",
    "\n",
    "Применим фреймворк `ICE` для приоритизации гипотез. Отсортируем их по убыванию приоритета\n",
    "\n",
    "Применим фреймворк `RICE` для приоритизации гипотез. Отсортируем их по убыванию приоритета\n",
    "\n",
    "Укажем, как изменилась приоритизация гипотез при применении RICE вместо ICE. Объясним, почему так произошло.\n",
    "\n",
    "*3. Анализ A/B-теста*\n",
    "\n",
    "Мы провели A/B-тест и получили результаты, которые описаны в файлах `/datasets/orders.csv` и `/datasets/visitors.csv`. \n",
    "\n",
    "Проанализируем A/B-тест:\n",
    "\n",
    "Построим график кумулятивной выручки по группам. Сделаем выводы и предположения.\n",
    "\n",
    "Построим график кумулятивного среднего чека по группам. Сделаем выводы и предположения.\n",
    "\n",
    "Построим график относительного изменения кумулятивного среднего чека группы B к группе A. Сделаем выводы и предположения.\n",
    "\n",
    "Построим график кумулятивного среднего количества заказов на посетителя по группам. Сделаем выводы и предположения.\n",
    "\n",
    "Построим график относительного изменения кумулятивного среднего количества заказов на посетителя группы B к группе A. Сделаем выводы и предположения.\n",
    "\n",
    "Построим точечный график количества заказов по пользователям. Сделаем выводы и предположения.\n",
    "\n",
    "Посчитаем 95-й и 99-й перцентили количества заказов на пользователя. Выберем границу для определения аномальных пользователей.\n",
    "\n",
    "Построим точечный график стоимостей заказов. Сделаем выводы и предположения.\n",
    "\n",
    "Посчитаем 95-й и 99-й перцентили стоимости заказов. Выберем границу для определения аномальных заказов.\n",
    "\n",
    "Посчитаем статистическую значимость различий в среднем количестве заказов на посетителя между группами по «сырым» данным. Сделаем выводы и предположения.\n",
    "\n",
    "Посчитаем статистическую значимость различий в среднем чеке заказа между группами по «сырым» данным. Сделаем выводы и предположения.\n",
    "\n",
    "Посчитаем статистическую значимость различий в среднем количестве заказов на посетителя между группами по «очищенным» данным. Сделаем выводы и предположения.\n",
    "\n",
    "Посчитаем статистическую значимость различий в среднем чеке заказа между группами по «очищенным» данным. Сделаем выводы и предположения.\n",
    "\n",
    "Примем решение по результатам теста. Варианты решений:\n",
    "\n",
    "- Остановить тест, зафиксировать победу одной из групп.\n",
    "- Остановить тест, зафиксировать отсутствие различий между группами.\n",
    "- Продолжить тест.\n",
    "\n",
    "*4. Общий вывод*"
   ]
  },
  {
   "cell_type": "markdown",
   "metadata": {},
   "source": [
    "### Описание данных"
   ]
  },
  {
   "cell_type": "markdown",
   "metadata": {},
   "source": [
    "Файл `/datasets/hypothesis.csv`. \n",
    "\n",
    "`Hypothesis` — краткое описание гипотезы\n",
    "\n",
    "`Reach` — охват пользователей по 10-балльной шкале\n",
    "\n",
    "`Impact` — влияние на пользователей по 10-балльной шкале\n",
    "\n",
    "`Confidence` — уверенность в гипотезе по 10-балльной шкале\n",
    "\n",
    "`Efforts` — затраты ресурсов на проверку гипотезы по 10-балльной шкале. Чем больше значение Efforts, тем дороже проверка гипотезы.\n",
    "\n",
    "Файл `/datasets/orders.csv`. \n",
    "\n",
    "`transactionId` — идентификатор заказа\n",
    "\n",
    "`visitorId` — идентификатор пользователя, совершившего заказ\n",
    "\n",
    "`date` — дата, когда был совершён заказ\n",
    "\n",
    "`revenue` — выручка заказа\n",
    "\n",
    "`group` — группа A/B-теста, в которую попал заказ\n",
    "\n",
    "Файл `/datasets/visitors.csv`.\n",
    "\n",
    "`date` — дата\n",
    "\n",
    "`group` — группа A/B-теста\n",
    "\n",
    "`visitors` — количество пользователей в указанную дату в указанной группе A/B-теста"
   ]
  },
  {
   "cell_type": "markdown",
   "metadata": {},
   "source": [
    "# Откроем файлы с данными, изучим общую информацию и подготовим данные"
   ]
  },
  {
   "cell_type": "markdown",
   "metadata": {},
   "source": [
    "Импортируем необходимые библиотеки."
   ]
  },
  {
   "cell_type": "code",
   "execution_count": 1,
   "metadata": {},
   "outputs": [],
   "source": [
    "import pandas as pd\n",
    "import datetime as dt\n",
    "import numpy as np\n",
    "import seaborn as sn\n",
    "import matplotlib.pyplot as plt\n",
    "import scipy.stats as stats\n",
    "import math\n",
    "pd.options.display.float_format = '{:.2f}'.format\n",
    "pd.set_option('display.max_columns', None)\n",
    "pd.set_option('display.max_colwidth', None)"
   ]
  },
  {
   "cell_type": "markdown",
   "metadata": {},
   "source": [
    "Загрузим файлы с данными."
   ]
  },
  {
   "cell_type": "code",
   "execution_count": 2,
   "metadata": {},
   "outputs": [],
   "source": [
    "try:\n",
    "    hypothesis, visitors, orders = (\n",
    "    pd.read_csv('C:/Users/ACER/Desktop/hypothesis.csv'), # гипотезы\n",
    "    pd.read_csv('C:/Users/ACER/Desktop/visitors.csv', sep=','),  # пользователи\n",
    "    pd.read_csv('C:/Users/ACER/Desktop/orders.csv', sep=',')  # заказы\n",
    ")\n",
    "except:\n",
    "    hypothesis, visitors, orders = (\n",
    "    pd.read_csv('/datasets/hypothesis.csv'), # гипотезы\n",
    "    pd.read_csv('/datasets/visitors.csv'),  # пользователи\n",
    "    pd.read_csv('/datasets/orders.csv') # заказы\n",
    ")"
   ]
  },
  {
   "cell_type": "markdown",
   "metadata": {},
   "source": [
    "### Часть 1. Приоритизация гипотез."
   ]
  },
  {
   "cell_type": "markdown",
   "metadata": {},
   "source": [
    "Посмотрим на файл с гипотезами."
   ]
  },
  {
   "cell_type": "code",
   "execution_count": 3,
   "metadata": {
    "scrolled": true
   },
   "outputs": [
    {
     "data": {
      "text/html": [
       "<div>\n",
       "<style scoped>\n",
       "    .dataframe tbody tr th:only-of-type {\n",
       "        vertical-align: middle;\n",
       "    }\n",
       "\n",
       "    .dataframe tbody tr th {\n",
       "        vertical-align: top;\n",
       "    }\n",
       "\n",
       "    .dataframe thead th {\n",
       "        text-align: right;\n",
       "    }\n",
       "</style>\n",
       "<table border=\"1\" class=\"dataframe\">\n",
       "  <thead>\n",
       "    <tr style=\"text-align: right;\">\n",
       "      <th></th>\n",
       "      <th>Hypothesis</th>\n",
       "      <th>Reach</th>\n",
       "      <th>Impact</th>\n",
       "      <th>Confidence</th>\n",
       "      <th>Efforts</th>\n",
       "    </tr>\n",
       "  </thead>\n",
       "  <tbody>\n",
       "    <tr>\n",
       "      <th>0</th>\n",
       "      <td>Добавить два новых канала привлечения трафика, что позволит привлекать на 30% больше пользователей</td>\n",
       "      <td>3</td>\n",
       "      <td>10</td>\n",
       "      <td>8</td>\n",
       "      <td>6</td>\n",
       "    </tr>\n",
       "    <tr>\n",
       "      <th>1</th>\n",
       "      <td>Запустить собственную службу доставки, что сократит срок доставки заказов</td>\n",
       "      <td>2</td>\n",
       "      <td>5</td>\n",
       "      <td>4</td>\n",
       "      <td>10</td>\n",
       "    </tr>\n",
       "    <tr>\n",
       "      <th>2</th>\n",
       "      <td>Добавить блоки рекомендаций товаров на сайт интернет магазина, чтобы повысить конверсию и средний чек заказа</td>\n",
       "      <td>8</td>\n",
       "      <td>3</td>\n",
       "      <td>7</td>\n",
       "      <td>3</td>\n",
       "    </tr>\n",
       "    <tr>\n",
       "      <th>3</th>\n",
       "      <td>Изменить структура категорий, что увеличит конверсию, т.к. пользователи быстрее найдут нужный товар</td>\n",
       "      <td>8</td>\n",
       "      <td>3</td>\n",
       "      <td>3</td>\n",
       "      <td>8</td>\n",
       "    </tr>\n",
       "    <tr>\n",
       "      <th>4</th>\n",
       "      <td>Изменить цвет фона главной страницы, чтобы увеличить вовлеченность пользователей</td>\n",
       "      <td>3</td>\n",
       "      <td>1</td>\n",
       "      <td>1</td>\n",
       "      <td>1</td>\n",
       "    </tr>\n",
       "    <tr>\n",
       "      <th>5</th>\n",
       "      <td>Добавить страницу отзывов клиентов о магазине, что позволит увеличить количество заказов</td>\n",
       "      <td>3</td>\n",
       "      <td>2</td>\n",
       "      <td>2</td>\n",
       "      <td>3</td>\n",
       "    </tr>\n",
       "    <tr>\n",
       "      <th>6</th>\n",
       "      <td>Показать на главной странице баннеры с актуальными акциями и распродажами, чтобы увеличить конверсию</td>\n",
       "      <td>5</td>\n",
       "      <td>3</td>\n",
       "      <td>8</td>\n",
       "      <td>3</td>\n",
       "    </tr>\n",
       "    <tr>\n",
       "      <th>7</th>\n",
       "      <td>Добавить форму подписки на все основные страницы, чтобы собрать базу клиентов для email-рассылок</td>\n",
       "      <td>10</td>\n",
       "      <td>7</td>\n",
       "      <td>8</td>\n",
       "      <td>5</td>\n",
       "    </tr>\n",
       "    <tr>\n",
       "      <th>8</th>\n",
       "      <td>Запустить акцию, дающую скидку на товар в день рождения</td>\n",
       "      <td>1</td>\n",
       "      <td>9</td>\n",
       "      <td>9</td>\n",
       "      <td>5</td>\n",
       "    </tr>\n",
       "  </tbody>\n",
       "</table>\n",
       "</div>"
      ],
      "text/plain": [
       "                                                                                                     Hypothesis  \\\n",
       "0            Добавить два новых канала привлечения трафика, что позволит привлекать на 30% больше пользователей   \n",
       "1                                     Запустить собственную службу доставки, что сократит срок доставки заказов   \n",
       "2  Добавить блоки рекомендаций товаров на сайт интернет магазина, чтобы повысить конверсию и средний чек заказа   \n",
       "3           Изменить структура категорий, что увеличит конверсию, т.к. пользователи быстрее найдут нужный товар   \n",
       "4                              Изменить цвет фона главной страницы, чтобы увеличить вовлеченность пользователей   \n",
       "5                      Добавить страницу отзывов клиентов о магазине, что позволит увеличить количество заказов   \n",
       "6          Показать на главной странице баннеры с актуальными акциями и распродажами, чтобы увеличить конверсию   \n",
       "7              Добавить форму подписки на все основные страницы, чтобы собрать базу клиентов для email-рассылок   \n",
       "8                                                       Запустить акцию, дающую скидку на товар в день рождения   \n",
       "\n",
       "   Reach  Impact  Confidence  Efforts  \n",
       "0      3      10           8        6  \n",
       "1      2       5           4       10  \n",
       "2      8       3           7        3  \n",
       "3      8       3           3        8  \n",
       "4      3       1           1        1  \n",
       "5      3       2           2        3  \n",
       "6      5       3           8        3  \n",
       "7     10       7           8        5  \n",
       "8      1       9           9        5  "
      ]
     },
     "metadata": {},
     "output_type": "display_data"
    }
   ],
   "source": [
    "display(hypothesis)"
   ]
  },
  {
   "cell_type": "markdown",
   "metadata": {},
   "source": [
    "Для удобства приведем названия столбцов в файле к нижнему регистру. Применим фреймворк `ICE` и отсортируем."
   ]
  },
  {
   "cell_type": "code",
   "execution_count": 4,
   "metadata": {},
   "outputs": [
    {
     "data": {
      "text/html": [
       "<div>\n",
       "<style scoped>\n",
       "    .dataframe tbody tr th:only-of-type {\n",
       "        vertical-align: middle;\n",
       "    }\n",
       "\n",
       "    .dataframe tbody tr th {\n",
       "        vertical-align: top;\n",
       "    }\n",
       "\n",
       "    .dataframe thead th {\n",
       "        text-align: right;\n",
       "    }\n",
       "</style>\n",
       "<table border=\"1\" class=\"dataframe\">\n",
       "  <thead>\n",
       "    <tr style=\"text-align: right;\">\n",
       "      <th></th>\n",
       "      <th>hypothesis</th>\n",
       "      <th>ICE</th>\n",
       "    </tr>\n",
       "  </thead>\n",
       "  <tbody>\n",
       "    <tr>\n",
       "      <th>8</th>\n",
       "      <td>Запустить акцию, дающую скидку на товар в день рождения</td>\n",
       "      <td>16.20</td>\n",
       "    </tr>\n",
       "    <tr>\n",
       "      <th>0</th>\n",
       "      <td>Добавить два новых канала привлечения трафика, что позволит привлекать на 30% больше пользователей</td>\n",
       "      <td>13.33</td>\n",
       "    </tr>\n",
       "    <tr>\n",
       "      <th>7</th>\n",
       "      <td>Добавить форму подписки на все основные страницы, чтобы собрать базу клиентов для email-рассылок</td>\n",
       "      <td>11.20</td>\n",
       "    </tr>\n",
       "    <tr>\n",
       "      <th>6</th>\n",
       "      <td>Показать на главной странице баннеры с актуальными акциями и распродажами, чтобы увеличить конверсию</td>\n",
       "      <td>8.00</td>\n",
       "    </tr>\n",
       "    <tr>\n",
       "      <th>2</th>\n",
       "      <td>Добавить блоки рекомендаций товаров на сайт интернет магазина, чтобы повысить конверсию и средний чек заказа</td>\n",
       "      <td>7.00</td>\n",
       "    </tr>\n",
       "    <tr>\n",
       "      <th>1</th>\n",
       "      <td>Запустить собственную службу доставки, что сократит срок доставки заказов</td>\n",
       "      <td>2.00</td>\n",
       "    </tr>\n",
       "    <tr>\n",
       "      <th>5</th>\n",
       "      <td>Добавить страницу отзывов клиентов о магазине, что позволит увеличить количество заказов</td>\n",
       "      <td>1.33</td>\n",
       "    </tr>\n",
       "    <tr>\n",
       "      <th>3</th>\n",
       "      <td>Изменить структура категорий, что увеличит конверсию, т.к. пользователи быстрее найдут нужный товар</td>\n",
       "      <td>1.12</td>\n",
       "    </tr>\n",
       "    <tr>\n",
       "      <th>4</th>\n",
       "      <td>Изменить цвет фона главной страницы, чтобы увеличить вовлеченность пользователей</td>\n",
       "      <td>1.00</td>\n",
       "    </tr>\n",
       "  </tbody>\n",
       "</table>\n",
       "</div>"
      ],
      "text/plain": [
       "                                                                                                     hypothesis  \\\n",
       "8                                                       Запустить акцию, дающую скидку на товар в день рождения   \n",
       "0            Добавить два новых канала привлечения трафика, что позволит привлекать на 30% больше пользователей   \n",
       "7              Добавить форму подписки на все основные страницы, чтобы собрать базу клиентов для email-рассылок   \n",
       "6          Показать на главной странице баннеры с актуальными акциями и распродажами, чтобы увеличить конверсию   \n",
       "2  Добавить блоки рекомендаций товаров на сайт интернет магазина, чтобы повысить конверсию и средний чек заказа   \n",
       "1                                     Запустить собственную службу доставки, что сократит срок доставки заказов   \n",
       "5                      Добавить страницу отзывов клиентов о магазине, что позволит увеличить количество заказов   \n",
       "3           Изменить структура категорий, что увеличит конверсию, т.к. пользователи быстрее найдут нужный товар   \n",
       "4                              Изменить цвет фона главной страницы, чтобы увеличить вовлеченность пользователей   \n",
       "\n",
       "    ICE  \n",
       "8 16.20  \n",
       "0 13.33  \n",
       "7 11.20  \n",
       "6  8.00  \n",
       "2  7.00  \n",
       "1  2.00  \n",
       "5  1.33  \n",
       "3  1.12  \n",
       "4  1.00  "
      ]
     },
     "metadata": {},
     "output_type": "display_data"
    }
   ],
   "source": [
    "hypothesis.columns = hypothesis.columns.str.lower()\n",
    "hypothesis['ICE'] = (hypothesis['impact']*hypothesis['confidence'])/(hypothesis['efforts'])\n",
    "display(hypothesis[['hypothesis','ICE']].sort_values(by='ICE', ascending=False))"
   ]
  },
  {
   "cell_type": "markdown",
   "metadata": {},
   "source": [
    "Наиболее приоритетными гипотезами по `ICE` являются:\n",
    "\n",
    "8.Запустить акцию, дающую скидку на товар в день рождения\n",
    "\n",
    "0.Добавить два новых канала привлечения трафика, что позволит привлекать на 30% больше пользователей\n",
    "\n",
    "7.Добавить форму подписки на все основные страницы, чтобы собрать базу клиентов для email-рассылок"
   ]
  },
  {
   "cell_type": "markdown",
   "metadata": {},
   "source": [
    "Применим фреймворк `RICE` и отсортируем."
   ]
  },
  {
   "cell_type": "code",
   "execution_count": 5,
   "metadata": {},
   "outputs": [
    {
     "data": {
      "text/html": [
       "<div>\n",
       "<style scoped>\n",
       "    .dataframe tbody tr th:only-of-type {\n",
       "        vertical-align: middle;\n",
       "    }\n",
       "\n",
       "    .dataframe tbody tr th {\n",
       "        vertical-align: top;\n",
       "    }\n",
       "\n",
       "    .dataframe thead th {\n",
       "        text-align: right;\n",
       "    }\n",
       "</style>\n",
       "<table border=\"1\" class=\"dataframe\">\n",
       "  <thead>\n",
       "    <tr style=\"text-align: right;\">\n",
       "      <th></th>\n",
       "      <th>hypothesis</th>\n",
       "      <th>RICE</th>\n",
       "    </tr>\n",
       "  </thead>\n",
       "  <tbody>\n",
       "    <tr>\n",
       "      <th>7</th>\n",
       "      <td>Добавить форму подписки на все основные страницы, чтобы собрать базу клиентов для email-рассылок</td>\n",
       "      <td>112.00</td>\n",
       "    </tr>\n",
       "    <tr>\n",
       "      <th>2</th>\n",
       "      <td>Добавить блоки рекомендаций товаров на сайт интернет магазина, чтобы повысить конверсию и средний чек заказа</td>\n",
       "      <td>56.00</td>\n",
       "    </tr>\n",
       "    <tr>\n",
       "      <th>0</th>\n",
       "      <td>Добавить два новых канала привлечения трафика, что позволит привлекать на 30% больше пользователей</td>\n",
       "      <td>40.00</td>\n",
       "    </tr>\n",
       "    <tr>\n",
       "      <th>6</th>\n",
       "      <td>Показать на главной странице баннеры с актуальными акциями и распродажами, чтобы увеличить конверсию</td>\n",
       "      <td>40.00</td>\n",
       "    </tr>\n",
       "    <tr>\n",
       "      <th>8</th>\n",
       "      <td>Запустить акцию, дающую скидку на товар в день рождения</td>\n",
       "      <td>16.20</td>\n",
       "    </tr>\n",
       "    <tr>\n",
       "      <th>3</th>\n",
       "      <td>Изменить структура категорий, что увеличит конверсию, т.к. пользователи быстрее найдут нужный товар</td>\n",
       "      <td>9.00</td>\n",
       "    </tr>\n",
       "    <tr>\n",
       "      <th>1</th>\n",
       "      <td>Запустить собственную службу доставки, что сократит срок доставки заказов</td>\n",
       "      <td>4.00</td>\n",
       "    </tr>\n",
       "    <tr>\n",
       "      <th>5</th>\n",
       "      <td>Добавить страницу отзывов клиентов о магазине, что позволит увеличить количество заказов</td>\n",
       "      <td>4.00</td>\n",
       "    </tr>\n",
       "    <tr>\n",
       "      <th>4</th>\n",
       "      <td>Изменить цвет фона главной страницы, чтобы увеличить вовлеченность пользователей</td>\n",
       "      <td>3.00</td>\n",
       "    </tr>\n",
       "  </tbody>\n",
       "</table>\n",
       "</div>"
      ],
      "text/plain": [
       "                                                                                                     hypothesis  \\\n",
       "7              Добавить форму подписки на все основные страницы, чтобы собрать базу клиентов для email-рассылок   \n",
       "2  Добавить блоки рекомендаций товаров на сайт интернет магазина, чтобы повысить конверсию и средний чек заказа   \n",
       "0            Добавить два новых канала привлечения трафика, что позволит привлекать на 30% больше пользователей   \n",
       "6          Показать на главной странице баннеры с актуальными акциями и распродажами, чтобы увеличить конверсию   \n",
       "8                                                       Запустить акцию, дающую скидку на товар в день рождения   \n",
       "3           Изменить структура категорий, что увеличит конверсию, т.к. пользователи быстрее найдут нужный товар   \n",
       "1                                     Запустить собственную службу доставки, что сократит срок доставки заказов   \n",
       "5                      Добавить страницу отзывов клиентов о магазине, что позволит увеличить количество заказов   \n",
       "4                              Изменить цвет фона главной страницы, чтобы увеличить вовлеченность пользователей   \n",
       "\n",
       "    RICE  \n",
       "7 112.00  \n",
       "2  56.00  \n",
       "0  40.00  \n",
       "6  40.00  \n",
       "8  16.20  \n",
       "3   9.00  \n",
       "1   4.00  \n",
       "5   4.00  \n",
       "4   3.00  "
      ]
     },
     "metadata": {},
     "output_type": "display_data"
    }
   ],
   "source": [
    "hypothesis['RICE'] = (hypothesis['reach']*hypothesis['impact']*hypothesis['confidence'])/(hypothesis['efforts'])\n",
    "display(hypothesis[['hypothesis','RICE']].sort_values(by='RICE', ascending=False))"
   ]
  },
  {
   "cell_type": "markdown",
   "metadata": {},
   "source": [
    "Наиболее приоритетными гипотезами по `RICE` являются:\n",
    "\n",
    "7.Добавить форму подписки на все основные страницы, чтобы собрать базу клиентов для email-рассылок\n",
    "\n",
    "2.Добавить блоки рекомендаций товаров на сайт интернет магазина, чтобы повысить конверсию и средний чек заказа\n",
    "\n",
    "0.Добавить два новых канала привлечения трафика, что позволит привлекать на 30% больше пользователей"
   ]
  },
  {
   "cell_type": "markdown",
   "metadata": {},
   "source": [
    "Наболее перспективная гипотеза по `ICE` потеряла свой приоритет при применении фреймворка `RICE`. Оказал влияние параметр `reach` - охват пользователей. С учитетом результатов применения обоих фреймворков приоритизаций гипотез, самыми перспективными являются:\n",
    "\n",
    "7.Добавить форму подписки на все основные страницы, чтобы собрать базу клиентов для email-рассылок;\n",
    "\n",
    "0.Добавить два новых канала привлечения трафика, что позволит привлекать на 30% больше пользователей;\n",
    "\n",
    "6.Показать на главной странице баннеры с актуальными акциями и распродажами, чтобы увеличить конверсию."
   ]
  },
  {
   "cell_type": "markdown",
   "metadata": {},
   "source": [
    "### Часть 2. Анализ A/B-теста"
   ]
  },
  {
   "cell_type": "markdown",
   "metadata": {},
   "source": [
    "Посмотрим общую информацию о файлах `orders` и `visitors`."
   ]
  },
  {
   "cell_type": "code",
   "execution_count": 6,
   "metadata": {},
   "outputs": [
    {
     "data": {
      "text/html": [
       "<div>\n",
       "<style scoped>\n",
       "    .dataframe tbody tr th:only-of-type {\n",
       "        vertical-align: middle;\n",
       "    }\n",
       "\n",
       "    .dataframe tbody tr th {\n",
       "        vertical-align: top;\n",
       "    }\n",
       "\n",
       "    .dataframe thead th {\n",
       "        text-align: right;\n",
       "    }\n",
       "</style>\n",
       "<table border=\"1\" class=\"dataframe\">\n",
       "  <thead>\n",
       "    <tr style=\"text-align: right;\">\n",
       "      <th></th>\n",
       "      <th>transactionId</th>\n",
       "      <th>visitorId</th>\n",
       "      <th>date</th>\n",
       "      <th>revenue</th>\n",
       "      <th>group</th>\n",
       "    </tr>\n",
       "  </thead>\n",
       "  <tbody>\n",
       "    <tr>\n",
       "      <th>0</th>\n",
       "      <td>3667963787</td>\n",
       "      <td>3312258926</td>\n",
       "      <td>2019-08-15</td>\n",
       "      <td>1650</td>\n",
       "      <td>B</td>\n",
       "    </tr>\n",
       "    <tr>\n",
       "      <th>1</th>\n",
       "      <td>2804400009</td>\n",
       "      <td>3642806036</td>\n",
       "      <td>2019-08-15</td>\n",
       "      <td>730</td>\n",
       "      <td>B</td>\n",
       "    </tr>\n",
       "    <tr>\n",
       "      <th>2</th>\n",
       "      <td>2961555356</td>\n",
       "      <td>4069496402</td>\n",
       "      <td>2019-08-15</td>\n",
       "      <td>400</td>\n",
       "      <td>A</td>\n",
       "    </tr>\n",
       "    <tr>\n",
       "      <th>3</th>\n",
       "      <td>3797467345</td>\n",
       "      <td>1196621759</td>\n",
       "      <td>2019-08-15</td>\n",
       "      <td>9759</td>\n",
       "      <td>B</td>\n",
       "    </tr>\n",
       "    <tr>\n",
       "      <th>4</th>\n",
       "      <td>2282983706</td>\n",
       "      <td>2322279887</td>\n",
       "      <td>2019-08-15</td>\n",
       "      <td>2308</td>\n",
       "      <td>B</td>\n",
       "    </tr>\n",
       "  </tbody>\n",
       "</table>\n",
       "</div>"
      ],
      "text/plain": [
       "   transactionId   visitorId        date  revenue group\n",
       "0     3667963787  3312258926  2019-08-15     1650     B\n",
       "1     2804400009  3642806036  2019-08-15      730     B\n",
       "2     2961555356  4069496402  2019-08-15      400     A\n",
       "3     3797467345  1196621759  2019-08-15     9759     B\n",
       "4     2282983706  2322279887  2019-08-15     2308     B"
      ]
     },
     "metadata": {},
     "output_type": "display_data"
    },
    {
     "data": {
      "text/html": [
       "<div>\n",
       "<style scoped>\n",
       "    .dataframe tbody tr th:only-of-type {\n",
       "        vertical-align: middle;\n",
       "    }\n",
       "\n",
       "    .dataframe tbody tr th {\n",
       "        vertical-align: top;\n",
       "    }\n",
       "\n",
       "    .dataframe thead th {\n",
       "        text-align: right;\n",
       "    }\n",
       "</style>\n",
       "<table border=\"1\" class=\"dataframe\">\n",
       "  <thead>\n",
       "    <tr style=\"text-align: right;\">\n",
       "      <th></th>\n",
       "      <th>date</th>\n",
       "      <th>group</th>\n",
       "      <th>visitors</th>\n",
       "    </tr>\n",
       "  </thead>\n",
       "  <tbody>\n",
       "    <tr>\n",
       "      <th>0</th>\n",
       "      <td>2019-08-01</td>\n",
       "      <td>A</td>\n",
       "      <td>719</td>\n",
       "    </tr>\n",
       "    <tr>\n",
       "      <th>1</th>\n",
       "      <td>2019-08-02</td>\n",
       "      <td>A</td>\n",
       "      <td>619</td>\n",
       "    </tr>\n",
       "    <tr>\n",
       "      <th>2</th>\n",
       "      <td>2019-08-03</td>\n",
       "      <td>A</td>\n",
       "      <td>507</td>\n",
       "    </tr>\n",
       "    <tr>\n",
       "      <th>3</th>\n",
       "      <td>2019-08-04</td>\n",
       "      <td>A</td>\n",
       "      <td>717</td>\n",
       "    </tr>\n",
       "    <tr>\n",
       "      <th>4</th>\n",
       "      <td>2019-08-05</td>\n",
       "      <td>A</td>\n",
       "      <td>756</td>\n",
       "    </tr>\n",
       "  </tbody>\n",
       "</table>\n",
       "</div>"
      ],
      "text/plain": [
       "         date group  visitors\n",
       "0  2019-08-01     A       719\n",
       "1  2019-08-02     A       619\n",
       "2  2019-08-03     A       507\n",
       "3  2019-08-04     A       717\n",
       "4  2019-08-05     A       756"
      ]
     },
     "execution_count": 6,
     "metadata": {},
     "output_type": "execute_result"
    }
   ],
   "source": [
    "display(orders.head(5))\n",
    "visitors.head(5)"
   ]
  },
  {
   "cell_type": "code",
   "execution_count": 7,
   "metadata": {},
   "outputs": [
    {
     "name": "stdout",
     "output_type": "stream",
     "text": [
      "<class 'pandas.core.frame.DataFrame'>\n",
      "RangeIndex: 62 entries, 0 to 61\n",
      "Data columns (total 3 columns):\n",
      " #   Column    Non-Null Count  Dtype \n",
      "---  ------    --------------  ----- \n",
      " 0   date      62 non-null     object\n",
      " 1   group     62 non-null     object\n",
      " 2   visitors  62 non-null     int64 \n",
      "dtypes: int64(1), object(2)\n",
      "memory usage: 1.6+ KB\n"
     ]
    },
    {
     "data": {
      "text/plain": [
       "None"
      ]
     },
     "metadata": {},
     "output_type": "display_data"
    },
    {
     "name": "stdout",
     "output_type": "stream",
     "text": [
      "<class 'pandas.core.frame.DataFrame'>\n",
      "RangeIndex: 1197 entries, 0 to 1196\n",
      "Data columns (total 5 columns):\n",
      " #   Column         Non-Null Count  Dtype \n",
      "---  ------         --------------  ----- \n",
      " 0   transactionId  1197 non-null   int64 \n",
      " 1   visitorId      1197 non-null   int64 \n",
      " 2   date           1197 non-null   object\n",
      " 3   revenue        1197 non-null   int64 \n",
      " 4   group          1197 non-null   object\n",
      "dtypes: int64(3), object(2)\n",
      "memory usage: 46.9+ KB\n"
     ]
    }
   ],
   "source": [
    "display(visitors.info())\n",
    "orders.info()"
   ]
  },
  {
   "cell_type": "code",
   "execution_count": 8,
   "metadata": {
    "scrolled": false
   },
   "outputs": [
    {
     "data": {
      "text/html": [
       "<div>\n",
       "<style scoped>\n",
       "    .dataframe tbody tr th:only-of-type {\n",
       "        vertical-align: middle;\n",
       "    }\n",
       "\n",
       "    .dataframe tbody tr th {\n",
       "        vertical-align: top;\n",
       "    }\n",
       "\n",
       "    .dataframe thead th {\n",
       "        text-align: right;\n",
       "    }\n",
       "</style>\n",
       "<table border=\"1\" class=\"dataframe\">\n",
       "  <thead>\n",
       "    <tr style=\"text-align: right;\">\n",
       "      <th></th>\n",
       "      <th>transactionId</th>\n",
       "      <th>visitorId</th>\n",
       "      <th>revenue</th>\n",
       "    </tr>\n",
       "  </thead>\n",
       "  <tbody>\n",
       "    <tr>\n",
       "      <th>count</th>\n",
       "      <td>1197.00</td>\n",
       "      <td>1197.00</td>\n",
       "      <td>1197.00</td>\n",
       "    </tr>\n",
       "    <tr>\n",
       "      <th>mean</th>\n",
       "      <td>2155621385.53</td>\n",
       "      <td>2165960143.10</td>\n",
       "      <td>8348.01</td>\n",
       "    </tr>\n",
       "    <tr>\n",
       "      <th>std</th>\n",
       "      <td>1229084904.76</td>\n",
       "      <td>1236014192.15</td>\n",
       "      <td>39191.13</td>\n",
       "    </tr>\n",
       "    <tr>\n",
       "      <th>min</th>\n",
       "      <td>1062393.00</td>\n",
       "      <td>5114589.00</td>\n",
       "      <td>50.00</td>\n",
       "    </tr>\n",
       "    <tr>\n",
       "      <th>25%</th>\n",
       "      <td>1166775572.00</td>\n",
       "      <td>1111826046.00</td>\n",
       "      <td>1220.00</td>\n",
       "    </tr>\n",
       "    <tr>\n",
       "      <th>50%</th>\n",
       "      <td>2145193898.00</td>\n",
       "      <td>2217984702.00</td>\n",
       "      <td>2978.00</td>\n",
       "    </tr>\n",
       "    <tr>\n",
       "      <th>75%</th>\n",
       "      <td>3237740112.00</td>\n",
       "      <td>3177606451.00</td>\n",
       "      <td>8290.00</td>\n",
       "    </tr>\n",
       "    <tr>\n",
       "      <th>max</th>\n",
       "      <td>4293855558.00</td>\n",
       "      <td>4283872382.00</td>\n",
       "      <td>1294500.00</td>\n",
       "    </tr>\n",
       "  </tbody>\n",
       "</table>\n",
       "</div>"
      ],
      "text/plain": [
       "       transactionId     visitorId    revenue\n",
       "count        1197.00       1197.00    1197.00\n",
       "mean   2155621385.53 2165960143.10    8348.01\n",
       "std    1229084904.76 1236014192.15   39191.13\n",
       "min       1062393.00    5114589.00      50.00\n",
       "25%    1166775572.00 1111826046.00    1220.00\n",
       "50%    2145193898.00 2217984702.00    2978.00\n",
       "75%    3237740112.00 3177606451.00    8290.00\n",
       "max    4293855558.00 4283872382.00 1294500.00"
      ]
     },
     "metadata": {},
     "output_type": "display_data"
    },
    {
     "data": {
      "text/html": [
       "<div>\n",
       "<style scoped>\n",
       "    .dataframe tbody tr th:only-of-type {\n",
       "        vertical-align: middle;\n",
       "    }\n",
       "\n",
       "    .dataframe tbody tr th {\n",
       "        vertical-align: top;\n",
       "    }\n",
       "\n",
       "    .dataframe thead th {\n",
       "        text-align: right;\n",
       "    }\n",
       "</style>\n",
       "<table border=\"1\" class=\"dataframe\">\n",
       "  <thead>\n",
       "    <tr style=\"text-align: right;\">\n",
       "      <th></th>\n",
       "      <th>visitors</th>\n",
       "    </tr>\n",
       "  </thead>\n",
       "  <tbody>\n",
       "    <tr>\n",
       "      <th>count</th>\n",
       "      <td>62.00</td>\n",
       "    </tr>\n",
       "    <tr>\n",
       "      <th>mean</th>\n",
       "      <td>607.29</td>\n",
       "    </tr>\n",
       "    <tr>\n",
       "      <th>std</th>\n",
       "      <td>114.40</td>\n",
       "    </tr>\n",
       "    <tr>\n",
       "      <th>min</th>\n",
       "      <td>361.00</td>\n",
       "    </tr>\n",
       "    <tr>\n",
       "      <th>25%</th>\n",
       "      <td>534.00</td>\n",
       "    </tr>\n",
       "    <tr>\n",
       "      <th>50%</th>\n",
       "      <td>624.50</td>\n",
       "    </tr>\n",
       "    <tr>\n",
       "      <th>75%</th>\n",
       "      <td>710.50</td>\n",
       "    </tr>\n",
       "    <tr>\n",
       "      <th>max</th>\n",
       "      <td>770.00</td>\n",
       "    </tr>\n",
       "  </tbody>\n",
       "</table>\n",
       "</div>"
      ],
      "text/plain": [
       "       visitors\n",
       "count     62.00\n",
       "mean     607.29\n",
       "std      114.40\n",
       "min      361.00\n",
       "25%      534.00\n",
       "50%      624.50\n",
       "75%      710.50\n",
       "max      770.00"
      ]
     },
     "execution_count": 8,
     "metadata": {},
     "output_type": "execute_result"
    }
   ],
   "source": [
    "display(orders.describe())\n",
    "visitors.describe()"
   ]
  },
  {
   "cell_type": "code",
   "execution_count": 9,
   "metadata": {},
   "outputs": [
    {
     "name": "stdout",
     "output_type": "stream",
     "text": [
      "0\n"
     ]
    },
    {
     "data": {
      "text/plain": [
       "0"
      ]
     },
     "execution_count": 9,
     "metadata": {},
     "output_type": "execute_result"
    }
   ],
   "source": [
    "print(orders.duplicated().sum())\n",
    "visitors.duplicated().sum()"
   ]
  },
  {
   "cell_type": "code",
   "execution_count": 10,
   "metadata": {},
   "outputs": [
    {
     "data": {
      "text/plain": [
       "transactionId    0\n",
       "visitorId        0\n",
       "date             0\n",
       "revenue          0\n",
       "group            0\n",
       "dtype: int64"
      ]
     },
     "metadata": {},
     "output_type": "display_data"
    },
    {
     "data": {
      "text/plain": [
       "date        0\n",
       "group       0\n",
       "visitors    0\n",
       "dtype: int64"
      ]
     },
     "execution_count": 10,
     "metadata": {},
     "output_type": "execute_result"
    }
   ],
   "source": [
    "display(orders.isna().sum())\n",
    "visitors.isna().sum()"
   ]
  },
  {
   "cell_type": "markdown",
   "metadata": {},
   "source": [
    "Файлы осмотрели, пропусков и явных дубликатов нет. "
   ]
  },
  {
   "cell_type": "markdown",
   "metadata": {},
   "source": [
    "Посмотрим, не дублируются ли пользователи в группах А и В."
   ]
  },
  {
   "cell_type": "code",
   "execution_count": 11,
   "metadata": {},
   "outputs": [
    {
     "name": "stdout",
     "output_type": "stream",
     "text": [
      "58\n"
     ]
    }
   ],
   "source": [
    "double_visitors = np.intersect1d(orders.query('group == \"A\"')['visitorId'].unique(), orders.query('group == \"B\"')['visitorId'].unique())\n",
    "double_visitors\n",
    "print(np.sum(double_visitors!=0))"
   ]
  },
  {
   "cell_type": "markdown",
   "metadata": {},
   "source": [
    "Нашлось 58 пользователей, которые попали в обе группы. Для чистоты эксперимента необходимо от них избавиться."
   ]
  },
  {
   "cell_type": "code",
   "execution_count": 12,
   "metadata": {},
   "outputs": [
    {
     "data": {
      "text/plain": [
       "array([], dtype=int64)"
      ]
     },
     "execution_count": 12,
     "metadata": {},
     "output_type": "execute_result"
    }
   ],
   "source": [
    "orders = orders[~orders['visitorId'].isin(double_visitors)]\n",
    "#проверим\n",
    "np.intersect1d(orders.query('group == \"A\"')['visitorId'].unique(), orders.query('group == \"B\"')['visitorId'].unique())"
   ]
  },
  {
   "cell_type": "markdown",
   "metadata": {},
   "source": [
    "Теперь необходимо исправить регистр и тип данных содержащих даты."
   ]
  },
  {
   "cell_type": "code",
   "execution_count": 13,
   "metadata": {},
   "outputs": [],
   "source": [
    "orders = orders.rename(columns={'transactionId': 'transaction_id', 'visitorId': 'visitor_id'}) "
   ]
  },
  {
   "cell_type": "code",
   "execution_count": 14,
   "metadata": {},
   "outputs": [],
   "source": [
    "visitors['date'] = pd.to_datetime(visitors['date'])\n",
    "orders['date'] = pd.to_datetime(orders['date'])"
   ]
  },
  {
   "cell_type": "code",
   "execution_count": 15,
   "metadata": {
    "scrolled": true
   },
   "outputs": [
    {
     "data": {
      "text/html": [
       "<div>\n",
       "<style scoped>\n",
       "    .dataframe tbody tr th:only-of-type {\n",
       "        vertical-align: middle;\n",
       "    }\n",
       "\n",
       "    .dataframe tbody tr th {\n",
       "        vertical-align: top;\n",
       "    }\n",
       "\n",
       "    .dataframe thead th {\n",
       "        text-align: right;\n",
       "    }\n",
       "</style>\n",
       "<table border=\"1\" class=\"dataframe\">\n",
       "  <thead>\n",
       "    <tr style=\"text-align: right;\">\n",
       "      <th></th>\n",
       "      <th>date</th>\n",
       "      <th>group</th>\n",
       "      <th>orders</th>\n",
       "      <th>buyers</th>\n",
       "      <th>revenue</th>\n",
       "      <th>visitors</th>\n",
       "    </tr>\n",
       "  </thead>\n",
       "  <tbody>\n",
       "    <tr>\n",
       "      <th>0</th>\n",
       "      <td>2019-08-01</td>\n",
       "      <td>A</td>\n",
       "      <td>23</td>\n",
       "      <td>19</td>\n",
       "      <td>142779</td>\n",
       "      <td>719</td>\n",
       "    </tr>\n",
       "    <tr>\n",
       "      <th>1</th>\n",
       "      <td>2019-08-01</td>\n",
       "      <td>B</td>\n",
       "      <td>17</td>\n",
       "      <td>17</td>\n",
       "      <td>59758</td>\n",
       "      <td>713</td>\n",
       "    </tr>\n",
       "    <tr>\n",
       "      <th>2</th>\n",
       "      <td>2019-08-02</td>\n",
       "      <td>A</td>\n",
       "      <td>42</td>\n",
       "      <td>36</td>\n",
       "      <td>234381</td>\n",
       "      <td>1338</td>\n",
       "    </tr>\n",
       "    <tr>\n",
       "      <th>3</th>\n",
       "      <td>2019-08-02</td>\n",
       "      <td>B</td>\n",
       "      <td>40</td>\n",
       "      <td>39</td>\n",
       "      <td>221801</td>\n",
       "      <td>1294</td>\n",
       "    </tr>\n",
       "    <tr>\n",
       "      <th>4</th>\n",
       "      <td>2019-08-03</td>\n",
       "      <td>A</td>\n",
       "      <td>66</td>\n",
       "      <td>60</td>\n",
       "      <td>346854</td>\n",
       "      <td>1845</td>\n",
       "    </tr>\n",
       "  </tbody>\n",
       "</table>\n",
       "</div>"
      ],
      "text/plain": [
       "        date group  orders  buyers  revenue  visitors\n",
       "0 2019-08-01     A      23      19   142779       719\n",
       "1 2019-08-01     B      17      17    59758       713\n",
       "2 2019-08-02     A      42      36   234381      1338\n",
       "3 2019-08-02     B      40      39   221801      1294\n",
       "4 2019-08-03     A      66      60   346854      1845"
      ]
     },
     "metadata": {},
     "output_type": "display_data"
    }
   ],
   "source": [
    "# создаем массив уникальных пар значений дат и групп теста\n",
    "grouped_data = orders[['date','group']].drop_duplicates() \n",
    "# получаем агрегированные кумулятивные по дням данные о заказах\n",
    "orders_aggregated = grouped_data.apply(lambda x: orders[np.logical_and(orders['date'] <= x['date'], orders['group'] == x['group'])]\\\n",
    ".agg({'date' : 'max', 'group' : 'max', 'transaction_id' : 'nunique', 'visitor_id' : 'nunique', 'revenue' : 'sum'}), axis=1).sort_values(by=['date','group'])\n",
    "# получаем агрегированные кумулятивные по дням данные о посетителях интернет-магазина \n",
    "visitors_aggregated = grouped_data.apply(lambda x: visitors[np.logical_and(visitors['date'] <= x['date'], visitors['group'] == x['group'])].agg({'date' : 'max', 'group' : 'max', 'visitors' : 'sum'}), axis=1).sort_values(by=['date','group'])\n",
    "# объединяем кумулятивные данные в одной таблице и присваиваем ее столбцам понятные названия\n",
    "cumulative_data = orders_aggregated.merge(visitors_aggregated, left_on=['date', 'group'], right_on=['date', 'group'])\n",
    "cumulative_data.columns = ['date', 'group', 'orders', 'buyers', 'revenue', 'visitors']\n",
    "\n",
    "display(cumulative_data.head(5)) "
   ]
  },
  {
   "cell_type": "code",
   "execution_count": 16,
   "metadata": {},
   "outputs": [
    {
     "data": {
      "image/png": "[encoded data removed]",
      "text/plain": [
       "<Figure size 1440x720 with 1 Axes>"
      ]
     },
     "metadata": {
      "needs_background": "light"
     },
     "output_type": "display_data"
    }
   ],
   "source": [
    "# датафрейм с кумулятивным количеством заказов и кумулятивной выручкой по дням в группе А\n",
    "cumulative_revenue_a = cumulative_data[cumulative_data['group']=='A'][['date','revenue', 'orders']]\n",
    "\n",
    "# датафрейм с кумулятивным количеством заказов и кумулятивной выручкой по дням в группе B\n",
    "cumulative_revenue_b = cumulative_data[cumulative_data['group']=='B'][['date','revenue', 'orders']]\n",
    "plt.figure(figsize=(20, 10))\n",
    "\n",
    "# Строим график выручки группы А\n",
    "plt.plot(cumulative_revenue_a['date'], cumulative_revenue_a['revenue'], label='A')\n",
    "\n",
    "# Строим график выручки группы B\n",
    "plt.plot(cumulative_revenue_b['date'], cumulative_revenue_b['revenue'], label='B')\n",
    "plt.xticks(rotation=30)\n",
    "plt.grid(visible=True)\n",
    "plt.title('График кумулятивной выручки по группам А и В')\n",
    "plt.xlabel('Дата', fontsize=12)\n",
    "plt.ylabel('Выручка, млн', fontsize=12)\n",
    "plt.xticks(rotation=30)\n",
    "plt.legend()\n",
    "plt.show()\n"
   ]
  },
  {
   "cell_type": "markdown",
   "metadata": {},
   "source": [
    "Выручка почти равномерно увеличивается в течение всего теста.\n",
    "\n",
    "Однако, график выручки группы B в точке 2019-08-18 резко растет. Это может сигнализировать о всплесках числа заказов, либо о появлении очень дорогих заказов в выборке."
   ]
  },
  {
   "cell_type": "markdown",
   "metadata": {},
   "source": [
    "Построим графики среднего чека по группам."
   ]
  },
  {
   "cell_type": "code",
   "execution_count": 17,
   "metadata": {},
   "outputs": [
    {
     "data": {
      "image/png": "[encoded data removed]",
      "text/plain": [
       "<Figure size 1080x720 with 1 Axes>"
      ]
     },
     "metadata": {
      "needs_background": "light"
     },
     "output_type": "display_data"
    }
   ],
   "source": [
    "plt.figure(figsize=(15, 10))\n",
    "plt.plot(cumulative_revenue_a['date'], cumulative_revenue_a['revenue']/cumulative_revenue_a['orders'], label='A')\n",
    "plt.plot(cumulative_revenue_b['date'], cumulative_revenue_b['revenue']/cumulative_revenue_b['orders'], label='B')\n",
    "plt.xticks(rotation=30)\n",
    "plt.grid(visible=True)\n",
    "plt.title('График кумулятивного среднего чека по группам по группам А и В')\n",
    "plt.xlabel('Дата', fontsize=12)\n",
    "plt.ylabel('Выручка, млн', fontsize=12)\n",
    "plt.xticks(rotation=30)\n",
    "plt.legend()\n",
    "plt.show()\n"
   ]
  },
  {
   "cell_type": "markdown",
   "metadata": {},
   "source": [
    "По группе А средний чек стабилизируется к концу теста, есть тенденция к росту. По группе В значение среднего чека, после резкого скачка, начало снижаться, что говорит в пользу предположения о появлении очень дорогого заказа."
   ]
  },
  {
   "cell_type": "markdown",
   "metadata": {},
   "source": [
    "Построим график относительного различия для среднего чека."
   ]
  },
  {
   "cell_type": "code",
   "execution_count": 18,
   "metadata": {
    "scrolled": false
   },
   "outputs": [
    {
     "data": {
      "image/png": "[encoded data removed]",
      "text/plain": [
       "<Figure size 1080x360 with 1 Axes>"
      ]
     },
     "metadata": {
      "needs_background": "light"
     },
     "output_type": "display_data"
    }
   ],
   "source": [
    "# собираем данные в одном датафрейме\n",
    "merged_cumulative_revenue = cumulative_revenue_a.merge(\n",
    "    cumulative_revenue_b,\n",
    "    left_on='date',\n",
    "    right_on='date',\n",
    "    how='left',\n",
    "    suffixes=['A', 'B'])\n",
    "\n",
    "# задаём размер для графика\n",
    "plt.figure(figsize=(15, 5))\n",
    "\n",
    "# cтроим отношение средних чеков\n",
    "plt.plot(merged_cumulative_revenue['date'],\n",
    "         (merged_cumulative_revenue['revenueB']/\n",
    "          merged_cumulative_revenue['ordersB'])/\n",
    "         (merged_cumulative_revenue['revenueA']/\n",
    "          merged_cumulative_revenue['ordersA'])-1)\n",
    "\n",
    "# добавляем ось X\n",
    "plt.axhline(y=0, color='black', linestyle='--')\n",
    "\n",
    "plt.grid(visible=True)\n",
    "plt.xticks(rotation=30)\n",
    "plt.title('График относительного изменения кумулятивного среднего чека группы B к группе A', fontsize=14)\n",
    "plt.xlabel('Дата', fontsize=12)\n",
    "plt.ylabel('Отношение средних чеков', fontsize=12)\n",
    "plt.show()"
   ]
  },
  {
   "cell_type": "markdown",
   "metadata": {},
   "source": [
    "В нескольких точках график различия между сегментами резко «скачет», то есть разница в средних чеках групп А и B значительно увеличивается. Вероятно, здесь и спрятаны большие заказы и выбросы."
   ]
  },
  {
   "cell_type": "markdown",
   "metadata": {},
   "source": [
    "Построим график кумулятивного среднего количества заказов на посетителя."
   ]
  },
  {
   "cell_type": "code",
   "execution_count": 19,
   "metadata": {},
   "outputs": [
    {
     "data": {
      "image/png": "[encoded data removed]",
      "text/plain": [
       "<Figure size 1080x720 with 1 Axes>"
      ]
     },
     "metadata": {
      "needs_background": "light"
     },
     "output_type": "display_data"
    }
   ],
   "source": [
    "# считаем кумулятивное среднее количества заказов на посетителя\n",
    "cumulative_data['conversion'] = cumulative_data['orders']/cumulative_data['visitors']\n",
    "\n",
    "# отделяем данные по группе A\n",
    "cumulative_data_a = cumulative_data[cumulative_data['group']=='A']\n",
    "\n",
    "# отделяем данные по группе B\n",
    "cumulative_data_b = cumulative_data[cumulative_data['group']=='B']\n",
    "plt.figure(figsize=(15, 10))\n",
    "# строим графики\n",
    "plt.plot(cumulative_data_a['date'], cumulative_data_a['conversion'], label='A')\n",
    "plt.plot(cumulative_data_b['date'], cumulative_data_b['conversion'], label='B')\n",
    "plt.legend()\n",
    "\n",
    "# задаем масштаб осей\n",
    "plt.axis([dt.datetime(2019, 8, 1), dt.datetime(2019, 8, 31), 0.022, 0.036]) \n",
    "plt.xticks(rotation=30)\n",
    "plt.grid(visible=True)\n",
    "plt.title('График кумулятивного среднего количества заказов на посетителя по группам', fontsize=14)\n",
    "plt.xlabel('Дата', fontsize=12)\n",
    "plt.ylabel('Кумулятивное среднее количество заказов на посетителя', fontsize=12)\n",
    "plt.legend()\n",
    "plt.show()"
   ]
  },
  {
   "cell_type": "markdown",
   "metadata": {},
   "source": [
    "Изначально группы колебались около одного значения кумулятивного среднего, но затем среднее количество заказов на посетителя группы B начало расти и далее зафиксировалось, а среднее количество заказов на посетителя группы A просело относительно первоначальных значений и также зафиксировалось.\n",
    "По итогам среднее количество заказов на посетителя группы В выше."
   ]
  },
  {
   "cell_type": "markdown",
   "metadata": {},
   "source": [
    "Построим график относительного различия кумулятивного среднего количества заказов на посетителя:"
   ]
  },
  {
   "cell_type": "code",
   "execution_count": 20,
   "metadata": {},
   "outputs": [
    {
     "data": {
      "image/png": "[encoded data removed]",
      "text/plain": [
       "<Figure size 1080x720 with 1 Axes>"
      ]
     },
     "metadata": {
      "needs_background": "light"
     },
     "output_type": "display_data"
    }
   ],
   "source": [
    "merged_cumulative_conversions = cumulative_data_a[['date','conversion']].merge(cumulative_data_b[['date','conversion']],\n",
    "left_on='date', right_on='date', how='left', suffixes=['A', 'B'])\n",
    "\n",
    "plt.figure(figsize=(15, 10))\n",
    "\n",
    "plt.plot(merged_cumulative_conversions['date'], \n",
    "merged_cumulative_conversions['conversionB']/merged_cumulative_conversions['conversionA']-1,\n",
    "label=\"Относительный прирост среднего количества заказов на посетителя группы B относительно группы A\")\n",
    "\n",
    "plt.legend()\n",
    "\n",
    "plt.axhline(y=0, color='black', linestyle='--')\n",
    "plt.axhline(y=0.2, color='grey', linestyle='--')\n",
    "plt.axis([dt.datetime(2019, 8, 1), dt.datetime(2019, 9, 1), -0.3, 0.3]) \n",
    "plt.xticks(rotation=30)\n",
    "plt.grid(visible=True)\n",
    "plt.title('График кумулятивного среднего количества заказов на посетителя по группам', fontsize=14)\n",
    "plt.xlabel('Дата', fontsize=12)\n",
    "plt.ylabel('Разница в среднем количестве заказов на посетителя', fontsize=12)\n",
    "plt.legend()\n",
    "plt.show()\n"
   ]
  },
  {
   "cell_type": "markdown",
   "metadata": {},
   "source": [
    "В самом начале теста группа B значительно проигрывала группе A, затем вырвалась вперёд. К концу теста среднее количество заказов на посетителя группы B стабильно выше на 10-15%. "
   ]
  },
  {
   "cell_type": "markdown",
   "metadata": {},
   "source": [
    "Построим точечный график количества заказов по пользователям."
   ]
  },
  {
   "cell_type": "code",
   "execution_count": 21,
   "metadata": {
    "scrolled": false
   },
   "outputs": [
    {
     "name": "stdout",
     "output_type": "stream",
     "text": [
      "     visitor_id  orders\n",
      "908  3967698036       3\n",
      "55    249864742       3\n",
      "478  2108163459       3\n",
      "687  2988190573       3\n",
      "890  3908431265       3\n",
      "138   611059232       3\n",
      "632  2742574263       3\n",
      "157   678354126       2\n",
      "323  1404560065       2\n",
      "452  1985475298       2\n"
     ]
    },
    {
     "data": {
      "image/png": "[encoded data removed]",
      "text/plain": [
       "<Figure size 720x360 with 1 Axes>"
      ]
     },
     "metadata": {
      "needs_background": "light"
     },
     "output_type": "display_data"
    }
   ],
   "source": [
    "orders_by_users = (\n",
    "    orders.groupby('visitor_id', as_index=False)\n",
    "    .agg({'transaction_id': 'nunique'})\n",
    ")\n",
    "orders_by_users.columns = ['visitor_id', 'orders']\n",
    "\n",
    "print(orders_by_users.sort_values(by='orders', ascending=False).head(10))\n",
    "plt.figure(figsize=(10, 5))\n",
    "# серия из чисел от 0 до количества наблюдений в orders_by_users\n",
    "x_values = pd.Series(range(0, len(orders_by_users)))\n",
    "plt.scatter(x_values, orders_by_users['orders'])\n",
    "plt.title('Количество заказов по пользователям', fontsize=14)\n",
    "plt.xlabel('Количество пользователей', fontsize=12)\n",
    "plt.ylabel('Количество заказов', fontsize=12)\n",
    "plt.show();"
   ]
  },
  {
   "cell_type": "markdown",
   "metadata": {},
   "source": [
    "Основная часть пользователей совершает по одному заказу. Некоторая часть по 2 заказа и совсем редко - 3 заказа. Их точная доля не ясна — непонятно, считать их аномалиями или нет. "
   ]
  },
  {
   "cell_type": "markdown",
   "metadata": {},
   "source": [
    "Посчитаем 95-й и 99-й перцентили количества заказов на пользователя."
   ]
  },
  {
   "cell_type": "code",
   "execution_count": 22,
   "metadata": {
    "scrolled": true
   },
   "outputs": [
    {
     "name": "stdout",
     "output_type": "stream",
     "text": [
      "[1. 2.]\n"
     ]
    }
   ],
   "source": [
    "print(np.percentile(orders_by_users['orders'], [95, 99])) "
   ]
  },
  {
   "cell_type": "markdown",
   "metadata": {},
   "source": [
    "Не более 5% пользователей оформляли больше 1 заказа. И 1% пользователей заказывали три раза. \n",
    "Разумно выбрать 1 заказ на одного пользователя за верхнюю границу числа заказов, и отсеять аномальных пользователей по ней. "
   ]
  },
  {
   "cell_type": "markdown",
   "metadata": {},
   "source": [
    "<div class=\"alert alert-warning\">\n",
    "    \n",
    "  <b>Комментарий ревьюера</b>\n",
    "    \n",
    "  ⚠️ Перцентали выбраны верно. Но скорее всего, после обнаружения пользователей, которые вошли в обе группы (что не совсем верно) границы выбросов изменятся. Еще раз перепроверь свое решение после дополнения части с предобработкой.\n",
    "</div>"
   ]
  },
  {
   "cell_type": "markdown",
   "metadata": {},
   "source": [
    "Построим точечный график стоимостей заказов."
   ]
  },
  {
   "cell_type": "code",
   "execution_count": 23,
   "metadata": {
    "scrolled": true
   },
   "outputs": [
    {
     "data": {
      "image/png": "[encoded data removed]",
      "text/plain": [
       "<Figure size 1080x360 with 1 Axes>"
      ]
     },
     "metadata": {
      "needs_background": "light"
     },
     "output_type": "display_data"
    }
   ],
   "source": [
    "plt.figure(figsize=(15, 5))\n",
    "x_values = pd.Series(range(0, len(orders['revenue'])))\n",
    "plt.scatter(x_values, orders['revenue'])\n",
    "plt.title('График стоимости заказов', fontsize=14)\n",
    "plt.xlabel('Количество заказов', fontsize=12)\n",
    "plt.ylabel('Стоимость заказов', fontsize=12)\n",
    "plt.show();"
   ]
  },
  {
   "cell_type": "markdown",
   "metadata": {},
   "source": [
    "Посмотрим детальнее в другом масштабе."
   ]
  },
  {
   "cell_type": "code",
   "execution_count": 24,
   "metadata": {},
   "outputs": [
    {
     "data": {
      "image/png": "[encoded data removed]",
      "text/plain": [
       "<Figure size 1080x360 with 1 Axes>"
      ]
     },
     "metadata": {
      "needs_background": "light"
     },
     "output_type": "display_data"
    }
   ],
   "source": [
    "plt.figure(figsize=(15, 5))\n",
    "plt.ylim(0, 150000)\n",
    "x_values = pd.Series(range(0, len(orders['revenue'])))\n",
    "plt.scatter(x_values, orders['revenue'])\n",
    "plt.title('График стоимости заказов', fontsize=14)\n",
    "plt.xlabel('Количество заказов', fontsize=12)\n",
    "plt.ylabel('Стоимость заказов', fontsize=12)\n",
    "plt.show();"
   ]
  },
  {
   "cell_type": "markdown",
   "metadata": {},
   "source": [
    "По графику можно увидеть единичные очень дорогие заказы. На основании графика можно предположить границу аномальных заказов около 25 000. Но их точная доля неизвестна — значит сразу отбросить их мы не можем."
   ]
  },
  {
   "cell_type": "markdown",
   "metadata": {},
   "source": [
    "Посчитаем 95-й и 99-й перцентили стоимости заказов. "
   ]
  },
  {
   "cell_type": "code",
   "execution_count": 25,
   "metadata": {},
   "outputs": [
    {
     "name": "stdout",
     "output_type": "stream",
     "text": [
      "[26785. 53904.]\n"
     ]
    }
   ],
   "source": [
    "print(np.percentile(orders['revenue'], [95, 99])) "
   ]
  },
  {
   "cell_type": "markdown",
   "metadata": {},
   "source": [
    "Не более 5%  заказов имеют стоимость от 26785. И 1% заказов имеют стоимость более 53904 руб. \n",
    "Разумно выбрать стоимость в 26785 за верхнюю стоимости заказов, и отсеять аномальные заказы по ней. "
   ]
  },
  {
   "cell_type": "markdown",
   "metadata": {},
   "source": [
    "Посчитаем статистическую значимость различий в среднем количестве заказов на пользователя между группами по «сырым» данным. "
   ]
  },
  {
   "cell_type": "markdown",
   "metadata": {},
   "source": [
    "Сформулируем гипотезы:\n",
    "\n",
    "*H0* - различий в среднем количестве заказов на пользователя между группами нет.\n",
    "\n",
    "*H1* - различия в среднем количестве заказов на пользователя между группами есть."
   ]
  },
  {
   "cell_type": "markdown",
   "metadata": {},
   "source": [
    "Для расчета статистической значимости различий в количестве заказов на пользователя между группами нам необходимо подготовить имеющиеся данные. Сформируем новый датафрейм со следующими столбцами:\n",
    "\n",
    "`date` - дата;\n",
    "\n",
    "`orders_per_date_a` - количество заказов в выбранную дату в группе A;\n",
    "\n",
    "`revenue_per_date_a` - суммарная выручка в выбранную дату в группе A;\n",
    "\n",
    "`orders_per_date_b` - количество заказов в выбранную дату в группе B;\n",
    "\n",
    "`revenue_per_date_b` - суммарная выручка в выбранную дату в группе B;\n",
    "\n",
    "`orders_cummulative_a` - суммарное число заказов до выбранной даты включительно в группе A;\n",
    "\n",
    "`revenue_cummulative_a` - суммарная выручка до выбранной даты включительно в группе A;\n",
    "\n",
    "`orders_cummulative_b` - суммарное число заказов до выбранной даты включительно в группе B;\n",
    "\n",
    "`revenue_cummulative_b` - суммарная выручка до выбранной даты включительно в группе B;\n",
    "\n",
    "`visitors_per_date_a` - количество пользователей в выбранную дату в группе A;\n",
    "\n",
    "`visitors_cummulative_a` - количество пользователей до выбранной даты включительно в группе A;\n",
    "\n",
    "`visitors_per_date_b` - количество пользователей в выбранную дату в группе B;\n",
    "\n",
    "`visitors_cummulative_b` - количество пользователей до выбранной даты включительно в группе B.\n"
   ]
  },
  {
   "cell_type": "code",
   "execution_count": 26,
   "metadata": {
    "scrolled": true
   },
   "outputs": [
    {
     "data": {
      "text/html": [
       "<div>\n",
       "<style scoped>\n",
       "    .dataframe tbody tr th:only-of-type {\n",
       "        vertical-align: middle;\n",
       "    }\n",
       "\n",
       "    .dataframe tbody tr th {\n",
       "        vertical-align: top;\n",
       "    }\n",
       "\n",
       "    .dataframe thead th {\n",
       "        text-align: right;\n",
       "    }\n",
       "</style>\n",
       "<table border=\"1\" class=\"dataframe\">\n",
       "  <thead>\n",
       "    <tr style=\"text-align: right;\">\n",
       "      <th></th>\n",
       "      <th>date</th>\n",
       "      <th>orders_per_date_a</th>\n",
       "      <th>revenue_per_date_a</th>\n",
       "      <th>orders_per_date_b</th>\n",
       "      <th>revenue_per_date_b</th>\n",
       "      <th>orders_cummulative_a</th>\n",
       "      <th>revenue_cummulative_a</th>\n",
       "      <th>orders_cummulative_b</th>\n",
       "      <th>revenue_cummulative_b</th>\n",
       "      <th>visitors_per_date_a</th>\n",
       "      <th>visitors_per_date_b</th>\n",
       "      <th>visitors_cummulative_a</th>\n",
       "      <th>visitors_cummulative_b</th>\n",
       "    </tr>\n",
       "  </thead>\n",
       "  <tbody>\n",
       "    <tr>\n",
       "      <th>0</th>\n",
       "      <td>2019-08-01</td>\n",
       "      <td>23</td>\n",
       "      <td>142779</td>\n",
       "      <td>17</td>\n",
       "      <td>59758</td>\n",
       "      <td>23</td>\n",
       "      <td>142779</td>\n",
       "      <td>17</td>\n",
       "      <td>59758</td>\n",
       "      <td>719</td>\n",
       "      <td>713</td>\n",
       "      <td>719</td>\n",
       "      <td>713</td>\n",
       "    </tr>\n",
       "    <tr>\n",
       "      <th>1</th>\n",
       "      <td>2019-08-02</td>\n",
       "      <td>19</td>\n",
       "      <td>91602</td>\n",
       "      <td>23</td>\n",
       "      <td>162043</td>\n",
       "      <td>42</td>\n",
       "      <td>234381</td>\n",
       "      <td>40</td>\n",
       "      <td>221801</td>\n",
       "      <td>619</td>\n",
       "      <td>581</td>\n",
       "      <td>1338</td>\n",
       "      <td>1294</td>\n",
       "    </tr>\n",
       "    <tr>\n",
       "      <th>2</th>\n",
       "      <td>2019-08-03</td>\n",
       "      <td>24</td>\n",
       "      <td>112473</td>\n",
       "      <td>14</td>\n",
       "      <td>67049</td>\n",
       "      <td>66</td>\n",
       "      <td>346854</td>\n",
       "      <td>54</td>\n",
       "      <td>288850</td>\n",
       "      <td>507</td>\n",
       "      <td>509</td>\n",
       "      <td>1845</td>\n",
       "      <td>1803</td>\n",
       "    </tr>\n",
       "    <tr>\n",
       "      <th>3</th>\n",
       "      <td>2019-08-04</td>\n",
       "      <td>11</td>\n",
       "      <td>41176</td>\n",
       "      <td>14</td>\n",
       "      <td>96890</td>\n",
       "      <td>77</td>\n",
       "      <td>388030</td>\n",
       "      <td>68</td>\n",
       "      <td>385740</td>\n",
       "      <td>717</td>\n",
       "      <td>770</td>\n",
       "      <td>2562</td>\n",
       "      <td>2573</td>\n",
       "    </tr>\n",
       "    <tr>\n",
       "      <th>4</th>\n",
       "      <td>2019-08-05</td>\n",
       "      <td>22</td>\n",
       "      <td>86383</td>\n",
       "      <td>21</td>\n",
       "      <td>89908</td>\n",
       "      <td>99</td>\n",
       "      <td>474413</td>\n",
       "      <td>89</td>\n",
       "      <td>475648</td>\n",
       "      <td>756</td>\n",
       "      <td>707</td>\n",
       "      <td>3318</td>\n",
       "      <td>3280</td>\n",
       "    </tr>\n",
       "  </tbody>\n",
       "</table>\n",
       "</div>"
      ],
      "text/plain": [
       "        date  orders_per_date_a  revenue_per_date_a  orders_per_date_b  \\\n",
       "0 2019-08-01                 23              142779                 17   \n",
       "1 2019-08-02                 19               91602                 23   \n",
       "2 2019-08-03                 24              112473                 14   \n",
       "3 2019-08-04                 11               41176                 14   \n",
       "4 2019-08-05                 22               86383                 21   \n",
       "\n",
       "   revenue_per_date_b  orders_cummulative_a  revenue_cummulative_a  \\\n",
       "0               59758                    23                 142779   \n",
       "1              162043                    42                 234381   \n",
       "2               67049                    66                 346854   \n",
       "3               96890                    77                 388030   \n",
       "4               89908                    99                 474413   \n",
       "\n",
       "   orders_cummulative_b  revenue_cummulative_b  visitors_per_date_a  \\\n",
       "0                    17                  59758                  719   \n",
       "1                    40                 221801                  619   \n",
       "2                    54                 288850                  507   \n",
       "3                    68                 385740                  717   \n",
       "4                    89                 475648                  756   \n",
       "\n",
       "   visitors_per_date_b  visitors_cummulative_a  visitors_cummulative_b  \n",
       "0                  713                     719                     713  \n",
       "1                  581                    1338                    1294  \n",
       "2                  509                    1845                    1803  \n",
       "3                  770                    2562                    2573  \n",
       "4                  707                    3318                    3280  "
      ]
     },
     "metadata": {},
     "output_type": "display_data"
    }
   ],
   "source": [
    "visitors_a_daily = visitors[visitors['group'] == 'A'][['date', 'visitors']]\n",
    "visitors_a_daily.columns = ['date', 'visitors_per_date_a']\n",
    "\n",
    "visitors_a_cummulative = visitors_a_daily.apply(\n",
    "    lambda x: visitors_a_daily[visitors_a_daily['date'] <= x['date']].agg(\n",
    "        {'date': 'max', 'visitors_per_date_a': 'sum'}\n",
    "    ),\n",
    "    axis=1,\n",
    ")\n",
    "visitors_a_cummulative .columns = ['date', 'visitors_cummulative_a']\n",
    "\n",
    "visitors_b_daily = visitors[visitors['group'] == 'B'][['date', 'visitors']]\n",
    "visitors_b_daily.columns = ['date', 'visitors_per_date_b']\n",
    "\n",
    "visitors_b_cummulative = visitors_b_daily.apply(\n",
    "    lambda x: visitors_b_daily[visitors_b_daily['date'] <= x['date']].agg(\n",
    "        {'date': 'max', 'visitors_per_date_b': 'sum'}\n",
    "    ),\n",
    "    axis=1,\n",
    ")\n",
    "visitors_b_cummulative .columns = ['date', 'visitors_cummulative_b']\n",
    "\n",
    "orders_a_daily = (\n",
    "    orders[orders['group'] == 'A'][['date', 'transaction_id', 'visitor_id', 'revenue']]\n",
    "    .groupby('date', as_index=False)\n",
    "    .agg({'transaction_id': pd.Series.nunique, 'revenue': 'sum'})\n",
    ")\n",
    "orders_a_daily.columns = ['date', 'orders_per_date_a', 'revenue_per_date_a']\n",
    "\n",
    "orders_a_cummulative = orders_a_daily.apply(\n",
    "    lambda x: orders_a_daily[orders_a_daily['date'] <= x['date']].agg(\n",
    "        {'date': 'max', 'orders_per_date_a': 'sum', 'revenue_per_date_a': 'sum'}\n",
    "    ),\n",
    "    axis=1,\n",
    ").sort_values(by=['date'])\n",
    "orders_a_cummulative.columns = [\n",
    "    'date',\n",
    "    'orders_cummulative_a',\n",
    "    'revenue_cummulative_a',\n",
    "]\n",
    "\n",
    "orders_b_daily = (\n",
    "    orders[orders['group'] == 'B'][['date', 'transaction_id', 'visitor_id', 'revenue']]\n",
    "    .groupby('date', as_index=False)\n",
    "    .agg({'transaction_id': pd.Series.nunique, 'revenue': 'sum'})\n",
    ")\n",
    "orders_b_daily.columns = ['date', 'orders_per_date_b', 'revenue_per_date_b']\n",
    "\n",
    "orders_b_cummulative = orders_b_daily.apply(\n",
    "    lambda x: orders_b_daily[orders_b_daily['date'] <= x['date']].agg(\n",
    "        {'date': 'max', 'orders_per_date_b': 'sum', 'revenue_per_date_b': 'sum'}\n",
    "    ),\n",
    "    axis=1,\n",
    ").sort_values(by=['date'])\n",
    "orders_b_cummulative.columns = [\n",
    "    'date',\n",
    "    'orders_cummulative_b',\n",
    "    'revenue_cummulative_b',\n",
    "]\n",
    "\n",
    "data = (\n",
    "    orders_a_daily.merge(\n",
    "        orders_b_daily, left_on='date', right_on='date', how='left'\n",
    "    )\n",
    "    .merge(orders_a_cummulative, left_on='date', right_on='date', how='left')\n",
    "    .merge(orders_b_cummulative, left_on='date', right_on='date', how='left')\n",
    "    .merge(visitors_a_daily, left_on='date', right_on='date', how='left')\n",
    "    .merge(visitors_b_daily, left_on='date', right_on='date', how='left')\n",
    "    .merge(visitors_a_cummulative , left_on='date', right_on='date', how='left')\n",
    "    .merge(visitors_b_cummulative , left_on='date', right_on='date', how='left')\n",
    ")\n",
    "\n",
    "display(data.head(5))\n"
   ]
  },
  {
   "cell_type": "markdown",
   "metadata": {},
   "source": [
    "Создадим переменные `ordersByUsersA` и `ordersByUsersB` со столбцами ['userId', 'orders']. В них для пользователей, которые заказывали хотя бы 1 раз, укажем число совершённых заказов. "
   ]
  },
  {
   "cell_type": "code",
   "execution_count": 27,
   "metadata": {},
   "outputs": [],
   "source": [
    "orders_by_users_a = (\n",
    "    orders[orders['group'] == 'A']\n",
    "    .groupby('visitor_id', as_index=False)\n",
    "    .agg({'transaction_id': pd.Series.nunique})\n",
    ")\n",
    "orders_by_users_a.columns = ['visitor_id', 'orders']\n",
    "\n",
    "orders_by_users_b = (\n",
    "    orders[orders['group'] == 'B']\n",
    "    .groupby('visitor_id', as_index=False)\n",
    "    .agg({'transaction_id': pd.Series.nunique})\n",
    ")\n",
    "orders_by_users_b.columns = ['visitor_id', 'orders']\n",
    "\n"
   ]
  },
  {
   "cell_type": "markdown",
   "metadata": {},
   "source": [
    "Объявим переменные `sampleA` и `sampleB`, в которых пользователям из разных групп будет соответствовать количество заказов. Тем, кто ничего не заказал, будут соответствовать нули."
   ]
  },
  {
   "cell_type": "code",
   "execution_count": 28,
   "metadata": {},
   "outputs": [],
   "source": [
    "pd.Series(0, index=np.arange(data['visitors_per_date_a'].sum() - len(orders_by_users_a['orders'])), name='orders')\n",
    "\n",
    "sample_a = pd.concat([orders_by_users_a['orders'],pd.Series(0, \n",
    "index=np.arange(data['visitors_per_date_a'].sum() - len(orders_by_users_a['orders'])), name='orders')],axis=0)\n",
    "\n",
    "sample_b = pd.concat([orders_by_users_b['orders'],pd.Series(0, \n",
    "index=np.arange(data['visitors_per_date_b'].sum() - len(orders_by_users_b['orders'])), name='orders')],axis=0)\n",
    "\n",
    "orders_by_users_a = (\n",
    "    orders[orders['group'] == 'A']\n",
    "    .groupby('visitor_id', as_index=False)\n",
    "    .agg({'transaction_id': pd.Series.nunique})\n",
    ")\n",
    "orders_by_users_a.columns = ['visitor_id', 'orders']\n",
    "\n",
    "orders_by_users_b = (\n",
    "    orders[orders['group'] == 'B']\n",
    "    .groupby('visitor_id', as_index=False)\n",
    "    .agg({'transaction_id': pd.Series.nunique})\n",
    ")\n",
    "orders_by_users_b.columns = ['visitor_id', 'orders']\n",
    "\n",
    "sample_a = pd.concat(\n",
    "    [\n",
    "        orders_by_users_a['orders'],\n",
    "        pd.Series(\n",
    "            0,\n",
    "            index=np.arange(\n",
    "                data['visitors_per_date_a'].sum() - len(orders_by_users_a['orders'])\n",
    "            ),\n",
    "            name='orders',\n",
    "        ),\n",
    "    ],\n",
    "    axis=0,\n",
    ")\n",
    "\n",
    "Sample_b = pd.concat(\n",
    "    [\n",
    "        orders_by_users_b['orders'],\n",
    "        pd.Series(\n",
    "            0,\n",
    "            index=np.arange(\n",
    "                data['visitors_per_date_b'].sum() - len(orders_by_users_b['orders'])\n",
    "            ),\n",
    "            name='orders',\n",
    "        ),\n",
    "    ],\n",
    "    axis=0,\n",
    ")\n"
   ]
  },
  {
   "cell_type": "code",
   "execution_count": 29,
   "metadata": {},
   "outputs": [
    {
     "name": "stdout",
     "output_type": "stream",
     "text": [
      "p-value = 0.011\n",
      "Относительное различие в среднем количестве заказов на пользователя группами по «сырым» данным: 0.160\n"
     ]
    }
   ],
   "source": [
    "print('p-value =', '{0:.3f}'.format(stats.mannwhitneyu(sample_a, sample_b)[1]))\n",
    "\n",
    "print('Относительное различие в среднем количестве заказов на пользователя группами по «сырым» данным:',\n",
    "      '{0:.3f}'.format(sample_b.mean() / sample_a.mean() - 1))"
   ]
  },
  {
   "cell_type": "markdown",
   "metadata": {},
   "source": [
    "p-value = 0.011, что меньше 0.05. *H0* об отсутствии различий по «сырым» данным в среднем количестве заказов на пользователя между группами отвергаем. Среднее количество заказов на пользователя группы В больше."
   ]
  },
  {
   "cell_type": "markdown",
   "metadata": {},
   "source": [
    "Посчитаем статистическую значимость различий в среднем чеке заказа между группами по «сырым» данным."
   ]
  },
  {
   "cell_type": "markdown",
   "metadata": {},
   "source": [
    "Гипотезы:\n",
    "\n",
    "*H0* - различий в среднем чеке между группами нет\n",
    "\n",
    "*H1* - различия в среднем чеке между группами есть"
   ]
  },
  {
   "cell_type": "code",
   "execution_count": 30,
   "metadata": {},
   "outputs": [
    {
     "name": "stdout",
     "output_type": "stream",
     "text": [
      "p-value = 0.829\n",
      "Относительное различие в среднем чеке между группами по «сырым» данным: 0.287\n"
     ]
    }
   ],
   "source": [
    "# рассчет статистической значимости различия среднего чека по результатам теста Манна-Уитни\n",
    "print('p-value =', '{0:.3f}'.format(stats.mannwhitneyu(\n",
    "    orders[orders['group']=='A']['revenue'],\n",
    "    orders[orders['group']=='B']['revenue'])[1]))\n",
    "\n",
    "# рассчет относительного различия в среднем чеке между группами\n",
    "print('Относительное различие в среднем чеке между группами по «сырым» данным:',\n",
    "      '{0:.3f}'.format(\n",
    "          orders[orders['group']=='B']['revenue'].mean()/\n",
    "          orders[orders['group']=='A']['revenue'].mean()-1)) "
   ]
  },
  {
   "cell_type": "markdown",
   "metadata": {},
   "source": [
    "p-value = 0.829, что больше 0.05. *Н0* об отсутствуии различий среднего чека групп А и В отвергнуть не можем. \n",
    "\n",
    "Согласно наблюдениям по \"сырым\" данным различие по среднему чеку между группами составляет 28,7 % (в пользу группы B), что не является статистически значимым."
   ]
  },
  {
   "cell_type": "markdown",
   "metadata": {},
   "source": [
    "Посчитаем статистическую значимость различий в среднем количестве заказов на пользователя между группами по «очищенным» данным. "
   ]
  },
  {
   "cell_type": "markdown",
   "metadata": {},
   "source": [
    "Как мы ранее определили, за аномальных примем записи о заказах и их стомости по 95 перцентилю. Очистим данные от 5% пользователей с наибольшим числом заказов и набольшей стоимостью заказов. Объединим \"очищенные\" данные в таблице `abnormalUsers`. "
   ]
  },
  {
   "cell_type": "code",
   "execution_count": 31,
   "metadata": {},
   "outputs": [
    {
     "name": "stdout",
     "output_type": "stream",
     "text": [
      "568     113298937\n",
      "1099    148427295\n",
      "928     204675465\n",
      "33      249864742\n",
      "684     358944393\n",
      "Name: visitor_id, dtype: int64\n",
      "86\n"
     ]
    }
   ],
   "source": [
    "\n",
    "many_orders = np.percentile(orders_by_users['orders'], 95)\n",
    "expensive_orders = np.percentile(orders['revenue'], 95)\n",
    "\n",
    "users_with_many_orders = pd.concat([\n",
    "    orders_by_users_a[orders_by_users_a['orders'] > many_orders]['visitor_id'],\n",
    "    orders_by_users_b[orders_by_users_b['orders'] > many_orders]['visitor_id']], axis=0)\n",
    "users_with_expensive_orders = orders[orders['revenue'] > expensive_orders]['visitor_id']\n",
    "\n",
    "abnormal_users = (\n",
    "    pd.concat([users_with_many_orders, users_with_expensive_orders], axis=0)\n",
    "    .drop_duplicates()\n",
    "    .sort_values()\n",
    ")\n",
    "print(abnormal_users.head(5))\n",
    "print(abnormal_users.shape[0]) "
   ]
  },
  {
   "cell_type": "markdown",
   "metadata": {},
   "source": [
    "Всего 86 аномальных пользователей. Нужно понять, как они повлияли на результаты теста. "
   ]
  },
  {
   "cell_type": "markdown",
   "metadata": {},
   "source": [
    "Посчитаем статистическую значимость различий в среднем количестве заказов на пользователя между группами по «очищенным» данным."
   ]
  },
  {
   "cell_type": "markdown",
   "metadata": {},
   "source": [
    "*H0* - различий в среднем количестве заказов на пользователя между группами нет.\n",
    "\n",
    "*H1* - различия в среднем количестве заказов на пользователя между группами есть."
   ]
  },
  {
   "cell_type": "code",
   "execution_count": 32,
   "metadata": {},
   "outputs": [],
   "source": [
    "sample_a_filtered = pd.concat([\n",
    "    orders_by_users_a[np.logical_not(\n",
    "        orders_by_users_a['visitor_id']\n",
    "        .isin(abnormal_users))]['orders'],\n",
    "    pd.Series(0, index=np.arange(data['visitors_per_date_a'].sum() -\n",
    "                                 len(orders_by_users_a['orders'])), name='orders')], axis=0)\n",
    "\n",
    "\n",
    "sample_b_filtered = pd.concat([\n",
    "    orders_by_users_b[np.logical_not(\n",
    "        orders_by_users_b['visitor_id']\n",
    "        .isin(abnormal_users))]['orders'],\n",
    "    pd.Series(0, index=np.arange(data['visitors_per_date_b'].sum() -\n",
    "                                 len(orders_by_users_b['orders'])), name='orders')], axis=0)"
   ]
  },
  {
   "cell_type": "code",
   "execution_count": 33,
   "metadata": {},
   "outputs": [
    {
     "name": "stdout",
     "output_type": "stream",
     "text": [
      "p-value = 0.016\n",
      "Относительное различие в количестве заказов на пользователя между группами по «очищенным» данным: 0.174\n"
     ]
    }
   ],
   "source": [
    "# рассчет статистической значимости различия в количестве заказов на пользователя по результатам теста Манна-Уитни\n",
    "print('p-value =', '{0:.3f}'.format(stats.mannwhitneyu(sample_a_filtered, sample_b_filtered)[1]))\n",
    "\n",
    "# рассчет относительного различия в количестве заказов на пользователя между группами\n",
    "print('Относительное различие в количестве заказов на пользователя между группами по «очищенным» данным:',\n",
    "      '{0:.3f}'.format(sample_b_filtered.mean()/sample_a_filtered.mean()-1))"
   ]
  },
  {
   "cell_type": "markdown",
   "metadata": {},
   "source": [
    "p-value = 0.016, что, опять же, меньше статистической значимости. *Н0* по \"очищенным\" данным отвергаем. Относительное различие в среднем количестве заказов на пользователя между группами по «очищенным» данным увеличилось."
   ]
  },
  {
   "cell_type": "markdown",
   "metadata": {},
   "source": [
    "Посчитаем статистическую значимость различий в среднем чеке заказа между группами по «очищенным» данным. "
   ]
  },
  {
   "cell_type": "markdown",
   "metadata": {},
   "source": [
    "Гипотезы:\n",
    "\n",
    "*H0* - различий в среднем чеке между группами нет\n",
    "\n",
    "*H1* - различия в среднем чеке между группами есть"
   ]
  },
  {
   "cell_type": "code",
   "execution_count": 34,
   "metadata": {},
   "outputs": [
    {
     "name": "stdout",
     "output_type": "stream",
     "text": [
      "p-value = 0.727\n",
      "Относительное различие в среднем чеке между группами по «очищенным» данным: -0.034\n"
     ]
    }
   ],
   "source": [
    "print('p-value =',\n",
    "    '{0:.3f}'.format(\n",
    "        stats.mannwhitneyu(\n",
    "            orders[\n",
    "                np.logical_and(\n",
    "                    orders['group'] == 'A',\n",
    "                    np.logical_not(orders['visitor_id'].isin(abnormal_users)),\n",
    "                )\n",
    "            ]['revenue'],\n",
    "            orders[\n",
    "                np.logical_and(\n",
    "                    orders['group'] == 'B',\n",
    "                    np.logical_not(orders['visitor_id'].isin(abnormal_users)),\n",
    "                )\n",
    "            ]['revenue'],\n",
    "        )[1]\n",
    "    )\n",
    ")\n",
    "\n",
    "print('Относительное различие в среднем чеке между группами по «очищенным» данным:',\n",
    "    \"{0:.3f}\".format(\n",
    "        orders[\n",
    "            np.logical_and(\n",
    "                orders['group'] == 'B',\n",
    "                np.logical_not(orders['visitor_id'].isin(abnormal_users)),\n",
    "            )\n",
    "        ]['revenue'].mean()\n",
    "        / orders[\n",
    "            np.logical_and(\n",
    "                orders['group'] == 'A',\n",
    "                np.logical_not(orders['visitor_id'].isin(abnormal_users)),\n",
    "            )\n",
    "        ]['revenue'].mean()\n",
    "        - 1\n",
    "    )\n",
    ")"
   ]
  },
  {
   "cell_type": "markdown",
   "metadata": {},
   "source": [
    "p-value = 0.727, *НО* отвергнуть не можем. Как по \"сырым\", так и по \"очищенным\" данным различий в среднем чеке между группами нет.\n",
    "\n",
    "Согласно наблюдениям по \"очищенным\" данным различие по среднему чеку между группами составляет 3,4 % (в пользу группы А), что не является статистически значимым."
   ]
  },
  {
   "cell_type": "markdown",
   "metadata": {},
   "source": [
    "# Решение по результатам теста:\n",
    "\n",
    "*Остановить тест, зафиксировать победу группы B.*\n",
    "\n",
    "Есть статистически значимое различие по количеству заказов на пользователя между группами как по «сырым», так и по данным после фильтрации аномалий.\n",
    "\n",
    "Нет статистически значимого различия по среднему чеку заказов между группами ни по «сырым», ни по данным после фильтрации аномалий.\n",
    "\n",
    "График различия среднего количества заказов между группами сообщает, что результаты группы А хуже группы В и нет значительной тенденции к улучшению."
   ]
  },
  {
   "cell_type": "markdown",
   "metadata": {},
   "source": [
    "### Общий вывод"
   ]
  },
  {
   "cell_type": "markdown",
   "metadata": {},
   "source": [
    "Мы проанализировали данные интернет-магазина, провели предобработку данных, провели приоретизацию гипотез и А/В-тестирование.\n",
    "\n",
    "Часть 1. Приоритезация гипотез. Из гипотез, выдвинутых отделом маркетинга, приоретизируя их по фреймворку `ICE`, следует выделить:\n",
    "\n",
    "•\t\"Запустить акцию, дающую скидку на товар в день рождения\"\n",
    "\n",
    "•\t\"Добавить два новых канала привлечения трафика, что позволит привлекать на 30% больше пользователей\"\n",
    "\n",
    "•\t\"Добавить форму подписки на все основные страницы, чтобы собрать базу клиентов для email-рассылок\"\n",
    "\n",
    "\n",
    "Из гипотез, выдвинутых отделом маркетинга, приоретизируя их по фреймворку `RICE`, следует выделить:\n",
    "\n",
    "•\t\"Добавить форму подписки на все основные страницы, чтобы собрать базу клиентов для email-рассылок\"\n",
    "\n",
    "•\t\"Добавить блоки рекомендаций товаров на сайт интернет магазина, чтобы повысить конверсию и средний чек заказа\"\n",
    "\n",
    "•\t\"Добавить два новых канала привлечения трафика, что позволит привлекать на 30% больше пользователей\"\n",
    "\n",
    "Часть 2. А/В-тест.\n",
    "\n",
    "- Кумулятивный средний чек группы В выше среднего чека группы А.\n",
    "\n",
    "- Кумулятивное среднее количество заказов на посетителя группы В больше, чем в группе А.\n",
    "\n",
    "- Есть статистически значимое различие по количеству заказов на пользователя между группами как по «сырым», так и по данным после фильтрации аномалий.\n",
    "\n",
    "- Нет статистически значимого различия по среднему чеку заказов между группами ни по «сырым», ни по данным после фильтрации аномалий.\n",
    "\n",
    "- График различия среднего количества заказов между группами сообщает, что результаты группы А хуже группы В и нет значительной тенденции к улучшению.\n",
    "\n",
    "По итогам исследования рекомендуется остановить тест и зафиксировать победу группы B. \n",
    "\n",
    "*Рекомендации*: проработать повышение среднего чека, т.к. график различия среднего чека говорит о некоторой тенденции к снижению среднего чека группы B.\n"
   ]
  }
 ],
 "metadata": {
  "ExecuteTimeLog": [
   {
    "duration": 1357,
    "start_time": "2023-07-02T08:49:34.063Z"
   },
   {
    "duration": 112,
    "start_time": "2023-07-02T08:49:35.422Z"
   },
   {
    "duration": 76,
    "start_time": "2023-07-02T08:49:50.181Z"
   },
   {
    "duration": 68,
    "start_time": "2023-07-02T08:49:57.532Z"
   },
   {
    "duration": 1813,
    "start_time": "2023-07-02T08:51:27.380Z"
   },
   {
    "duration": 10,
    "start_time": "2023-07-02T08:52:06.214Z"
   },
   {
    "duration": 8,
    "start_time": "2023-07-02T08:52:35.813Z"
   },
   {
    "duration": 10,
    "start_time": "2023-07-02T08:52:52.389Z"
   },
   {
    "duration": 11,
    "start_time": "2023-07-02T08:53:03.948Z"
   },
   {
    "duration": 227,
    "start_time": "2023-07-02T08:57:05.993Z"
   },
   {
    "duration": 8,
    "start_time": "2023-07-02T08:59:44.503Z"
   },
   {
    "duration": 8,
    "start_time": "2023-07-02T08:59:53.718Z"
   },
   {
    "duration": 11,
    "start_time": "2023-07-02T09:00:12.112Z"
   },
   {
    "duration": 12,
    "start_time": "2023-07-02T09:00:26.988Z"
   },
   {
    "duration": 17,
    "start_time": "2023-07-02T09:00:42.535Z"
   },
   {
    "duration": 4,
    "start_time": "2023-07-02T09:05:11.011Z"
   },
   {
    "duration": 16,
    "start_time": "2023-07-02T09:05:15.176Z"
   },
   {
    "duration": 9,
    "start_time": "2023-07-02T09:05:26.388Z"
   },
   {
    "duration": 3,
    "start_time": "2023-07-02T09:05:35.771Z"
   },
   {
    "duration": 4,
    "start_time": "2023-07-02T09:05:48.915Z"
   },
   {
    "duration": 18,
    "start_time": "2023-07-02T09:05:51.177Z"
   },
   {
    "duration": 9,
    "start_time": "2023-07-02T09:05:58.122Z"
   },
   {
    "duration": 1162,
    "start_time": "2023-07-02T09:19:38.701Z"
   },
   {
    "duration": 75,
    "start_time": "2023-07-02T09:19:39.865Z"
   },
   {
    "duration": 11,
    "start_time": "2023-07-02T09:19:39.942Z"
   },
   {
    "duration": 10,
    "start_time": "2023-07-02T09:19:39.955Z"
   },
   {
    "duration": 532,
    "start_time": "2023-07-02T09:19:39.968Z"
   },
   {
    "duration": 0,
    "start_time": "2023-07-02T09:19:40.501Z"
   },
   {
    "duration": 0,
    "start_time": "2023-07-02T09:19:40.503Z"
   },
   {
    "duration": 0,
    "start_time": "2023-07-02T09:19:40.504Z"
   },
   {
    "duration": 0,
    "start_time": "2023-07-02T09:19:40.505Z"
   },
   {
    "duration": 0,
    "start_time": "2023-07-02T09:19:40.507Z"
   },
   {
    "duration": 0,
    "start_time": "2023-07-02T09:19:40.508Z"
   },
   {
    "duration": 0,
    "start_time": "2023-07-02T09:19:40.509Z"
   },
   {
    "duration": 732,
    "start_time": "2023-07-02T09:20:47.598Z"
   },
   {
    "duration": 504,
    "start_time": "2023-07-02T09:21:37.334Z"
   },
   {
    "duration": 435,
    "start_time": "2023-07-02T09:21:45.937Z"
   },
   {
    "duration": 112,
    "start_time": "2023-07-02T09:23:01.429Z"
   },
   {
    "duration": 105,
    "start_time": "2023-07-02T09:23:12.065Z"
   },
   {
    "duration": 1151,
    "start_time": "2023-07-02T09:23:18.397Z"
   },
   {
    "duration": 74,
    "start_time": "2023-07-02T09:23:19.550Z"
   },
   {
    "duration": 11,
    "start_time": "2023-07-02T09:23:19.626Z"
   },
   {
    "duration": 11,
    "start_time": "2023-07-02T09:23:19.638Z"
   },
   {
    "duration": 98,
    "start_time": "2023-07-02T09:23:19.651Z"
   },
   {
    "duration": 8,
    "start_time": "2023-07-02T09:23:19.750Z"
   },
   {
    "duration": 111,
    "start_time": "2023-07-02T09:23:19.759Z"
   },
   {
    "duration": 85,
    "start_time": "2023-07-02T09:23:19.871Z"
   },
   {
    "duration": 68,
    "start_time": "2023-07-02T09:23:19.958Z"
   },
   {
    "duration": 19,
    "start_time": "2023-07-02T09:23:20.028Z"
   },
   {
    "duration": 3,
    "start_time": "2023-07-02T09:23:20.049Z"
   },
   {
    "duration": 118,
    "start_time": "2023-07-02T09:23:20.053Z"
   },
   {
    "duration": 284,
    "start_time": "2023-07-02T09:24:43.720Z"
   },
   {
    "duration": 267,
    "start_time": "2023-07-02T09:26:32.623Z"
   },
   {
    "duration": 340,
    "start_time": "2023-07-02T09:27:09.088Z"
   },
   {
    "duration": 6,
    "start_time": "2023-07-02T09:32:47.613Z"
   },
   {
    "duration": 258,
    "start_time": "2023-07-02T09:32:50.659Z"
   },
   {
    "duration": 328,
    "start_time": "2023-07-02T09:32:52.343Z"
   },
   {
    "duration": 13,
    "start_time": "2023-07-02T09:33:31.613Z"
   },
   {
    "duration": 283,
    "start_time": "2023-07-02T09:34:00.900Z"
   },
   {
    "duration": 396,
    "start_time": "2023-07-02T09:34:14.507Z"
   },
   {
    "duration": 480,
    "start_time": "2023-07-02T09:34:28.800Z"
   },
   {
    "duration": 279,
    "start_time": "2023-07-02T09:34:38.925Z"
   },
   {
    "duration": 340,
    "start_time": "2023-07-02T09:35:02.351Z"
   },
   {
    "duration": 387,
    "start_time": "2023-07-02T09:36:06.992Z"
   },
   {
    "duration": 379,
    "start_time": "2023-07-02T09:36:33.011Z"
   },
   {
    "duration": 268,
    "start_time": "2023-07-02T09:37:02.670Z"
   },
   {
    "duration": 323,
    "start_time": "2023-07-02T09:37:18.506Z"
   },
   {
    "duration": 268,
    "start_time": "2023-07-02T09:37:43.640Z"
   },
   {
    "duration": 253,
    "start_time": "2023-07-02T09:37:53.496Z"
   },
   {
    "duration": 359,
    "start_time": "2023-07-02T09:38:32.367Z"
   },
   {
    "duration": 184,
    "start_time": "2023-07-02T09:39:33.483Z"
   },
   {
    "duration": 195,
    "start_time": "2023-07-02T09:39:51.392Z"
   },
   {
    "duration": 250,
    "start_time": "2023-07-02T09:40:09.567Z"
   },
   {
    "duration": 230,
    "start_time": "2023-07-02T09:40:17.252Z"
   },
   {
    "duration": 232,
    "start_time": "2023-07-02T09:40:26.613Z"
   },
   {
    "duration": 216,
    "start_time": "2023-07-02T09:40:35.437Z"
   },
   {
    "duration": 228,
    "start_time": "2023-07-02T09:40:46.616Z"
   },
   {
    "duration": 269,
    "start_time": "2023-07-02T09:40:55.113Z"
   },
   {
    "duration": 246,
    "start_time": "2023-07-02T09:41:05.228Z"
   },
   {
    "duration": 251,
    "start_time": "2023-07-02T09:41:45.660Z"
   },
   {
    "duration": 354,
    "start_time": "2023-07-02T09:42:19.816Z"
   },
   {
    "duration": 383,
    "start_time": "2023-07-02T09:42:53.103Z"
   },
   {
    "duration": 363,
    "start_time": "2023-07-02T09:43:01.884Z"
   },
   {
    "duration": 329,
    "start_time": "2023-07-02T09:43:05.214Z"
   },
   {
    "duration": 247,
    "start_time": "2023-07-02T09:43:24.952Z"
   },
   {
    "duration": 354,
    "start_time": "2023-07-02T09:43:34.028Z"
   },
   {
    "duration": 312,
    "start_time": "2023-07-02T09:44:09.290Z"
   },
   {
    "duration": 378,
    "start_time": "2023-07-02T09:44:26.494Z"
   },
   {
    "duration": 331,
    "start_time": "2023-07-02T09:44:57.992Z"
   },
   {
    "duration": 371,
    "start_time": "2023-07-02T09:45:54.396Z"
   },
   {
    "duration": 1156,
    "start_time": "2023-07-02T09:46:03.997Z"
   },
   {
    "duration": 98,
    "start_time": "2023-07-02T09:46:05.155Z"
   },
   {
    "duration": 12,
    "start_time": "2023-07-02T09:46:05.254Z"
   },
   {
    "duration": 21,
    "start_time": "2023-07-02T09:46:05.267Z"
   },
   {
    "duration": 98,
    "start_time": "2023-07-02T09:46:05.290Z"
   },
   {
    "duration": 12,
    "start_time": "2023-07-02T09:46:05.390Z"
   },
   {
    "duration": 22,
    "start_time": "2023-07-02T09:46:05.404Z"
   },
   {
    "duration": 25,
    "start_time": "2023-07-02T09:46:05.427Z"
   },
   {
    "duration": 4,
    "start_time": "2023-07-02T09:46:05.454Z"
   },
   {
    "duration": 274,
    "start_time": "2023-07-02T09:46:05.460Z"
   },
   {
    "duration": 5,
    "start_time": "2023-07-02T09:46:05.736Z"
   },
   {
    "duration": 382,
    "start_time": "2023-07-02T09:46:05.743Z"
   },
   {
    "duration": 355,
    "start_time": "2023-07-02T09:46:06.127Z"
   },
   {
    "duration": 464,
    "start_time": "2023-07-02T09:46:06.486Z"
   },
   {
    "duration": 109,
    "start_time": "2023-07-02T09:46:06.952Z"
   },
   {
    "duration": 445,
    "start_time": "2023-07-02T09:46:41.260Z"
   },
   {
    "duration": 10,
    "start_time": "2023-07-02T09:46:57.988Z"
   },
   {
    "duration": 11,
    "start_time": "2023-07-02T09:47:32.708Z"
   },
   {
    "duration": 458,
    "start_time": "2023-07-02T09:48:01.999Z"
   },
   {
    "duration": 439,
    "start_time": "2023-07-02T09:48:18.596Z"
   },
   {
    "duration": 458,
    "start_time": "2023-07-02T09:48:44.397Z"
   },
   {
    "duration": 1178,
    "start_time": "2023-07-02T09:48:50.082Z"
   },
   {
    "duration": 86,
    "start_time": "2023-07-02T09:48:51.262Z"
   },
   {
    "duration": 12,
    "start_time": "2023-07-02T09:48:51.349Z"
   },
   {
    "duration": 20,
    "start_time": "2023-07-02T09:48:51.362Z"
   },
   {
    "duration": 107,
    "start_time": "2023-07-02T09:48:51.384Z"
   },
   {
    "duration": 11,
    "start_time": "2023-07-02T09:48:51.493Z"
   },
   {
    "duration": 13,
    "start_time": "2023-07-02T09:48:51.506Z"
   },
   {
    "duration": 31,
    "start_time": "2023-07-02T09:48:51.521Z"
   },
   {
    "duration": 12,
    "start_time": "2023-07-02T09:48:51.554Z"
   },
   {
    "duration": 275,
    "start_time": "2023-07-02T09:48:51.568Z"
   },
   {
    "duration": 6,
    "start_time": "2023-07-02T09:48:51.846Z"
   },
   {
    "duration": 382,
    "start_time": "2023-07-02T09:48:51.854Z"
   },
   {
    "duration": 345,
    "start_time": "2023-07-02T09:48:52.238Z"
   },
   {
    "duration": 458,
    "start_time": "2023-07-02T09:48:52.587Z"
   },
   {
    "duration": 417,
    "start_time": "2023-07-02T09:48:53.047Z"
   },
   {
    "duration": 425,
    "start_time": "2023-07-02T09:49:06.029Z"
   },
   {
    "duration": 461,
    "start_time": "2023-07-02T09:49:29.191Z"
   },
   {
    "duration": 472,
    "start_time": "2023-07-02T09:49:38.900Z"
   },
   {
    "duration": 464,
    "start_time": "2023-07-02T09:49:48.003Z"
   },
   {
    "duration": 529,
    "start_time": "2023-07-02T09:50:08.227Z"
   },
   {
    "duration": 1095,
    "start_time": "2023-07-02T09:50:23.058Z"
   },
   {
    "duration": 95,
    "start_time": "2023-07-02T09:50:24.155Z"
   },
   {
    "duration": 12,
    "start_time": "2023-07-02T09:50:24.251Z"
   },
   {
    "duration": 12,
    "start_time": "2023-07-02T09:50:24.265Z"
   },
   {
    "duration": 121,
    "start_time": "2023-07-02T09:50:24.280Z"
   },
   {
    "duration": 11,
    "start_time": "2023-07-02T09:50:24.403Z"
   },
   {
    "duration": 12,
    "start_time": "2023-07-02T09:50:24.416Z"
   },
   {
    "duration": 21,
    "start_time": "2023-07-02T09:50:24.430Z"
   },
   {
    "duration": 3,
    "start_time": "2023-07-02T09:50:24.453Z"
   },
   {
    "duration": 294,
    "start_time": "2023-07-02T09:50:24.458Z"
   },
   {
    "duration": 5,
    "start_time": "2023-07-02T09:50:24.754Z"
   },
   {
    "duration": 406,
    "start_time": "2023-07-02T09:50:24.761Z"
   },
   {
    "duration": 350,
    "start_time": "2023-07-02T09:50:25.169Z"
   },
   {
    "duration": 431,
    "start_time": "2023-07-02T09:50:25.523Z"
   },
   {
    "duration": 319,
    "start_time": "2023-07-02T09:52:10.331Z"
   },
   {
    "duration": 393,
    "start_time": "2023-07-02T09:52:32.700Z"
   },
   {
    "duration": 306,
    "start_time": "2023-07-02T09:53:00.504Z"
   },
   {
    "duration": 1106,
    "start_time": "2023-07-02T09:53:09.043Z"
   },
   {
    "duration": 84,
    "start_time": "2023-07-02T09:53:10.151Z"
   },
   {
    "duration": 11,
    "start_time": "2023-07-02T09:53:10.237Z"
   },
   {
    "duration": 14,
    "start_time": "2023-07-02T09:53:10.249Z"
   },
   {
    "duration": 105,
    "start_time": "2023-07-02T09:53:10.266Z"
   },
   {
    "duration": 10,
    "start_time": "2023-07-02T09:53:10.373Z"
   },
   {
    "duration": 16,
    "start_time": "2023-07-02T09:53:10.384Z"
   },
   {
    "duration": 18,
    "start_time": "2023-07-02T09:53:10.402Z"
   },
   {
    "duration": 3,
    "start_time": "2023-07-02T09:53:10.422Z"
   },
   {
    "duration": 330,
    "start_time": "2023-07-02T09:53:10.427Z"
   },
   {
    "duration": 5,
    "start_time": "2023-07-02T09:53:10.758Z"
   },
   {
    "duration": 392,
    "start_time": "2023-07-02T09:53:10.765Z"
   },
   {
    "duration": 363,
    "start_time": "2023-07-02T09:53:11.158Z"
   },
   {
    "duration": 439,
    "start_time": "2023-07-02T09:53:11.524Z"
   },
   {
    "duration": 389,
    "start_time": "2023-07-02T09:53:11.964Z"
   },
   {
    "duration": 11,
    "start_time": "2023-07-02T09:54:39.063Z"
   },
   {
    "duration": 12,
    "start_time": "2023-07-02T09:55:10.230Z"
   },
   {
    "duration": 302,
    "start_time": "2023-07-02T09:55:17.710Z"
   },
   {
    "duration": 281,
    "start_time": "2023-07-02T09:55:47.742Z"
   },
   {
    "duration": 315,
    "start_time": "2023-07-02T09:56:53.571Z"
   },
   {
    "duration": 180,
    "start_time": "2023-07-02T09:57:05.264Z"
   },
   {
    "duration": 270,
    "start_time": "2023-07-02T09:57:10.946Z"
   },
   {
    "duration": 274,
    "start_time": "2023-07-02T09:57:18.934Z"
   },
   {
    "duration": 308,
    "start_time": "2023-07-02T09:57:41.048Z"
   },
   {
    "duration": 313,
    "start_time": "2023-07-02T09:58:02.502Z"
   },
   {
    "duration": 440,
    "start_time": "2023-07-02T09:58:11.995Z"
   },
   {
    "duration": 393,
    "start_time": "2023-07-02T09:58:16.962Z"
   },
   {
    "duration": 351,
    "start_time": "2023-07-02T09:59:00.098Z"
   },
   {
    "duration": 349,
    "start_time": "2023-07-02T09:59:09.169Z"
   },
   {
    "duration": 399,
    "start_time": "2023-07-02T10:02:25.005Z"
   },
   {
    "duration": 367,
    "start_time": "2023-07-02T10:02:29.544Z"
   },
   {
    "duration": 470,
    "start_time": "2023-07-02T10:03:10.608Z"
   },
   {
    "duration": 383,
    "start_time": "2023-07-02T10:03:29.816Z"
   },
   {
    "duration": 510,
    "start_time": "2023-07-02T10:03:33.957Z"
   },
   {
    "duration": 547,
    "start_time": "2023-07-02T10:03:48.929Z"
   },
   {
    "duration": 448,
    "start_time": "2023-07-02T10:04:31.037Z"
   },
   {
    "duration": 12,
    "start_time": "2023-07-02T10:07:44.697Z"
   },
   {
    "duration": 15,
    "start_time": "2023-07-02T10:07:48.738Z"
   },
   {
    "duration": 134,
    "start_time": "2023-07-02T10:08:17.204Z"
   },
   {
    "duration": 5,
    "start_time": "2023-07-02T10:09:33.135Z"
   },
   {
    "duration": 5,
    "start_time": "2023-07-02T10:09:40.047Z"
   },
   {
    "duration": 1288,
    "start_time": "2023-07-02T10:09:44.827Z"
   },
   {
    "duration": 77,
    "start_time": "2023-07-02T10:09:46.117Z"
   },
   {
    "duration": 13,
    "start_time": "2023-07-02T10:09:46.196Z"
   },
   {
    "duration": 10,
    "start_time": "2023-07-02T10:09:46.211Z"
   },
   {
    "duration": 112,
    "start_time": "2023-07-02T10:09:46.223Z"
   },
   {
    "duration": 11,
    "start_time": "2023-07-02T10:09:46.336Z"
   },
   {
    "duration": 17,
    "start_time": "2023-07-02T10:09:46.349Z"
   },
   {
    "duration": 19,
    "start_time": "2023-07-02T10:09:46.367Z"
   },
   {
    "duration": 4,
    "start_time": "2023-07-02T10:09:46.387Z"
   },
   {
    "duration": 281,
    "start_time": "2023-07-02T10:09:46.394Z"
   },
   {
    "duration": 5,
    "start_time": "2023-07-02T10:09:46.677Z"
   },
   {
    "duration": 397,
    "start_time": "2023-07-02T10:09:46.684Z"
   },
   {
    "duration": 374,
    "start_time": "2023-07-02T10:09:47.082Z"
   },
   {
    "duration": 490,
    "start_time": "2023-07-02T10:09:47.458Z"
   },
   {
    "duration": 445,
    "start_time": "2023-07-02T10:09:47.949Z"
   },
   {
    "duration": 510,
    "start_time": "2023-07-02T10:09:48.396Z"
   },
   {
    "duration": 130,
    "start_time": "2023-07-02T10:09:48.908Z"
   },
   {
    "duration": 5,
    "start_time": "2023-07-02T10:09:49.039Z"
   },
   {
    "duration": 1115,
    "start_time": "2023-07-02T10:14:23.748Z"
   },
   {
    "duration": 89,
    "start_time": "2023-07-02T10:14:24.865Z"
   },
   {
    "duration": 0,
    "start_time": "2023-07-02T10:14:24.956Z"
   },
   {
    "duration": 0,
    "start_time": "2023-07-02T10:14:24.957Z"
   },
   {
    "duration": 0,
    "start_time": "2023-07-02T10:14:24.959Z"
   },
   {
    "duration": 0,
    "start_time": "2023-07-02T10:14:24.960Z"
   },
   {
    "duration": 0,
    "start_time": "2023-07-02T10:14:24.962Z"
   },
   {
    "duration": 0,
    "start_time": "2023-07-02T10:14:24.963Z"
   },
   {
    "duration": 0,
    "start_time": "2023-07-02T10:14:24.965Z"
   },
   {
    "duration": 0,
    "start_time": "2023-07-02T10:14:24.966Z"
   },
   {
    "duration": 0,
    "start_time": "2023-07-02T10:14:24.968Z"
   },
   {
    "duration": 0,
    "start_time": "2023-07-02T10:14:24.969Z"
   },
   {
    "duration": 0,
    "start_time": "2023-07-02T10:14:24.970Z"
   },
   {
    "duration": 0,
    "start_time": "2023-07-02T10:14:24.972Z"
   },
   {
    "duration": 0,
    "start_time": "2023-07-02T10:14:24.973Z"
   },
   {
    "duration": 0,
    "start_time": "2023-07-02T10:14:24.975Z"
   },
   {
    "duration": 0,
    "start_time": "2023-07-02T10:14:24.976Z"
   },
   {
    "duration": 0,
    "start_time": "2023-07-02T10:14:24.978Z"
   },
   {
    "duration": 1122,
    "start_time": "2023-07-02T10:14:37.951Z"
   },
   {
    "duration": 82,
    "start_time": "2023-07-02T10:14:39.076Z"
   },
   {
    "duration": 0,
    "start_time": "2023-07-02T10:14:39.161Z"
   },
   {
    "duration": 0,
    "start_time": "2023-07-02T10:14:39.162Z"
   },
   {
    "duration": 0,
    "start_time": "2023-07-02T10:14:39.163Z"
   },
   {
    "duration": 0,
    "start_time": "2023-07-02T10:14:39.165Z"
   },
   {
    "duration": 0,
    "start_time": "2023-07-02T10:14:39.166Z"
   },
   {
    "duration": 0,
    "start_time": "2023-07-02T10:14:39.168Z"
   },
   {
    "duration": 0,
    "start_time": "2023-07-02T10:14:39.170Z"
   },
   {
    "duration": 0,
    "start_time": "2023-07-02T10:14:39.171Z"
   },
   {
    "duration": 0,
    "start_time": "2023-07-02T10:14:39.172Z"
   },
   {
    "duration": 0,
    "start_time": "2023-07-02T10:14:39.173Z"
   },
   {
    "duration": 0,
    "start_time": "2023-07-02T10:14:39.174Z"
   },
   {
    "duration": 0,
    "start_time": "2023-07-02T10:14:39.175Z"
   },
   {
    "duration": 0,
    "start_time": "2023-07-02T10:14:39.177Z"
   },
   {
    "duration": 0,
    "start_time": "2023-07-02T10:14:39.179Z"
   },
   {
    "duration": 0,
    "start_time": "2023-07-02T10:14:39.180Z"
   },
   {
    "duration": 0,
    "start_time": "2023-07-02T10:14:39.182Z"
   },
   {
    "duration": 135,
    "start_time": "2023-07-02T10:15:11.097Z"
   },
   {
    "duration": 1137,
    "start_time": "2023-07-02T10:15:15.615Z"
   },
   {
    "duration": 139,
    "start_time": "2023-07-02T10:15:16.754Z"
   },
   {
    "duration": 11,
    "start_time": "2023-07-02T10:15:16.895Z"
   },
   {
    "duration": 11,
    "start_time": "2023-07-02T10:15:16.907Z"
   },
   {
    "duration": 8,
    "start_time": "2023-07-02T10:15:16.920Z"
   },
   {
    "duration": 13,
    "start_time": "2023-07-02T10:15:16.930Z"
   },
   {
    "duration": 17,
    "start_time": "2023-07-02T10:15:16.945Z"
   },
   {
    "duration": 50,
    "start_time": "2023-07-02T10:15:16.965Z"
   },
   {
    "duration": 5,
    "start_time": "2023-07-02T10:15:17.016Z"
   },
   {
    "duration": 364,
    "start_time": "2023-07-02T10:15:17.022Z"
   },
   {
    "duration": 5,
    "start_time": "2023-07-02T10:15:17.388Z"
   },
   {
    "duration": 491,
    "start_time": "2023-07-02T10:15:17.401Z"
   },
   {
    "duration": 460,
    "start_time": "2023-07-02T10:15:17.893Z"
   },
   {
    "duration": 566,
    "start_time": "2023-07-02T10:15:18.356Z"
   },
   {
    "duration": 414,
    "start_time": "2023-07-02T10:15:18.924Z"
   },
   {
    "duration": 448,
    "start_time": "2023-07-02T10:15:19.340Z"
   },
   {
    "duration": 134,
    "start_time": "2023-07-02T10:15:19.790Z"
   },
   {
    "duration": 5,
    "start_time": "2023-07-02T10:15:19.925Z"
   },
   {
    "duration": 106,
    "start_time": "2023-07-02T10:18:32.487Z"
   },
   {
    "duration": 1266,
    "start_time": "2023-07-02T10:21:16.992Z"
   },
   {
    "duration": 272,
    "start_time": "2023-07-02T10:21:18.260Z"
   },
   {
    "duration": 11,
    "start_time": "2023-07-02T10:21:18.533Z"
   },
   {
    "duration": 10,
    "start_time": "2023-07-02T10:21:18.546Z"
   },
   {
    "duration": 9,
    "start_time": "2023-07-02T10:21:18.557Z"
   },
   {
    "duration": 11,
    "start_time": "2023-07-02T10:21:18.568Z"
   },
   {
    "duration": 17,
    "start_time": "2023-07-02T10:21:18.581Z"
   },
   {
    "duration": 18,
    "start_time": "2023-07-02T10:21:18.599Z"
   },
   {
    "duration": 3,
    "start_time": "2023-07-02T10:21:18.619Z"
   },
   {
    "duration": 265,
    "start_time": "2023-07-02T10:21:18.624Z"
   },
   {
    "duration": 9,
    "start_time": "2023-07-02T10:21:18.892Z"
   },
   {
    "duration": 430,
    "start_time": "2023-07-02T10:21:18.903Z"
   },
   {
    "duration": 366,
    "start_time": "2023-07-02T10:21:19.335Z"
   },
   {
    "duration": 407,
    "start_time": "2023-07-02T10:21:19.703Z"
   },
   {
    "duration": 415,
    "start_time": "2023-07-02T10:21:20.112Z"
   },
   {
    "duration": 456,
    "start_time": "2023-07-02T10:21:20.529Z"
   },
   {
    "duration": 109,
    "start_time": "2023-07-02T10:21:20.987Z"
   },
   {
    "duration": 0,
    "start_time": "2023-07-02T10:21:21.103Z"
   },
   {
    "duration": 1185,
    "start_time": "2023-07-02T10:21:44.853Z"
   },
   {
    "duration": 129,
    "start_time": "2023-07-02T10:21:46.040Z"
   },
   {
    "duration": 10,
    "start_time": "2023-07-02T10:21:46.171Z"
   },
   {
    "duration": 14,
    "start_time": "2023-07-02T10:21:46.183Z"
   },
   {
    "duration": 10,
    "start_time": "2023-07-02T10:21:46.199Z"
   },
   {
    "duration": 13,
    "start_time": "2023-07-02T10:21:46.210Z"
   },
   {
    "duration": 12,
    "start_time": "2023-07-02T10:21:46.224Z"
   },
   {
    "duration": 18,
    "start_time": "2023-07-02T10:21:46.238Z"
   },
   {
    "duration": 2,
    "start_time": "2023-07-02T10:21:46.258Z"
   },
   {
    "duration": 291,
    "start_time": "2023-07-02T10:21:46.263Z"
   },
   {
    "duration": 5,
    "start_time": "2023-07-02T10:21:46.556Z"
   },
   {
    "duration": 418,
    "start_time": "2023-07-02T10:21:46.563Z"
   },
   {
    "duration": 351,
    "start_time": "2023-07-02T10:21:46.983Z"
   },
   {
    "duration": 397,
    "start_time": "2023-07-02T10:21:47.335Z"
   },
   {
    "duration": 408,
    "start_time": "2023-07-02T10:21:47.734Z"
   },
   {
    "duration": 454,
    "start_time": "2023-07-02T10:21:48.144Z"
   },
   {
    "duration": 132,
    "start_time": "2023-07-02T10:21:48.601Z"
   },
   {
    "duration": 4,
    "start_time": "2023-07-02T10:21:48.734Z"
   },
   {
    "duration": 4,
    "start_time": "2023-07-02T10:22:22.770Z"
   },
   {
    "duration": 103,
    "start_time": "2023-07-02T10:25:55.659Z"
   },
   {
    "duration": 128,
    "start_time": "2023-07-02T10:26:02.956Z"
   },
   {
    "duration": 9,
    "start_time": "2023-07-02T10:26:40.660Z"
   },
   {
    "duration": 4,
    "start_time": "2023-07-02T10:26:51.785Z"
   },
   {
    "duration": 16,
    "start_time": "2023-07-02T10:48:02.408Z"
   },
   {
    "duration": 14,
    "start_time": "2023-07-02T10:48:19.126Z"
   },
   {
    "duration": 98,
    "start_time": "2023-07-02T10:49:03.653Z"
   },
   {
    "duration": 16,
    "start_time": "2023-07-02T10:49:23.705Z"
   },
   {
    "duration": 14,
    "start_time": "2023-07-02T10:52:52.750Z"
   },
   {
    "duration": 14,
    "start_time": "2023-07-02T10:53:12.414Z"
   },
   {
    "duration": 119,
    "start_time": "2023-07-02T10:53:46.350Z"
   },
   {
    "duration": 178,
    "start_time": "2023-07-02T10:55:50.136Z"
   },
   {
    "duration": 505,
    "start_time": "2023-07-02T10:56:35.512Z"
   },
   {
    "duration": 4,
    "start_time": "2023-07-02T10:57:03.737Z"
   },
   {
    "duration": 1255,
    "start_time": "2023-07-02T10:57:07.636Z"
   },
   {
    "duration": 126,
    "start_time": "2023-07-02T10:57:08.894Z"
   },
   {
    "duration": 14,
    "start_time": "2023-07-02T10:57:09.022Z"
   },
   {
    "duration": 11,
    "start_time": "2023-07-02T10:57:09.039Z"
   },
   {
    "duration": 11,
    "start_time": "2023-07-02T10:57:09.051Z"
   },
   {
    "duration": 12,
    "start_time": "2023-07-02T10:57:09.064Z"
   },
   {
    "duration": 11,
    "start_time": "2023-07-02T10:57:09.102Z"
   },
   {
    "duration": 20,
    "start_time": "2023-07-02T10:57:09.115Z"
   },
   {
    "duration": 4,
    "start_time": "2023-07-02T10:57:09.137Z"
   },
   {
    "duration": 317,
    "start_time": "2023-07-02T10:57:09.143Z"
   },
   {
    "duration": 6,
    "start_time": "2023-07-02T10:57:09.462Z"
   },
   {
    "duration": 426,
    "start_time": "2023-07-02T10:57:09.470Z"
   },
   {
    "duration": 371,
    "start_time": "2023-07-02T10:57:09.898Z"
   },
   {
    "duration": 507,
    "start_time": "2023-07-02T10:57:10.271Z"
   },
   {
    "duration": 390,
    "start_time": "2023-07-02T10:57:10.780Z"
   },
   {
    "duration": 500,
    "start_time": "2023-07-02T10:57:11.173Z"
   },
   {
    "duration": 146,
    "start_time": "2023-07-02T10:57:11.675Z"
   },
   {
    "duration": 5,
    "start_time": "2023-07-02T10:57:11.823Z"
   },
   {
    "duration": 174,
    "start_time": "2023-07-02T10:57:11.829Z"
   },
   {
    "duration": 5,
    "start_time": "2023-07-02T10:57:12.006Z"
   },
   {
    "duration": 589,
    "start_time": "2023-07-02T10:57:12.013Z"
   },
   {
    "duration": 236,
    "start_time": "2023-07-02T10:59:13.302Z"
   },
   {
    "duration": 407,
    "start_time": "2023-07-02T10:59:14.635Z"
   },
   {
    "duration": 248,
    "start_time": "2023-07-02T10:59:23.902Z"
   },
   {
    "duration": 301,
    "start_time": "2023-07-02T11:00:27.854Z"
   },
   {
    "duration": 16,
    "start_time": "2023-07-02T11:01:17.232Z"
   },
   {
    "duration": 14,
    "start_time": "2023-07-02T11:01:39.646Z"
   },
   {
    "duration": 75,
    "start_time": "2023-07-02T11:08:58.212Z"
   },
   {
    "duration": 2074,
    "start_time": "2023-07-02T11:09:17.310Z"
   },
   {
    "duration": 4,
    "start_time": "2023-07-02T11:09:43.247Z"
   },
   {
    "duration": 10,
    "start_time": "2023-07-02T11:11:08.579Z"
   },
   {
    "duration": 11,
    "start_time": "2023-07-02T11:11:32.536Z"
   },
   {
    "duration": 11,
    "start_time": "2023-07-02T11:11:44.649Z"
   },
   {
    "duration": 14,
    "start_time": "2023-07-02T11:11:58.730Z"
   },
   {
    "duration": 20,
    "start_time": "2023-07-02T11:12:04.617Z"
   },
   {
    "duration": 1508,
    "start_time": "2023-07-02T11:12:25.107Z"
   },
   {
    "duration": 13,
    "start_time": "2023-07-02T11:12:52.851Z"
   },
   {
    "duration": 12,
    "start_time": "2023-07-02T11:13:00.361Z"
   },
   {
    "duration": 21,
    "start_time": "2023-07-02T11:13:10.302Z"
   },
   {
    "duration": 13,
    "start_time": "2023-07-02T11:13:21.050Z"
   },
   {
    "duration": 18,
    "start_time": "2023-07-02T11:13:33.898Z"
   },
   {
    "duration": 15,
    "start_time": "2023-07-02T11:13:40.104Z"
   },
   {
    "duration": 22,
    "start_time": "2023-07-02T11:16:05.390Z"
   },
   {
    "duration": 20,
    "start_time": "2023-07-02T11:16:53.444Z"
   },
   {
    "duration": 18,
    "start_time": "2023-07-02T11:16:59.790Z"
   },
   {
    "duration": 13,
    "start_time": "2023-07-02T11:17:08.316Z"
   },
   {
    "duration": 22,
    "start_time": "2023-07-02T11:17:33.916Z"
   },
   {
    "duration": 17,
    "start_time": "2023-07-02T11:17:38.824Z"
   },
   {
    "duration": 17,
    "start_time": "2023-07-02T11:17:44.061Z"
   },
   {
    "duration": 11,
    "start_time": "2023-07-02T11:18:16.704Z"
   },
   {
    "duration": 1432,
    "start_time": "2023-07-02T11:19:24.726Z"
   },
   {
    "duration": 2960,
    "start_time": "2023-07-02T11:20:02.203Z"
   },
   {
    "duration": 16,
    "start_time": "2023-07-02T11:20:28.902Z"
   },
   {
    "duration": 1378,
    "start_time": "2023-07-02T11:21:05.049Z"
   },
   {
    "duration": 27,
    "start_time": "2023-07-02T11:21:32.936Z"
   },
   {
    "duration": 1197,
    "start_time": "2023-07-02T11:24:21.862Z"
   },
   {
    "duration": 1280,
    "start_time": "2023-07-02T11:24:38.391Z"
   },
   {
    "duration": 1236,
    "start_time": "2023-07-02T11:24:57.694Z"
   },
   {
    "duration": 1176,
    "start_time": "2023-07-02T11:25:45.143Z"
   },
   {
    "duration": 125,
    "start_time": "2023-07-02T11:25:46.321Z"
   },
   {
    "duration": 13,
    "start_time": "2023-07-02T11:25:46.448Z"
   },
   {
    "duration": 14,
    "start_time": "2023-07-02T11:25:46.463Z"
   },
   {
    "duration": 11,
    "start_time": "2023-07-02T11:25:46.478Z"
   },
   {
    "duration": 16,
    "start_time": "2023-07-02T11:25:46.490Z"
   },
   {
    "duration": 25,
    "start_time": "2023-07-02T11:25:46.507Z"
   },
   {
    "duration": 21,
    "start_time": "2023-07-02T11:25:46.533Z"
   },
   {
    "duration": 4,
    "start_time": "2023-07-02T11:25:46.556Z"
   },
   {
    "duration": 279,
    "start_time": "2023-07-02T11:25:46.563Z"
   },
   {
    "duration": 5,
    "start_time": "2023-07-02T11:25:46.844Z"
   },
   {
    "duration": 422,
    "start_time": "2023-07-02T11:25:46.851Z"
   },
   {
    "duration": 368,
    "start_time": "2023-07-02T11:25:47.275Z"
   },
   {
    "duration": 397,
    "start_time": "2023-07-02T11:25:47.645Z"
   },
   {
    "duration": 403,
    "start_time": "2023-07-02T11:25:48.043Z"
   },
   {
    "duration": 458,
    "start_time": "2023-07-02T11:25:48.449Z"
   },
   {
    "duration": 140,
    "start_time": "2023-07-02T11:25:48.908Z"
   },
   {
    "duration": 5,
    "start_time": "2023-07-02T11:25:49.050Z"
   },
   {
    "duration": 154,
    "start_time": "2023-07-02T11:25:49.057Z"
   },
   {
    "duration": 5,
    "start_time": "2023-07-02T11:25:49.213Z"
   },
   {
    "duration": 247,
    "start_time": "2023-07-02T11:25:49.221Z"
   },
   {
    "duration": 1534,
    "start_time": "2023-07-02T11:25:49.471Z"
   },
   {
    "duration": 0,
    "start_time": "2023-07-02T11:25:51.008Z"
   },
   {
    "duration": 0,
    "start_time": "2023-07-02T11:25:51.009Z"
   },
   {
    "duration": 0,
    "start_time": "2023-07-02T11:25:51.011Z"
   },
   {
    "duration": 0,
    "start_time": "2023-07-02T11:25:51.012Z"
   },
   {
    "duration": 0,
    "start_time": "2023-07-02T11:25:51.014Z"
   },
   {
    "duration": 1210,
    "start_time": "2023-07-02T11:27:10.701Z"
   },
   {
    "duration": 124,
    "start_time": "2023-07-02T11:27:11.913Z"
   },
   {
    "duration": 16,
    "start_time": "2023-07-02T11:27:12.039Z"
   },
   {
    "duration": 11,
    "start_time": "2023-07-02T11:27:12.057Z"
   },
   {
    "duration": 11,
    "start_time": "2023-07-02T11:27:12.070Z"
   },
   {
    "duration": 12,
    "start_time": "2023-07-02T11:27:12.083Z"
   },
   {
    "duration": 15,
    "start_time": "2023-07-02T11:27:12.097Z"
   },
   {
    "duration": 19,
    "start_time": "2023-07-02T11:27:12.114Z"
   },
   {
    "duration": 4,
    "start_time": "2023-07-02T11:27:12.135Z"
   },
   {
    "duration": 286,
    "start_time": "2023-07-02T11:27:12.141Z"
   },
   {
    "duration": 6,
    "start_time": "2023-07-02T11:27:12.429Z"
   },
   {
    "duration": 392,
    "start_time": "2023-07-02T11:27:12.437Z"
   },
   {
    "duration": 358,
    "start_time": "2023-07-02T11:27:12.830Z"
   },
   {
    "duration": 462,
    "start_time": "2023-07-02T11:27:13.191Z"
   },
   {
    "duration": 420,
    "start_time": "2023-07-02T11:27:13.655Z"
   },
   {
    "duration": 510,
    "start_time": "2023-07-02T11:27:14.078Z"
   },
   {
    "duration": 152,
    "start_time": "2023-07-02T11:27:14.589Z"
   },
   {
    "duration": 5,
    "start_time": "2023-07-02T11:27:14.742Z"
   },
   {
    "duration": 145,
    "start_time": "2023-07-02T11:27:14.749Z"
   },
   {
    "duration": 8,
    "start_time": "2023-07-02T11:27:14.896Z"
   },
   {
    "duration": 260,
    "start_time": "2023-07-02T11:27:14.906Z"
   },
   {
    "duration": 365,
    "start_time": "2023-07-02T11:27:15.169Z"
   },
   {
    "duration": 16,
    "start_time": "2023-07-02T11:27:15.536Z"
   },
   {
    "duration": 18,
    "start_time": "2023-07-02T11:27:15.555Z"
   },
   {
    "duration": 27,
    "start_time": "2023-07-02T11:27:15.575Z"
   },
   {
    "duration": 15,
    "start_time": "2023-07-02T11:27:15.605Z"
   },
   {
    "duration": 27,
    "start_time": "2023-07-02T11:27:15.622Z"
   },
   {
    "duration": 1241,
    "start_time": "2023-07-02T11:29:06.060Z"
   },
   {
    "duration": 139,
    "start_time": "2023-07-02T11:29:07.303Z"
   },
   {
    "duration": 13,
    "start_time": "2023-07-02T11:29:07.444Z"
   },
   {
    "duration": 146,
    "start_time": "2023-07-02T11:29:07.459Z"
   },
   {
    "duration": 11,
    "start_time": "2023-07-02T11:29:07.608Z"
   },
   {
    "duration": 21,
    "start_time": "2023-07-02T11:29:07.621Z"
   },
   {
    "duration": 22,
    "start_time": "2023-07-02T11:29:07.644Z"
   },
   {
    "duration": 23,
    "start_time": "2023-07-02T11:29:07.668Z"
   },
   {
    "duration": 12,
    "start_time": "2023-07-02T11:29:07.693Z"
   },
   {
    "duration": 311,
    "start_time": "2023-07-02T11:29:07.707Z"
   },
   {
    "duration": 6,
    "start_time": "2023-07-02T11:29:08.020Z"
   },
   {
    "duration": 409,
    "start_time": "2023-07-02T11:29:08.027Z"
   },
   {
    "duration": 440,
    "start_time": "2023-07-02T11:29:08.439Z"
   },
   {
    "duration": 458,
    "start_time": "2023-07-02T11:29:08.883Z"
   },
   {
    "duration": 443,
    "start_time": "2023-07-02T11:29:09.343Z"
   },
   {
    "duration": 525,
    "start_time": "2023-07-02T11:29:09.789Z"
   },
   {
    "duration": 197,
    "start_time": "2023-07-02T11:29:10.316Z"
   },
   {
    "duration": 6,
    "start_time": "2023-07-02T11:29:10.515Z"
   },
   {
    "duration": 175,
    "start_time": "2023-07-02T11:29:10.523Z"
   },
   {
    "duration": 4,
    "start_time": "2023-07-02T11:29:10.703Z"
   },
   {
    "duration": 242,
    "start_time": "2023-07-02T11:29:10.709Z"
   },
   {
    "duration": 308,
    "start_time": "2023-07-02T11:29:10.953Z"
   },
   {
    "duration": 12,
    "start_time": "2023-07-02T11:29:11.263Z"
   },
   {
    "duration": 30,
    "start_time": "2023-07-02T11:29:11.277Z"
   },
   {
    "duration": 26,
    "start_time": "2023-07-02T11:29:11.310Z"
   },
   {
    "duration": 26,
    "start_time": "2023-07-02T11:29:11.339Z"
   },
   {
    "duration": 28,
    "start_time": "2023-07-02T11:29:11.367Z"
   },
   {
    "duration": 8,
    "start_time": "2023-07-02T11:30:54.540Z"
   },
   {
    "duration": 14,
    "start_time": "2023-07-02T11:30:55.599Z"
   },
   {
    "duration": 23,
    "start_time": "2023-07-02T11:32:17.723Z"
   },
   {
    "duration": 22,
    "start_time": "2023-07-02T11:32:25.704Z"
   },
   {
    "duration": 22,
    "start_time": "2023-07-02T11:32:39.411Z"
   },
   {
    "duration": 106,
    "start_time": "2023-07-02T11:33:51.236Z"
   },
   {
    "duration": 11,
    "start_time": "2023-07-02T11:33:55.013Z"
   },
   {
    "duration": 14,
    "start_time": "2023-07-02T11:34:48.925Z"
   },
   {
    "duration": 95,
    "start_time": "2023-07-02T11:35:16.957Z"
   },
   {
    "duration": 18,
    "start_time": "2023-07-02T11:35:33.901Z"
   },
   {
    "duration": 14,
    "start_time": "2023-07-02T11:35:48.740Z"
   },
   {
    "duration": 10,
    "start_time": "2023-07-03T16:00:26.494Z"
   },
   {
    "duration": 1503,
    "start_time": "2023-07-03T16:00:31.099Z"
   },
   {
    "duration": 130,
    "start_time": "2023-07-03T16:00:32.604Z"
   },
   {
    "duration": 13,
    "start_time": "2023-07-03T16:00:32.736Z"
   },
   {
    "duration": 15,
    "start_time": "2023-07-03T16:00:32.751Z"
   },
   {
    "duration": 16,
    "start_time": "2023-07-03T16:00:32.768Z"
   },
   {
    "duration": 28,
    "start_time": "2023-07-03T16:00:32.786Z"
   },
   {
    "duration": 32,
    "start_time": "2023-07-03T16:00:32.816Z"
   },
   {
    "duration": 24,
    "start_time": "2023-07-03T16:00:32.850Z"
   },
   {
    "duration": 27,
    "start_time": "2023-07-03T16:00:32.876Z"
   },
   {
    "duration": 3,
    "start_time": "2023-07-03T16:00:32.907Z"
   },
   {
    "duration": 290,
    "start_time": "2023-07-03T16:00:32.912Z"
   },
   {
    "duration": 7,
    "start_time": "2023-07-03T16:00:33.204Z"
   },
   {
    "duration": 396,
    "start_time": "2023-07-03T16:00:33.212Z"
   },
   {
    "duration": 382,
    "start_time": "2023-07-03T16:00:33.610Z"
   },
   {
    "duration": 424,
    "start_time": "2023-07-03T16:00:33.993Z"
   },
   {
    "duration": 391,
    "start_time": "2023-07-03T16:00:34.419Z"
   },
   {
    "duration": 474,
    "start_time": "2023-07-03T16:00:34.812Z"
   },
   {
    "duration": 135,
    "start_time": "2023-07-03T16:00:35.287Z"
   },
   {
    "duration": 5,
    "start_time": "2023-07-03T16:00:35.424Z"
   },
   {
    "duration": 147,
    "start_time": "2023-07-03T16:00:35.430Z"
   },
   {
    "duration": 4,
    "start_time": "2023-07-03T16:00:35.579Z"
   },
   {
    "duration": 228,
    "start_time": "2023-07-03T16:00:35.601Z"
   },
   {
    "duration": 309,
    "start_time": "2023-07-03T16:00:35.831Z"
   },
   {
    "duration": 11,
    "start_time": "2023-07-03T16:00:36.142Z"
   },
   {
    "duration": 13,
    "start_time": "2023-07-03T16:00:36.155Z"
   },
   {
    "duration": 8,
    "start_time": "2023-07-03T16:00:36.169Z"
   },
   {
    "duration": 41,
    "start_time": "2023-07-03T16:00:36.179Z"
   },
   {
    "duration": 14,
    "start_time": "2023-07-03T16:00:36.223Z"
   },
   {
    "duration": 116,
    "start_time": "2023-07-03T16:01:17.633Z"
   },
   {
    "duration": 22,
    "start_time": "2023-07-03T16:11:38.806Z"
   },
   {
    "duration": 13,
    "start_time": "2023-07-03T16:11:49.472Z"
   },
   {
    "duration": 21,
    "start_time": "2023-07-03T16:11:56.609Z"
   },
   {
    "duration": 13,
    "start_time": "2023-07-03T16:12:03.288Z"
   },
   {
    "duration": 25,
    "start_time": "2023-07-03T16:12:26.712Z"
   },
   {
    "duration": 9,
    "start_time": "2023-07-03T16:14:24.057Z"
   },
   {
    "duration": 13,
    "start_time": "2023-07-03T16:14:26.123Z"
   },
   {
    "duration": 9,
    "start_time": "2023-07-03T16:14:31.168Z"
   },
   {
    "duration": 11,
    "start_time": "2023-07-03T16:14:32.688Z"
   },
   {
    "duration": 19,
    "start_time": "2023-07-03T16:14:45.365Z"
   },
   {
    "duration": 1240,
    "start_time": "2023-07-03T16:14:54.941Z"
   },
   {
    "duration": 136,
    "start_time": "2023-07-03T16:14:56.183Z"
   },
   {
    "duration": 13,
    "start_time": "2023-07-03T16:14:56.321Z"
   },
   {
    "duration": 26,
    "start_time": "2023-07-03T16:14:56.336Z"
   },
   {
    "duration": 12,
    "start_time": "2023-07-03T16:14:56.364Z"
   },
   {
    "duration": 36,
    "start_time": "2023-07-03T16:14:56.378Z"
   },
   {
    "duration": 31,
    "start_time": "2023-07-03T16:14:56.415Z"
   },
   {
    "duration": 39,
    "start_time": "2023-07-03T16:14:56.447Z"
   },
   {
    "duration": 20,
    "start_time": "2023-07-03T16:14:56.487Z"
   },
   {
    "duration": 35,
    "start_time": "2023-07-03T16:14:56.509Z"
   },
   {
    "duration": 8,
    "start_time": "2023-07-03T16:14:56.546Z"
   },
   {
    "duration": 381,
    "start_time": "2023-07-03T16:14:56.555Z"
   },
   {
    "duration": 6,
    "start_time": "2023-07-03T16:14:56.938Z"
   },
   {
    "duration": 457,
    "start_time": "2023-07-03T16:14:56.948Z"
   },
   {
    "duration": 387,
    "start_time": "2023-07-03T16:14:57.406Z"
   },
   {
    "duration": 442,
    "start_time": "2023-07-03T16:14:57.794Z"
   },
   {
    "duration": 432,
    "start_time": "2023-07-03T16:14:58.239Z"
   },
   {
    "duration": 517,
    "start_time": "2023-07-03T16:14:58.673Z"
   },
   {
    "duration": 177,
    "start_time": "2023-07-03T16:14:59.191Z"
   },
   {
    "duration": 6,
    "start_time": "2023-07-03T16:14:59.370Z"
   },
   {
    "duration": 172,
    "start_time": "2023-07-03T16:14:59.378Z"
   },
   {
    "duration": 5,
    "start_time": "2023-07-03T16:14:59.552Z"
   },
   {
    "duration": 291,
    "start_time": "2023-07-03T16:14:59.559Z"
   },
   {
    "duration": 351,
    "start_time": "2023-07-03T16:14:59.852Z"
   },
   {
    "duration": 16,
    "start_time": "2023-07-03T16:15:00.205Z"
   },
   {
    "duration": 48,
    "start_time": "2023-07-03T16:15:00.223Z"
   },
   {
    "duration": 84,
    "start_time": "2023-07-03T16:15:00.273Z"
   },
   {
    "duration": 104,
    "start_time": "2023-07-03T16:15:00.360Z"
   },
   {
    "duration": 61,
    "start_time": "2023-07-03T16:15:00.466Z"
   },
   {
    "duration": 11,
    "start_time": "2023-07-03T16:19:46.518Z"
   },
   {
    "duration": 94,
    "start_time": "2023-07-03T16:40:19.847Z"
   },
   {
    "duration": 98,
    "start_time": "2023-07-03T16:40:28.592Z"
   },
   {
    "duration": 571,
    "start_time": "2023-07-03T16:41:15.311Z"
   },
   {
    "duration": 85,
    "start_time": "2023-07-03T16:41:33.969Z"
   },
   {
    "duration": 94,
    "start_time": "2023-07-03T16:41:40.158Z"
   },
   {
    "duration": 470,
    "start_time": "2023-07-03T16:41:45.831Z"
   },
   {
    "duration": 513,
    "start_time": "2023-07-03T16:41:50.576Z"
   },
   {
    "duration": 482,
    "start_time": "2023-07-03T16:42:13.856Z"
   },
   {
    "duration": 135,
    "start_time": "2023-07-03T16:46:52.530Z"
   },
   {
    "duration": 158,
    "start_time": "2023-07-03T16:51:33.971Z"
   },
   {
    "duration": 160,
    "start_time": "2023-07-03T16:51:45.914Z"
   },
   {
    "duration": 156,
    "start_time": "2023-07-03T16:51:51.682Z"
   },
   {
    "duration": 182,
    "start_time": "2023-07-03T16:52:50.410Z"
   },
   {
    "duration": 139,
    "start_time": "2023-07-03T16:52:59.522Z"
   },
   {
    "duration": 149,
    "start_time": "2023-07-03T16:53:03.709Z"
   },
   {
    "duration": 274,
    "start_time": "2023-07-03T16:53:09.514Z"
   },
   {
    "duration": 171,
    "start_time": "2023-07-03T16:53:18.475Z"
   },
   {
    "duration": 141,
    "start_time": "2023-07-03T16:53:48.131Z"
   },
   {
    "duration": 178,
    "start_time": "2023-07-03T16:54:05.411Z"
   },
   {
    "duration": 155,
    "start_time": "2023-07-03T16:54:14.242Z"
   },
   {
    "duration": 181,
    "start_time": "2023-07-03T16:54:19.731Z"
   },
   {
    "duration": 165,
    "start_time": "2023-07-03T16:54:30.540Z"
   },
   {
    "duration": 153,
    "start_time": "2023-07-03T16:54:38.139Z"
   },
   {
    "duration": 142,
    "start_time": "2023-07-03T16:59:03.935Z"
   },
   {
    "duration": 1236,
    "start_time": "2023-07-03T17:08:32.492Z"
   },
   {
    "duration": 114,
    "start_time": "2023-07-03T17:08:33.730Z"
   },
   {
    "duration": 13,
    "start_time": "2023-07-03T17:08:33.846Z"
   },
   {
    "duration": 13,
    "start_time": "2023-07-03T17:08:33.862Z"
   },
   {
    "duration": 14,
    "start_time": "2023-07-03T17:08:33.877Z"
   },
   {
    "duration": 41,
    "start_time": "2023-07-03T17:08:33.893Z"
   },
   {
    "duration": 21,
    "start_time": "2023-07-03T17:08:33.936Z"
   },
   {
    "duration": 37,
    "start_time": "2023-07-03T17:08:33.960Z"
   },
   {
    "duration": 7,
    "start_time": "2023-07-03T17:08:33.999Z"
   },
   {
    "duration": 10,
    "start_time": "2023-07-03T17:08:34.008Z"
   },
   {
    "duration": 4,
    "start_time": "2023-07-03T17:08:34.020Z"
   },
   {
    "duration": 11,
    "start_time": "2023-07-03T17:08:34.025Z"
   },
   {
    "duration": 312,
    "start_time": "2023-07-03T17:08:34.038Z"
   },
   {
    "duration": 387,
    "start_time": "2023-07-03T17:08:34.355Z"
   },
   {
    "duration": 271,
    "start_time": "2023-07-03T17:08:34.743Z"
   },
   {
    "duration": 347,
    "start_time": "2023-07-03T17:08:35.016Z"
   },
   {
    "duration": 411,
    "start_time": "2023-07-03T17:08:35.364Z"
   },
   {
    "duration": 0,
    "start_time": "2023-07-03T17:08:35.777Z"
   },
   {
    "duration": 0,
    "start_time": "2023-07-03T17:08:35.778Z"
   },
   {
    "duration": 0,
    "start_time": "2023-07-03T17:08:35.779Z"
   },
   {
    "duration": 0,
    "start_time": "2023-07-03T17:08:35.780Z"
   },
   {
    "duration": 0,
    "start_time": "2023-07-03T17:08:35.782Z"
   },
   {
    "duration": 0,
    "start_time": "2023-07-03T17:08:35.783Z"
   },
   {
    "duration": 0,
    "start_time": "2023-07-03T17:08:35.784Z"
   },
   {
    "duration": 0,
    "start_time": "2023-07-03T17:08:35.785Z"
   },
   {
    "duration": 0,
    "start_time": "2023-07-03T17:08:35.786Z"
   },
   {
    "duration": 0,
    "start_time": "2023-07-03T17:08:35.788Z"
   },
   {
    "duration": 0,
    "start_time": "2023-07-03T17:08:35.789Z"
   },
   {
    "duration": 0,
    "start_time": "2023-07-03T17:08:35.790Z"
   },
   {
    "duration": 0,
    "start_time": "2023-07-03T17:08:35.791Z"
   },
   {
    "duration": 0,
    "start_time": "2023-07-03T17:08:35.793Z"
   },
   {
    "duration": 0,
    "start_time": "2023-07-03T17:08:35.794Z"
   },
   {
    "duration": 249,
    "start_time": "2023-07-03T17:09:19.246Z"
   },
   {
    "duration": 272,
    "start_time": "2023-07-03T17:11:01.056Z"
   },
   {
    "duration": 1198,
    "start_time": "2023-07-03T17:11:16.371Z"
   },
   {
    "duration": 116,
    "start_time": "2023-07-03T17:11:17.571Z"
   },
   {
    "duration": 13,
    "start_time": "2023-07-03T17:11:17.688Z"
   },
   {
    "duration": 19,
    "start_time": "2023-07-03T17:11:17.702Z"
   },
   {
    "duration": 22,
    "start_time": "2023-07-03T17:11:17.724Z"
   },
   {
    "duration": 23,
    "start_time": "2023-07-03T17:11:17.748Z"
   },
   {
    "duration": 40,
    "start_time": "2023-07-03T17:11:17.773Z"
   },
   {
    "duration": 41,
    "start_time": "2023-07-03T17:11:17.815Z"
   },
   {
    "duration": 8,
    "start_time": "2023-07-03T17:11:17.858Z"
   },
   {
    "duration": 23,
    "start_time": "2023-07-03T17:11:17.867Z"
   },
   {
    "duration": 11,
    "start_time": "2023-07-03T17:11:17.892Z"
   },
   {
    "duration": 21,
    "start_time": "2023-07-03T17:11:17.905Z"
   },
   {
    "duration": 331,
    "start_time": "2023-07-03T17:11:17.928Z"
   },
   {
    "duration": 366,
    "start_time": "2023-07-03T17:11:18.262Z"
   },
   {
    "duration": 275,
    "start_time": "2023-07-03T17:11:18.629Z"
   },
   {
    "duration": 371,
    "start_time": "2023-07-03T17:11:18.906Z"
   },
   {
    "duration": 279,
    "start_time": "2023-07-03T17:11:19.279Z"
   },
   {
    "duration": 464,
    "start_time": "2023-07-03T17:11:19.560Z"
   },
   {
    "duration": 0,
    "start_time": "2023-07-03T17:11:20.026Z"
   },
   {
    "duration": 0,
    "start_time": "2023-07-03T17:11:20.028Z"
   },
   {
    "duration": 1,
    "start_time": "2023-07-03T17:11:20.029Z"
   },
   {
    "duration": 0,
    "start_time": "2023-07-03T17:11:20.031Z"
   },
   {
    "duration": 0,
    "start_time": "2023-07-03T17:11:20.033Z"
   },
   {
    "duration": 0,
    "start_time": "2023-07-03T17:11:20.034Z"
   },
   {
    "duration": 0,
    "start_time": "2023-07-03T17:11:20.035Z"
   },
   {
    "duration": 0,
    "start_time": "2023-07-03T17:11:20.036Z"
   },
   {
    "duration": 0,
    "start_time": "2023-07-03T17:11:20.038Z"
   },
   {
    "duration": 0,
    "start_time": "2023-07-03T17:11:20.038Z"
   },
   {
    "duration": 0,
    "start_time": "2023-07-03T17:11:20.040Z"
   },
   {
    "duration": 0,
    "start_time": "2023-07-03T17:11:20.041Z"
   },
   {
    "duration": 0,
    "start_time": "2023-07-03T17:11:20.042Z"
   },
   {
    "duration": 0,
    "start_time": "2023-07-03T17:11:20.043Z"
   },
   {
    "duration": 375,
    "start_time": "2023-07-03T17:13:32.920Z"
   },
   {
    "duration": 408,
    "start_time": "2023-07-03T17:13:46.985Z"
   },
   {
    "duration": 376,
    "start_time": "2023-07-03T17:13:51.319Z"
   },
   {
    "duration": 1175,
    "start_time": "2023-07-03T17:13:56.128Z"
   },
   {
    "duration": 119,
    "start_time": "2023-07-03T17:13:57.306Z"
   },
   {
    "duration": 13,
    "start_time": "2023-07-03T17:13:57.427Z"
   },
   {
    "duration": 12,
    "start_time": "2023-07-03T17:13:57.442Z"
   },
   {
    "duration": 11,
    "start_time": "2023-07-03T17:13:57.457Z"
   },
   {
    "duration": 16,
    "start_time": "2023-07-03T17:13:57.470Z"
   },
   {
    "duration": 37,
    "start_time": "2023-07-03T17:13:57.488Z"
   },
   {
    "duration": 33,
    "start_time": "2023-07-03T17:13:57.527Z"
   },
   {
    "duration": 9,
    "start_time": "2023-07-03T17:13:57.563Z"
   },
   {
    "duration": 12,
    "start_time": "2023-07-03T17:13:57.603Z"
   },
   {
    "duration": 4,
    "start_time": "2023-07-03T17:13:57.617Z"
   },
   {
    "duration": 11,
    "start_time": "2023-07-03T17:13:57.623Z"
   },
   {
    "duration": 316,
    "start_time": "2023-07-03T17:13:57.636Z"
   },
   {
    "duration": 369,
    "start_time": "2023-07-03T17:13:57.955Z"
   },
   {
    "duration": 266,
    "start_time": "2023-07-03T17:13:58.326Z"
   },
   {
    "duration": 336,
    "start_time": "2023-07-03T17:13:58.602Z"
   },
   {
    "duration": 299,
    "start_time": "2023-07-03T17:13:58.940Z"
   },
   {
    "duration": 364,
    "start_time": "2023-07-03T17:13:59.241Z"
   },
   {
    "duration": 128,
    "start_time": "2023-07-03T17:13:59.608Z"
   },
   {
    "duration": 4,
    "start_time": "2023-07-03T17:13:59.738Z"
   },
   {
    "duration": 167,
    "start_time": "2023-07-03T17:13:59.744Z"
   },
   {
    "duration": 158,
    "start_time": "2023-07-03T17:13:59.914Z"
   },
   {
    "duration": 4,
    "start_time": "2023-07-03T17:14:00.074Z"
   },
   {
    "duration": 390,
    "start_time": "2023-07-03T17:14:00.080Z"
   },
   {
    "duration": 251,
    "start_time": "2023-07-03T17:14:00.472Z"
   },
   {
    "duration": 146,
    "start_time": "2023-07-03T17:14:00.726Z"
   },
   {
    "duration": 30,
    "start_time": "2023-07-03T17:14:00.874Z"
   },
   {
    "duration": 14,
    "start_time": "2023-07-03T17:14:00.906Z"
   },
   {
    "duration": 55,
    "start_time": "2023-07-03T17:14:00.922Z"
   },
   {
    "duration": 37,
    "start_time": "2023-07-03T17:14:00.979Z"
   },
   {
    "duration": 64,
    "start_time": "2023-07-03T17:14:01.018Z"
   },
   {
    "duration": 38,
    "start_time": "2023-07-03T17:14:01.084Z"
   },
   {
    "duration": 160,
    "start_time": "2023-07-03T19:16:16.865Z"
   },
   {
    "duration": 23,
    "start_time": "2023-07-03T19:16:19.471Z"
   },
   {
    "duration": 143,
    "start_time": "2023-07-04T15:54:48.792Z"
   },
   {
    "duration": 104,
    "start_time": "2023-07-04T16:02:46.655Z"
   },
   {
    "duration": 1492,
    "start_time": "2023-07-04T16:39:46.337Z"
   },
   {
    "duration": 415,
    "start_time": "2023-07-04T16:39:47.831Z"
   },
   {
    "duration": 13,
    "start_time": "2023-07-04T16:39:48.247Z"
   },
   {
    "duration": 10,
    "start_time": "2023-07-04T16:39:48.261Z"
   },
   {
    "duration": 8,
    "start_time": "2023-07-04T16:39:48.273Z"
   },
   {
    "duration": 12,
    "start_time": "2023-07-04T16:39:48.282Z"
   },
   {
    "duration": 66,
    "start_time": "2023-07-04T16:39:48.295Z"
   },
   {
    "duration": 21,
    "start_time": "2023-07-04T16:39:48.362Z"
   },
   {
    "duration": 9,
    "start_time": "2023-07-04T16:39:48.384Z"
   },
   {
    "duration": 47,
    "start_time": "2023-07-04T16:39:48.394Z"
   },
   {
    "duration": 24,
    "start_time": "2023-07-04T16:39:48.442Z"
   },
   {
    "duration": 30,
    "start_time": "2023-07-04T16:39:48.468Z"
   },
   {
    "duration": 288,
    "start_time": "2023-07-04T16:39:48.510Z"
   },
   {
    "duration": 337,
    "start_time": "2023-07-04T16:39:48.814Z"
   },
   {
    "duration": 236,
    "start_time": "2023-07-04T16:39:49.153Z"
   },
   {
    "duration": 368,
    "start_time": "2023-07-04T16:39:49.390Z"
   },
   {
    "duration": 259,
    "start_time": "2023-07-04T16:39:49.759Z"
   },
   {
    "duration": 356,
    "start_time": "2023-07-04T16:39:50.020Z"
   },
   {
    "duration": 112,
    "start_time": "2023-07-04T16:39:50.378Z"
   },
   {
    "duration": 3,
    "start_time": "2023-07-04T16:39:50.492Z"
   },
   {
    "duration": 166,
    "start_time": "2023-07-04T16:39:50.496Z"
   },
   {
    "duration": 148,
    "start_time": "2023-07-04T16:39:50.663Z"
   },
   {
    "duration": 9,
    "start_time": "2023-07-04T16:39:50.821Z"
   },
   {
    "duration": 264,
    "start_time": "2023-07-04T16:39:50.832Z"
   },
   {
    "duration": 137,
    "start_time": "2023-07-04T16:39:51.098Z"
   },
   {
    "duration": 173,
    "start_time": "2023-07-04T16:39:51.236Z"
   },
   {
    "duration": 28,
    "start_time": "2023-07-04T16:39:51.410Z"
   },
   {
    "duration": 9,
    "start_time": "2023-07-04T16:39:51.439Z"
   },
   {
    "duration": 12,
    "start_time": "2023-07-04T16:39:51.449Z"
   },
   {
    "duration": 8,
    "start_time": "2023-07-04T16:39:51.463Z"
   },
   {
    "duration": 56,
    "start_time": "2023-07-04T16:39:51.473Z"
   },
   {
    "duration": 13,
    "start_time": "2023-07-04T16:39:51.531Z"
   },
   {
    "duration": 1443,
    "start_time": "2023-07-04T16:52:34.103Z"
   },
   {
    "duration": 263,
    "start_time": "2023-07-04T16:52:35.549Z"
   },
   {
    "duration": 14,
    "start_time": "2023-07-04T16:52:35.814Z"
   },
   {
    "duration": 13,
    "start_time": "2023-07-04T16:52:35.831Z"
   },
   {
    "duration": 12,
    "start_time": "2023-07-04T16:52:35.845Z"
   },
   {
    "duration": 25,
    "start_time": "2023-07-04T16:52:35.859Z"
   },
   {
    "duration": 34,
    "start_time": "2023-07-04T16:52:35.886Z"
   },
   {
    "duration": 28,
    "start_time": "2023-07-04T16:52:35.922Z"
   },
   {
    "duration": 22,
    "start_time": "2023-07-04T16:52:35.951Z"
   },
   {
    "duration": 17,
    "start_time": "2023-07-04T16:52:35.976Z"
   },
   {
    "duration": 29,
    "start_time": "2023-07-04T16:52:35.995Z"
   },
   {
    "duration": 24,
    "start_time": "2023-07-04T16:52:36.026Z"
   },
   {
    "duration": 311,
    "start_time": "2023-07-04T16:52:36.051Z"
   },
   {
    "duration": 406,
    "start_time": "2023-07-04T16:52:36.364Z"
   },
   {
    "duration": 297,
    "start_time": "2023-07-04T16:52:36.772Z"
   },
   {
    "duration": 375,
    "start_time": "2023-07-04T16:52:37.071Z"
   },
   {
    "duration": 293,
    "start_time": "2023-07-04T16:52:37.448Z"
   },
   {
    "duration": 413,
    "start_time": "2023-07-04T16:52:37.743Z"
   },
   {
    "duration": 132,
    "start_time": "2023-07-04T16:52:38.158Z"
   },
   {
    "duration": 4,
    "start_time": "2023-07-04T16:52:38.292Z"
   },
   {
    "duration": 183,
    "start_time": "2023-07-04T16:52:38.297Z"
   },
   {
    "duration": 168,
    "start_time": "2023-07-04T16:52:38.482Z"
   },
   {
    "duration": 15,
    "start_time": "2023-07-04T16:52:38.652Z"
   },
   {
    "duration": 356,
    "start_time": "2023-07-04T16:52:38.669Z"
   },
   {
    "duration": 156,
    "start_time": "2023-07-04T16:52:39.026Z"
   },
   {
    "duration": 154,
    "start_time": "2023-07-04T16:52:39.184Z"
   },
   {
    "duration": 30,
    "start_time": "2023-07-04T16:52:39.340Z"
   },
   {
    "duration": 11,
    "start_time": "2023-07-04T16:52:39.373Z"
   },
   {
    "duration": 11,
    "start_time": "2023-07-04T16:52:39.386Z"
   },
   {
    "duration": 9,
    "start_time": "2023-07-04T16:52:39.399Z"
   },
   {
    "duration": 25,
    "start_time": "2023-07-04T16:52:39.409Z"
   },
   {
    "duration": 41,
    "start_time": "2023-07-04T16:52:39.436Z"
   },
   {
    "duration": 2779,
    "start_time": "2023-07-04T17:33:11.878Z"
   },
   {
    "duration": 20,
    "start_time": "2023-07-04T17:33:26.838Z"
   },
   {
    "duration": 14,
    "start_time": "2023-07-04T17:33:34.005Z"
   },
   {
    "duration": 12,
    "start_time": "2023-07-04T17:34:21.773Z"
   },
   {
    "duration": 18,
    "start_time": "2023-07-04T17:35:11.443Z"
   },
   {
    "duration": 9,
    "start_time": "2023-07-04T17:36:15.368Z"
   },
   {
    "duration": 24,
    "start_time": "2023-07-04T17:36:22.623Z"
   },
   {
    "duration": 17,
    "start_time": "2023-07-04T17:36:40.029Z"
   },
   {
    "duration": 10,
    "start_time": "2023-07-04T17:41:04.670Z"
   },
   {
    "duration": 16,
    "start_time": "2023-07-04T17:47:40.717Z"
   },
   {
    "duration": 19,
    "start_time": "2023-07-04T17:47:43.926Z"
   },
   {
    "duration": 1223,
    "start_time": "2023-07-04T17:48:47.074Z"
   },
   {
    "duration": 290,
    "start_time": "2023-07-04T17:48:48.306Z"
   },
   {
    "duration": 45,
    "start_time": "2023-07-04T17:48:48.598Z"
   },
   {
    "duration": 13,
    "start_time": "2023-07-04T17:48:48.655Z"
   },
   {
    "duration": 11,
    "start_time": "2023-07-04T17:48:48.669Z"
   },
   {
    "duration": 61,
    "start_time": "2023-07-04T17:48:48.683Z"
   },
   {
    "duration": 36,
    "start_time": "2023-07-04T17:48:48.746Z"
   },
   {
    "duration": 75,
    "start_time": "2023-07-04T17:48:48.783Z"
   },
   {
    "duration": 9,
    "start_time": "2023-07-04T17:48:48.860Z"
   },
   {
    "duration": 9,
    "start_time": "2023-07-04T17:48:48.872Z"
   },
   {
    "duration": 2600,
    "start_time": "2023-07-04T17:48:48.883Z"
   },
   {
    "duration": 0,
    "start_time": "2023-07-04T17:48:51.486Z"
   },
   {
    "duration": 0,
    "start_time": "2023-07-04T17:48:51.487Z"
   },
   {
    "duration": 0,
    "start_time": "2023-07-04T17:48:51.489Z"
   },
   {
    "duration": 0,
    "start_time": "2023-07-04T17:48:51.490Z"
   },
   {
    "duration": 0,
    "start_time": "2023-07-04T17:48:51.491Z"
   },
   {
    "duration": 0,
    "start_time": "2023-07-04T17:48:51.493Z"
   },
   {
    "duration": 0,
    "start_time": "2023-07-04T17:48:51.494Z"
   },
   {
    "duration": 0,
    "start_time": "2023-07-04T17:48:51.495Z"
   },
   {
    "duration": 0,
    "start_time": "2023-07-04T17:48:51.498Z"
   },
   {
    "duration": 0,
    "start_time": "2023-07-04T17:48:51.499Z"
   },
   {
    "duration": 0,
    "start_time": "2023-07-04T17:48:51.500Z"
   },
   {
    "duration": 0,
    "start_time": "2023-07-04T17:48:51.500Z"
   },
   {
    "duration": 0,
    "start_time": "2023-07-04T17:48:51.501Z"
   },
   {
    "duration": 0,
    "start_time": "2023-07-04T17:48:51.501Z"
   },
   {
    "duration": 0,
    "start_time": "2023-07-04T17:48:51.502Z"
   },
   {
    "duration": 0,
    "start_time": "2023-07-04T17:48:51.502Z"
   },
   {
    "duration": 0,
    "start_time": "2023-07-04T17:48:51.510Z"
   },
   {
    "duration": 0,
    "start_time": "2023-07-04T17:48:51.510Z"
   },
   {
    "duration": 0,
    "start_time": "2023-07-04T17:48:51.511Z"
   },
   {
    "duration": 0,
    "start_time": "2023-07-04T17:48:51.512Z"
   },
   {
    "duration": 0,
    "start_time": "2023-07-04T17:48:51.512Z"
   },
   {
    "duration": 0,
    "start_time": "2023-07-04T17:48:51.521Z"
   },
   {
    "duration": 0,
    "start_time": "2023-07-04T17:48:51.522Z"
   },
   {
    "duration": 1332,
    "start_time": "2023-07-04T17:49:32.151Z"
   },
   {
    "duration": 220,
    "start_time": "2023-07-04T17:49:33.485Z"
   },
   {
    "duration": 22,
    "start_time": "2023-07-04T17:49:33.706Z"
   },
   {
    "duration": 56,
    "start_time": "2023-07-04T17:49:33.730Z"
   },
   {
    "duration": 28,
    "start_time": "2023-07-04T17:49:33.789Z"
   },
   {
    "duration": 35,
    "start_time": "2023-07-04T17:49:33.818Z"
   },
   {
    "duration": 32,
    "start_time": "2023-07-04T17:49:33.858Z"
   },
   {
    "duration": 31,
    "start_time": "2023-07-04T17:49:33.892Z"
   },
   {
    "duration": 43,
    "start_time": "2023-07-04T17:49:33.924Z"
   },
   {
    "duration": 17,
    "start_time": "2023-07-04T17:49:33.969Z"
   },
   {
    "duration": 10,
    "start_time": "2023-07-04T17:49:33.988Z"
   },
   {
    "duration": 32,
    "start_time": "2023-07-04T17:49:33.999Z"
   },
   {
    "duration": 30,
    "start_time": "2023-07-04T17:49:34.032Z"
   },
   {
    "duration": 14,
    "start_time": "2023-07-04T17:49:34.065Z"
   },
   {
    "duration": 737,
    "start_time": "2023-07-04T17:49:34.080Z"
   },
   {
    "duration": 859,
    "start_time": "2023-07-04T17:49:34.819Z"
   },
   {
    "duration": 702,
    "start_time": "2023-07-04T17:49:35.680Z"
   },
   {
    "duration": 353,
    "start_time": "2023-07-04T17:49:36.384Z"
   },
   {
    "duration": 303,
    "start_time": "2023-07-04T17:49:36.738Z"
   },
   {
    "duration": 372,
    "start_time": "2023-07-04T17:49:37.045Z"
   },
   {
    "duration": 136,
    "start_time": "2023-07-04T17:49:37.421Z"
   },
   {
    "duration": 7,
    "start_time": "2023-07-04T17:49:37.561Z"
   },
   {
    "duration": 204,
    "start_time": "2023-07-04T17:49:37.573Z"
   },
   {
    "duration": 189,
    "start_time": "2023-07-04T17:49:37.779Z"
   },
   {
    "duration": 6,
    "start_time": "2023-07-04T17:49:37.970Z"
   },
   {
    "duration": 377,
    "start_time": "2023-07-04T17:49:37.978Z"
   },
   {
    "duration": 139,
    "start_time": "2023-07-04T17:49:38.358Z"
   },
   {
    "duration": 134,
    "start_time": "2023-07-04T17:49:38.499Z"
   },
   {
    "duration": 28,
    "start_time": "2023-07-04T17:49:38.636Z"
   },
   {
    "duration": 11,
    "start_time": "2023-07-04T17:49:38.665Z"
   },
   {
    "duration": 40,
    "start_time": "2023-07-04T17:49:38.677Z"
   },
   {
    "duration": 14,
    "start_time": "2023-07-04T17:49:38.719Z"
   },
   {
    "duration": 47,
    "start_time": "2023-07-04T17:49:38.735Z"
   },
   {
    "duration": 37,
    "start_time": "2023-07-04T17:49:38.784Z"
   },
   {
    "duration": 1730,
    "start_time": "2023-07-04T17:49:57.383Z"
   },
   {
    "duration": 247,
    "start_time": "2023-07-04T17:49:59.115Z"
   },
   {
    "duration": 11,
    "start_time": "2023-07-04T17:49:59.365Z"
   },
   {
    "duration": 43,
    "start_time": "2023-07-04T17:49:59.378Z"
   },
   {
    "duration": 95,
    "start_time": "2023-07-04T17:49:59.423Z"
   },
   {
    "duration": 85,
    "start_time": "2023-07-04T17:49:59.520Z"
   },
   {
    "duration": 106,
    "start_time": "2023-07-04T17:49:59.606Z"
   },
   {
    "duration": 48,
    "start_time": "2023-07-04T17:49:59.717Z"
   },
   {
    "duration": 55,
    "start_time": "2023-07-04T17:49:59.766Z"
   },
   {
    "duration": 27,
    "start_time": "2023-07-04T17:49:59.822Z"
   },
   {
    "duration": 67,
    "start_time": "2023-07-04T17:49:59.850Z"
   },
   {
    "duration": 44,
    "start_time": "2023-07-04T17:49:59.926Z"
   },
   {
    "duration": 6,
    "start_time": "2023-07-04T17:49:59.972Z"
   },
   {
    "duration": 36,
    "start_time": "2023-07-04T17:49:59.981Z"
   },
   {
    "duration": 364,
    "start_time": "2023-07-04T17:50:00.018Z"
   },
   {
    "duration": 382,
    "start_time": "2023-07-04T17:50:00.384Z"
   },
   {
    "duration": 312,
    "start_time": "2023-07-04T17:50:00.768Z"
   },
   {
    "duration": 351,
    "start_time": "2023-07-04T17:50:01.082Z"
   },
   {
    "duration": 285,
    "start_time": "2023-07-04T17:50:01.434Z"
   },
   {
    "duration": 453,
    "start_time": "2023-07-04T17:50:01.723Z"
   },
   {
    "duration": 154,
    "start_time": "2023-07-04T17:50:02.177Z"
   },
   {
    "duration": 15,
    "start_time": "2023-07-04T17:50:02.342Z"
   },
   {
    "duration": 290,
    "start_time": "2023-07-04T17:50:02.359Z"
   },
   {
    "duration": 212,
    "start_time": "2023-07-04T17:50:02.651Z"
   },
   {
    "duration": 5,
    "start_time": "2023-07-04T17:50:02.865Z"
   },
   {
    "duration": 357,
    "start_time": "2023-07-04T17:50:02.871Z"
   },
   {
    "duration": 134,
    "start_time": "2023-07-04T17:50:03.230Z"
   },
   {
    "duration": 162,
    "start_time": "2023-07-04T17:50:03.366Z"
   },
   {
    "duration": 32,
    "start_time": "2023-07-04T17:50:03.536Z"
   },
   {
    "duration": 22,
    "start_time": "2023-07-04T17:50:03.569Z"
   },
   {
    "duration": 47,
    "start_time": "2023-07-04T17:50:03.593Z"
   },
   {
    "duration": 27,
    "start_time": "2023-07-04T17:50:03.642Z"
   },
   {
    "duration": 24,
    "start_time": "2023-07-04T17:50:03.671Z"
   },
   {
    "duration": 51,
    "start_time": "2023-07-04T17:50:03.697Z"
   },
   {
    "duration": 1301,
    "start_time": "2023-07-04T17:50:30.347Z"
   },
   {
    "duration": 146,
    "start_time": "2023-07-04T17:50:31.651Z"
   },
   {
    "duration": 38,
    "start_time": "2023-07-04T17:50:31.799Z"
   },
   {
    "duration": 117,
    "start_time": "2023-07-04T17:50:31.844Z"
   },
   {
    "duration": 30,
    "start_time": "2023-07-04T17:50:31.964Z"
   },
   {
    "duration": 76,
    "start_time": "2023-07-04T17:50:31.995Z"
   },
   {
    "duration": 51,
    "start_time": "2023-07-04T17:50:32.072Z"
   },
   {
    "duration": 57,
    "start_time": "2023-07-04T17:50:32.129Z"
   },
   {
    "duration": 7,
    "start_time": "2023-07-04T17:50:32.187Z"
   },
   {
    "duration": 64,
    "start_time": "2023-07-04T17:50:32.195Z"
   },
   {
    "duration": 11,
    "start_time": "2023-07-04T17:50:32.260Z"
   },
   {
    "duration": 19,
    "start_time": "2023-07-04T17:50:32.273Z"
   },
   {
    "duration": 13,
    "start_time": "2023-07-04T17:50:32.294Z"
   },
   {
    "duration": 58,
    "start_time": "2023-07-04T17:50:32.310Z"
   },
   {
    "duration": 368,
    "start_time": "2023-07-04T17:50:32.373Z"
   },
   {
    "duration": 400,
    "start_time": "2023-07-04T17:50:32.749Z"
   },
   {
    "duration": 284,
    "start_time": "2023-07-04T17:50:33.150Z"
   },
   {
    "duration": 297,
    "start_time": "2023-07-04T17:50:33.439Z"
   },
   {
    "duration": 346,
    "start_time": "2023-07-04T17:50:33.738Z"
   },
   {
    "duration": 484,
    "start_time": "2023-07-04T17:50:34.086Z"
   },
   {
    "duration": 164,
    "start_time": "2023-07-04T17:50:34.573Z"
   },
   {
    "duration": 8,
    "start_time": "2023-07-04T17:50:34.743Z"
   },
   {
    "duration": 202,
    "start_time": "2023-07-04T17:50:34.752Z"
   },
   {
    "duration": 153,
    "start_time": "2023-07-04T17:50:34.955Z"
   },
   {
    "duration": 4,
    "start_time": "2023-07-04T17:50:35.109Z"
   },
   {
    "duration": 319,
    "start_time": "2023-07-04T17:50:35.118Z"
   },
   {
    "duration": 185,
    "start_time": "2023-07-04T17:50:35.445Z"
   },
   {
    "duration": 160,
    "start_time": "2023-07-04T17:50:35.632Z"
   },
   {
    "duration": 50,
    "start_time": "2023-07-04T17:50:35.793Z"
   },
   {
    "duration": 15,
    "start_time": "2023-07-04T17:50:35.852Z"
   },
   {
    "duration": 27,
    "start_time": "2023-07-04T17:50:35.869Z"
   },
   {
    "duration": 45,
    "start_time": "2023-07-04T17:50:35.898Z"
   },
   {
    "duration": 80,
    "start_time": "2023-07-04T17:50:35.950Z"
   },
   {
    "duration": 67,
    "start_time": "2023-07-04T17:50:36.039Z"
   },
   {
    "duration": 1228,
    "start_time": "2023-07-04T17:51:21.847Z"
   },
   {
    "duration": 184,
    "start_time": "2023-07-04T17:51:23.076Z"
   },
   {
    "duration": 13,
    "start_time": "2023-07-04T17:51:23.262Z"
   },
   {
    "duration": 46,
    "start_time": "2023-07-04T17:51:23.277Z"
   },
   {
    "duration": 37,
    "start_time": "2023-07-04T17:51:23.325Z"
   },
   {
    "duration": 19,
    "start_time": "2023-07-04T17:51:23.363Z"
   },
   {
    "duration": 37,
    "start_time": "2023-07-04T17:51:23.384Z"
   },
   {
    "duration": 60,
    "start_time": "2023-07-04T17:51:23.423Z"
   },
   {
    "duration": 8,
    "start_time": "2023-07-04T17:51:23.485Z"
   },
   {
    "duration": 77,
    "start_time": "2023-07-04T17:51:23.494Z"
   },
   {
    "duration": 9,
    "start_time": "2023-07-04T17:51:23.573Z"
   },
   {
    "duration": 10,
    "start_time": "2023-07-04T17:51:23.584Z"
   },
   {
    "duration": 3,
    "start_time": "2023-07-04T17:51:23.596Z"
   },
   {
    "duration": 58,
    "start_time": "2023-07-04T17:51:23.602Z"
   },
   {
    "duration": 339,
    "start_time": "2023-07-04T17:51:23.662Z"
   },
   {
    "duration": 382,
    "start_time": "2023-07-04T17:51:24.011Z"
   },
   {
    "duration": 458,
    "start_time": "2023-07-04T17:51:24.395Z"
   },
   {
    "duration": 594,
    "start_time": "2023-07-04T17:51:24.855Z"
   },
   {
    "duration": 595,
    "start_time": "2023-07-04T17:51:25.450Z"
   },
   {
    "duration": 874,
    "start_time": "2023-07-04T17:51:26.047Z"
   },
   {
    "duration": 199,
    "start_time": "2023-07-04T17:51:26.923Z"
   },
   {
    "duration": 6,
    "start_time": "2023-07-04T17:51:27.124Z"
   },
   {
    "duration": 189,
    "start_time": "2023-07-04T17:51:27.135Z"
   },
   {
    "duration": 152,
    "start_time": "2023-07-04T17:51:27.326Z"
   },
   {
    "duration": 4,
    "start_time": "2023-07-04T17:51:27.480Z"
   },
   {
    "duration": 316,
    "start_time": "2023-07-04T17:51:27.486Z"
   },
   {
    "duration": 163,
    "start_time": "2023-07-04T17:51:27.804Z"
   },
   {
    "duration": 166,
    "start_time": "2023-07-04T17:51:27.968Z"
   },
   {
    "duration": 37,
    "start_time": "2023-07-04T17:51:28.136Z"
   },
   {
    "duration": 46,
    "start_time": "2023-07-04T17:51:28.175Z"
   },
   {
    "duration": 49,
    "start_time": "2023-07-04T17:51:28.234Z"
   },
   {
    "duration": 70,
    "start_time": "2023-07-04T17:51:28.284Z"
   },
   {
    "duration": 21,
    "start_time": "2023-07-04T17:51:28.356Z"
   },
   {
    "duration": 12,
    "start_time": "2023-07-04T17:51:28.379Z"
   },
   {
    "duration": 158,
    "start_time": "2023-07-04T17:52:44.374Z"
   },
   {
    "duration": 422,
    "start_time": "2023-07-04T17:53:02.918Z"
   },
   {
    "duration": 1224,
    "start_time": "2023-07-04T17:53:16.798Z"
   },
   {
    "duration": 184,
    "start_time": "2023-07-04T17:53:18.025Z"
   },
   {
    "duration": 23,
    "start_time": "2023-07-04T17:53:18.218Z"
   },
   {
    "duration": 26,
    "start_time": "2023-07-04T17:53:18.248Z"
   },
   {
    "duration": 13,
    "start_time": "2023-07-04T17:53:18.276Z"
   },
   {
    "duration": 58,
    "start_time": "2023-07-04T17:53:18.291Z"
   },
   {
    "duration": 24,
    "start_time": "2023-07-04T17:53:18.352Z"
   },
   {
    "duration": 43,
    "start_time": "2023-07-04T17:53:18.378Z"
   },
   {
    "duration": 46,
    "start_time": "2023-07-04T17:53:18.422Z"
   },
   {
    "duration": 9,
    "start_time": "2023-07-04T17:53:18.469Z"
   },
   {
    "duration": 19,
    "start_time": "2023-07-04T17:53:18.479Z"
   },
   {
    "duration": 58,
    "start_time": "2023-07-04T17:53:18.509Z"
   },
   {
    "duration": 9,
    "start_time": "2023-07-04T17:53:18.569Z"
   },
   {
    "duration": 13,
    "start_time": "2023-07-04T17:53:18.582Z"
   },
   {
    "duration": 367,
    "start_time": "2023-07-04T17:53:18.597Z"
   },
   {
    "duration": 616,
    "start_time": "2023-07-04T17:53:18.965Z"
   },
   {
    "duration": 638,
    "start_time": "2023-07-04T17:53:19.606Z"
   },
   {
    "duration": 623,
    "start_time": "2023-07-04T17:53:20.249Z"
   },
   {
    "duration": 438,
    "start_time": "2023-07-04T17:53:20.899Z"
   },
   {
    "duration": 378,
    "start_time": "2023-07-04T17:53:21.339Z"
   },
   {
    "duration": 362,
    "start_time": "2023-07-04T17:53:21.718Z"
   },
   {
    "duration": 5,
    "start_time": "2023-07-04T17:53:22.082Z"
   },
   {
    "duration": 196,
    "start_time": "2023-07-04T17:53:22.089Z"
   },
   {
    "duration": 176,
    "start_time": "2023-07-04T17:53:22.287Z"
   },
   {
    "duration": 5,
    "start_time": "2023-07-04T17:53:22.464Z"
   },
   {
    "duration": 291,
    "start_time": "2023-07-04T17:53:22.471Z"
   },
   {
    "duration": 150,
    "start_time": "2023-07-04T17:53:22.764Z"
   },
   {
    "duration": 131,
    "start_time": "2023-07-04T17:53:22.915Z"
   },
   {
    "duration": 33,
    "start_time": "2023-07-04T17:53:23.047Z"
   },
   {
    "duration": 14,
    "start_time": "2023-07-04T17:53:23.082Z"
   },
   {
    "duration": 61,
    "start_time": "2023-07-04T17:53:23.098Z"
   },
   {
    "duration": 8,
    "start_time": "2023-07-04T17:53:23.160Z"
   },
   {
    "duration": 27,
    "start_time": "2023-07-04T17:53:23.170Z"
   },
   {
    "duration": 29,
    "start_time": "2023-07-04T17:53:23.205Z"
   },
   {
    "duration": 204,
    "start_time": "2023-07-04T17:53:47.234Z"
   },
   {
    "duration": 193,
    "start_time": "2023-07-04T17:53:57.851Z"
   },
   {
    "duration": 1406,
    "start_time": "2023-07-04T17:54:10.756Z"
   },
   {
    "duration": 190,
    "start_time": "2023-07-04T17:54:12.164Z"
   },
   {
    "duration": 16,
    "start_time": "2023-07-04T17:54:12.358Z"
   },
   {
    "duration": 16,
    "start_time": "2023-07-04T17:54:12.377Z"
   },
   {
    "duration": 51,
    "start_time": "2023-07-04T17:54:12.395Z"
   },
   {
    "duration": 28,
    "start_time": "2023-07-04T17:54:12.448Z"
   },
   {
    "duration": 43,
    "start_time": "2023-07-04T17:54:12.478Z"
   },
   {
    "duration": 49,
    "start_time": "2023-07-04T17:54:12.522Z"
   },
   {
    "duration": 7,
    "start_time": "2023-07-04T17:54:12.572Z"
   },
   {
    "duration": 35,
    "start_time": "2023-07-04T17:54:12.582Z"
   },
   {
    "duration": 48,
    "start_time": "2023-07-04T17:54:12.618Z"
   },
   {
    "duration": 11,
    "start_time": "2023-07-04T17:54:12.668Z"
   },
   {
    "duration": 14,
    "start_time": "2023-07-04T17:54:12.680Z"
   },
   {
    "duration": 55,
    "start_time": "2023-07-04T17:54:12.695Z"
   },
   {
    "duration": 457,
    "start_time": "2023-07-04T17:54:12.752Z"
   },
   {
    "duration": 908,
    "start_time": "2023-07-04T17:54:13.210Z"
   },
   {
    "duration": 626,
    "start_time": "2023-07-04T17:54:14.119Z"
   },
   {
    "duration": 544,
    "start_time": "2023-07-04T17:54:14.747Z"
   },
   {
    "duration": 344,
    "start_time": "2023-07-04T17:54:15.293Z"
   },
   {
    "duration": 495,
    "start_time": "2023-07-04T17:54:15.638Z"
   },
   {
    "duration": 251,
    "start_time": "2023-07-04T17:54:16.135Z"
   },
   {
    "duration": 6,
    "start_time": "2023-07-04T17:54:16.388Z"
   },
   {
    "duration": 341,
    "start_time": "2023-07-04T17:54:16.396Z"
   },
   {
    "duration": 270,
    "start_time": "2023-07-04T17:54:16.739Z"
   },
   {
    "duration": 10,
    "start_time": "2023-07-04T17:54:17.011Z"
   },
   {
    "duration": 406,
    "start_time": "2023-07-04T17:54:17.022Z"
   },
   {
    "duration": 185,
    "start_time": "2023-07-04T17:54:17.436Z"
   },
   {
    "duration": 128,
    "start_time": "2023-07-04T17:54:17.624Z"
   },
   {
    "duration": 20,
    "start_time": "2023-07-04T17:54:17.754Z"
   },
   {
    "duration": 11,
    "start_time": "2023-07-04T17:54:17.775Z"
   },
   {
    "duration": 68,
    "start_time": "2023-07-04T17:54:17.787Z"
   },
   {
    "duration": 18,
    "start_time": "2023-07-04T17:54:17.857Z"
   },
   {
    "duration": 57,
    "start_time": "2023-07-04T17:54:17.876Z"
   },
   {
    "duration": 54,
    "start_time": "2023-07-04T17:54:17.934Z"
   },
   {
    "duration": 370,
    "start_time": "2023-07-04T17:55:14.772Z"
   },
   {
    "duration": 431,
    "start_time": "2023-07-04T17:55:22.628Z"
   },
   {
    "duration": 343,
    "start_time": "2023-07-04T17:55:30.930Z"
   },
   {
    "duration": 492,
    "start_time": "2023-07-04T17:55:45.779Z"
   },
   {
    "duration": 522,
    "start_time": "2023-07-04T17:55:53.222Z"
   },
   {
    "duration": 497,
    "start_time": "2023-07-04T17:55:59.320Z"
   },
   {
    "duration": 454,
    "start_time": "2023-07-04T17:56:08.836Z"
   },
   {
    "duration": 502,
    "start_time": "2023-07-04T17:56:16.882Z"
   },
   {
    "duration": 393,
    "start_time": "2023-07-04T17:57:04.768Z"
   },
   {
    "duration": 402,
    "start_time": "2023-07-04T17:57:10.567Z"
   },
   {
    "duration": 526,
    "start_time": "2023-07-04T17:57:17.130Z"
   },
   {
    "duration": 393,
    "start_time": "2023-07-04T17:57:26.524Z"
   },
   {
    "duration": 1660,
    "start_time": "2023-07-04T18:01:51.673Z"
   },
   {
    "duration": 338,
    "start_time": "2023-07-04T18:01:53.348Z"
   },
   {
    "duration": 38,
    "start_time": "2023-07-04T18:01:53.688Z"
   },
   {
    "duration": 92,
    "start_time": "2023-07-04T18:01:53.731Z"
   },
   {
    "duration": 44,
    "start_time": "2023-07-04T18:01:53.829Z"
   },
   {
    "duration": 91,
    "start_time": "2023-07-04T18:01:53.882Z"
   },
   {
    "duration": 58,
    "start_time": "2023-07-04T18:01:53.975Z"
   },
   {
    "duration": 151,
    "start_time": "2023-07-04T18:01:54.034Z"
   },
   {
    "duration": 8,
    "start_time": "2023-07-04T18:01:54.188Z"
   },
   {
    "duration": 93,
    "start_time": "2023-07-04T18:01:54.198Z"
   },
   {
    "duration": 28,
    "start_time": "2023-07-04T18:01:54.293Z"
   },
   {
    "duration": 76,
    "start_time": "2023-07-04T18:01:54.322Z"
   },
   {
    "duration": 70,
    "start_time": "2023-07-04T18:01:54.410Z"
   },
   {
    "duration": 53,
    "start_time": "2023-07-04T18:01:54.484Z"
   },
   {
    "duration": 438,
    "start_time": "2023-07-04T18:01:54.539Z"
   },
   {
    "duration": 496,
    "start_time": "2023-07-04T18:01:54.978Z"
   },
   {
    "duration": 439,
    "start_time": "2023-07-04T18:01:55.478Z"
   },
   {
    "duration": 355,
    "start_time": "2023-07-04T18:01:55.919Z"
   },
   {
    "duration": 352,
    "start_time": "2023-07-04T18:01:56.278Z"
   },
   {
    "duration": 394,
    "start_time": "2023-07-04T18:01:56.635Z"
   },
   {
    "duration": 214,
    "start_time": "2023-07-04T18:01:57.032Z"
   },
   {
    "duration": 10,
    "start_time": "2023-07-04T18:01:57.251Z"
   },
   {
    "duration": 232,
    "start_time": "2023-07-04T18:01:57.263Z"
   },
   {
    "duration": 242,
    "start_time": "2023-07-04T18:01:57.497Z"
   },
   {
    "duration": 8,
    "start_time": "2023-07-04T18:01:57.744Z"
   },
   {
    "duration": 389,
    "start_time": "2023-07-04T18:01:57.754Z"
   },
   {
    "duration": 150,
    "start_time": "2023-07-04T18:01:58.151Z"
   },
   {
    "duration": 255,
    "start_time": "2023-07-04T18:01:58.306Z"
   },
   {
    "duration": 55,
    "start_time": "2023-07-04T18:01:58.566Z"
   },
   {
    "duration": 62,
    "start_time": "2023-07-04T18:01:58.629Z"
   },
   {
    "duration": 13,
    "start_time": "2023-07-04T18:01:58.693Z"
   },
   {
    "duration": 65,
    "start_time": "2023-07-04T18:01:58.714Z"
   },
   {
    "duration": 98,
    "start_time": "2023-07-04T18:01:58.781Z"
   },
   {
    "duration": 29,
    "start_time": "2023-07-04T18:01:58.880Z"
   },
   {
    "duration": 158,
    "start_time": "2023-07-04T18:03:24.022Z"
   },
   {
    "duration": 206,
    "start_time": "2023-07-04T18:03:27.029Z"
   },
   {
    "duration": 175,
    "start_time": "2023-07-04T18:03:52.533Z"
   },
   {
    "duration": 212,
    "start_time": "2023-07-04T18:04:11.347Z"
   },
   {
    "duration": 184,
    "start_time": "2023-07-04T18:04:36.765Z"
   },
   {
    "duration": 194,
    "start_time": "2023-07-04T18:04:39.427Z"
   },
   {
    "duration": 23,
    "start_time": "2023-07-04T18:49:09.655Z"
   },
   {
    "duration": 22,
    "start_time": "2023-07-04T18:50:39.870Z"
   },
   {
    "duration": 1313,
    "start_time": "2023-07-04T18:54:30.955Z"
   },
   {
    "duration": 200,
    "start_time": "2023-07-04T18:54:32.270Z"
   },
   {
    "duration": 12,
    "start_time": "2023-07-04T18:54:32.472Z"
   },
   {
    "duration": 73,
    "start_time": "2023-07-04T18:54:32.486Z"
   },
   {
    "duration": 23,
    "start_time": "2023-07-04T18:54:32.562Z"
   },
   {
    "duration": 72,
    "start_time": "2023-07-04T18:54:32.587Z"
   },
   {
    "duration": 69,
    "start_time": "2023-07-04T18:54:32.660Z"
   },
   {
    "duration": 52,
    "start_time": "2023-07-04T18:54:32.737Z"
   },
   {
    "duration": 59,
    "start_time": "2023-07-04T18:54:32.790Z"
   },
   {
    "duration": 16,
    "start_time": "2023-07-04T18:54:32.854Z"
   },
   {
    "duration": 10,
    "start_time": "2023-07-04T18:54:32.872Z"
   },
   {
    "duration": 9,
    "start_time": "2023-07-04T18:54:32.883Z"
   },
   {
    "duration": 58,
    "start_time": "2023-07-04T18:54:32.893Z"
   },
   {
    "duration": 26,
    "start_time": "2023-07-04T18:54:32.953Z"
   },
   {
    "duration": 302,
    "start_time": "2023-07-04T18:54:32.981Z"
   },
   {
    "duration": 402,
    "start_time": "2023-07-04T18:54:33.284Z"
   },
   {
    "duration": 389,
    "start_time": "2023-07-04T18:54:33.689Z"
   },
   {
    "duration": 374,
    "start_time": "2023-07-04T18:54:34.080Z"
   },
   {
    "duration": 265,
    "start_time": "2023-07-04T18:54:34.455Z"
   },
   {
    "duration": 377,
    "start_time": "2023-07-04T18:54:34.721Z"
   },
   {
    "duration": 187,
    "start_time": "2023-07-04T18:54:35.105Z"
   },
   {
    "duration": 4,
    "start_time": "2023-07-04T18:54:35.293Z"
   },
   {
    "duration": 266,
    "start_time": "2023-07-04T18:54:35.299Z"
   },
   {
    "duration": 211,
    "start_time": "2023-07-04T18:54:35.570Z"
   },
   {
    "duration": 5,
    "start_time": "2023-07-04T18:54:35.782Z"
   },
   {
    "duration": 344,
    "start_time": "2023-07-04T18:54:35.788Z"
   },
   {
    "duration": 151,
    "start_time": "2023-07-04T18:54:36.134Z"
   },
   {
    "duration": 181,
    "start_time": "2023-07-04T18:54:36.288Z"
   },
   {
    "duration": 66,
    "start_time": "2023-07-04T18:54:36.471Z"
   },
   {
    "duration": 22,
    "start_time": "2023-07-04T18:54:36.548Z"
   },
   {
    "duration": 24,
    "start_time": "2023-07-04T18:54:36.571Z"
   },
   {
    "duration": 40,
    "start_time": "2023-07-04T18:54:36.597Z"
   },
   {
    "duration": 58,
    "start_time": "2023-07-04T18:54:36.639Z"
   },
   {
    "duration": 40,
    "start_time": "2023-07-04T18:54:36.699Z"
   },
   {
    "duration": 1327,
    "start_time": "2023-07-04T18:56:09.662Z"
   },
   {
    "duration": 185,
    "start_time": "2023-07-04T18:56:10.991Z"
   },
   {
    "duration": 11,
    "start_time": "2023-07-04T18:56:11.178Z"
   },
   {
    "duration": 22,
    "start_time": "2023-07-04T18:56:11.191Z"
   },
   {
    "duration": 29,
    "start_time": "2023-07-04T18:56:11.215Z"
   },
   {
    "duration": 28,
    "start_time": "2023-07-04T18:56:11.245Z"
   },
   {
    "duration": 23,
    "start_time": "2023-07-04T18:56:11.275Z"
   },
   {
    "duration": 54,
    "start_time": "2023-07-04T18:56:11.299Z"
   },
   {
    "duration": 16,
    "start_time": "2023-07-04T18:56:11.354Z"
   },
   {
    "duration": 11,
    "start_time": "2023-07-04T18:56:11.372Z"
   },
   {
    "duration": 11,
    "start_time": "2023-07-04T18:56:11.384Z"
   },
   {
    "duration": 48,
    "start_time": "2023-07-04T18:56:11.397Z"
   },
   {
    "duration": 14,
    "start_time": "2023-07-04T18:56:11.456Z"
   },
   {
    "duration": 9,
    "start_time": "2023-07-04T18:56:11.474Z"
   },
   {
    "duration": 379,
    "start_time": "2023-07-04T18:56:11.485Z"
   },
   {
    "duration": 662,
    "start_time": "2023-07-04T18:56:11.865Z"
   },
   {
    "duration": 550,
    "start_time": "2023-07-04T18:56:12.528Z"
   },
   {
    "duration": 618,
    "start_time": "2023-07-04T18:56:13.106Z"
   },
   {
    "duration": 611,
    "start_time": "2023-07-04T18:56:13.726Z"
   },
   {
    "duration": 763,
    "start_time": "2023-07-04T18:56:14.338Z"
   },
   {
    "duration": 415,
    "start_time": "2023-07-04T18:56:15.114Z"
   },
   {
    "duration": 4,
    "start_time": "2023-07-04T18:56:15.530Z"
   },
   {
    "duration": 478,
    "start_time": "2023-07-04T18:56:15.535Z"
   },
   {
    "duration": 324,
    "start_time": "2023-07-04T18:56:16.014Z"
   },
   {
    "duration": 4,
    "start_time": "2023-07-04T18:56:16.339Z"
   },
   {
    "duration": 711,
    "start_time": "2023-07-04T18:56:16.345Z"
   },
   {
    "duration": 311,
    "start_time": "2023-07-04T18:56:17.102Z"
   },
   {
    "duration": 302,
    "start_time": "2023-07-04T18:56:17.426Z"
   },
   {
    "duration": 95,
    "start_time": "2023-07-04T18:56:17.730Z"
   },
   {
    "duration": 146,
    "start_time": "2023-07-04T18:56:17.829Z"
   },
   {
    "duration": 10,
    "start_time": "2023-07-04T18:56:17.977Z"
   },
   {
    "duration": 52,
    "start_time": "2023-07-04T18:56:17.989Z"
   },
   {
    "duration": 96,
    "start_time": "2023-07-04T18:56:18.045Z"
   },
   {
    "duration": 19,
    "start_time": "2023-07-04T18:56:18.142Z"
   },
   {
    "duration": 378,
    "start_time": "2023-07-04T19:07:14.362Z"
   },
   {
    "duration": 298,
    "start_time": "2023-07-04T19:08:19.719Z"
   },
   {
    "duration": 1280,
    "start_time": "2023-07-04T19:09:42.133Z"
   },
   {
    "duration": 171,
    "start_time": "2023-07-04T19:09:43.418Z"
   },
   {
    "duration": 42,
    "start_time": "2023-07-04T19:09:43.591Z"
   },
   {
    "duration": 23,
    "start_time": "2023-07-04T19:09:43.644Z"
   },
   {
    "duration": 10,
    "start_time": "2023-07-04T19:09:43.669Z"
   },
   {
    "duration": 52,
    "start_time": "2023-07-04T19:09:43.680Z"
   },
   {
    "duration": 20,
    "start_time": "2023-07-04T19:09:43.737Z"
   },
   {
    "duration": 22,
    "start_time": "2023-07-04T19:09:43.764Z"
   },
   {
    "duration": 8,
    "start_time": "2023-07-04T19:09:43.787Z"
   },
   {
    "duration": 53,
    "start_time": "2023-07-04T19:09:43.797Z"
   },
   {
    "duration": 12,
    "start_time": "2023-07-04T19:09:43.854Z"
   },
   {
    "duration": 9,
    "start_time": "2023-07-04T19:09:43.868Z"
   },
   {
    "duration": 4,
    "start_time": "2023-07-04T19:09:43.878Z"
   },
   {
    "duration": 5,
    "start_time": "2023-07-04T19:09:43.884Z"
   },
   {
    "duration": 562,
    "start_time": "2023-07-04T19:09:43.890Z"
   },
   {
    "duration": 851,
    "start_time": "2023-07-04T19:09:44.454Z"
   },
   {
    "duration": 552,
    "start_time": "2023-07-04T19:09:45.306Z"
   },
   {
    "duration": 403,
    "start_time": "2023-07-04T19:09:45.859Z"
   },
   {
    "duration": 364,
    "start_time": "2023-07-04T19:09:46.264Z"
   },
   {
    "duration": 355,
    "start_time": "2023-07-04T19:09:46.642Z"
   },
   {
    "duration": 169,
    "start_time": "2023-07-04T19:09:46.998Z"
   },
   {
    "duration": 4,
    "start_time": "2023-07-04T19:09:47.168Z"
   },
   {
    "duration": 189,
    "start_time": "2023-07-04T19:09:47.174Z"
   },
   {
    "duration": 164,
    "start_time": "2023-07-04T19:09:47.365Z"
   },
   {
    "duration": 5,
    "start_time": "2023-07-04T19:09:47.534Z"
   },
   {
    "duration": 295,
    "start_time": "2023-07-04T19:09:47.541Z"
   },
   {
    "duration": 133,
    "start_time": "2023-07-04T19:09:47.841Z"
   },
   {
    "duration": 121,
    "start_time": "2023-07-04T19:09:47.975Z"
   },
   {
    "duration": 54,
    "start_time": "2023-07-04T19:09:48.097Z"
   },
   {
    "duration": 37,
    "start_time": "2023-07-04T19:09:48.154Z"
   },
   {
    "duration": 87,
    "start_time": "2023-07-04T19:09:48.193Z"
   },
   {
    "duration": 7,
    "start_time": "2023-07-04T19:09:48.282Z"
   },
   {
    "duration": 54,
    "start_time": "2023-07-04T19:09:48.291Z"
   },
   {
    "duration": 25,
    "start_time": "2023-07-04T19:09:48.347Z"
   },
   {
    "duration": 1700,
    "start_time": "2023-07-05T08:44:03.954Z"
   },
   {
    "duration": 744,
    "start_time": "2023-07-05T08:44:05.656Z"
   },
   {
    "duration": 14,
    "start_time": "2023-07-05T08:44:06.402Z"
   },
   {
    "duration": 15,
    "start_time": "2023-07-05T08:44:06.419Z"
   },
   {
    "duration": 12,
    "start_time": "2023-07-05T08:44:06.437Z"
   },
   {
    "duration": 16,
    "start_time": "2023-07-05T08:44:06.451Z"
   },
   {
    "duration": 22,
    "start_time": "2023-07-05T08:44:06.469Z"
   },
   {
    "duration": 61,
    "start_time": "2023-07-05T08:44:06.493Z"
   },
   {
    "duration": 9,
    "start_time": "2023-07-05T08:44:06.556Z"
   },
   {
    "duration": 20,
    "start_time": "2023-07-05T08:44:06.569Z"
   },
   {
    "duration": 17,
    "start_time": "2023-07-05T08:44:06.591Z"
   },
   {
    "duration": 32,
    "start_time": "2023-07-05T08:44:06.610Z"
   },
   {
    "duration": 3,
    "start_time": "2023-07-05T08:44:06.644Z"
   },
   {
    "duration": 7,
    "start_time": "2023-07-05T08:44:06.653Z"
   },
   {
    "duration": 310,
    "start_time": "2023-07-05T08:44:06.662Z"
   },
   {
    "duration": 388,
    "start_time": "2023-07-05T08:44:06.974Z"
   },
   {
    "duration": 300,
    "start_time": "2023-07-05T08:44:07.364Z"
   },
   {
    "duration": 370,
    "start_time": "2023-07-05T08:44:07.666Z"
   },
   {
    "duration": 325,
    "start_time": "2023-07-05T08:44:08.038Z"
   },
   {
    "duration": 400,
    "start_time": "2023-07-05T08:44:08.365Z"
   },
   {
    "duration": 190,
    "start_time": "2023-07-05T08:44:08.766Z"
   },
   {
    "duration": 5,
    "start_time": "2023-07-05T08:44:08.958Z"
   },
   {
    "duration": 182,
    "start_time": "2023-07-05T08:44:08.964Z"
   },
   {
    "duration": 181,
    "start_time": "2023-07-05T08:44:09.148Z"
   },
   {
    "duration": 4,
    "start_time": "2023-07-05T08:44:09.331Z"
   },
   {
    "duration": 321,
    "start_time": "2023-07-05T08:44:09.337Z"
   },
   {
    "duration": 150,
    "start_time": "2023-07-05T08:44:09.660Z"
   },
   {
    "duration": 141,
    "start_time": "2023-07-05T08:44:09.813Z"
   },
   {
    "duration": 27,
    "start_time": "2023-07-05T08:44:09.956Z"
   },
   {
    "duration": 11,
    "start_time": "2023-07-05T08:44:09.985Z"
   },
   {
    "duration": 39,
    "start_time": "2023-07-05T08:44:09.998Z"
   },
   {
    "duration": 24,
    "start_time": "2023-07-05T08:44:10.039Z"
   },
   {
    "duration": 34,
    "start_time": "2023-07-05T08:44:10.065Z"
   },
   {
    "duration": 14,
    "start_time": "2023-07-05T08:44:10.101Z"
   }
  ],
  "kernelspec": {
   "display_name": "Python 3 (ipykernel)",
   "language": "python",
   "name": "python3"
  },
  "language_info": {
   "codemirror_mode": {
    "name": "ipython",
    "version": 3
   },
   "file_extension": ".py",
   "mimetype": "text/x-python",
   "name": "python",
   "nbconvert_exporter": "python",
   "pygments_lexer": "ipython3",
   "version": "3.9.13"
  },
  "toc": {
   "base_numbering": 1,
   "nav_menu": {},
   "number_sections": true,
   "sideBar": true,
   "skip_h1_title": true,
   "title_cell": "Table of Contents",
   "title_sidebar": "Contents",
   "toc_cell": false,
   "toc_position": {
    "height": "calc(100% - 180px)",
    "left": "10px",
    "top": "150px",
    "width": "185.625px"
   },
   "toc_section_display": true,
   "toc_window_display": true
  }
 },
 "nbformat": 4,
 "nbformat_minor": 2
}
