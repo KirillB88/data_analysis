{
 "cells": [
  {
   "cell_type": "markdown",
   "id": "7e1e90df",
   "metadata": {},
   "source": [
    "# Описание проекта "
   ]
  },
  {
   "cell_type": "markdown",
   "id": "24fdfb4a",
   "metadata": {},
   "source": [
    "Аналитика популярного сервиса аренды самокатов GoFast. Имеем данные о некоторых пользователях из нескольких городов, а также об их поездках. Проанализируем данные и проверим некоторые гипотезы, которые могут помочь бизнесу вырасти.\n",
    "Чтобы совершать поездки по городу, пользователи сервиса GoFast пользуются мобильным приложением. Сервисом можно пользоваться:\n",
    "\n",
    "•\tбез подписки \n",
    "-\tабонентская плата отсутствует;\n",
    "-\tстоимость одной минуты поездки — 8 рублей;\n",
    "-\tстоимость старта (начала поездки) — 50 рублей;\n",
    "\n",
    "•\tс подпиской Ultra \n",
    "-\tабонентская плата — 199 рублей в месяц;\n",
    "-\tстоимость одной минуты поездки — 6 рублей;\n",
    "-\tстоимость старта — бесплатно.\n",
    "\n",
    "Описание данных\n",
    "\n",
    "В основных данных есть информация о пользователях, их поездках и подписках.\n",
    "\n",
    "Пользователи — users_go.csv\n",
    "\t\n",
    "`user_id`\tуникальный идентификатор пользователя\n",
    "`name`\tимя пользователя\n",
    "`age`\tвозраст\n",
    "`city`\tгород\n",
    "`subscription_type`\tтип подписки (free, ultra)\n",
    "\n",
    "Поездки — rides_go.csv\n",
    "\t\n",
    "`user_id`\tуникальный идентификатор пользователя\n",
    "\n",
    "`distance`\tрасстояние, которое пользователь проехал в текущей сессии (в метрах)\n",
    "\n",
    "`duration`\tпродолжительность сессии (в минутах) — время с того момента, как пользователь нажал кнопку «Начать поездку» до момента, как он нажал кнопку «Завершить поездку»\n",
    "\n",
    "`date`\tдата совершения поездки\n",
    "\n",
    "`Подписки` — subscriptions_go.csv\n",
    "\t\n",
    "`subscription_type`\tтип подписки\n",
    "\n",
    "`minute_price`\tстоимость одной минуты поездки по данной подписке\n",
    "\n",
    "`start_ride_price`\tстоимость начала поездки\n",
    "\n",
    "`subscription_fee`\tстоимость ежемесячного платежа\n",
    "\n"
   ]
  },
  {
   "cell_type": "markdown",
   "id": "c42cbe00",
   "metadata": {},
   "source": [
    "#### Шаг 1. Загрузка данных"
   ]
  },
  {
   "cell_type": "markdown",
   "id": "936e6e49",
   "metadata": {},
   "source": [
    "Подгрузим необходимые библиотеки."
   ]
  },
  {
   "cell_type": "code",
   "execution_count": 1,
   "id": "efe890e2",
   "metadata": {},
   "outputs": [],
   "source": [
    "import pandas as pd\n",
    "import seaborn as sns\n",
    "import numpy as np\n",
    "import matplotlib.pyplot as plt\n",
    "from scipy import stats as st\n",
    "import math\n",
    "pd.options.display.float_format = '{:.2f}'.format\n",
    "pd.set_option('display.max_columns', None)"
   ]
  },
  {
   "cell_type": "markdown",
   "id": "221b800d",
   "metadata": {},
   "source": [
    "Загрузим и сразу посмотрим на файлы с данными."
   ]
  },
  {
   "cell_type": "code",
   "execution_count": 2,
   "id": "eff9f206",
   "metadata": {
    "scrolled": false
   },
   "outputs": [
    {
     "data": {
      "text/html": [
       "<div>\n",
       "<style scoped>\n",
       "    .dataframe tbody tr th:only-of-type {\n",
       "        vertical-align: middle;\n",
       "    }\n",
       "\n",
       "    .dataframe tbody tr th {\n",
       "        vertical-align: top;\n",
       "    }\n",
       "\n",
       "    .dataframe thead th {\n",
       "        text-align: right;\n",
       "    }\n",
       "</style>\n",
       "<table border=\"1\" class=\"dataframe\">\n",
       "  <thead>\n",
       "    <tr style=\"text-align: right;\">\n",
       "      <th></th>\n",
       "      <th>user_id</th>\n",
       "      <th>name</th>\n",
       "      <th>age</th>\n",
       "      <th>city</th>\n",
       "      <th>subscription_type</th>\n",
       "    </tr>\n",
       "  </thead>\n",
       "  <tbody>\n",
       "    <tr>\n",
       "      <th>0</th>\n",
       "      <td>1</td>\n",
       "      <td>Кира</td>\n",
       "      <td>22</td>\n",
       "      <td>Тюмень</td>\n",
       "      <td>ultra</td>\n",
       "    </tr>\n",
       "    <tr>\n",
       "      <th>1</th>\n",
       "      <td>2</td>\n",
       "      <td>Станислав</td>\n",
       "      <td>31</td>\n",
       "      <td>Омск</td>\n",
       "      <td>ultra</td>\n",
       "    </tr>\n",
       "    <tr>\n",
       "      <th>2</th>\n",
       "      <td>3</td>\n",
       "      <td>Алексей</td>\n",
       "      <td>20</td>\n",
       "      <td>Москва</td>\n",
       "      <td>ultra</td>\n",
       "    </tr>\n",
       "    <tr>\n",
       "      <th>3</th>\n",
       "      <td>4</td>\n",
       "      <td>Константин</td>\n",
       "      <td>26</td>\n",
       "      <td>Ростов-на-Дону</td>\n",
       "      <td>ultra</td>\n",
       "    </tr>\n",
       "    <tr>\n",
       "      <th>4</th>\n",
       "      <td>5</td>\n",
       "      <td>Адель</td>\n",
       "      <td>28</td>\n",
       "      <td>Омск</td>\n",
       "      <td>ultra</td>\n",
       "    </tr>\n",
       "    <tr>\n",
       "      <th>5</th>\n",
       "      <td>6</td>\n",
       "      <td>Регина</td>\n",
       "      <td>25</td>\n",
       "      <td>Краснодар</td>\n",
       "      <td>ultra</td>\n",
       "    </tr>\n",
       "    <tr>\n",
       "      <th>6</th>\n",
       "      <td>7</td>\n",
       "      <td>Игорь</td>\n",
       "      <td>23</td>\n",
       "      <td>Омск</td>\n",
       "      <td>ultra</td>\n",
       "    </tr>\n",
       "    <tr>\n",
       "      <th>7</th>\n",
       "      <td>8</td>\n",
       "      <td>Юрий</td>\n",
       "      <td>23</td>\n",
       "      <td>Краснодар</td>\n",
       "      <td>ultra</td>\n",
       "    </tr>\n",
       "    <tr>\n",
       "      <th>8</th>\n",
       "      <td>9</td>\n",
       "      <td>Ян</td>\n",
       "      <td>21</td>\n",
       "      <td>Пятигорск</td>\n",
       "      <td>ultra</td>\n",
       "    </tr>\n",
       "    <tr>\n",
       "      <th>9</th>\n",
       "      <td>10</td>\n",
       "      <td>Валерий</td>\n",
       "      <td>18</td>\n",
       "      <td>Екатеринбург</td>\n",
       "      <td>ultra</td>\n",
       "    </tr>\n",
       "  </tbody>\n",
       "</table>\n",
       "</div>"
      ],
      "text/plain": [
       "   user_id        name  age            city subscription_type\n",
       "0        1        Кира   22          Тюмень             ultra\n",
       "1        2   Станислав   31            Омск             ultra\n",
       "2        3     Алексей   20          Москва             ultra\n",
       "3        4  Константин   26  Ростов-на-Дону             ultra\n",
       "4        5       Адель   28            Омск             ultra\n",
       "5        6      Регина   25       Краснодар             ultra\n",
       "6        7       Игорь   23            Омск             ultra\n",
       "7        8        Юрий   23       Краснодар             ultra\n",
       "8        9          Ян   21       Пятигорск             ultra\n",
       "9       10     Валерий   18    Екатеринбург             ultra"
      ]
     },
     "metadata": {},
     "output_type": "display_data"
    },
    {
     "data": {
      "text/html": [
       "<div>\n",
       "<style scoped>\n",
       "    .dataframe tbody tr th:only-of-type {\n",
       "        vertical-align: middle;\n",
       "    }\n",
       "\n",
       "    .dataframe tbody tr th {\n",
       "        vertical-align: top;\n",
       "    }\n",
       "\n",
       "    .dataframe thead th {\n",
       "        text-align: right;\n",
       "    }\n",
       "</style>\n",
       "<table border=\"1\" class=\"dataframe\">\n",
       "  <thead>\n",
       "    <tr style=\"text-align: right;\">\n",
       "      <th></th>\n",
       "      <th>user_id</th>\n",
       "      <th>distance</th>\n",
       "      <th>duration</th>\n",
       "      <th>date</th>\n",
       "    </tr>\n",
       "  </thead>\n",
       "  <tbody>\n",
       "    <tr>\n",
       "      <th>0</th>\n",
       "      <td>1</td>\n",
       "      <td>4409.92</td>\n",
       "      <td>25.60</td>\n",
       "      <td>2021-01-01</td>\n",
       "    </tr>\n",
       "    <tr>\n",
       "      <th>1</th>\n",
       "      <td>1</td>\n",
       "      <td>2617.59</td>\n",
       "      <td>15.82</td>\n",
       "      <td>2021-01-18</td>\n",
       "    </tr>\n",
       "    <tr>\n",
       "      <th>2</th>\n",
       "      <td>1</td>\n",
       "      <td>754.16</td>\n",
       "      <td>6.23</td>\n",
       "      <td>2021-04-20</td>\n",
       "    </tr>\n",
       "    <tr>\n",
       "      <th>3</th>\n",
       "      <td>1</td>\n",
       "      <td>2694.78</td>\n",
       "      <td>18.51</td>\n",
       "      <td>2021-08-11</td>\n",
       "    </tr>\n",
       "    <tr>\n",
       "      <th>4</th>\n",
       "      <td>1</td>\n",
       "      <td>4028.69</td>\n",
       "      <td>26.27</td>\n",
       "      <td>2021-08-28</td>\n",
       "    </tr>\n",
       "    <tr>\n",
       "      <th>5</th>\n",
       "      <td>1</td>\n",
       "      <td>2770.89</td>\n",
       "      <td>16.65</td>\n",
       "      <td>2021-10-09</td>\n",
       "    </tr>\n",
       "    <tr>\n",
       "      <th>6</th>\n",
       "      <td>1</td>\n",
       "      <td>3039.02</td>\n",
       "      <td>14.93</td>\n",
       "      <td>2021-10-19</td>\n",
       "    </tr>\n",
       "    <tr>\n",
       "      <th>7</th>\n",
       "      <td>1</td>\n",
       "      <td>2842.12</td>\n",
       "      <td>23.12</td>\n",
       "      <td>2021-11-06</td>\n",
       "    </tr>\n",
       "    <tr>\n",
       "      <th>8</th>\n",
       "      <td>1</td>\n",
       "      <td>3412.69</td>\n",
       "      <td>15.24</td>\n",
       "      <td>2021-11-14</td>\n",
       "    </tr>\n",
       "    <tr>\n",
       "      <th>9</th>\n",
       "      <td>1</td>\n",
       "      <td>748.69</td>\n",
       "      <td>15.04</td>\n",
       "      <td>2021-11-22</td>\n",
       "    </tr>\n",
       "  </tbody>\n",
       "</table>\n",
       "</div>"
      ],
      "text/plain": [
       "   user_id  distance  duration        date\n",
       "0        1   4409.92     25.60  2021-01-01\n",
       "1        1   2617.59     15.82  2021-01-18\n",
       "2        1    754.16      6.23  2021-04-20\n",
       "3        1   2694.78     18.51  2021-08-11\n",
       "4        1   4028.69     26.27  2021-08-28\n",
       "5        1   2770.89     16.65  2021-10-09\n",
       "6        1   3039.02     14.93  2021-10-19\n",
       "7        1   2842.12     23.12  2021-11-06\n",
       "8        1   3412.69     15.24  2021-11-14\n",
       "9        1    748.69     15.04  2021-11-22"
      ]
     },
     "metadata": {},
     "output_type": "display_data"
    },
    {
     "data": {
      "text/html": [
       "<div>\n",
       "<style scoped>\n",
       "    .dataframe tbody tr th:only-of-type {\n",
       "        vertical-align: middle;\n",
       "    }\n",
       "\n",
       "    .dataframe tbody tr th {\n",
       "        vertical-align: top;\n",
       "    }\n",
       "\n",
       "    .dataframe thead th {\n",
       "        text-align: right;\n",
       "    }\n",
       "</style>\n",
       "<table border=\"1\" class=\"dataframe\">\n",
       "  <thead>\n",
       "    <tr style=\"text-align: right;\">\n",
       "      <th></th>\n",
       "      <th>subscription_type</th>\n",
       "      <th>minute_price</th>\n",
       "      <th>start_ride_price</th>\n",
       "      <th>subscription_fee</th>\n",
       "    </tr>\n",
       "  </thead>\n",
       "  <tbody>\n",
       "    <tr>\n",
       "      <th>0</th>\n",
       "      <td>free</td>\n",
       "      <td>8</td>\n",
       "      <td>50</td>\n",
       "      <td>0</td>\n",
       "    </tr>\n",
       "    <tr>\n",
       "      <th>1</th>\n",
       "      <td>ultra</td>\n",
       "      <td>6</td>\n",
       "      <td>0</td>\n",
       "      <td>199</td>\n",
       "    </tr>\n",
       "  </tbody>\n",
       "</table>\n",
       "</div>"
      ],
      "text/plain": [
       "  subscription_type  minute_price  start_ride_price  subscription_fee\n",
       "0              free             8                50                 0\n",
       "1             ultra             6                 0               199"
      ]
     },
     "execution_count": 2,
     "metadata": {},
     "output_type": "execute_result"
    }
   ],
   "source": [
    "users = pd.read_csv('/datasets/users_go.csv')\n",
    "rides = pd.read_csv('/datasets/rides_go.csv')\n",
    "subs = pd.read_csv('/datasets/subscriptions_go.csv')\n",
    "display(users.head(10))\n",
    "display(rides.head(10))\n",
    "subs.head()"
   ]
  },
  {
   "cell_type": "code",
   "execution_count": 3,
   "id": "ebeb13db",
   "metadata": {},
   "outputs": [
    {
     "name": "stdout",
     "output_type": "stream",
     "text": [
      "<class 'pandas.core.frame.DataFrame'>\n",
      "RangeIndex: 1565 entries, 0 to 1564\n",
      "Data columns (total 5 columns):\n",
      " #   Column             Non-Null Count  Dtype \n",
      "---  ------             --------------  ----- \n",
      " 0   user_id            1565 non-null   int64 \n",
      " 1   name               1565 non-null   object\n",
      " 2   age                1565 non-null   int64 \n",
      " 3   city               1565 non-null   object\n",
      " 4   subscription_type  1565 non-null   object\n",
      "dtypes: int64(2), object(3)\n",
      "memory usage: 61.3+ KB\n"
     ]
    },
    {
     "data": {
      "text/plain": [
       "None"
      ]
     },
     "metadata": {},
     "output_type": "display_data"
    },
    {
     "name": "stdout",
     "output_type": "stream",
     "text": [
      "<class 'pandas.core.frame.DataFrame'>\n",
      "RangeIndex: 18068 entries, 0 to 18067\n",
      "Data columns (total 4 columns):\n",
      " #   Column    Non-Null Count  Dtype  \n",
      "---  ------    --------------  -----  \n",
      " 0   user_id   18068 non-null  int64  \n",
      " 1   distance  18068 non-null  float64\n",
      " 2   duration  18068 non-null  float64\n",
      " 3   date      18068 non-null  object \n",
      "dtypes: float64(2), int64(1), object(1)\n",
      "memory usage: 564.8+ KB\n"
     ]
    },
    {
     "data": {
      "text/plain": [
       "None"
      ]
     },
     "metadata": {},
     "output_type": "display_data"
    },
    {
     "name": "stdout",
     "output_type": "stream",
     "text": [
      "<class 'pandas.core.frame.DataFrame'>\n",
      "RangeIndex: 2 entries, 0 to 1\n",
      "Data columns (total 4 columns):\n",
      " #   Column             Non-Null Count  Dtype \n",
      "---  ------             --------------  ----- \n",
      " 0   subscription_type  2 non-null      object\n",
      " 1   minute_price       2 non-null      int64 \n",
      " 2   start_ride_price   2 non-null      int64 \n",
      " 3   subscription_fee   2 non-null      int64 \n",
      "dtypes: int64(3), object(1)\n",
      "memory usage: 192.0+ bytes\n"
     ]
    }
   ],
   "source": [
    "display(users.info())\n",
    "display(rides.info())\n",
    "subs.info()"
   ]
  },
  {
   "cell_type": "code",
   "execution_count": 4,
   "id": "639952b7",
   "metadata": {},
   "outputs": [
    {
     "name": "stdout",
     "output_type": "stream",
     "text": [
      "user_id              0\n",
      "name                 0\n",
      "age                  0\n",
      "city                 0\n",
      "subscription_type    0\n",
      "dtype: int64\n",
      "user_id     0\n",
      "distance    0\n",
      "duration    0\n",
      "date        0\n",
      "dtype: int64\n"
     ]
    }
   ],
   "source": [
    "print(users.isna().sum())\n",
    "print(rides.isna().sum())"
   ]
  },
  {
   "cell_type": "markdown",
   "id": "d287e0be",
   "metadata": {},
   "source": [
    "Данные выглядят хорошо, пропусков нет, типы данных соответствующие. Даты поездок необходимо привести к более удобному формату."
   ]
  },
  {
   "cell_type": "code",
   "execution_count": 5,
   "id": "7f5c2d9c",
   "metadata": {},
   "outputs": [
    {
     "data": {
      "text/html": [
       "<div>\n",
       "<style scoped>\n",
       "    .dataframe tbody tr th:only-of-type {\n",
       "        vertical-align: middle;\n",
       "    }\n",
       "\n",
       "    .dataframe tbody tr th {\n",
       "        vertical-align: top;\n",
       "    }\n",
       "\n",
       "    .dataframe thead th {\n",
       "        text-align: right;\n",
       "    }\n",
       "</style>\n",
       "<table border=\"1\" class=\"dataframe\">\n",
       "  <thead>\n",
       "    <tr style=\"text-align: right;\">\n",
       "      <th></th>\n",
       "      <th>user_id</th>\n",
       "      <th>age</th>\n",
       "    </tr>\n",
       "  </thead>\n",
       "  <tbody>\n",
       "    <tr>\n",
       "      <th>count</th>\n",
       "      <td>1565.00</td>\n",
       "      <td>1565.00</td>\n",
       "    </tr>\n",
       "    <tr>\n",
       "      <th>mean</th>\n",
       "      <td>762.63</td>\n",
       "      <td>24.92</td>\n",
       "    </tr>\n",
       "    <tr>\n",
       "      <th>std</th>\n",
       "      <td>443.26</td>\n",
       "      <td>4.55</td>\n",
       "    </tr>\n",
       "    <tr>\n",
       "      <th>min</th>\n",
       "      <td>1.00</td>\n",
       "      <td>12.00</td>\n",
       "    </tr>\n",
       "    <tr>\n",
       "      <th>25%</th>\n",
       "      <td>378.00</td>\n",
       "      <td>22.00</td>\n",
       "    </tr>\n",
       "    <tr>\n",
       "      <th>50%</th>\n",
       "      <td>762.00</td>\n",
       "      <td>25.00</td>\n",
       "    </tr>\n",
       "    <tr>\n",
       "      <th>75%</th>\n",
       "      <td>1146.00</td>\n",
       "      <td>28.00</td>\n",
       "    </tr>\n",
       "    <tr>\n",
       "      <th>max</th>\n",
       "      <td>1534.00</td>\n",
       "      <td>43.00</td>\n",
       "    </tr>\n",
       "  </tbody>\n",
       "</table>\n",
       "</div>"
      ],
      "text/plain": [
       "       user_id     age\n",
       "count  1565.00 1565.00\n",
       "mean    762.63   24.92\n",
       "std     443.26    4.55\n",
       "min       1.00   12.00\n",
       "25%     378.00   22.00\n",
       "50%     762.00   25.00\n",
       "75%    1146.00   28.00\n",
       "max    1534.00   43.00"
      ]
     },
     "metadata": {},
     "output_type": "display_data"
    },
    {
     "data": {
      "text/html": [
       "<div>\n",
       "<style scoped>\n",
       "    .dataframe tbody tr th:only-of-type {\n",
       "        vertical-align: middle;\n",
       "    }\n",
       "\n",
       "    .dataframe tbody tr th {\n",
       "        vertical-align: top;\n",
       "    }\n",
       "\n",
       "    .dataframe thead th {\n",
       "        text-align: right;\n",
       "    }\n",
       "</style>\n",
       "<table border=\"1\" class=\"dataframe\">\n",
       "  <thead>\n",
       "    <tr style=\"text-align: right;\">\n",
       "      <th></th>\n",
       "      <th>user_id</th>\n",
       "      <th>distance</th>\n",
       "      <th>duration</th>\n",
       "    </tr>\n",
       "  </thead>\n",
       "  <tbody>\n",
       "    <tr>\n",
       "      <th>count</th>\n",
       "      <td>18068.00</td>\n",
       "      <td>18068.00</td>\n",
       "      <td>18068.00</td>\n",
       "    </tr>\n",
       "    <tr>\n",
       "      <th>mean</th>\n",
       "      <td>842.87</td>\n",
       "      <td>3070.66</td>\n",
       "      <td>17.81</td>\n",
       "    </tr>\n",
       "    <tr>\n",
       "      <th>std</th>\n",
       "      <td>434.73</td>\n",
       "      <td>1116.83</td>\n",
       "      <td>6.09</td>\n",
       "    </tr>\n",
       "    <tr>\n",
       "      <th>min</th>\n",
       "      <td>1.00</td>\n",
       "      <td>0.86</td>\n",
       "      <td>0.50</td>\n",
       "    </tr>\n",
       "    <tr>\n",
       "      <th>25%</th>\n",
       "      <td>487.00</td>\n",
       "      <td>2543.23</td>\n",
       "      <td>13.60</td>\n",
       "    </tr>\n",
       "    <tr>\n",
       "      <th>50%</th>\n",
       "      <td>889.00</td>\n",
       "      <td>3133.61</td>\n",
       "      <td>17.68</td>\n",
       "    </tr>\n",
       "    <tr>\n",
       "      <th>75%</th>\n",
       "      <td>1213.25</td>\n",
       "      <td>3776.22</td>\n",
       "      <td>21.72</td>\n",
       "    </tr>\n",
       "    <tr>\n",
       "      <th>max</th>\n",
       "      <td>1534.00</td>\n",
       "      <td>7211.01</td>\n",
       "      <td>40.82</td>\n",
       "    </tr>\n",
       "  </tbody>\n",
       "</table>\n",
       "</div>"
      ],
      "text/plain": [
       "       user_id  distance  duration\n",
       "count 18068.00  18068.00  18068.00\n",
       "mean    842.87   3070.66     17.81\n",
       "std     434.73   1116.83      6.09\n",
       "min       1.00      0.86      0.50\n",
       "25%     487.00   2543.23     13.60\n",
       "50%     889.00   3133.61     17.68\n",
       "75%    1213.25   3776.22     21.72\n",
       "max    1534.00   7211.01     40.82"
      ]
     },
     "metadata": {},
     "output_type": "display_data"
    }
   ],
   "source": [
    "display(users.describe())\n",
    "display(rides.describe())"
   ]
  },
  {
   "cell_type": "code",
   "execution_count": 6,
   "id": "b85694a6",
   "metadata": {
    "scrolled": true
   },
   "outputs": [
    {
     "data": {
      "image/png": "[encoded data removed]",
      "text/plain": [
       "<Figure size 720x288 with 2 Axes>"
      ]
     },
     "metadata": {
      "needs_background": "light"
     },
     "output_type": "display_data"
    }
   ],
   "source": [
    "users.hist(figsize=(10, 4));"
   ]
  },
  {
   "cell_type": "code",
   "execution_count": 7,
   "id": "b44117b2",
   "metadata": {
    "scrolled": false
   },
   "outputs": [
    {
     "data": {
      "image/png": "[encoded data removed]",
      "text/plain": [
       "<Figure size 720x432 with 4 Axes>"
      ]
     },
     "metadata": {
      "needs_background": "light"
     },
     "output_type": "display_data"
    }
   ],
   "source": [
    "rides.hist(figsize=(10, 6));"
   ]
  },
  {
   "cell_type": "markdown",
   "id": "c9b31e8f",
   "metadata": {},
   "source": [
    "Нормальное распределение данных для возраста, длительности и расстояния.\n",
    "\n",
    "Ну и на диаграммы размаха для длительности и дальности поездок тоже посмотрим."
   ]
  },
  {
   "cell_type": "code",
   "execution_count": 8,
   "id": "b4a3ed7b",
   "metadata": {},
   "outputs": [
    {
     "data": {
      "image/png": "[encoded data removed]",
      "text/plain": [
       "<Figure size 360x360 with 1 Axes>"
      ]
     },
     "metadata": {
      "needs_background": "light"
     },
     "output_type": "display_data"
    }
   ],
   "source": [
    "rides.boxplot('duration', figsize=(5,5)).set_ylim(0,45);"
   ]
  },
  {
   "cell_type": "markdown",
   "id": "4b29d0ce",
   "metadata": {},
   "source": [
    "Нормальные значения для длительности поездки лежат в диапазоне от 2 до 34 минут."
   ]
  },
  {
   "cell_type": "code",
   "execution_count": 9,
   "id": "bb5240ab",
   "metadata": {
    "scrolled": true
   },
   "outputs": [
    {
     "data": {
      "image/png": "[encoded data removed]",
      "text/plain": [
       "<Figure size 360x360 with 1 Axes>"
      ]
     },
     "metadata": {
      "needs_background": "light"
     },
     "output_type": "display_data"
    }
   ],
   "source": [
    "rides.boxplot('distance', figsize=(5,5)).set_ylim(-100,7500);"
   ]
  },
  {
   "cell_type": "markdown",
   "id": "c617f8df",
   "metadata": {},
   "source": [
    "Нормальные значения для дальности поездки лежат в диапазоне от ~700 до ~5600 метров."
   ]
  },
  {
   "cell_type": "markdown",
   "id": "94c24ac0",
   "metadata": {},
   "source": [
    "#### Шаг 2. Предобработка данных"
   ]
  },
  {
   "cell_type": "markdown",
   "id": "99dbe963",
   "metadata": {},
   "source": [
    "Даты поездок сразу приведем к более удобному формату."
   ]
  },
  {
   "cell_type": "code",
   "execution_count": 10,
   "id": "0a92b685",
   "metadata": {},
   "outputs": [],
   "source": [
    "rides['date'] = pd.to_datetime(rides['date'], format = '%Y-%m-%d')"
   ]
  },
  {
   "cell_type": "markdown",
   "id": "b2734bce",
   "metadata": {},
   "source": [
    "Проверим за какие года есть данные."
   ]
  },
  {
   "cell_type": "code",
   "execution_count": 11,
   "id": "14a09550",
   "metadata": {},
   "outputs": [
    {
     "data": {
      "text/plain": [
       "array([2021])"
      ]
     },
     "execution_count": 11,
     "metadata": {},
     "output_type": "execute_result"
    }
   ],
   "source": [
    "rides['date'].dt.year.unique()"
   ]
  },
  {
   "cell_type": "markdown",
   "id": "57e0fe08",
   "metadata": {},
   "source": [
    "Т.к. все данные только за 2021 год, то добавим столбец с номером месяца от дат поездок."
   ]
  },
  {
   "cell_type": "code",
   "execution_count": 12,
   "id": "0bf399bb",
   "metadata": {},
   "outputs": [
    {
     "name": "stdout",
     "output_type": "stream",
     "text": [
      "<class 'pandas.core.frame.DataFrame'>\n",
      "RangeIndex: 18068 entries, 0 to 18067\n",
      "Data columns (total 5 columns):\n",
      " #   Column    Non-Null Count  Dtype         \n",
      "---  ------    --------------  -----         \n",
      " 0   user_id   18068 non-null  int64         \n",
      " 1   distance  18068 non-null  float64       \n",
      " 2   duration  18068 non-null  float64       \n",
      " 3   date      18068 non-null  datetime64[ns]\n",
      " 4   month     18068 non-null  int64         \n",
      "dtypes: datetime64[ns](1), float64(2), int64(2)\n",
      "memory usage: 705.9 KB\n",
      "[1, 2, 3, 4, 5, 6, 7, 8, 9, 10, 11, 12]\n"
     ]
    }
   ],
   "source": [
    "rides['month'] = rides['date'].dt.month\n",
    "rides.info()\n",
    "print(sorted(rides['month'].unique()))"
   ]
  },
  {
   "cell_type": "markdown",
   "id": "381f7655",
   "metadata": {},
   "source": [
    "Проверим файлы с пользователями и поездками на повторы. Для пользователей достаточно сравнить по user_id, т.к. имена, возраст и город могут повторяться и это нормально. В поездках придется проверить дубликаты строк целиком, т.к. один и тот же пользователь мог совершить несколько поездок в разное время."
   ]
  },
  {
   "cell_type": "code",
   "execution_count": 13,
   "id": "5713924d",
   "metadata": {},
   "outputs": [
    {
     "name": "stdout",
     "output_type": "stream",
     "text": [
      "Повторов в записях о пользователях: 31\n",
      "209     2\n",
      "807     2\n",
      "611     2\n",
      "43      2\n",
      "737     2\n",
      "       ..\n",
      "520     1\n",
      "519     1\n",
      "518     1\n",
      "517     1\n",
      "1534    1\n",
      "Name: user_id, Length: 1534, dtype: int64\n",
      "Повторов в записях о поездках: 0\n"
     ]
    }
   ],
   "source": [
    "print('Повторов в записях о пользователях:',users['user_id'].duplicated().sum())\n",
    "print(users['user_id'].value_counts())\n",
    "print('Повторов в записях о поездках:', rides.duplicated().sum())\n"
   ]
  },
  {
   "cell_type": "markdown",
   "id": "f1d74e2a",
   "metadata": {},
   "source": [
    "Дубликаты в файле с пользователями уберем."
   ]
  },
  {
   "cell_type": "code",
   "execution_count": 14,
   "id": "043c290b",
   "metadata": {},
   "outputs": [],
   "source": [
    "users = users.drop_duplicates().reset_index(drop=True)"
   ]
  },
  {
   "cell_type": "markdown",
   "id": "be0e566e",
   "metadata": {},
   "source": [
    "#### Шаг 3. Исследовательский анализ данных"
   ]
  },
  {
   "cell_type": "code",
   "execution_count": 15,
   "id": "e6c639ca",
   "metadata": {
    "scrolled": true
   },
   "outputs": [
    {
     "data": {
      "image/png": "[encoded data removed]",
      "text/plain": [
       "<Figure size 432x288 with 1 Axes>"
      ]
     },
     "metadata": {},
     "output_type": "display_data"
    }
   ],
   "source": [
    "users['city'].value_counts().plot(kind='pie', autopct='%.1f%%'); \n",
    "plt.title('Частота встречаемости городов');"
   ]
  },
  {
   "cell_type": "code",
   "execution_count": 16,
   "id": "e8494488",
   "metadata": {},
   "outputs": [
    {
     "data": {
      "image/png": "[encoded data removed]",
      "text/plain": [
       "<Figure size 432x288 with 1 Axes>"
      ]
     },
     "metadata": {
      "needs_background": "light"
     },
     "output_type": "display_data"
    }
   ],
   "source": [
    "users['city'].value_counts(ascending=True).plot.bar(); \n",
    "plt.title('Частота встречаемости городов');"
   ]
  },
  {
   "cell_type": "markdown",
   "id": "d5abfd36",
   "metadata": {},
   "source": [
    "Не проглядывается какой-то зависимости популярности сервиса от города или климатической зоны, в которой этот город находится. Больше всего пользователей из Пятигорска, меньше всего из Москвы. Хотя в Москве ожидаемо могло бы быть наибольшее число пользователей всвязи с наибольшей плотностью населения. Возможно, в столице высокая конкуренция среди сервисов аренды самокатов."
   ]
  },
  {
   "cell_type": "code",
   "execution_count": 17,
   "id": "e47878cb",
   "metadata": {
    "scrolled": true
   },
   "outputs": [
    {
     "data": {
      "image/png": "[encoded data removed]",
      "text/plain": [
       "<Figure size 432x288 with 1 Axes>"
      ]
     },
     "metadata": {},
     "output_type": "display_data"
    }
   ],
   "source": [
    "users['subscription_type'].value_counts().plot(kind='pie', autopct='%.1f%%'); \n",
    "plt.title('Соотношение пользователей с подпиской и без подписки');"
   ]
  },
  {
   "cell_type": "markdown",
   "id": "a3eb7509",
   "metadata": {},
   "source": [
    "Пользователей без подписки всего на 8.8 п.п. (138 человек) больше. То есть, чуть меньше половины пользователей предпочитают пользоваться сервисом регулярно и, вполне возможно, готовы рекомендовать его знакомым. Очень неплохой результат."
   ]
  },
  {
   "cell_type": "code",
   "execution_count": 18,
   "id": "8966cb0c",
   "metadata": {},
   "outputs": [
    {
     "data": {
      "text/plain": [
       "count   1534.00\n",
       "mean      24.90\n",
       "std        4.57\n",
       "min       12.00\n",
       "25%       22.00\n",
       "50%       25.00\n",
       "75%       28.00\n",
       "max       43.00\n",
       "Name: age, dtype: float64"
      ]
     },
     "metadata": {},
     "output_type": "display_data"
    },
    {
     "data": {
      "image/png": "[encoded data removed]",
      "text/plain": [
       "<Figure size 432x288 with 1 Axes>"
      ]
     },
     "metadata": {
      "needs_background": "light"
     },
     "output_type": "display_data"
    }
   ],
   "source": [
    "display(users['age'].describe());\n",
    "users['age'].hist()\n",
    "plt.xlabel(\"Возраст пользователей\")\n",
    "plt.ylabel(\"Количество пользователей\")\n",
    "plt.title('Возраст пользователей');"
   ]
  },
  {
   "cell_type": "markdown",
   "id": "bdb07842",
   "metadata": {},
   "source": [
    "Тут можно сказать, что основная масса пользователей сервиса это люди 22-27 лет. Самые юные пользователи 12-ти лет, самые возрастные - 43-х. Люди большего возраста, видимо, предпочитают более стандартный способ передвижения."
   ]
  },
  {
   "cell_type": "code",
   "execution_count": 19,
   "id": "25c7c02a",
   "metadata": {
    "scrolled": false
   },
   "outputs": [
    {
     "data": {
      "text/plain": [
       "count   18068.00\n",
       "mean     3070.66\n",
       "std      1116.83\n",
       "min         0.86\n",
       "25%      2543.23\n",
       "50%      3133.61\n",
       "75%      3776.22\n",
       "max      7211.01\n",
       "Name: distance, dtype: float64"
      ]
     },
     "metadata": {},
     "output_type": "display_data"
    },
    {
     "data": {
      "image/png": "[encoded data removed]",
      "text/plain": [
       "<Figure size 432x288 with 1 Axes>"
      ]
     },
     "metadata": {
      "needs_background": "light"
     },
     "output_type": "display_data"
    }
   ],
   "source": [
    "display(rides['distance'].describe());\n",
    "rides['distance'].hist(bins=200)\n",
    "plt.xlabel(\"Расстояние\")\n",
    "plt.ylabel(\"Количество поездок\")\n",
    "plt.title('Расстояние, которое пользователи преодолевают за одну поездку');"
   ]
  },
  {
   "cell_type": "markdown",
   "id": "45013ab5",
   "metadata": {},
   "source": [
    "Стандартная дальность поездки в районе 3 километров. Максимальная была 7,2 км. Поездки менее 2,5 и более 3,5 встречаются значительно реже."
   ]
  },
  {
   "cell_type": "code",
   "execution_count": 20,
   "id": "781f0b74",
   "metadata": {
    "scrolled": false
   },
   "outputs": [
    {
     "data": {
      "text/plain": [
       "count   18068.00\n",
       "mean       17.81\n",
       "std         6.09\n",
       "min         0.50\n",
       "25%        13.60\n",
       "50%        17.68\n",
       "75%        21.72\n",
       "max        40.82\n",
       "Name: duration, dtype: float64"
      ]
     },
     "metadata": {},
     "output_type": "display_data"
    },
    {
     "data": {
      "image/png": "[encoded data removed]",
      "text/plain": [
       "<Figure size 432x288 with 1 Axes>"
      ]
     },
     "metadata": {
      "needs_background": "light"
     },
     "output_type": "display_data"
    }
   ],
   "source": [
    "display(rides['duration'].describe());\n",
    "rides['duration'].hist(bins=200)\n",
    "plt.xlabel(\"Продолжительность\")\n",
    "plt.ylabel(\"Количество поездок\")\n",
    "plt.title('Продолжительность поездок');"
   ]
  },
  {
   "cell_type": "markdown",
   "id": "a1ae28bc",
   "metadata": {},
   "source": [
    "Стандартная продолжительностью поездки около 12-21 минут. Есть видимая часть поездок продожительностью в 1 минуту. Вероятно, пользователи, которые просто тестировали работу сервиса."
   ]
  },
  {
   "cell_type": "markdown",
   "id": "8d106845",
   "metadata": {},
   "source": [
    "#### Шаг 4. Объединение данных"
   ]
  },
  {
   "cell_type": "markdown",
   "id": "18311a41",
   "metadata": {},
   "source": [
    "Объединим данные о пользователях, поездках и подписках в один датафрейм, продолжительность поездок округлим до целых минут в большую сторону"
   ]
  },
  {
   "cell_type": "code",
   "execution_count": 21,
   "id": "76ef67cf",
   "metadata": {},
   "outputs": [],
   "source": [
    "data = users.merge(rides,on='user_id',how='outer')\n",
    "df = data.merge(subs,on='subscription_type',how='outer')\n",
    "df['duration'] = df['duration'].round().astype('int')"
   ]
  },
  {
   "cell_type": "markdown",
   "id": "42e6f17b",
   "metadata": {},
   "source": [
    "И посмотрим на результат."
   ]
  },
  {
   "cell_type": "code",
   "execution_count": 22,
   "id": "94a8d89b",
   "metadata": {},
   "outputs": [
    {
     "data": {
      "text/html": [
       "<div>\n",
       "<style scoped>\n",
       "    .dataframe tbody tr th:only-of-type {\n",
       "        vertical-align: middle;\n",
       "    }\n",
       "\n",
       "    .dataframe tbody tr th {\n",
       "        vertical-align: top;\n",
       "    }\n",
       "\n",
       "    .dataframe thead th {\n",
       "        text-align: right;\n",
       "    }\n",
       "</style>\n",
       "<table border=\"1\" class=\"dataframe\">\n",
       "  <thead>\n",
       "    <tr style=\"text-align: right;\">\n",
       "      <th></th>\n",
       "      <th>user_id</th>\n",
       "      <th>name</th>\n",
       "      <th>age</th>\n",
       "      <th>city</th>\n",
       "      <th>subscription_type</th>\n",
       "      <th>distance</th>\n",
       "      <th>duration</th>\n",
       "      <th>date</th>\n",
       "      <th>month</th>\n",
       "      <th>minute_price</th>\n",
       "      <th>start_ride_price</th>\n",
       "      <th>subscription_fee</th>\n",
       "    </tr>\n",
       "  </thead>\n",
       "  <tbody>\n",
       "    <tr>\n",
       "      <th>0</th>\n",
       "      <td>1</td>\n",
       "      <td>Кира</td>\n",
       "      <td>22</td>\n",
       "      <td>Тюмень</td>\n",
       "      <td>ultra</td>\n",
       "      <td>4409.92</td>\n",
       "      <td>26</td>\n",
       "      <td>2021-01-01</td>\n",
       "      <td>1</td>\n",
       "      <td>6</td>\n",
       "      <td>0</td>\n",
       "      <td>199</td>\n",
       "    </tr>\n",
       "    <tr>\n",
       "      <th>1</th>\n",
       "      <td>1</td>\n",
       "      <td>Кира</td>\n",
       "      <td>22</td>\n",
       "      <td>Тюмень</td>\n",
       "      <td>ultra</td>\n",
       "      <td>2617.59</td>\n",
       "      <td>16</td>\n",
       "      <td>2021-01-18</td>\n",
       "      <td>1</td>\n",
       "      <td>6</td>\n",
       "      <td>0</td>\n",
       "      <td>199</td>\n",
       "    </tr>\n",
       "    <tr>\n",
       "      <th>2</th>\n",
       "      <td>1</td>\n",
       "      <td>Кира</td>\n",
       "      <td>22</td>\n",
       "      <td>Тюмень</td>\n",
       "      <td>ultra</td>\n",
       "      <td>754.16</td>\n",
       "      <td>6</td>\n",
       "      <td>2021-04-20</td>\n",
       "      <td>4</td>\n",
       "      <td>6</td>\n",
       "      <td>0</td>\n",
       "      <td>199</td>\n",
       "    </tr>\n",
       "    <tr>\n",
       "      <th>3</th>\n",
       "      <td>1</td>\n",
       "      <td>Кира</td>\n",
       "      <td>22</td>\n",
       "      <td>Тюмень</td>\n",
       "      <td>ultra</td>\n",
       "      <td>2694.78</td>\n",
       "      <td>19</td>\n",
       "      <td>2021-08-11</td>\n",
       "      <td>8</td>\n",
       "      <td>6</td>\n",
       "      <td>0</td>\n",
       "      <td>199</td>\n",
       "    </tr>\n",
       "    <tr>\n",
       "      <th>4</th>\n",
       "      <td>1</td>\n",
       "      <td>Кира</td>\n",
       "      <td>22</td>\n",
       "      <td>Тюмень</td>\n",
       "      <td>ultra</td>\n",
       "      <td>4028.69</td>\n",
       "      <td>26</td>\n",
       "      <td>2021-08-28</td>\n",
       "      <td>8</td>\n",
       "      <td>6</td>\n",
       "      <td>0</td>\n",
       "      <td>199</td>\n",
       "    </tr>\n",
       "  </tbody>\n",
       "</table>\n",
       "</div>"
      ],
      "text/plain": [
       "   user_id  name  age    city subscription_type  distance  duration  \\\n",
       "0        1  Кира   22  Тюмень             ultra   4409.92        26   \n",
       "1        1  Кира   22  Тюмень             ultra   2617.59        16   \n",
       "2        1  Кира   22  Тюмень             ultra    754.16         6   \n",
       "3        1  Кира   22  Тюмень             ultra   2694.78        19   \n",
       "4        1  Кира   22  Тюмень             ultra   4028.69        26   \n",
       "\n",
       "        date  month  minute_price  start_ride_price  subscription_fee  \n",
       "0 2021-01-01      1             6                 0               199  \n",
       "1 2021-01-18      1             6                 0               199  \n",
       "2 2021-04-20      4             6                 0               199  \n",
       "3 2021-08-11      8             6                 0               199  \n",
       "4 2021-08-28      8             6                 0               199  "
      ]
     },
     "metadata": {},
     "output_type": "display_data"
    },
    {
     "name": "stdout",
     "output_type": "stream",
     "text": [
      "<class 'pandas.core.frame.DataFrame'>\n",
      "Int64Index: 18068 entries, 0 to 18067\n",
      "Data columns (total 12 columns):\n",
      " #   Column             Non-Null Count  Dtype         \n",
      "---  ------             --------------  -----         \n",
      " 0   user_id            18068 non-null  int64         \n",
      " 1   name               18068 non-null  object        \n",
      " 2   age                18068 non-null  int64         \n",
      " 3   city               18068 non-null  object        \n",
      " 4   subscription_type  18068 non-null  object        \n",
      " 5   distance           18068 non-null  float64       \n",
      " 6   duration           18068 non-null  int64         \n",
      " 7   date               18068 non-null  datetime64[ns]\n",
      " 8   month              18068 non-null  int64         \n",
      " 9   minute_price       18068 non-null  int64         \n",
      " 10  start_ride_price   18068 non-null  int64         \n",
      " 11  subscription_fee   18068 non-null  int64         \n",
      "dtypes: datetime64[ns](1), float64(1), int64(7), object(3)\n",
      "memory usage: 1.8+ MB\n"
     ]
    },
    {
     "data": {
      "text/html": [
       "<div>\n",
       "<style scoped>\n",
       "    .dataframe tbody tr th:only-of-type {\n",
       "        vertical-align: middle;\n",
       "    }\n",
       "\n",
       "    .dataframe tbody tr th {\n",
       "        vertical-align: top;\n",
       "    }\n",
       "\n",
       "    .dataframe thead th {\n",
       "        text-align: right;\n",
       "    }\n",
       "</style>\n",
       "<table border=\"1\" class=\"dataframe\">\n",
       "  <thead>\n",
       "    <tr style=\"text-align: right;\">\n",
       "      <th></th>\n",
       "      <th>user_id</th>\n",
       "      <th>age</th>\n",
       "      <th>distance</th>\n",
       "      <th>duration</th>\n",
       "      <th>month</th>\n",
       "      <th>minute_price</th>\n",
       "      <th>start_ride_price</th>\n",
       "      <th>subscription_fee</th>\n",
       "    </tr>\n",
       "  </thead>\n",
       "  <tbody>\n",
       "    <tr>\n",
       "      <th>count</th>\n",
       "      <td>18068.00</td>\n",
       "      <td>18068.00</td>\n",
       "      <td>18068.00</td>\n",
       "      <td>18068.00</td>\n",
       "      <td>18068.00</td>\n",
       "      <td>18068.00</td>\n",
       "      <td>18068.00</td>\n",
       "      <td>18068.00</td>\n",
       "    </tr>\n",
       "    <tr>\n",
       "      <th>mean</th>\n",
       "      <td>842.87</td>\n",
       "      <td>24.89</td>\n",
       "      <td>3070.66</td>\n",
       "      <td>17.80</td>\n",
       "      <td>6.49</td>\n",
       "      <td>7.28</td>\n",
       "      <td>32.01</td>\n",
       "      <td>71.59</td>\n",
       "    </tr>\n",
       "    <tr>\n",
       "      <th>std</th>\n",
       "      <td>434.73</td>\n",
       "      <td>4.58</td>\n",
       "      <td>1116.83</td>\n",
       "      <td>6.10</td>\n",
       "      <td>3.44</td>\n",
       "      <td>0.96</td>\n",
       "      <td>24.00</td>\n",
       "      <td>95.51</td>\n",
       "    </tr>\n",
       "    <tr>\n",
       "      <th>min</th>\n",
       "      <td>1.00</td>\n",
       "      <td>12.00</td>\n",
       "      <td>0.86</td>\n",
       "      <td>0.00</td>\n",
       "      <td>1.00</td>\n",
       "      <td>6.00</td>\n",
       "      <td>0.00</td>\n",
       "      <td>0.00</td>\n",
       "    </tr>\n",
       "    <tr>\n",
       "      <th>25%</th>\n",
       "      <td>487.00</td>\n",
       "      <td>22.00</td>\n",
       "      <td>2543.23</td>\n",
       "      <td>14.00</td>\n",
       "      <td>4.00</td>\n",
       "      <td>6.00</td>\n",
       "      <td>0.00</td>\n",
       "      <td>0.00</td>\n",
       "    </tr>\n",
       "    <tr>\n",
       "      <th>50%</th>\n",
       "      <td>889.00</td>\n",
       "      <td>25.00</td>\n",
       "      <td>3133.61</td>\n",
       "      <td>18.00</td>\n",
       "      <td>6.00</td>\n",
       "      <td>8.00</td>\n",
       "      <td>50.00</td>\n",
       "      <td>0.00</td>\n",
       "    </tr>\n",
       "    <tr>\n",
       "      <th>75%</th>\n",
       "      <td>1213.25</td>\n",
       "      <td>28.00</td>\n",
       "      <td>3776.22</td>\n",
       "      <td>22.00</td>\n",
       "      <td>9.00</td>\n",
       "      <td>8.00</td>\n",
       "      <td>50.00</td>\n",
       "      <td>199.00</td>\n",
       "    </tr>\n",
       "    <tr>\n",
       "      <th>max</th>\n",
       "      <td>1534.00</td>\n",
       "      <td>43.00</td>\n",
       "      <td>7211.01</td>\n",
       "      <td>41.00</td>\n",
       "      <td>12.00</td>\n",
       "      <td>8.00</td>\n",
       "      <td>50.00</td>\n",
       "      <td>199.00</td>\n",
       "    </tr>\n",
       "  </tbody>\n",
       "</table>\n",
       "</div>"
      ],
      "text/plain": [
       "       user_id      age  distance  duration    month  minute_price  \\\n",
       "count 18068.00 18068.00  18068.00  18068.00 18068.00      18068.00   \n",
       "mean    842.87    24.89   3070.66     17.80     6.49          7.28   \n",
       "std     434.73     4.58   1116.83      6.10     3.44          0.96   \n",
       "min       1.00    12.00      0.86      0.00     1.00          6.00   \n",
       "25%     487.00    22.00   2543.23     14.00     4.00          6.00   \n",
       "50%     889.00    25.00   3133.61     18.00     6.00          8.00   \n",
       "75%    1213.25    28.00   3776.22     22.00     9.00          8.00   \n",
       "max    1534.00    43.00   7211.01     41.00    12.00          8.00   \n",
       "\n",
       "       start_ride_price  subscription_fee  \n",
       "count          18068.00          18068.00  \n",
       "mean              32.01             71.59  \n",
       "std               24.00             95.51  \n",
       "min                0.00              0.00  \n",
       "25%                0.00              0.00  \n",
       "50%               50.00              0.00  \n",
       "75%               50.00            199.00  \n",
       "max               50.00            199.00  "
      ]
     },
     "execution_count": 22,
     "metadata": {},
     "output_type": "execute_result"
    }
   ],
   "source": [
    "display(df.head())\n",
    "df.info()\n",
    "df.describe()"
   ]
  },
  {
   "cell_type": "markdown",
   "id": "7398c10d",
   "metadata": {},
   "source": [
    "Теперь создадим два отдельных датафрейма для пользователей с подпиской и без неё."
   ]
  },
  {
   "cell_type": "code",
   "execution_count": 23,
   "id": "772b4798",
   "metadata": {},
   "outputs": [
    {
     "data": {
      "text/html": [
       "<div>\n",
       "<style scoped>\n",
       "    .dataframe tbody tr th:only-of-type {\n",
       "        vertical-align: middle;\n",
       "    }\n",
       "\n",
       "    .dataframe tbody tr th {\n",
       "        vertical-align: top;\n",
       "    }\n",
       "\n",
       "    .dataframe thead th {\n",
       "        text-align: right;\n",
       "    }\n",
       "</style>\n",
       "<table border=\"1\" class=\"dataframe\">\n",
       "  <thead>\n",
       "    <tr style=\"text-align: right;\">\n",
       "      <th></th>\n",
       "      <th>user_id</th>\n",
       "      <th>name</th>\n",
       "      <th>age</th>\n",
       "      <th>city</th>\n",
       "      <th>subscription_type</th>\n",
       "      <th>distance</th>\n",
       "      <th>duration</th>\n",
       "      <th>date</th>\n",
       "      <th>month</th>\n",
       "      <th>minute_price</th>\n",
       "      <th>start_ride_price</th>\n",
       "      <th>subscription_fee</th>\n",
       "    </tr>\n",
       "  </thead>\n",
       "  <tbody>\n",
       "    <tr>\n",
       "      <th>6500</th>\n",
       "      <td>700</td>\n",
       "      <td>Айдар</td>\n",
       "      <td>22</td>\n",
       "      <td>Омск</td>\n",
       "      <td>free</td>\n",
       "      <td>2515.69</td>\n",
       "      <td>15</td>\n",
       "      <td>2021-01-02</td>\n",
       "      <td>1</td>\n",
       "      <td>8</td>\n",
       "      <td>50</td>\n",
       "      <td>0</td>\n",
       "    </tr>\n",
       "    <tr>\n",
       "      <th>6501</th>\n",
       "      <td>700</td>\n",
       "      <td>Айдар</td>\n",
       "      <td>22</td>\n",
       "      <td>Омск</td>\n",
       "      <td>free</td>\n",
       "      <td>846.93</td>\n",
       "      <td>16</td>\n",
       "      <td>2021-02-01</td>\n",
       "      <td>2</td>\n",
       "      <td>8</td>\n",
       "      <td>50</td>\n",
       "      <td>0</td>\n",
       "    </tr>\n",
       "    <tr>\n",
       "      <th>6502</th>\n",
       "      <td>700</td>\n",
       "      <td>Айдар</td>\n",
       "      <td>22</td>\n",
       "      <td>Омск</td>\n",
       "      <td>free</td>\n",
       "      <td>4004.43</td>\n",
       "      <td>20</td>\n",
       "      <td>2021-02-04</td>\n",
       "      <td>2</td>\n",
       "      <td>8</td>\n",
       "      <td>50</td>\n",
       "      <td>0</td>\n",
       "    </tr>\n",
       "    <tr>\n",
       "      <th>6503</th>\n",
       "      <td>700</td>\n",
       "      <td>Айдар</td>\n",
       "      <td>22</td>\n",
       "      <td>Омск</td>\n",
       "      <td>free</td>\n",
       "      <td>1205.91</td>\n",
       "      <td>10</td>\n",
       "      <td>2021-02-10</td>\n",
       "      <td>2</td>\n",
       "      <td>8</td>\n",
       "      <td>50</td>\n",
       "      <td>0</td>\n",
       "    </tr>\n",
       "    <tr>\n",
       "      <th>6504</th>\n",
       "      <td>700</td>\n",
       "      <td>Айдар</td>\n",
       "      <td>22</td>\n",
       "      <td>Омск</td>\n",
       "      <td>free</td>\n",
       "      <td>3047.38</td>\n",
       "      <td>17</td>\n",
       "      <td>2021-02-14</td>\n",
       "      <td>2</td>\n",
       "      <td>8</td>\n",
       "      <td>50</td>\n",
       "      <td>0</td>\n",
       "    </tr>\n",
       "  </tbody>\n",
       "</table>\n",
       "</div>"
      ],
      "text/plain": [
       "      user_id   name  age  city subscription_type  distance  duration  \\\n",
       "6500      700  Айдар   22  Омск              free   2515.69        15   \n",
       "6501      700  Айдар   22  Омск              free    846.93        16   \n",
       "6502      700  Айдар   22  Омск              free   4004.43        20   \n",
       "6503      700  Айдар   22  Омск              free   1205.91        10   \n",
       "6504      700  Айдар   22  Омск              free   3047.38        17   \n",
       "\n",
       "           date  month  minute_price  start_ride_price  subscription_fee  \n",
       "6500 2021-01-02      1             8                50                 0  \n",
       "6501 2021-02-01      2             8                50                 0  \n",
       "6502 2021-02-04      2             8                50                 0  \n",
       "6503 2021-02-10      2             8                50                 0  \n",
       "6504 2021-02-14      2             8                50                 0  "
      ]
     },
     "metadata": {},
     "output_type": "display_data"
    },
    {
     "data": {
      "text/html": [
       "<div>\n",
       "<style scoped>\n",
       "    .dataframe tbody tr th:only-of-type {\n",
       "        vertical-align: middle;\n",
       "    }\n",
       "\n",
       "    .dataframe tbody tr th {\n",
       "        vertical-align: top;\n",
       "    }\n",
       "\n",
       "    .dataframe thead th {\n",
       "        text-align: right;\n",
       "    }\n",
       "</style>\n",
       "<table border=\"1\" class=\"dataframe\">\n",
       "  <thead>\n",
       "    <tr style=\"text-align: right;\">\n",
       "      <th></th>\n",
       "      <th>user_id</th>\n",
       "      <th>name</th>\n",
       "      <th>age</th>\n",
       "      <th>city</th>\n",
       "      <th>subscription_type</th>\n",
       "      <th>distance</th>\n",
       "      <th>duration</th>\n",
       "      <th>date</th>\n",
       "      <th>month</th>\n",
       "      <th>minute_price</th>\n",
       "      <th>start_ride_price</th>\n",
       "      <th>subscription_fee</th>\n",
       "    </tr>\n",
       "  </thead>\n",
       "  <tbody>\n",
       "    <tr>\n",
       "      <th>0</th>\n",
       "      <td>1</td>\n",
       "      <td>Кира</td>\n",
       "      <td>22</td>\n",
       "      <td>Тюмень</td>\n",
       "      <td>ultra</td>\n",
       "      <td>4409.92</td>\n",
       "      <td>26</td>\n",
       "      <td>2021-01-01</td>\n",
       "      <td>1</td>\n",
       "      <td>6</td>\n",
       "      <td>0</td>\n",
       "      <td>199</td>\n",
       "    </tr>\n",
       "    <tr>\n",
       "      <th>1</th>\n",
       "      <td>1</td>\n",
       "      <td>Кира</td>\n",
       "      <td>22</td>\n",
       "      <td>Тюмень</td>\n",
       "      <td>ultra</td>\n",
       "      <td>2617.59</td>\n",
       "      <td>16</td>\n",
       "      <td>2021-01-18</td>\n",
       "      <td>1</td>\n",
       "      <td>6</td>\n",
       "      <td>0</td>\n",
       "      <td>199</td>\n",
       "    </tr>\n",
       "    <tr>\n",
       "      <th>2</th>\n",
       "      <td>1</td>\n",
       "      <td>Кира</td>\n",
       "      <td>22</td>\n",
       "      <td>Тюмень</td>\n",
       "      <td>ultra</td>\n",
       "      <td>754.16</td>\n",
       "      <td>6</td>\n",
       "      <td>2021-04-20</td>\n",
       "      <td>4</td>\n",
       "      <td>6</td>\n",
       "      <td>0</td>\n",
       "      <td>199</td>\n",
       "    </tr>\n",
       "    <tr>\n",
       "      <th>3</th>\n",
       "      <td>1</td>\n",
       "      <td>Кира</td>\n",
       "      <td>22</td>\n",
       "      <td>Тюмень</td>\n",
       "      <td>ultra</td>\n",
       "      <td>2694.78</td>\n",
       "      <td>19</td>\n",
       "      <td>2021-08-11</td>\n",
       "      <td>8</td>\n",
       "      <td>6</td>\n",
       "      <td>0</td>\n",
       "      <td>199</td>\n",
       "    </tr>\n",
       "    <tr>\n",
       "      <th>4</th>\n",
       "      <td>1</td>\n",
       "      <td>Кира</td>\n",
       "      <td>22</td>\n",
       "      <td>Тюмень</td>\n",
       "      <td>ultra</td>\n",
       "      <td>4028.69</td>\n",
       "      <td>26</td>\n",
       "      <td>2021-08-28</td>\n",
       "      <td>8</td>\n",
       "      <td>6</td>\n",
       "      <td>0</td>\n",
       "      <td>199</td>\n",
       "    </tr>\n",
       "  </tbody>\n",
       "</table>\n",
       "</div>"
      ],
      "text/plain": [
       "   user_id  name  age    city subscription_type  distance  duration  \\\n",
       "0        1  Кира   22  Тюмень             ultra   4409.92        26   \n",
       "1        1  Кира   22  Тюмень             ultra   2617.59        16   \n",
       "2        1  Кира   22  Тюмень             ultra    754.16         6   \n",
       "3        1  Кира   22  Тюмень             ultra   2694.78        19   \n",
       "4        1  Кира   22  Тюмень             ultra   4028.69        26   \n",
       "\n",
       "        date  month  minute_price  start_ride_price  subscription_fee  \n",
       "0 2021-01-01      1             6                 0               199  \n",
       "1 2021-01-18      1             6                 0               199  \n",
       "2 2021-04-20      4             6                 0               199  \n",
       "3 2021-08-11      8             6                 0               199  \n",
       "4 2021-08-28      8             6                 0               199  "
      ]
     },
     "execution_count": 23,
     "metadata": {},
     "output_type": "execute_result"
    }
   ],
   "source": [
    "free_users = df.query(\"subscription_type == 'free'\")\n",
    "paid_users = df.query(\"subscription_type == 'ultra'\")\n",
    "\n",
    "display(free_users.head())\n",
    "paid_users.head()\n"
   ]
  },
  {
   "cell_type": "code",
   "execution_count": 24,
   "id": "92a674d5",
   "metadata": {},
   "outputs": [
    {
     "name": "stdout",
     "output_type": "stream",
     "text": [
      "Медианная дистанция поездок для пользователей без подписки: 3114 метров.\n",
      "Медианная дистанция поездок для пользователей с подпиской: 3148 метров.\n"
     ]
    },
    {
     "data": {
      "image/png": "[encoded data removed]",
      "text/plain": [
       "<Figure size 432x288 with 1 Axes>"
      ]
     },
     "metadata": {
      "needs_background": "light"
     },
     "output_type": "display_data"
    }
   ],
   "source": [
    "free_users['distance'].hist(bins=200,label='Без подписки')\n",
    "paid_users['distance'].hist(bins=200,label='С подпиской')\n",
    "plt.legend(fontsize=10)\n",
    "plt.xlabel(\"Расстояние\")\n",
    "plt.ylabel(\"Количество поездок\")\n",
    "plt.title('Расстояние, которое пользователи преодолевают за одну поездку');\n",
    "print('Медианная дистанция поездок для пользователей без подписки:',free_users['distance'].median().astype('int'),'метров.')\n",
    "print('Медианная дистанция поездок для пользователей с подпиской:',paid_users['distance'].median().astype('int'),'метров.')"
   ]
  },
  {
   "cell_type": "code",
   "execution_count": 25,
   "id": "ef040e6d",
   "metadata": {
    "scrolled": true
   },
   "outputs": [
    {
     "name": "stdout",
     "output_type": "stream",
     "text": [
      "Пользователи без подписки чаще всего тратят на поездку: 17 минут.\n",
      "Пользователи с подпиской чаще всего тратят на поездку: 18 минут.\n"
     ]
    },
    {
     "data": {
      "image/png": "[encoded data removed]",
      "text/plain": [
       "<Figure size 432x288 with 1 Axes>"
      ]
     },
     "metadata": {
      "needs_background": "light"
     },
     "output_type": "display_data"
    }
   ],
   "source": [
    "free_users['duration'].hist(bins=200,label='Без подписки');\n",
    "paid_users['duration'].hist(bins=200,label='С подпиской');\n",
    "plt.legend(fontsize=10)\n",
    "plt.xlabel(\"Продолжтельность\")\n",
    "plt.ylabel(\"Количество поездок\")\n",
    "plt.title('Длительность поездок');\n",
    "print('Пользователи без подписки чаще всего тратят на поездку:',free_users['duration'].mode().mean().astype('int'),'минут.')\n",
    "print('Пользователи с подпиской чаще всего тратят на поездку:',paid_users['duration'].mode().mean().astype('int'),'минут.')"
   ]
  },
  {
   "cell_type": "markdown",
   "id": "cff8c9c0",
   "metadata": {},
   "source": [
    "В целом дальность и длительность поездок пользователей с подпиской и без очень похожи."
   ]
  },
  {
   "cell_type": "markdown",
   "id": "66738b10",
   "metadata": {},
   "source": [
    "#### Шаг 5. Подсчёт выручки"
   ]
  },
  {
   "cell_type": "markdown",
   "id": "77dd9058",
   "metadata": {},
   "source": [
    "Объединим данные о поездках пользователей по месяцам, просуммируем продолжительность всех поездок в рамках каждого месяца."
   ]
  },
  {
   "cell_type": "code",
   "execution_count": 26,
   "id": "58a89138",
   "metadata": {},
   "outputs": [
    {
     "data": {
      "text/html": [
       "<div>\n",
       "<style scoped>\n",
       "    .dataframe tbody tr th:only-of-type {\n",
       "        vertical-align: middle;\n",
       "    }\n",
       "\n",
       "    .dataframe tbody tr th {\n",
       "        vertical-align: top;\n",
       "    }\n",
       "\n",
       "    .dataframe thead th {\n",
       "        text-align: right;\n",
       "    }\n",
       "</style>\n",
       "<table border=\"1\" class=\"dataframe\">\n",
       "  <thead>\n",
       "    <tr style=\"text-align: right;\">\n",
       "      <th></th>\n",
       "      <th></th>\n",
       "      <th></th>\n",
       "      <th>distance</th>\n",
       "      <th>month_rides_duration</th>\n",
       "      <th>rides_total_in_month</th>\n",
       "    </tr>\n",
       "    <tr>\n",
       "      <th>user_id</th>\n",
       "      <th>month</th>\n",
       "      <th>subscription_type</th>\n",
       "      <th></th>\n",
       "      <th></th>\n",
       "      <th></th>\n",
       "    </tr>\n",
       "  </thead>\n",
       "  <tbody>\n",
       "    <tr>\n",
       "      <th rowspan=\"5\" valign=\"top\">700</th>\n",
       "      <th>1</th>\n",
       "      <th>free</th>\n",
       "      <td>2515.69</td>\n",
       "      <td>15</td>\n",
       "      <td>1</td>\n",
       "    </tr>\n",
       "    <tr>\n",
       "      <th>2</th>\n",
       "      <th>free</th>\n",
       "      <td>13446.66</td>\n",
       "      <td>85</td>\n",
       "      <td>5</td>\n",
       "    </tr>\n",
       "    <tr>\n",
       "      <th>3</th>\n",
       "      <th>free</th>\n",
       "      <td>3798.33</td>\n",
       "      <td>18</td>\n",
       "      <td>1</td>\n",
       "    </tr>\n",
       "    <tr>\n",
       "      <th>4</th>\n",
       "      <th>free</th>\n",
       "      <td>2984.55</td>\n",
       "      <td>15</td>\n",
       "      <td>1</td>\n",
       "    </tr>\n",
       "    <tr>\n",
       "      <th>6</th>\n",
       "      <th>free</th>\n",
       "      <td>5927.65</td>\n",
       "      <td>28</td>\n",
       "      <td>2</td>\n",
       "    </tr>\n",
       "  </tbody>\n",
       "</table>\n",
       "</div>"
      ],
      "text/plain": [
       "                                 distance  month_rides_duration  \\\n",
       "user_id month subscription_type                                   \n",
       "700     1     free                2515.69                    15   \n",
       "        2     free               13446.66                    85   \n",
       "        3     free                3798.33                    18   \n",
       "        4     free                2984.55                    15   \n",
       "        6     free                5927.65                    28   \n",
       "\n",
       "                                 rides_total_in_month  \n",
       "user_id month subscription_type                        \n",
       "700     1     free                                  1  \n",
       "        2     free                                  5  \n",
       "        3     free                                  1  \n",
       "        4     free                                  1  \n",
       "        6     free                                  2  "
      ]
     },
     "metadata": {},
     "output_type": "display_data"
    },
    {
     "data": {
      "text/html": [
       "<div>\n",
       "<style scoped>\n",
       "    .dataframe tbody tr th:only-of-type {\n",
       "        vertical-align: middle;\n",
       "    }\n",
       "\n",
       "    .dataframe tbody tr th {\n",
       "        vertical-align: top;\n",
       "    }\n",
       "\n",
       "    .dataframe thead th {\n",
       "        text-align: right;\n",
       "    }\n",
       "</style>\n",
       "<table border=\"1\" class=\"dataframe\">\n",
       "  <thead>\n",
       "    <tr style=\"text-align: right;\">\n",
       "      <th></th>\n",
       "      <th></th>\n",
       "      <th></th>\n",
       "      <th>distance</th>\n",
       "      <th>month_rides_duration</th>\n",
       "      <th>rides_total_in_month</th>\n",
       "    </tr>\n",
       "    <tr>\n",
       "      <th>user_id</th>\n",
       "      <th>month</th>\n",
       "      <th>subscription_type</th>\n",
       "      <th></th>\n",
       "      <th></th>\n",
       "      <th></th>\n",
       "    </tr>\n",
       "  </thead>\n",
       "  <tbody>\n",
       "    <tr>\n",
       "      <th rowspan=\"5\" valign=\"top\">1</th>\n",
       "      <th>1</th>\n",
       "      <th>ultra</th>\n",
       "      <td>7027.51</td>\n",
       "      <td>42</td>\n",
       "      <td>2</td>\n",
       "    </tr>\n",
       "    <tr>\n",
       "      <th>4</th>\n",
       "      <th>ultra</th>\n",
       "      <td>754.16</td>\n",
       "      <td>6</td>\n",
       "      <td>1</td>\n",
       "    </tr>\n",
       "    <tr>\n",
       "      <th>8</th>\n",
       "      <th>ultra</th>\n",
       "      <td>6723.47</td>\n",
       "      <td>45</td>\n",
       "      <td>2</td>\n",
       "    </tr>\n",
       "    <tr>\n",
       "      <th>10</th>\n",
       "      <th>ultra</th>\n",
       "      <td>5809.91</td>\n",
       "      <td>32</td>\n",
       "      <td>2</td>\n",
       "    </tr>\n",
       "    <tr>\n",
       "      <th>11</th>\n",
       "      <th>ultra</th>\n",
       "      <td>7003.50</td>\n",
       "      <td>53</td>\n",
       "      <td>3</td>\n",
       "    </tr>\n",
       "  </tbody>\n",
       "</table>\n",
       "</div>"
      ],
      "text/plain": [
       "                                 distance  month_rides_duration  \\\n",
       "user_id month subscription_type                                   \n",
       "1       1     ultra               7027.51                    42   \n",
       "        4     ultra                754.16                     6   \n",
       "        8     ultra               6723.47                    45   \n",
       "        10    ultra               5809.91                    32   \n",
       "        11    ultra               7003.50                    53   \n",
       "\n",
       "                                 rides_total_in_month  \n",
       "user_id month subscription_type                        \n",
       "1       1     ultra                                 2  \n",
       "        4     ultra                                 1  \n",
       "        8     ultra                                 2  \n",
       "        10    ultra                                 2  \n",
       "        11    ultra                                 3  "
      ]
     },
     "execution_count": 26,
     "metadata": {},
     "output_type": "execute_result"
    }
   ],
   "source": [
    "revenue_free = free_users.groupby(['user_id', 'month','subscription_type'])\\\n",
    ".agg({'distance':'sum','duration':'sum', 'user_id':'count'})\\\n",
    ".rename(columns={'duration':'month_rides_duration','user_id':'rides_total_in_month'})\n",
    "\n",
    "revenue_paid = paid_users.groupby(['user_id', 'month','subscription_type'])\\\n",
    ".agg({'distance':'sum','duration':'sum', 'user_id':'count'})\\\n",
    ".rename(columns={'duration':'month_rides_duration','user_id':'rides_total_in_month'})\n",
    "\n",
    "display(revenue_free.head())\n",
    "revenue_paid.head()"
   ]
  },
  {
   "cell_type": "markdown",
   "id": "0904263a",
   "metadata": {},
   "source": [
    "Напишем функцию для подсчета месячной выручки с каждого пользователя и сольем данные в единый датафрейм с выручкой."
   ]
  },
  {
   "cell_type": "code",
   "execution_count": 27,
   "id": "7483bc90",
   "metadata": {
    "scrolled": true
   },
   "outputs": [
    {
     "data": {
      "text/html": [
       "<div>\n",
       "<style scoped>\n",
       "    .dataframe tbody tr th:only-of-type {\n",
       "        vertical-align: middle;\n",
       "    }\n",
       "\n",
       "    .dataframe tbody tr th {\n",
       "        vertical-align: top;\n",
       "    }\n",
       "\n",
       "    .dataframe thead th {\n",
       "        text-align: right;\n",
       "    }\n",
       "</style>\n",
       "<table border=\"1\" class=\"dataframe\">\n",
       "  <thead>\n",
       "    <tr style=\"text-align: right;\">\n",
       "      <th></th>\n",
       "      <th></th>\n",
       "      <th></th>\n",
       "      <th>distance</th>\n",
       "      <th>month_rides_duration</th>\n",
       "      <th>rides_total_in_month</th>\n",
       "      <th>total_month_fee</th>\n",
       "    </tr>\n",
       "    <tr>\n",
       "      <th>user_id</th>\n",
       "      <th>month</th>\n",
       "      <th>subscription_type</th>\n",
       "      <th></th>\n",
       "      <th></th>\n",
       "      <th></th>\n",
       "      <th></th>\n",
       "    </tr>\n",
       "  </thead>\n",
       "  <tbody>\n",
       "    <tr>\n",
       "      <th rowspan=\"6\" valign=\"top\">1</th>\n",
       "      <th>1</th>\n",
       "      <th>ultra</th>\n",
       "      <td>7027.51</td>\n",
       "      <td>42</td>\n",
       "      <td>2</td>\n",
       "      <td>451.00</td>\n",
       "    </tr>\n",
       "    <tr>\n",
       "      <th>4</th>\n",
       "      <th>ultra</th>\n",
       "      <td>754.16</td>\n",
       "      <td>6</td>\n",
       "      <td>1</td>\n",
       "      <td>235.00</td>\n",
       "    </tr>\n",
       "    <tr>\n",
       "      <th>8</th>\n",
       "      <th>ultra</th>\n",
       "      <td>6723.47</td>\n",
       "      <td>45</td>\n",
       "      <td>2</td>\n",
       "      <td>469.00</td>\n",
       "    </tr>\n",
       "    <tr>\n",
       "      <th>10</th>\n",
       "      <th>ultra</th>\n",
       "      <td>5809.91</td>\n",
       "      <td>32</td>\n",
       "      <td>2</td>\n",
       "      <td>391.00</td>\n",
       "    </tr>\n",
       "    <tr>\n",
       "      <th>11</th>\n",
       "      <th>ultra</th>\n",
       "      <td>7003.50</td>\n",
       "      <td>53</td>\n",
       "      <td>3</td>\n",
       "      <td>517.00</td>\n",
       "    </tr>\n",
       "    <tr>\n",
       "      <th>12</th>\n",
       "      <th>ultra</th>\n",
       "      <td>6751.63</td>\n",
       "      <td>28</td>\n",
       "      <td>2</td>\n",
       "      <td>367.00</td>\n",
       "    </tr>\n",
       "    <tr>\n",
       "      <th rowspan=\"4\" valign=\"top\">2</th>\n",
       "      <th>3</th>\n",
       "      <th>ultra</th>\n",
       "      <td>10187.72</td>\n",
       "      <td>61</td>\n",
       "      <td>3</td>\n",
       "      <td>565.00</td>\n",
       "    </tr>\n",
       "    <tr>\n",
       "      <th>4</th>\n",
       "      <th>ultra</th>\n",
       "      <td>6164.38</td>\n",
       "      <td>39</td>\n",
       "      <td>2</td>\n",
       "      <td>433.00</td>\n",
       "    </tr>\n",
       "    <tr>\n",
       "      <th>6</th>\n",
       "      <th>ultra</th>\n",
       "      <td>3255.34</td>\n",
       "      <td>14</td>\n",
       "      <td>1</td>\n",
       "      <td>283.00</td>\n",
       "    </tr>\n",
       "    <tr>\n",
       "      <th>7</th>\n",
       "      <th>ultra</th>\n",
       "      <td>6780.72</td>\n",
       "      <td>46</td>\n",
       "      <td>2</td>\n",
       "      <td>475.00</td>\n",
       "    </tr>\n",
       "  </tbody>\n",
       "</table>\n",
       "</div>"
      ],
      "text/plain": [
       "                                 distance  month_rides_duration  \\\n",
       "user_id month subscription_type                                   \n",
       "1       1     ultra               7027.51                    42   \n",
       "        4     ultra                754.16                     6   \n",
       "        8     ultra               6723.47                    45   \n",
       "        10    ultra               5809.91                    32   \n",
       "        11    ultra               7003.50                    53   \n",
       "        12    ultra               6751.63                    28   \n",
       "2       3     ultra              10187.72                    61   \n",
       "        4     ultra               6164.38                    39   \n",
       "        6     ultra               3255.34                    14   \n",
       "        7     ultra               6780.72                    46   \n",
       "\n",
       "                                 rides_total_in_month  total_month_fee  \n",
       "user_id month subscription_type                                         \n",
       "1       1     ultra                                 2           451.00  \n",
       "        4     ultra                                 1           235.00  \n",
       "        8     ultra                                 2           469.00  \n",
       "        10    ultra                                 2           391.00  \n",
       "        11    ultra                                 3           517.00  \n",
       "        12    ultra                                 2           367.00  \n",
       "2       3     ultra                                 3           565.00  \n",
       "        4     ultra                                 2           433.00  \n",
       "        6     ultra                                 1           283.00  \n",
       "        7     ultra                                 2           475.00  "
      ]
     },
     "execution_count": 27,
     "metadata": {},
     "output_type": "execute_result"
    }
   ],
   "source": [
    "def costs_f(row):\n",
    "    fee = (row['month_rides_duration'] * 8) + (row['rides_total_in_month'] * 50)\n",
    "    total = 0\n",
    "    for i in [fee]:\n",
    "        if i > 0:\n",
    "            total += i\n",
    "    return total\n",
    "\n",
    "def costs_p(row):\n",
    "    fee = 199 + (row['month_rides_duration'] * 6)\n",
    "    total = 0\n",
    "    for i in [fee]:\n",
    "        if i > 0:\n",
    "            total += i\n",
    "    return total\n",
    "\n",
    "revenue_free['total_month_fee'] = revenue_free.apply(costs_f, axis=1)\n",
    "revenue_paid['total_month_fee'] = revenue_paid.apply(costs_p, axis=1)\n",
    "revenue = pd.concat([revenue_free, revenue_paid]).sort_index()\n",
    "\n",
    "\n",
    "revenue.head(10)"
   ]
  },
  {
   "cell_type": "markdown",
   "id": "cf55f852",
   "metadata": {},
   "source": [
    "#### Шаг 6. Проверка гипотез"
   ]
  },
  {
   "cell_type": "markdown",
   "id": "7adf949a",
   "metadata": {},
   "source": [
    "Важно понять, тратят ли пользователи с подпиской больше времени на поездки?\n",
    "\n",
    "Сравниваем время поездок платных пользователей с бесплатными, значит первая гипотеза будет звучать так:\n",
    "- Н0 Средняя продолжительность поездок пользователей с подпиской и без равны\n",
    "- Н1 Средняя продолжительность поездок пользователей с подпиской больше, чем средняя продолжительность поездок пользователей без подписки"
   ]
  },
  {
   "cell_type": "code",
   "execution_count": 28,
   "id": "656c64c4",
   "metadata": {},
   "outputs": [
    {
     "name": "stdout",
     "output_type": "stream",
     "text": [
      "p-значение: 6.320137887122363e-35\n",
      "Отвергаем нулевую гипотезу\n",
      "Среднее время поездок для пользователей без подписки: 17.0\n",
      "Среднее время поездок для пользователей c подпиской: 19.0\n"
     ]
    }
   ],
   "source": [
    "paid_duration = paid_users['duration']\n",
    "\n",
    "free_duration = free_users['duration']\n",
    "\n",
    "\n",
    "alpha = 0.05\n",
    " \n",
    "results = st.ttest_ind(paid_duration, free_duration)\n",
    " \n",
    "print('p-значение:', results.pvalue)\n",
    " \n",
    "if (results.pvalue/2) < alpha:\n",
    "    print('Отвергаем нулевую гипотезу')\n",
    "else:\n",
    "    print('Не получилось отвергнуть нулевую гипотезу')\n",
    "\n",
    "print('Среднее время поездок для пользователей без подписки:', free_users['duration'].mean().round())\n",
    "print('Среднее время поездок для пользователей c подпиской:', paid_users['duration'].mean().round())"
   ]
  },
  {
   "cell_type": "markdown",
   "id": "50d9ae52",
   "metadata": {},
   "source": [
    "Благодаря тесту отвергли гипотезу о равентсве среднего времени поездки для пользователей с подпиской и без. По средним значениям видим, что среднее время поездок для пользователей c подпиской больше. "
   ]
  },
  {
   "cell_type": "markdown",
   "id": "d7db1152",
   "metadata": {},
   "source": [
    "Можно ли сказать, что расстояние, которое проезжают пользователи с подпиской за одну поездку, не превышает 3130 метров? \n",
    "\n",
    "Вторая гипотеза будет звучать так:\n",
    "- Н0 Расстояние, которое проезжают пользователи с подпиской за одну поездку, равно 3130 метрам\n",
    "\n",
    "- Н1 Расстояние, которое проезжают пользователи с подпиской за одну поездку, меньше 3130 метров"
   ]
  },
  {
   "cell_type": "code",
   "execution_count": 29,
   "id": "d5083e91",
   "metadata": {
    "scrolled": true
   },
   "outputs": [
    {
     "name": "stdout",
     "output_type": "stream",
     "text": [
      "p-значение: 0.08046311521502146\n",
      "Не отвергаем нулевую гипотезу\n",
      "Среднее расстояние поездок для пользователей c подпиской: 3115.0\n"
     ]
    }
   ],
   "source": [
    "paid_distance = paid_users['distance']\n",
    "\n",
    "opt_distance = 3130\n",
    "\n",
    "alpha = 0.05 # уровень статистической значимости\n",
    "\n",
    "results = st.ttest_1samp(\n",
    "    paid_distance, \n",
    "    opt_distance,\n",
    "      alternative='less')\n",
    "\n",
    "print('p-значение:', results.pvalue)\n",
    "\n",
    "if (results.pvalue < alpha):\n",
    "    print('Отвергаем нулевую гипотезу')\n",
    "else:\n",
    "    print('Не отвергаем нулевую гипотезу') \n",
    "\n",
    "print('Среднее расстояние поездок для пользователей c подпиской:', paid_users['distance'].mean().round())"
   ]
  },
  {
   "cell_type": "markdown",
   "id": "5efcb7c4",
   "metadata": {},
   "source": [
    "Тест и среднее значение показывают, что пользователи с подпиской, в среднем, ездят на расстояние не превышающее 3130 метров."
   ]
  },
  {
   "cell_type": "markdown",
   "id": "332156c6",
   "metadata": {},
   "source": [
    "Помесячная выручка от пользователей с подпиской по месяцам выше, чем выручка от пользователей без подписки.\n",
    "\n",
    "Сформулируем третью гипотезу:\n",
    "\n",
    "- Н0 Выручка от пользователей с подпиской и выручка от пользователей без подписки равны\n",
    "\n",
    "- Н1 Выручка от пользователей с подпиской выше, чем выручка от пользователей без подписки"
   ]
  },
  {
   "cell_type": "code",
   "execution_count": 30,
   "id": "0f3d258e",
   "metadata": {},
   "outputs": [
    {
     "name": "stdout",
     "output_type": "stream",
     "text": [
      "p-значение: 3.454813975677593e-37\n",
      "Отвергаем нулевую гипотезу\n",
      "Средняя помесячная выручка пользователей без подписки: 322.0\n",
      "Средняя помесячная выручка пользователей c подпиской: 359.0\n"
     ]
    }
   ],
   "source": [
    "paid_fee = revenue_paid['total_month_fee']\n",
    "\n",
    "free_fee = revenue_free['total_month_fee']\n",
    "\n",
    "\n",
    "alpha = 0.05\n",
    " \n",
    "results = st.ttest_ind(paid_fee, free_fee)\n",
    " \n",
    "print('p-значение:', results.pvalue)\n",
    " \n",
    "if (results.pvalue/2) < alpha:\n",
    "    print('Отвергаем нулевую гипотезу')\n",
    "else:\n",
    "    print('Не получилось отвергнуть нулевую гипотезу')\n",
    "\n",
    "print('Средняя помесячная выручка пользователей без подписки:', revenue_free['total_month_fee'].mean().round())\n",
    "print('Средняя помесячная выручка пользователей c подпиской:', revenue_paid['total_month_fee'].mean().round())\n"
   ]
  },
  {
   "cell_type": "markdown",
   "id": "3f6989ab",
   "metadata": {},
   "source": [
    "Благодаря тесту отвергли гипотезу о равентсве средней выручки от пользователей с подпиской и без. По средним значениям видим, что средняя выручка от пользователей c подпиской больше. "
   ]
  },
  {
   "cell_type": "markdown",
   "id": "887e08fe",
   "metadata": {},
   "source": [
    "# Задача 6.4\n",
    "Представьте такую ситуацию: техническая команда сервиса обновила сервера, с которыми взаимодействует мобильное приложение. \n",
    "Она надеется, что из-за этого количество обращений в техподдержку значимо снизилось. \n",
    "Некоторый файл содержит для каждого пользователя данные о количестве обращений до обновления и после него. \n",
    "Какой тест вам понадобился бы для проверки этой гипотезы?"
   ]
  },
  {
   "cell_type": "markdown",
   "id": "13d9d32f",
   "metadata": {},
   "source": [
    "Тут подойдет Т-тест для парных выборок st.ttest_rel(before, after)."
   ]
  },
  {
   "cell_type": "markdown",
   "id": "61213c5e",
   "metadata": {},
   "source": [
    "#### Шаг 7. Выводы"
   ]
  },
  {
   "cell_type": "markdown",
   "id": "f54d792a",
   "metadata": {},
   "source": [
    "Мы проанализировали данные сервиса аренды самокатов, провели предобработку данных и построили графики, посчитали выручку и проверили несколько гипотез.\n",
    "\n",
    "- География\n",
    "\n",
    "Не проглядывается какой-то зависимости популярности сервиса от города или климатической зоны, в которой этот город находится. Больше всего пользователей из Пятигорска, меньше всего из Москвы. \n",
    "\n",
    "- Как часто люди покупают подписку\n",
    "\n",
    "Пользователей без подписки всего на 8.8 п.п. (138 человек) больше.\n",
    "\n",
    "- Аудитория\n",
    "\n",
    "Основная масса пользователей сервиса — это люди 22-27 лет. Самые юные пользователи 12-ти лет, самые возрастные - 43-х.\n",
    "\n",
    "- Поездки\n",
    "\n",
    "Стандартная дальность поездки в районе 2,5 - 3,5 километров и продолжительность около 12-21 минут.\n",
    "В целом дальность и длительность поездок пользователей с подпиской и без очень похожи.\n",
    "\n",
    "- Гипотезы, которые были отвергнуты:\n",
    "\n",
    "1. Средняя продолжительность поездок пользователей с подпиской и без равны.\n",
    "\n",
    "2. Выручка от пользователей с подпиской и выручка от пользователей без подписки равны.\n",
    "\n",
    "- Гипотезы, которые не были отвергнуты:\n",
    "\n",
    "1. Средняя продолжительность поездок пользователей с подпиской больше, чем средняя продолжительность поездок пользователей без подписки.\n",
    "\n",
    "2. Расстояние, которое проезжают пользователи с подпиской за одну поездку, меньше или равно 3130 метрам.\n",
    "\n",
    "3. Выручка от пользователей с подпиской выше, чем выручка от пользователей без подписки.\n"
   ]
  }
 ],
 "metadata": {
  "ExecuteTimeLog": [
   {
    "duration": 59,
    "start_time": "2023-04-25T12:44:30.002Z"
   },
   {
    "duration": 1392,
    "start_time": "2023-04-25T12:44:32.214Z"
   },
   {
    "duration": 231,
    "start_time": "2023-04-25T12:44:33.608Z"
   },
   {
    "duration": 95,
    "start_time": "2023-04-25T12:44:59.089Z"
   },
   {
    "duration": 98,
    "start_time": "2023-04-25T12:45:12.482Z"
   },
   {
    "duration": 105,
    "start_time": "2023-04-25T12:45:16.706Z"
   },
   {
    "duration": 91,
    "start_time": "2023-04-25T12:45:22.041Z"
   },
   {
    "duration": 96,
    "start_time": "2023-04-25T12:45:24.646Z"
   },
   {
    "duration": 104,
    "start_time": "2023-04-25T12:45:29.910Z"
   },
   {
    "duration": 73,
    "start_time": "2023-04-25T12:46:47.782Z"
   },
   {
    "duration": 3,
    "start_time": "2023-04-25T12:47:25.098Z"
   },
   {
    "duration": 111,
    "start_time": "2023-04-25T12:47:27.348Z"
   },
   {
    "duration": 9,
    "start_time": "2023-04-25T12:47:28.725Z"
   },
   {
    "duration": 16,
    "start_time": "2023-04-25T12:47:38.282Z"
   },
   {
    "duration": 36,
    "start_time": "2023-04-25T12:48:01.180Z"
   },
   {
    "duration": 27,
    "start_time": "2023-04-25T12:48:53.518Z"
   },
   {
    "duration": 89,
    "start_time": "2023-04-25T12:49:47.896Z"
   },
   {
    "duration": 73,
    "start_time": "2023-04-25T12:50:04.471Z"
   },
   {
    "duration": 93,
    "start_time": "2023-04-25T12:50:25.306Z"
   },
   {
    "duration": 102,
    "start_time": "2023-04-25T12:50:36.294Z"
   },
   {
    "duration": 1324,
    "start_time": "2023-04-25T12:51:14.107Z"
   },
   {
    "duration": 102,
    "start_time": "2023-04-25T12:51:15.433Z"
   },
   {
    "duration": 47,
    "start_time": "2023-04-25T12:51:15.537Z"
   },
   {
    "duration": 26,
    "start_time": "2023-04-25T12:51:15.586Z"
   },
   {
    "duration": 64,
    "start_time": "2023-04-25T12:51:15.613Z"
   },
   {
    "duration": 53,
    "start_time": "2023-04-25T12:51:28.039Z"
   },
   {
    "duration": 888,
    "start_time": "2023-04-25T12:52:03.330Z"
   },
   {
    "duration": 391,
    "start_time": "2023-04-25T12:52:13.113Z"
   },
   {
    "duration": 286,
    "start_time": "2023-04-25T12:52:19.606Z"
   },
   {
    "duration": 296,
    "start_time": "2023-04-25T12:52:26.110Z"
   },
   {
    "duration": 357,
    "start_time": "2023-04-25T12:52:30.337Z"
   },
   {
    "duration": 377,
    "start_time": "2023-04-25T12:52:42.510Z"
   },
   {
    "duration": 384,
    "start_time": "2023-04-25T12:52:50.934Z"
   },
   {
    "duration": 414,
    "start_time": "2023-04-25T12:53:00.528Z"
   },
   {
    "duration": 436,
    "start_time": "2023-04-25T12:53:05.468Z"
   },
   {
    "duration": 10,
    "start_time": "2023-04-25T12:56:48.876Z"
   },
   {
    "duration": 7,
    "start_time": "2023-04-25T12:57:16.217Z"
   },
   {
    "duration": 9,
    "start_time": "2023-04-25T12:57:28.827Z"
   },
   {
    "duration": 11,
    "start_time": "2023-04-25T12:57:44.276Z"
   },
   {
    "duration": 1286,
    "start_time": "2023-04-25T12:58:50.599Z"
   },
   {
    "duration": 115,
    "start_time": "2023-04-25T12:58:51.887Z"
   },
   {
    "duration": 34,
    "start_time": "2023-04-25T12:58:52.004Z"
   },
   {
    "duration": 45,
    "start_time": "2023-04-25T12:58:52.040Z"
   },
   {
    "duration": 36,
    "start_time": "2023-04-25T12:58:52.088Z"
   },
   {
    "duration": 312,
    "start_time": "2023-04-25T12:58:52.125Z"
   },
   {
    "duration": 392,
    "start_time": "2023-04-25T12:58:52.439Z"
   },
   {
    "duration": 13,
    "start_time": "2023-04-25T12:58:52.833Z"
   },
   {
    "duration": 134,
    "start_time": "2023-04-25T12:59:33.598Z"
   },
   {
    "duration": 19,
    "start_time": "2023-04-25T12:59:38.819Z"
   },
   {
    "duration": 14,
    "start_time": "2023-04-25T12:59:43.686Z"
   },
   {
    "duration": 22,
    "start_time": "2023-04-25T13:00:01.586Z"
   },
   {
    "duration": 93,
    "start_time": "2023-04-25T13:00:11.932Z"
   },
   {
    "duration": 21,
    "start_time": "2023-04-25T13:00:14.501Z"
   },
   {
    "duration": 23,
    "start_time": "2023-04-25T13:00:25.105Z"
   },
   {
    "duration": 6,
    "start_time": "2023-04-25T13:01:29.680Z"
   },
   {
    "duration": 393,
    "start_time": "2023-04-25T13:01:40.090Z"
   },
   {
    "duration": 31,
    "start_time": "2023-04-25T13:01:44.506Z"
   },
   {
    "duration": 5,
    "start_time": "2023-04-25T13:01:50.313Z"
   },
   {
    "duration": 11,
    "start_time": "2023-04-25T13:02:18.315Z"
   },
   {
    "duration": 19,
    "start_time": "2023-04-25T13:02:32.094Z"
   },
   {
    "duration": 18,
    "start_time": "2023-04-25T13:03:42.190Z"
   },
   {
    "duration": 6,
    "start_time": "2023-04-25T13:04:09.277Z"
   },
   {
    "duration": 42,
    "start_time": "2023-04-25T13:05:23.637Z"
   },
   {
    "duration": 8,
    "start_time": "2023-04-25T13:06:03.229Z"
   },
   {
    "duration": 6,
    "start_time": "2023-04-25T14:53:28.984Z"
   },
   {
    "duration": 10,
    "start_time": "2023-04-25T14:53:41.054Z"
   },
   {
    "duration": 7,
    "start_time": "2023-04-25T14:53:43.827Z"
   },
   {
    "duration": 1166,
    "start_time": "2023-04-25T14:53:56.517Z"
   },
   {
    "duration": 83,
    "start_time": "2023-04-25T14:53:57.685Z"
   },
   {
    "duration": 28,
    "start_time": "2023-04-25T14:53:57.770Z"
   },
   {
    "duration": 54,
    "start_time": "2023-04-25T14:53:57.800Z"
   },
   {
    "duration": 46,
    "start_time": "2023-04-25T14:53:57.856Z"
   },
   {
    "duration": 282,
    "start_time": "2023-04-25T14:53:57.903Z"
   },
   {
    "duration": 330,
    "start_time": "2023-04-25T14:53:58.187Z"
   },
   {
    "duration": 16,
    "start_time": "2023-04-25T14:53:58.519Z"
   },
   {
    "duration": 16,
    "start_time": "2023-04-25T14:53:58.536Z"
   },
   {
    "duration": 13,
    "start_time": "2023-04-25T14:53:58.554Z"
   },
   {
    "duration": 9,
    "start_time": "2023-04-25T14:54:24.890Z"
   },
   {
    "duration": 7,
    "start_time": "2023-04-25T14:54:26.339Z"
   },
   {
    "duration": 9,
    "start_time": "2023-04-25T14:54:28.009Z"
   },
   {
    "duration": 5,
    "start_time": "2023-04-25T14:54:43.603Z"
   },
   {
    "duration": 7,
    "start_time": "2023-04-25T14:54:44.382Z"
   },
   {
    "duration": 4,
    "start_time": "2023-04-25T14:55:10.564Z"
   },
   {
    "duration": 136,
    "start_time": "2023-04-25T14:56:18.218Z"
   },
   {
    "duration": 140,
    "start_time": "2023-04-25T14:56:30.171Z"
   },
   {
    "duration": 104,
    "start_time": "2023-04-25T14:56:53.002Z"
   },
   {
    "duration": 106,
    "start_time": "2023-04-25T14:57:58.658Z"
   },
   {
    "duration": 139,
    "start_time": "2023-04-25T14:58:10.286Z"
   },
   {
    "duration": 178,
    "start_time": "2023-04-25T14:58:15.738Z"
   },
   {
    "duration": 108,
    "start_time": "2023-04-25T14:58:21.129Z"
   },
   {
    "duration": 104,
    "start_time": "2023-04-25T14:58:25.336Z"
   },
   {
    "duration": 102,
    "start_time": "2023-04-25T14:58:32.099Z"
   },
   {
    "duration": 129,
    "start_time": "2023-04-25T14:58:56.361Z"
   },
   {
    "duration": 114,
    "start_time": "2023-04-25T14:59:01.330Z"
   },
   {
    "duration": 118,
    "start_time": "2023-04-25T14:59:06.707Z"
   },
   {
    "duration": 169,
    "start_time": "2023-04-25T14:59:13.896Z"
   },
   {
    "duration": 157,
    "start_time": "2023-04-25T14:59:23.441Z"
   },
   {
    "duration": 139,
    "start_time": "2023-04-25T14:59:48.337Z"
   },
   {
    "duration": 4,
    "start_time": "2023-04-25T15:03:03.533Z"
   },
   {
    "duration": 7,
    "start_time": "2023-04-25T15:03:13.458Z"
   },
   {
    "duration": 6,
    "start_time": "2023-04-25T15:03:37.208Z"
   },
   {
    "duration": 148,
    "start_time": "2023-04-25T15:04:04.723Z"
   },
   {
    "duration": 113,
    "start_time": "2023-04-25T15:07:42.277Z"
   },
   {
    "duration": 191,
    "start_time": "2023-04-25T15:08:06.198Z"
   },
   {
    "duration": 79,
    "start_time": "2023-04-25T15:22:53.506Z"
   },
   {
    "duration": 87,
    "start_time": "2023-04-25T15:23:13.586Z"
   },
   {
    "duration": 107,
    "start_time": "2023-04-25T15:23:19.422Z"
   },
   {
    "duration": 97,
    "start_time": "2023-04-25T15:23:35.238Z"
   },
   {
    "duration": 404,
    "start_time": "2023-04-25T15:24:14.245Z"
   },
   {
    "duration": 116,
    "start_time": "2023-04-25T15:24:28.782Z"
   },
   {
    "duration": 130,
    "start_time": "2023-04-25T15:25:01.094Z"
   },
   {
    "duration": 135,
    "start_time": "2023-04-25T15:25:53.190Z"
   },
   {
    "duration": 297,
    "start_time": "2023-04-25T15:26:10.405Z"
   },
   {
    "duration": 331,
    "start_time": "2023-04-25T15:26:17.698Z"
   },
   {
    "duration": 341,
    "start_time": "2023-04-25T15:27:08.146Z"
   },
   {
    "duration": 139,
    "start_time": "2023-04-25T15:27:39.025Z"
   },
   {
    "duration": 127,
    "start_time": "2023-04-25T15:27:45.545Z"
   },
   {
    "duration": 104,
    "start_time": "2023-04-25T15:27:57.215Z"
   },
   {
    "duration": 117,
    "start_time": "2023-04-25T15:28:06.111Z"
   },
   {
    "duration": 17,
    "start_time": "2023-04-25T15:29:43.861Z"
   },
   {
    "duration": 23,
    "start_time": "2023-04-25T15:29:53.625Z"
   },
   {
    "duration": 35,
    "start_time": "2023-04-25T15:30:04.613Z"
   },
   {
    "duration": 133,
    "start_time": "2023-04-25T15:30:15.624Z"
   },
   {
    "duration": 132,
    "start_time": "2023-04-25T15:30:23.933Z"
   },
   {
    "duration": 69,
    "start_time": "2023-04-25T15:30:39.529Z"
   },
   {
    "duration": 19,
    "start_time": "2023-04-25T15:32:39.361Z"
   },
   {
    "duration": 19,
    "start_time": "2023-04-25T15:33:09.466Z"
   },
   {
    "duration": 17,
    "start_time": "2023-04-25T15:33:19.165Z"
   },
   {
    "duration": 20,
    "start_time": "2023-04-25T15:33:45.812Z"
   },
   {
    "duration": 22,
    "start_time": "2023-04-25T15:33:49.965Z"
   },
   {
    "duration": 26,
    "start_time": "2023-04-25T15:34:15.812Z"
   },
   {
    "duration": 31,
    "start_time": "2023-04-25T15:35:07.090Z"
   },
   {
    "duration": 26,
    "start_time": "2023-04-25T15:35:14.910Z"
   },
   {
    "duration": 84,
    "start_time": "2023-04-25T15:36:13.631Z"
   },
   {
    "duration": 53,
    "start_time": "2023-04-25T15:36:16.516Z"
   },
   {
    "duration": 64,
    "start_time": "2023-04-25T15:36:22.006Z"
   },
   {
    "duration": 16,
    "start_time": "2023-04-25T15:36:37.529Z"
   },
   {
    "duration": 19,
    "start_time": "2023-04-25T15:36:59.661Z"
   },
   {
    "duration": 28,
    "start_time": "2023-04-25T15:37:10.515Z"
   },
   {
    "duration": 556,
    "start_time": "2023-04-25T15:38:26.911Z"
   },
   {
    "duration": 628,
    "start_time": "2023-04-25T15:38:37.744Z"
   },
   {
    "duration": 556,
    "start_time": "2023-04-25T15:38:44.506Z"
   },
   {
    "duration": 569,
    "start_time": "2023-04-25T15:38:55.821Z"
   },
   {
    "duration": 387,
    "start_time": "2023-04-25T15:39:00.621Z"
   },
   {
    "duration": 707,
    "start_time": "2023-04-25T15:39:10.998Z"
   },
   {
    "duration": 559,
    "start_time": "2023-04-25T15:39:23.750Z"
   },
   {
    "duration": 1209,
    "start_time": "2023-04-25T15:39:33.445Z"
   },
   {
    "duration": 100,
    "start_time": "2023-04-25T15:39:34.656Z"
   },
   {
    "duration": 36,
    "start_time": "2023-04-25T15:39:34.758Z"
   },
   {
    "duration": 58,
    "start_time": "2023-04-25T15:39:34.796Z"
   },
   {
    "duration": 41,
    "start_time": "2023-04-25T15:39:34.856Z"
   },
   {
    "duration": 319,
    "start_time": "2023-04-25T15:39:34.898Z"
   },
   {
    "duration": 365,
    "start_time": "2023-04-25T15:39:35.219Z"
   },
   {
    "duration": 16,
    "start_time": "2023-04-25T15:39:35.585Z"
   },
   {
    "duration": 5,
    "start_time": "2023-04-25T15:39:35.603Z"
   },
   {
    "duration": 9,
    "start_time": "2023-04-25T15:39:35.611Z"
   },
   {
    "duration": 130,
    "start_time": "2023-04-25T15:39:35.622Z"
   },
   {
    "duration": 9,
    "start_time": "2023-04-25T15:39:35.754Z"
   },
   {
    "duration": 115,
    "start_time": "2023-04-25T15:39:35.765Z"
   },
   {
    "duration": 130,
    "start_time": "2023-04-25T15:39:35.881Z"
   },
   {
    "duration": 128,
    "start_time": "2023-04-25T15:39:36.013Z"
   },
   {
    "duration": 9,
    "start_time": "2023-04-25T15:39:36.148Z"
   },
   {
    "duration": 142,
    "start_time": "2023-04-25T15:39:36.159Z"
   },
   {
    "duration": 141,
    "start_time": "2023-04-25T15:39:36.303Z"
   },
   {
    "duration": 141,
    "start_time": "2023-04-25T15:39:36.449Z"
   },
   {
    "duration": 349,
    "start_time": "2023-04-25T15:39:36.592Z"
   },
   {
    "duration": 350,
    "start_time": "2023-04-25T15:39:36.943Z"
   },
   {
    "duration": 75,
    "start_time": "2023-04-25T15:39:37.294Z"
   },
   {
    "duration": 35,
    "start_time": "2023-04-25T15:39:37.370Z"
   },
   {
    "duration": 668,
    "start_time": "2023-04-25T15:39:37.407Z"
   },
   {
    "duration": 560,
    "start_time": "2023-04-25T15:39:38.077Z"
   },
   {
    "duration": 672,
    "start_time": "2023-04-25T15:39:50.450Z"
   },
   {
    "duration": 535,
    "start_time": "2023-04-25T15:39:58.905Z"
   },
   {
    "duration": 541,
    "start_time": "2023-04-25T15:40:08.598Z"
   },
   {
    "duration": 740,
    "start_time": "2023-04-25T15:40:39.509Z"
   },
   {
    "duration": 342,
    "start_time": "2023-04-25T15:40:51.298Z"
   },
   {
    "duration": 697,
    "start_time": "2023-04-25T15:41:06.440Z"
   },
   {
    "duration": 578,
    "start_time": "2023-04-25T15:41:32.431Z"
   },
   {
    "duration": 738,
    "start_time": "2023-04-25T15:41:42.742Z"
   },
   {
    "duration": 590,
    "start_time": "2023-04-25T15:41:43.482Z"
   },
   {
    "duration": 169,
    "start_time": "2023-04-25T15:45:58.302Z"
   },
   {
    "duration": 221,
    "start_time": "2023-04-25T15:46:04.643Z"
   },
   {
    "duration": 119,
    "start_time": "2023-04-25T15:46:18.936Z"
   },
   {
    "duration": 13,
    "start_time": "2023-04-25T15:46:33.322Z"
   },
   {
    "duration": 7,
    "start_time": "2023-04-25T15:55:36.301Z"
   },
   {
    "duration": 18,
    "start_time": "2023-04-25T15:57:14.594Z"
   },
   {
    "duration": 14,
    "start_time": "2023-04-25T15:57:21.111Z"
   },
   {
    "duration": 81,
    "start_time": "2023-04-25T15:58:09.449Z"
   },
   {
    "duration": 13,
    "start_time": "2023-04-25T15:58:12.207Z"
   },
   {
    "duration": 3,
    "start_time": "2023-04-25T15:58:31.082Z"
   },
   {
    "duration": 14,
    "start_time": "2023-04-25T15:58:37.190Z"
   },
   {
    "duration": 15,
    "start_time": "2023-04-25T16:01:38.681Z"
   },
   {
    "duration": 16,
    "start_time": "2023-04-25T16:01:53.677Z"
   },
   {
    "duration": 13,
    "start_time": "2023-04-25T16:04:16.109Z"
   },
   {
    "duration": 8,
    "start_time": "2023-04-25T16:06:57.038Z"
   },
   {
    "duration": 16,
    "start_time": "2023-04-25T16:07:13.183Z"
   },
   {
    "duration": 12,
    "start_time": "2023-04-25T16:07:58.168Z"
   },
   {
    "duration": 10,
    "start_time": "2023-04-25T16:10:00.321Z"
   },
   {
    "duration": 1148,
    "start_time": "2023-04-25T16:10:10.442Z"
   },
   {
    "duration": 90,
    "start_time": "2023-04-25T16:10:11.592Z"
   },
   {
    "duration": 28,
    "start_time": "2023-04-25T16:10:11.683Z"
   },
   {
    "duration": 26,
    "start_time": "2023-04-25T16:10:11.713Z"
   },
   {
    "duration": 44,
    "start_time": "2023-04-25T16:10:11.749Z"
   },
   {
    "duration": 274,
    "start_time": "2023-04-25T16:10:11.795Z"
   },
   {
    "duration": 336,
    "start_time": "2023-04-25T16:10:12.072Z"
   },
   {
    "duration": 17,
    "start_time": "2023-04-25T16:10:12.409Z"
   },
   {
    "duration": 29,
    "start_time": "2023-04-25T16:10:12.427Z"
   },
   {
    "duration": 9,
    "start_time": "2023-04-25T16:10:12.460Z"
   },
   {
    "duration": 112,
    "start_time": "2023-04-25T16:10:12.470Z"
   },
   {
    "duration": 5,
    "start_time": "2023-04-25T16:10:12.584Z"
   },
   {
    "duration": 114,
    "start_time": "2023-04-25T16:10:12.591Z"
   },
   {
    "duration": 129,
    "start_time": "2023-04-25T16:10:12.707Z"
   },
   {
    "duration": 134,
    "start_time": "2023-04-25T16:10:12.838Z"
   },
   {
    "duration": 8,
    "start_time": "2023-04-25T16:10:12.973Z"
   },
   {
    "duration": 155,
    "start_time": "2023-04-25T16:10:12.982Z"
   },
   {
    "duration": 141,
    "start_time": "2023-04-25T16:10:13.139Z"
   },
   {
    "duration": 129,
    "start_time": "2023-04-25T16:10:13.282Z"
   },
   {
    "duration": 339,
    "start_time": "2023-04-25T16:10:13.412Z"
   },
   {
    "duration": 343,
    "start_time": "2023-04-25T16:10:13.753Z"
   },
   {
    "duration": 69,
    "start_time": "2023-04-25T16:10:14.098Z"
   },
   {
    "duration": 23,
    "start_time": "2023-04-25T16:10:14.168Z"
   },
   {
    "duration": 690,
    "start_time": "2023-04-25T16:10:14.193Z"
   },
   {
    "duration": 541,
    "start_time": "2023-04-25T16:10:14.884Z"
   },
   {
    "duration": 117,
    "start_time": "2023-04-25T16:10:15.426Z"
   },
   {
    "duration": 14,
    "start_time": "2023-04-25T16:10:20.210Z"
   },
   {
    "duration": 10,
    "start_time": "2023-04-25T16:10:56.120Z"
   },
   {
    "duration": 6,
    "start_time": "2023-04-25T16:12:15.961Z"
   },
   {
    "duration": 14,
    "start_time": "2023-04-25T16:12:30.887Z"
   },
   {
    "duration": 6,
    "start_time": "2023-04-25T16:14:58.181Z"
   },
   {
    "duration": 130,
    "start_time": "2023-04-25T16:17:48.002Z"
   },
   {
    "duration": 13,
    "start_time": "2023-04-25T16:18:02.800Z"
   },
   {
    "duration": 13,
    "start_time": "2023-04-25T16:18:15.508Z"
   },
   {
    "duration": 20,
    "start_time": "2023-04-25T16:18:23.716Z"
   },
   {
    "duration": 1211,
    "start_time": "2023-04-25T16:18:35.099Z"
   },
   {
    "duration": 90,
    "start_time": "2023-04-25T16:18:36.312Z"
   },
   {
    "duration": 25,
    "start_time": "2023-04-25T16:18:36.403Z"
   },
   {
    "duration": 30,
    "start_time": "2023-04-25T16:18:36.429Z"
   },
   {
    "duration": 38,
    "start_time": "2023-04-25T16:18:36.461Z"
   },
   {
    "duration": 287,
    "start_time": "2023-04-25T16:18:36.501Z"
   },
   {
    "duration": 355,
    "start_time": "2023-04-25T16:18:36.790Z"
   },
   {
    "duration": 21,
    "start_time": "2023-04-25T16:18:37.147Z"
   },
   {
    "duration": 17,
    "start_time": "2023-04-25T16:18:37.170Z"
   },
   {
    "duration": 15,
    "start_time": "2023-04-25T16:18:37.189Z"
   },
   {
    "duration": 122,
    "start_time": "2023-04-25T16:18:37.205Z"
   },
   {
    "duration": 6,
    "start_time": "2023-04-25T16:18:37.328Z"
   },
   {
    "duration": 111,
    "start_time": "2023-04-25T16:18:37.348Z"
   },
   {
    "duration": 117,
    "start_time": "2023-04-25T16:18:37.462Z"
   },
   {
    "duration": 127,
    "start_time": "2023-04-25T16:18:37.581Z"
   },
   {
    "duration": 7,
    "start_time": "2023-04-25T16:18:37.710Z"
   },
   {
    "duration": 170,
    "start_time": "2023-04-25T16:18:37.719Z"
   },
   {
    "duration": 152,
    "start_time": "2023-04-25T16:18:37.891Z"
   },
   {
    "duration": 142,
    "start_time": "2023-04-25T16:18:38.048Z"
   },
   {
    "duration": 341,
    "start_time": "2023-04-25T16:18:38.192Z"
   },
   {
    "duration": 336,
    "start_time": "2023-04-25T16:18:38.534Z"
   },
   {
    "duration": 57,
    "start_time": "2023-04-25T16:18:38.871Z"
   },
   {
    "duration": 42,
    "start_time": "2023-04-25T16:18:38.930Z"
   },
   {
    "duration": 627,
    "start_time": "2023-04-25T16:18:38.973Z"
   },
   {
    "duration": 619,
    "start_time": "2023-04-25T16:18:39.601Z"
   },
   {
    "duration": 135,
    "start_time": "2023-04-25T16:18:40.222Z"
   },
   {
    "duration": 17,
    "start_time": "2023-04-25T16:19:43.580Z"
   },
   {
    "duration": 19,
    "start_time": "2023-04-25T16:21:08.881Z"
   },
   {
    "duration": 20,
    "start_time": "2023-04-25T16:21:33.093Z"
   },
   {
    "duration": 23,
    "start_time": "2023-04-25T16:21:47.717Z"
   },
   {
    "duration": 24,
    "start_time": "2023-04-25T16:22:45.945Z"
   },
   {
    "duration": 13,
    "start_time": "2023-04-25T16:25:26.656Z"
   },
   {
    "duration": 19,
    "start_time": "2023-04-25T16:25:51.544Z"
   },
   {
    "duration": 14,
    "start_time": "2023-04-25T16:27:12.086Z"
   },
   {
    "duration": 30,
    "start_time": "2023-04-25T16:28:49.844Z"
   },
   {
    "duration": 93,
    "start_time": "2023-04-25T16:29:07.800Z"
   },
   {
    "duration": 24,
    "start_time": "2023-04-25T16:29:16.139Z"
   },
   {
    "duration": 21,
    "start_time": "2023-04-25T16:29:52.706Z"
   },
   {
    "duration": 22,
    "start_time": "2023-04-25T16:30:26.661Z"
   },
   {
    "duration": 24,
    "start_time": "2023-04-25T16:30:42.061Z"
   },
   {
    "duration": 12,
    "start_time": "2023-04-25T16:32:36.350Z"
   },
   {
    "duration": 12,
    "start_time": "2023-04-25T16:34:01.823Z"
   },
   {
    "duration": 9,
    "start_time": "2023-04-25T16:34:28.793Z"
   },
   {
    "duration": 13,
    "start_time": "2023-04-25T16:34:35.040Z"
   },
   {
    "duration": 9,
    "start_time": "2023-04-25T16:34:55.728Z"
   },
   {
    "duration": 9,
    "start_time": "2023-04-25T16:35:01.232Z"
   },
   {
    "duration": 10,
    "start_time": "2023-04-25T16:35:05.291Z"
   },
   {
    "duration": 3,
    "start_time": "2023-04-25T16:35:56.001Z"
   },
   {
    "duration": 17,
    "start_time": "2023-04-25T16:36:03.685Z"
   },
   {
    "duration": 16,
    "start_time": "2023-04-25T16:37:00.991Z"
   },
   {
    "duration": 17,
    "start_time": "2023-04-25T16:37:10.008Z"
   },
   {
    "duration": 129,
    "start_time": "2023-04-25T17:03:17.702Z"
   },
   {
    "duration": 93,
    "start_time": "2023-04-25T17:03:27.533Z"
   },
   {
    "duration": 20,
    "start_time": "2023-04-25T17:03:33.602Z"
   },
   {
    "duration": 9,
    "start_time": "2023-04-25T17:07:07.526Z"
   },
   {
    "duration": 1371,
    "start_time": "2023-04-25T17:07:20.103Z"
   },
   {
    "duration": 129,
    "start_time": "2023-04-25T17:07:21.476Z"
   },
   {
    "duration": 24,
    "start_time": "2023-04-25T17:07:21.607Z"
   },
   {
    "duration": 53,
    "start_time": "2023-04-25T17:07:21.633Z"
   },
   {
    "duration": 53,
    "start_time": "2023-04-25T17:07:21.688Z"
   },
   {
    "duration": 598,
    "start_time": "2023-04-25T17:07:21.743Z"
   },
   {
    "duration": 477,
    "start_time": "2023-04-25T17:07:22.342Z"
   },
   {
    "duration": 17,
    "start_time": "2023-04-25T17:07:22.821Z"
   },
   {
    "duration": 11,
    "start_time": "2023-04-25T17:07:22.857Z"
   },
   {
    "duration": 50,
    "start_time": "2023-04-25T17:07:22.879Z"
   },
   {
    "duration": 190,
    "start_time": "2023-04-25T17:07:22.930Z"
   },
   {
    "duration": 7,
    "start_time": "2023-04-25T17:07:23.122Z"
   },
   {
    "duration": 164,
    "start_time": "2023-04-25T17:07:23.130Z"
   },
   {
    "duration": 162,
    "start_time": "2023-04-25T17:07:23.296Z"
   },
   {
    "duration": 149,
    "start_time": "2023-04-25T17:07:23.459Z"
   },
   {
    "duration": 10,
    "start_time": "2023-04-25T17:07:23.614Z"
   },
   {
    "duration": 477,
    "start_time": "2023-04-25T17:07:23.625Z"
   },
   {
    "duration": 142,
    "start_time": "2023-04-25T17:07:24.104Z"
   },
   {
    "duration": 155,
    "start_time": "2023-04-25T17:07:24.248Z"
   },
   {
    "duration": 509,
    "start_time": "2023-04-25T17:07:24.407Z"
   },
   {
    "duration": 459,
    "start_time": "2023-04-25T17:07:24.918Z"
   },
   {
    "duration": 68,
    "start_time": "2023-04-25T17:07:25.383Z"
   },
   {
    "duration": 51,
    "start_time": "2023-04-25T17:07:25.455Z"
   },
   {
    "duration": 728,
    "start_time": "2023-04-25T17:07:25.508Z"
   },
   {
    "duration": 653,
    "start_time": "2023-04-25T17:07:26.238Z"
   },
   {
    "duration": 28,
    "start_time": "2023-04-25T17:07:26.893Z"
   },
   {
    "duration": 130,
    "start_time": "2023-04-25T17:07:26.922Z"
   },
   {
    "duration": 13,
    "start_time": "2023-04-25T17:07:43.246Z"
   },
   {
    "duration": 139,
    "start_time": "2023-04-25T17:15:12.796Z"
   },
   {
    "duration": 181,
    "start_time": "2023-04-25T17:15:17.843Z"
   },
   {
    "duration": 125,
    "start_time": "2023-04-25T17:16:35.027Z"
   },
   {
    "duration": 8,
    "start_time": "2023-04-25T17:16:53.676Z"
   },
   {
    "duration": 5,
    "start_time": "2023-04-25T17:17:07.347Z"
   },
   {
    "duration": 214,
    "start_time": "2023-04-25T17:17:53.189Z"
   },
   {
    "duration": 305,
    "start_time": "2023-04-25T17:17:56.692Z"
   },
   {
    "duration": 283,
    "start_time": "2023-04-25T17:18:53.184Z"
   },
   {
    "duration": 103,
    "start_time": "2023-04-25T17:20:51.215Z"
   },
   {
    "duration": 118,
    "start_time": "2023-04-25T17:20:57.521Z"
   },
   {
    "duration": 108,
    "start_time": "2023-04-25T17:21:01.289Z"
   },
   {
    "duration": 104,
    "start_time": "2023-04-25T17:21:05.933Z"
   },
   {
    "duration": 90,
    "start_time": "2023-04-25T17:21:11.482Z"
   },
   {
    "duration": 151,
    "start_time": "2023-04-25T17:21:15.624Z"
   },
   {
    "duration": 102,
    "start_time": "2023-04-25T17:21:23.873Z"
   },
   {
    "duration": 130,
    "start_time": "2023-04-25T17:22:09.809Z"
   },
   {
    "duration": 82,
    "start_time": "2023-04-25T17:23:14.274Z"
   },
   {
    "duration": 79,
    "start_time": "2023-04-25T17:23:33.889Z"
   },
   {
    "duration": 328,
    "start_time": "2023-04-25T17:23:39.248Z"
   },
   {
    "duration": 1962,
    "start_time": "2023-04-25T17:24:44.778Z"
   },
   {
    "duration": 24,
    "start_time": "2023-04-25T17:25:24.501Z"
   },
   {
    "duration": 131,
    "start_time": "2023-04-25T17:25:33.074Z"
   },
   {
    "duration": 319,
    "start_time": "2023-04-25T17:27:06.369Z"
   },
   {
    "duration": 24,
    "start_time": "2023-04-25T17:28:37.675Z"
   },
   {
    "duration": 23,
    "start_time": "2023-04-25T17:28:42.705Z"
   },
   {
    "duration": 28,
    "start_time": "2023-04-25T17:29:33.278Z"
   },
   {
    "duration": 2018,
    "start_time": "2023-04-25T17:29:51.627Z"
   },
   {
    "duration": 1788,
    "start_time": "2023-04-25T17:30:28.042Z"
   },
   {
    "duration": 28,
    "start_time": "2023-04-25T17:30:50.531Z"
   },
   {
    "duration": 1760,
    "start_time": "2023-04-25T17:31:11.541Z"
   },
   {
    "duration": 1597,
    "start_time": "2023-04-25T17:31:22.691Z"
   },
   {
    "duration": 17,
    "start_time": "2023-04-25T17:31:36.608Z"
   },
   {
    "duration": 27,
    "start_time": "2023-04-25T17:31:45.300Z"
   },
   {
    "duration": 28,
    "start_time": "2023-04-25T17:32:40.082Z"
   },
   {
    "duration": 154,
    "start_time": "2023-04-25T17:32:57.907Z"
   },
   {
    "duration": 27,
    "start_time": "2023-04-25T17:33:46.293Z"
   },
   {
    "duration": 21,
    "start_time": "2023-04-25T17:34:40.045Z"
   },
   {
    "duration": 1251,
    "start_time": "2023-04-25T17:35:32.311Z"
   },
   {
    "duration": 106,
    "start_time": "2023-04-25T17:35:33.564Z"
   },
   {
    "duration": 37,
    "start_time": "2023-04-25T17:35:33.671Z"
   },
   {
    "duration": 27,
    "start_time": "2023-04-25T17:35:33.710Z"
   },
   {
    "duration": 55,
    "start_time": "2023-04-25T17:35:33.738Z"
   },
   {
    "duration": 307,
    "start_time": "2023-04-25T17:35:33.795Z"
   },
   {
    "duration": 402,
    "start_time": "2023-04-25T17:35:34.103Z"
   },
   {
    "duration": 20,
    "start_time": "2023-04-25T17:35:34.507Z"
   },
   {
    "duration": 15,
    "start_time": "2023-04-25T17:35:34.529Z"
   },
   {
    "duration": 45,
    "start_time": "2023-04-25T17:35:34.556Z"
   },
   {
    "duration": 161,
    "start_time": "2023-04-25T17:35:34.605Z"
   },
   {
    "duration": 6,
    "start_time": "2023-04-25T17:35:34.767Z"
   },
   {
    "duration": 172,
    "start_time": "2023-04-25T17:35:34.775Z"
   },
   {
    "duration": 157,
    "start_time": "2023-04-25T17:35:34.955Z"
   },
   {
    "duration": 157,
    "start_time": "2023-04-25T17:35:35.113Z"
   },
   {
    "duration": 9,
    "start_time": "2023-04-25T17:35:35.272Z"
   },
   {
    "duration": 146,
    "start_time": "2023-04-25T17:35:35.283Z"
   },
   {
    "duration": 175,
    "start_time": "2023-04-25T17:35:35.431Z"
   },
   {
    "duration": 157,
    "start_time": "2023-04-25T17:35:35.607Z"
   },
   {
    "duration": 396,
    "start_time": "2023-04-25T17:35:35.766Z"
   },
   {
    "duration": 372,
    "start_time": "2023-04-25T17:35:36.164Z"
   },
   {
    "duration": 80,
    "start_time": "2023-04-25T17:35:36.538Z"
   },
   {
    "duration": 43,
    "start_time": "2023-04-25T17:35:36.620Z"
   },
   {
    "duration": 678,
    "start_time": "2023-04-25T17:35:36.664Z"
   },
   {
    "duration": 619,
    "start_time": "2023-04-25T17:35:37.344Z"
   },
   {
    "duration": 29,
    "start_time": "2023-04-25T17:35:37.967Z"
   },
   {
    "duration": 122,
    "start_time": "2023-04-25T17:35:37.997Z"
   },
   {
    "duration": 14,
    "start_time": "2023-04-25T17:35:38.122Z"
   },
   {
    "duration": 170,
    "start_time": "2023-04-25T18:11:03.440Z"
   },
   {
    "duration": 122,
    "start_time": "2023-04-25T18:11:16.112Z"
   },
   {
    "duration": 22,
    "start_time": "2023-04-25T18:12:15.031Z"
   },
   {
    "duration": 14,
    "start_time": "2023-04-25T18:12:20.512Z"
   },
   {
    "duration": 17,
    "start_time": "2023-04-25T18:12:26.087Z"
   },
   {
    "duration": 17,
    "start_time": "2023-04-25T18:13:42.074Z"
   },
   {
    "duration": 21,
    "start_time": "2023-04-25T18:13:55.582Z"
   },
   {
    "duration": 19,
    "start_time": "2023-04-25T18:14:01.274Z"
   },
   {
    "duration": 18,
    "start_time": "2023-04-25T18:15:25.767Z"
   },
   {
    "duration": 16,
    "start_time": "2023-04-25T18:15:29.250Z"
   },
   {
    "duration": 162,
    "start_time": "2023-04-25T18:15:44.985Z"
   },
   {
    "duration": 10,
    "start_time": "2023-04-25T18:15:51.520Z"
   },
   {
    "duration": 15,
    "start_time": "2023-04-25T18:16:17.216Z"
   },
   {
    "duration": 144,
    "start_time": "2023-04-25T18:16:44.678Z"
   },
   {
    "duration": 16,
    "start_time": "2023-04-25T18:16:45.713Z"
   },
   {
    "duration": 14,
    "start_time": "2023-04-25T18:16:51.625Z"
   },
   {
    "duration": 15,
    "start_time": "2023-04-25T18:16:53.774Z"
   },
   {
    "duration": 117,
    "start_time": "2023-04-25T18:17:05.513Z"
   },
   {
    "duration": 16,
    "start_time": "2023-04-25T18:17:06.330Z"
   },
   {
    "duration": 18,
    "start_time": "2023-04-25T18:17:06.874Z"
   },
   {
    "duration": 148,
    "start_time": "2023-04-25T18:17:58.074Z"
   },
   {
    "duration": 16,
    "start_time": "2023-04-25T18:18:00.026Z"
   },
   {
    "duration": 18,
    "start_time": "2023-04-25T18:18:00.584Z"
   },
   {
    "duration": 132,
    "start_time": "2023-04-25T18:19:45.666Z"
   },
   {
    "duration": 14,
    "start_time": "2023-04-25T18:19:48.627Z"
   },
   {
    "duration": 15,
    "start_time": "2023-04-25T18:19:49.243Z"
   },
   {
    "duration": 140,
    "start_time": "2023-04-25T18:21:09.829Z"
   },
   {
    "duration": 23,
    "start_time": "2023-04-25T18:21:10.477Z"
   },
   {
    "duration": 15,
    "start_time": "2023-04-25T18:21:11.002Z"
   },
   {
    "duration": 114,
    "start_time": "2023-04-25T18:21:19.923Z"
   },
   {
    "duration": 16,
    "start_time": "2023-04-25T18:21:20.725Z"
   },
   {
    "duration": 12,
    "start_time": "2023-04-25T18:21:21.212Z"
   },
   {
    "duration": 1339,
    "start_time": "2023-04-25T18:21:43.932Z"
   },
   {
    "duration": 111,
    "start_time": "2023-04-25T18:21:45.282Z"
   },
   {
    "duration": 29,
    "start_time": "2023-04-25T18:21:45.395Z"
   },
   {
    "duration": 40,
    "start_time": "2023-04-25T18:21:45.427Z"
   },
   {
    "duration": 43,
    "start_time": "2023-04-25T18:21:45.469Z"
   },
   {
    "duration": 323,
    "start_time": "2023-04-25T18:21:45.513Z"
   },
   {
    "duration": 409,
    "start_time": "2023-04-25T18:21:45.837Z"
   },
   {
    "duration": 35,
    "start_time": "2023-04-25T18:21:46.248Z"
   },
   {
    "duration": 16,
    "start_time": "2023-04-25T18:21:46.285Z"
   },
   {
    "duration": 5,
    "start_time": "2023-04-25T18:21:46.304Z"
   },
   {
    "duration": 117,
    "start_time": "2023-04-25T18:21:46.311Z"
   },
   {
    "duration": 6,
    "start_time": "2023-04-25T18:21:46.429Z"
   },
   {
    "duration": 126,
    "start_time": "2023-04-25T18:21:46.436Z"
   },
   {
    "duration": 128,
    "start_time": "2023-04-25T18:21:46.564Z"
   },
   {
    "duration": 142,
    "start_time": "2023-04-25T18:21:46.694Z"
   },
   {
    "duration": 7,
    "start_time": "2023-04-25T18:21:46.837Z"
   },
   {
    "duration": 153,
    "start_time": "2023-04-25T18:21:46.849Z"
   },
   {
    "duration": 148,
    "start_time": "2023-04-25T18:21:47.004Z"
   },
   {
    "duration": 149,
    "start_time": "2023-04-25T18:21:47.153Z"
   },
   {
    "duration": 373,
    "start_time": "2023-04-25T18:21:47.304Z"
   },
   {
    "duration": 362,
    "start_time": "2023-04-25T18:21:47.679Z"
   },
   {
    "duration": 79,
    "start_time": "2023-04-25T18:21:48.043Z"
   },
   {
    "duration": 35,
    "start_time": "2023-04-25T18:21:48.124Z"
   },
   {
    "duration": 697,
    "start_time": "2023-04-25T18:21:48.161Z"
   },
   {
    "duration": 662,
    "start_time": "2023-04-25T18:21:48.860Z"
   },
   {
    "duration": 21,
    "start_time": "2023-04-25T18:21:49.523Z"
   },
   {
    "duration": 129,
    "start_time": "2023-04-25T18:21:49.546Z"
   },
   {
    "duration": 19,
    "start_time": "2023-04-25T18:21:49.679Z"
   },
   {
    "duration": 14,
    "start_time": "2023-04-25T18:21:49.699Z"
   },
   {
    "duration": 112,
    "start_time": "2023-04-25T18:22:43.585Z"
   },
   {
    "duration": 23,
    "start_time": "2023-04-25T18:22:45.066Z"
   },
   {
    "duration": 13,
    "start_time": "2023-04-25T18:22:45.617Z"
   },
   {
    "duration": 1760,
    "start_time": "2023-04-25T18:23:23.178Z"
   },
   {
    "duration": 0,
    "start_time": "2023-04-25T18:23:24.941Z"
   },
   {
    "duration": 0,
    "start_time": "2023-04-25T18:23:24.943Z"
   },
   {
    "duration": 113,
    "start_time": "2023-04-25T18:23:34.284Z"
   },
   {
    "duration": 27,
    "start_time": "2023-04-25T18:23:35.778Z"
   },
   {
    "duration": 16,
    "start_time": "2023-04-25T18:23:36.566Z"
   },
   {
    "duration": 25,
    "start_time": "2023-04-25T18:24:44.374Z"
   },
   {
    "duration": 112,
    "start_time": "2023-04-25T18:25:51.794Z"
   },
   {
    "duration": 21,
    "start_time": "2023-04-25T18:25:52.912Z"
   },
   {
    "duration": 14,
    "start_time": "2023-04-25T18:25:53.528Z"
   },
   {
    "duration": 146,
    "start_time": "2023-04-25T18:27:31.101Z"
   },
   {
    "duration": 17,
    "start_time": "2023-04-25T18:27:32.789Z"
   },
   {
    "duration": 19,
    "start_time": "2023-04-25T18:27:33.243Z"
   },
   {
    "duration": 95,
    "start_time": "2023-04-25T18:28:48.218Z"
   },
   {
    "duration": 146,
    "start_time": "2023-04-25T18:28:55.214Z"
   },
   {
    "duration": 112,
    "start_time": "2023-04-25T18:32:57.809Z"
   },
   {
    "duration": 18,
    "start_time": "2023-04-25T18:32:59.374Z"
   },
   {
    "duration": 22,
    "start_time": "2023-04-25T18:32:59.843Z"
   },
   {
    "duration": 110,
    "start_time": "2023-04-25T18:33:39.534Z"
   },
   {
    "duration": 20,
    "start_time": "2023-04-25T18:33:43.067Z"
   },
   {
    "duration": 12,
    "start_time": "2023-04-25T18:33:43.503Z"
   },
   {
    "duration": 125,
    "start_time": "2023-04-25T18:33:59.942Z"
   },
   {
    "duration": 15,
    "start_time": "2023-04-25T18:34:00.318Z"
   },
   {
    "duration": 18,
    "start_time": "2023-04-25T18:34:00.774Z"
   },
   {
    "duration": 119,
    "start_time": "2023-04-25T18:34:05.693Z"
   },
   {
    "duration": 17,
    "start_time": "2023-04-25T18:34:06.119Z"
   },
   {
    "duration": 16,
    "start_time": "2023-04-25T18:34:06.411Z"
   },
   {
    "duration": 1471,
    "start_time": "2023-04-25T18:36:17.104Z"
   },
   {
    "duration": 0,
    "start_time": "2023-04-25T18:36:18.577Z"
   },
   {
    "duration": 1639,
    "start_time": "2023-04-25T18:36:29.299Z"
   },
   {
    "duration": 114,
    "start_time": "2023-04-25T18:37:08.392Z"
   },
   {
    "duration": 17,
    "start_time": "2023-04-25T18:37:09.828Z"
   },
   {
    "duration": 11,
    "start_time": "2023-04-25T18:37:10.608Z"
   },
   {
    "duration": 109,
    "start_time": "2023-04-25T18:38:54.688Z"
   },
   {
    "duration": 101,
    "start_time": "2023-04-25T18:39:09.744Z"
   },
   {
    "duration": 21,
    "start_time": "2023-04-25T18:39:19.719Z"
   },
   {
    "duration": 84,
    "start_time": "2023-04-25T18:40:39.680Z"
   },
   {
    "duration": 1966,
    "start_time": "2023-04-25T18:42:32.574Z"
   },
   {
    "duration": 2404,
    "start_time": "2023-04-25T18:42:58.626Z"
   },
   {
    "duration": 1494,
    "start_time": "2023-04-25T18:44:55.806Z"
   },
   {
    "duration": 1583,
    "start_time": "2023-04-25T18:46:42.844Z"
   },
   {
    "duration": 91,
    "start_time": "2023-04-25T18:47:18.148Z"
   },
   {
    "duration": 100,
    "start_time": "2023-04-25T18:47:32.375Z"
   },
   {
    "duration": 95,
    "start_time": "2023-04-25T18:47:39.996Z"
   },
   {
    "duration": 98,
    "start_time": "2023-04-25T18:47:45.509Z"
   },
   {
    "duration": 3,
    "start_time": "2023-04-25T18:47:48.995Z"
   },
   {
    "duration": 1424,
    "start_time": "2023-04-25T18:47:57.389Z"
   },
   {
    "duration": 164,
    "start_time": "2023-04-25T18:50:09.383Z"
   },
   {
    "duration": 19,
    "start_time": "2023-04-25T18:50:16.140Z"
   },
   {
    "duration": 10,
    "start_time": "2023-04-25T18:50:16.916Z"
   },
   {
    "duration": 27,
    "start_time": "2023-04-25T18:50:26.193Z"
   },
   {
    "duration": 29,
    "start_time": "2023-04-25T18:50:36.232Z"
   },
   {
    "duration": 25,
    "start_time": "2023-04-25T18:51:34.192Z"
   },
   {
    "duration": 24,
    "start_time": "2023-04-25T18:52:07.577Z"
   },
   {
    "duration": 25,
    "start_time": "2023-04-25T18:52:20.622Z"
   },
   {
    "duration": 30,
    "start_time": "2023-04-25T18:52:32.582Z"
   },
   {
    "duration": 1959,
    "start_time": "2023-04-25T18:54:19.970Z"
   },
   {
    "duration": 1603,
    "start_time": "2023-04-25T18:54:35.031Z"
   },
   {
    "duration": 1760,
    "start_time": "2023-04-25T18:54:48.111Z"
   },
   {
    "duration": 1640,
    "start_time": "2023-04-25T18:55:08.596Z"
   },
   {
    "duration": 16,
    "start_time": "2023-04-25T18:55:13.413Z"
   },
   {
    "duration": 132,
    "start_time": "2023-04-25T18:55:24.409Z"
   },
   {
    "duration": 1731,
    "start_time": "2023-04-25T18:55:37.744Z"
   },
   {
    "duration": 1819,
    "start_time": "2023-04-25T18:55:57.434Z"
   },
   {
    "duration": 1628,
    "start_time": "2023-04-25T18:56:02.312Z"
   },
   {
    "duration": 117,
    "start_time": "2023-04-25T18:59:53.895Z"
   },
   {
    "duration": 15,
    "start_time": "2023-04-25T19:00:02.226Z"
   },
   {
    "duration": 12,
    "start_time": "2023-04-25T19:00:02.912Z"
   },
   {
    "duration": 1313,
    "start_time": "2023-04-25T19:00:22.367Z"
   },
   {
    "duration": 119,
    "start_time": "2023-04-25T19:00:23.685Z"
   },
   {
    "duration": 28,
    "start_time": "2023-04-25T19:00:23.806Z"
   },
   {
    "duration": 44,
    "start_time": "2023-04-25T19:00:23.836Z"
   },
   {
    "duration": 58,
    "start_time": "2023-04-25T19:00:23.882Z"
   },
   {
    "duration": 357,
    "start_time": "2023-04-25T19:00:23.942Z"
   },
   {
    "duration": 443,
    "start_time": "2023-04-25T19:00:24.302Z"
   },
   {
    "duration": 43,
    "start_time": "2023-04-25T19:00:24.747Z"
   },
   {
    "duration": 39,
    "start_time": "2023-04-25T19:00:24.792Z"
   },
   {
    "duration": 15,
    "start_time": "2023-04-25T19:00:24.833Z"
   },
   {
    "duration": 202,
    "start_time": "2023-04-25T19:00:24.861Z"
   },
   {
    "duration": 16,
    "start_time": "2023-04-25T19:00:25.066Z"
   },
   {
    "duration": 202,
    "start_time": "2023-04-25T19:00:25.085Z"
   },
   {
    "duration": 145,
    "start_time": "2023-04-25T19:00:25.299Z"
   },
   {
    "duration": 178,
    "start_time": "2023-04-25T19:00:25.446Z"
   },
   {
    "duration": 8,
    "start_time": "2023-04-25T19:00:25.625Z"
   },
   {
    "duration": 181,
    "start_time": "2023-04-25T19:00:25.634Z"
   },
   {
    "duration": 154,
    "start_time": "2023-04-25T19:00:25.817Z"
   },
   {
    "duration": 155,
    "start_time": "2023-04-25T19:00:25.972Z"
   },
   {
    "duration": 460,
    "start_time": "2023-04-25T19:00:26.129Z"
   },
   {
    "duration": 433,
    "start_time": "2023-04-25T19:00:26.593Z"
   },
   {
    "duration": 98,
    "start_time": "2023-04-25T19:00:27.027Z"
   },
   {
    "duration": 34,
    "start_time": "2023-04-25T19:00:27.127Z"
   },
   {
    "duration": 859,
    "start_time": "2023-04-25T19:00:27.162Z"
   },
   {
    "duration": 719,
    "start_time": "2023-04-25T19:00:28.023Z"
   },
   {
    "duration": 33,
    "start_time": "2023-04-25T19:00:28.744Z"
   },
   {
    "duration": 158,
    "start_time": "2023-04-25T19:00:28.778Z"
   },
   {
    "duration": 26,
    "start_time": "2023-04-25T19:00:28.937Z"
   },
   {
    "duration": 51,
    "start_time": "2023-04-25T19:00:28.964Z"
   },
   {
    "duration": 114,
    "start_time": "2023-04-25T19:01:10.825Z"
   },
   {
    "duration": 23,
    "start_time": "2023-04-25T19:01:11.678Z"
   },
   {
    "duration": 13,
    "start_time": "2023-04-25T19:01:12.234Z"
   },
   {
    "duration": 1741,
    "start_time": "2023-04-25T19:04:21.893Z"
   },
   {
    "duration": 1696,
    "start_time": "2023-04-25T19:04:35.308Z"
   },
   {
    "duration": 36,
    "start_time": "2023-04-25T19:04:44.548Z"
   },
   {
    "duration": 120,
    "start_time": "2023-04-25T19:05:01.741Z"
   },
   {
    "duration": 16,
    "start_time": "2023-04-25T19:05:06.029Z"
   },
   {
    "duration": 12,
    "start_time": "2023-04-25T19:05:06.427Z"
   },
   {
    "duration": 110,
    "start_time": "2023-04-25T19:05:16.004Z"
   },
   {
    "duration": 15,
    "start_time": "2023-04-25T19:05:17.124Z"
   },
   {
    "duration": 10,
    "start_time": "2023-04-25T19:05:17.612Z"
   },
   {
    "duration": 22,
    "start_time": "2023-04-25T19:05:25.969Z"
   },
   {
    "duration": 115,
    "start_time": "2023-04-25T19:05:39.171Z"
   },
   {
    "duration": 14,
    "start_time": "2023-04-25T19:05:41.518Z"
   },
   {
    "duration": 13,
    "start_time": "2023-04-25T19:05:41.827Z"
   },
   {
    "duration": 15,
    "start_time": "2023-04-25T19:05:49.117Z"
   },
   {
    "duration": 23,
    "start_time": "2023-04-25T19:06:02.775Z"
   },
   {
    "duration": 20,
    "start_time": "2023-04-25T19:10:28.584Z"
   },
   {
    "duration": 124,
    "start_time": "2023-04-25T19:10:33.710Z"
   },
   {
    "duration": 27,
    "start_time": "2023-04-25T19:10:52.073Z"
   },
   {
    "duration": 27,
    "start_time": "2023-04-25T19:11:11.816Z"
   },
   {
    "duration": 34,
    "start_time": "2023-04-25T19:11:49.479Z"
   },
   {
    "duration": 43,
    "start_time": "2023-04-25T19:12:02.743Z"
   },
   {
    "duration": 42,
    "start_time": "2023-04-25T19:12:17.840Z"
   },
   {
    "duration": 30,
    "start_time": "2023-04-25T19:12:38.582Z"
   },
   {
    "duration": 25,
    "start_time": "2023-04-25T19:12:52.282Z"
   },
   {
    "duration": 9,
    "start_time": "2023-04-25T19:14:51.327Z"
   },
   {
    "duration": 12,
    "start_time": "2023-04-25T19:16:30.578Z"
   },
   {
    "duration": 9,
    "start_time": "2023-04-25T19:17:23.722Z"
   },
   {
    "duration": 11,
    "start_time": "2023-04-25T19:17:51.388Z"
   },
   {
    "duration": 8,
    "start_time": "2023-04-25T19:17:55.210Z"
   },
   {
    "duration": 9,
    "start_time": "2023-04-25T19:18:56.538Z"
   },
   {
    "duration": 30,
    "start_time": "2023-04-25T19:19:04.508Z"
   },
   {
    "duration": 46,
    "start_time": "2023-04-25T19:19:15.298Z"
   },
   {
    "duration": 151,
    "start_time": "2023-04-25T19:19:43.541Z"
   },
   {
    "duration": 92,
    "start_time": "2023-04-25T19:20:25.596Z"
   },
   {
    "duration": 9,
    "start_time": "2023-04-25T19:20:50.284Z"
   },
   {
    "duration": 56,
    "start_time": "2023-04-25T19:21:05.140Z"
   },
   {
    "duration": 16,
    "start_time": "2023-04-25T19:21:19.524Z"
   },
   {
    "duration": 152,
    "start_time": "2023-04-25T19:22:05.940Z"
   },
   {
    "duration": 111,
    "start_time": "2023-04-25T19:22:19.383Z"
   },
   {
    "duration": 33,
    "start_time": "2023-04-25T19:22:26.976Z"
   },
   {
    "duration": 25,
    "start_time": "2023-04-25T19:22:40.874Z"
   },
   {
    "duration": 124,
    "start_time": "2023-04-25T19:23:39.816Z"
   },
   {
    "duration": 19,
    "start_time": "2023-04-25T19:23:59.693Z"
   },
   {
    "duration": 25,
    "start_time": "2023-04-25T19:24:25.038Z"
   },
   {
    "duration": 24,
    "start_time": "2023-04-25T19:24:42.731Z"
   },
   {
    "duration": 84,
    "start_time": "2023-04-25T19:25:13.567Z"
   },
   {
    "duration": 86,
    "start_time": "2023-04-25T19:25:22.799Z"
   },
   {
    "duration": 9,
    "start_time": "2023-04-25T19:25:58.714Z"
   },
   {
    "duration": 88,
    "start_time": "2023-04-25T19:26:12.199Z"
   },
   {
    "duration": 89,
    "start_time": "2023-04-25T19:26:40.112Z"
   },
   {
    "duration": 13,
    "start_time": "2023-04-25T19:26:53.688Z"
   },
   {
    "duration": 13,
    "start_time": "2023-04-25T19:27:42.466Z"
   },
   {
    "duration": 100,
    "start_time": "2023-04-25T19:27:50.576Z"
   },
   {
    "duration": 2022,
    "start_time": "2023-04-25T19:28:25.577Z"
   },
   {
    "duration": 303,
    "start_time": "2023-04-25T19:28:27.601Z"
   },
   {
    "duration": 34,
    "start_time": "2023-04-25T19:28:27.905Z"
   },
   {
    "duration": 33,
    "start_time": "2023-04-25T19:28:27.941Z"
   },
   {
    "duration": 50,
    "start_time": "2023-04-25T19:28:27.977Z"
   },
   {
    "duration": 283,
    "start_time": "2023-04-25T19:28:28.029Z"
   },
   {
    "duration": 372,
    "start_time": "2023-04-25T19:28:28.313Z"
   },
   {
    "duration": 17,
    "start_time": "2023-04-25T19:28:28.686Z"
   },
   {
    "duration": 5,
    "start_time": "2023-04-25T19:28:28.705Z"
   },
   {
    "duration": 18,
    "start_time": "2023-04-25T19:28:28.711Z"
   },
   {
    "duration": 122,
    "start_time": "2023-04-25T19:28:28.730Z"
   },
   {
    "duration": 7,
    "start_time": "2023-04-25T19:28:28.853Z"
   },
   {
    "duration": 126,
    "start_time": "2023-04-25T19:28:28.862Z"
   },
   {
    "duration": 143,
    "start_time": "2023-04-25T19:28:28.991Z"
   },
   {
    "duration": 144,
    "start_time": "2023-04-25T19:28:29.135Z"
   },
   {
    "duration": 9,
    "start_time": "2023-04-25T19:28:29.281Z"
   },
   {
    "duration": 150,
    "start_time": "2023-04-25T19:28:29.294Z"
   },
   {
    "duration": 167,
    "start_time": "2023-04-25T19:28:29.446Z"
   },
   {
    "duration": 169,
    "start_time": "2023-04-25T19:28:29.614Z"
   },
   {
    "duration": 386,
    "start_time": "2023-04-25T19:28:29.786Z"
   },
   {
    "duration": 406,
    "start_time": "2023-04-25T19:28:30.174Z"
   },
   {
    "duration": 80,
    "start_time": "2023-04-25T19:28:30.582Z"
   },
   {
    "duration": 37,
    "start_time": "2023-04-25T19:28:30.664Z"
   },
   {
    "duration": 780,
    "start_time": "2023-04-25T19:28:30.702Z"
   },
   {
    "duration": 624,
    "start_time": "2023-04-25T19:28:31.484Z"
   },
   {
    "duration": 14330,
    "start_time": "2023-04-25T19:28:32.110Z"
   },
   {
    "duration": 30,
    "start_time": "2023-04-25T19:28:46.441Z"
   },
   {
    "duration": 227,
    "start_time": "2023-04-25T19:28:46.473Z"
   },
   {
    "duration": 67,
    "start_time": "2023-04-25T19:28:46.703Z"
   },
   {
    "duration": 23,
    "start_time": "2023-04-25T19:28:46.772Z"
   },
   {
    "duration": 56,
    "start_time": "2023-04-25T19:29:03.783Z"
   },
   {
    "duration": 2644,
    "start_time": "2023-04-25T19:29:09.368Z"
   },
   {
    "duration": 283,
    "start_time": "2023-04-25T19:29:12.014Z"
   },
   {
    "duration": 40,
    "start_time": "2023-04-25T19:29:12.299Z"
   },
   {
    "duration": 43,
    "start_time": "2023-04-25T19:29:12.341Z"
   },
   {
    "duration": 39,
    "start_time": "2023-04-25T19:29:12.389Z"
   },
   {
    "duration": 316,
    "start_time": "2023-04-25T19:29:12.429Z"
   },
   {
    "duration": 389,
    "start_time": "2023-04-25T19:29:12.747Z"
   },
   {
    "duration": 20,
    "start_time": "2023-04-25T19:29:13.138Z"
   },
   {
    "duration": 927,
    "start_time": "2023-04-25T19:29:13.164Z"
   },
   {
    "duration": 21,
    "start_time": "2023-04-25T19:29:14.094Z"
   },
   {
    "duration": 138,
    "start_time": "2023-04-25T19:29:14.117Z"
   },
   {
    "duration": 6,
    "start_time": "2023-04-25T19:29:14.258Z"
   },
   {
    "duration": 135,
    "start_time": "2023-04-25T19:29:14.266Z"
   },
   {
    "duration": 129,
    "start_time": "2023-04-25T19:29:14.404Z"
   },
   {
    "duration": 178,
    "start_time": "2023-04-25T19:29:14.535Z"
   },
   {
    "duration": 9,
    "start_time": "2023-04-25T19:29:14.716Z"
   },
   {
    "duration": 243,
    "start_time": "2023-04-25T19:29:14.728Z"
   },
   {
    "duration": 162,
    "start_time": "2023-04-25T19:29:14.973Z"
   },
   {
    "duration": 170,
    "start_time": "2023-04-25T19:29:15.136Z"
   },
   {
    "duration": 369,
    "start_time": "2023-04-25T19:29:15.308Z"
   },
   {
    "duration": 376,
    "start_time": "2023-04-25T19:29:15.679Z"
   },
   {
    "duration": 68,
    "start_time": "2023-04-25T19:29:16.057Z"
   },
   {
    "duration": 52,
    "start_time": "2023-04-25T19:29:16.127Z"
   },
   {
    "duration": 726,
    "start_time": "2023-04-25T19:29:16.181Z"
   },
   {
    "duration": 600,
    "start_time": "2023-04-25T19:29:16.908Z"
   },
   {
    "duration": 14594,
    "start_time": "2023-04-25T19:29:17.510Z"
   },
   {
    "duration": 32,
    "start_time": "2023-04-25T19:29:32.106Z"
   },
   {
    "duration": 250,
    "start_time": "2023-04-25T19:29:32.140Z"
   },
   {
    "duration": 82,
    "start_time": "2023-04-25T19:29:32.392Z"
   },
   {
    "duration": 31,
    "start_time": "2023-04-25T19:29:32.476Z"
   },
   {
    "duration": 2219,
    "start_time": "2023-04-25T19:30:56.211Z"
   },
   {
    "duration": 291,
    "start_time": "2023-04-25T19:30:58.433Z"
   },
   {
    "duration": 44,
    "start_time": "2023-04-25T19:30:58.726Z"
   },
   {
    "duration": 40,
    "start_time": "2023-04-25T19:30:58.773Z"
   },
   {
    "duration": 60,
    "start_time": "2023-04-25T19:30:58.816Z"
   },
   {
    "duration": 306,
    "start_time": "2023-04-25T19:30:58.878Z"
   },
   {
    "duration": 423,
    "start_time": "2023-04-25T19:30:59.186Z"
   },
   {
    "duration": 17,
    "start_time": "2023-04-25T19:30:59.610Z"
   },
   {
    "duration": 27,
    "start_time": "2023-04-25T19:30:59.629Z"
   },
   {
    "duration": 6,
    "start_time": "2023-04-25T19:30:59.660Z"
   },
   {
    "duration": 153,
    "start_time": "2023-04-25T19:30:59.669Z"
   },
   {
    "duration": 10,
    "start_time": "2023-04-25T19:30:59.824Z"
   },
   {
    "duration": 183,
    "start_time": "2023-04-25T19:30:59.836Z"
   },
   {
    "duration": 176,
    "start_time": "2023-04-25T19:31:00.022Z"
   },
   {
    "duration": 181,
    "start_time": "2023-04-25T19:31:00.200Z"
   },
   {
    "duration": 9,
    "start_time": "2023-04-25T19:31:00.384Z"
   },
   {
    "duration": 163,
    "start_time": "2023-04-25T19:31:00.395Z"
   },
   {
    "duration": 160,
    "start_time": "2023-04-25T19:31:00.562Z"
   },
   {
    "duration": 198,
    "start_time": "2023-04-25T19:31:00.724Z"
   },
   {
    "duration": 426,
    "start_time": "2023-04-25T19:31:00.923Z"
   },
   {
    "duration": 432,
    "start_time": "2023-04-25T19:31:01.351Z"
   },
   {
    "duration": 84,
    "start_time": "2023-04-25T19:31:01.785Z"
   },
   {
    "duration": 29,
    "start_time": "2023-04-25T19:31:01.871Z"
   },
   {
    "duration": 714,
    "start_time": "2023-04-25T19:31:01.903Z"
   },
   {
    "duration": 642,
    "start_time": "2023-04-25T19:31:02.619Z"
   },
   {
    "duration": 2622,
    "start_time": "2023-04-25T19:31:19.876Z"
   },
   {
    "duration": 325,
    "start_time": "2023-04-25T19:31:22.499Z"
   },
   {
    "duration": 37,
    "start_time": "2023-04-25T19:31:22.825Z"
   },
   {
    "duration": 44,
    "start_time": "2023-04-25T19:31:22.864Z"
   },
   {
    "duration": 33,
    "start_time": "2023-04-25T19:31:22.910Z"
   },
   {
    "duration": 400,
    "start_time": "2023-04-25T19:31:22.945Z"
   },
   {
    "duration": 440,
    "start_time": "2023-04-25T19:31:23.347Z"
   },
   {
    "duration": 25,
    "start_time": "2023-04-25T19:31:23.791Z"
   },
   {
    "duration": 11,
    "start_time": "2023-04-25T19:31:23.818Z"
   },
   {
    "duration": 8,
    "start_time": "2023-04-25T19:31:23.830Z"
   },
   {
    "duration": 129,
    "start_time": "2023-04-25T19:31:23.839Z"
   },
   {
    "duration": 7,
    "start_time": "2023-04-25T19:31:23.977Z"
   },
   {
    "duration": 149,
    "start_time": "2023-04-25T19:31:23.986Z"
   },
   {
    "duration": 144,
    "start_time": "2023-04-25T19:31:24.138Z"
   },
   {
    "duration": 133,
    "start_time": "2023-04-25T19:31:24.283Z"
   },
   {
    "duration": 9,
    "start_time": "2023-04-25T19:31:24.417Z"
   },
   {
    "duration": 186,
    "start_time": "2023-04-25T19:31:24.428Z"
   },
   {
    "duration": 201,
    "start_time": "2023-04-25T19:31:24.616Z"
   },
   {
    "duration": 170,
    "start_time": "2023-04-25T19:31:24.819Z"
   },
   {
    "duration": 449,
    "start_time": "2023-04-25T19:31:24.991Z"
   },
   {
    "duration": 404,
    "start_time": "2023-04-25T19:31:25.441Z"
   },
   {
    "duration": 93,
    "start_time": "2023-04-25T19:31:25.847Z"
   },
   {
    "duration": 47,
    "start_time": "2023-04-25T19:31:25.942Z"
   },
   {
    "duration": 735,
    "start_time": "2023-04-25T19:31:25.992Z"
   },
   {
    "duration": 650,
    "start_time": "2023-04-25T19:31:26.729Z"
   },
   {
    "duration": 547,
    "start_time": "2023-04-25T19:31:27.381Z"
   },
   {
    "duration": 2,
    "start_time": "2023-04-25T19:31:27.930Z"
   },
   {
    "duration": 489,
    "start_time": "2023-04-25T19:31:49.181Z"
   },
   {
    "duration": 499,
    "start_time": "2023-04-25T19:34:36.016Z"
   },
   {
    "duration": 60,
    "start_time": "2023-04-25T19:35:07.122Z"
   },
   {
    "duration": 29,
    "start_time": "2023-04-25T19:37:29.387Z"
   },
   {
    "duration": 301,
    "start_time": "2023-04-25T19:38:39.174Z"
   },
   {
    "duration": 117,
    "start_time": "2023-04-25T19:39:18.777Z"
   },
   {
    "duration": 157,
    "start_time": "2023-04-25T19:39:24.233Z"
   },
   {
    "duration": 232,
    "start_time": "2023-04-25T19:39:36.674Z"
   },
   {
    "duration": 23,
    "start_time": "2023-04-25T19:39:55.173Z"
   },
   {
    "duration": 25,
    "start_time": "2023-04-25T19:40:14.585Z"
   },
   {
    "duration": 21,
    "start_time": "2023-04-25T19:40:18.006Z"
   },
   {
    "duration": 11192,
    "start_time": "2023-04-25T19:40:41.417Z"
   },
   {
    "duration": 23,
    "start_time": "2023-04-25T19:42:10.389Z"
   },
   {
    "duration": 2073,
    "start_time": "2023-04-25T19:42:15.519Z"
   },
   {
    "duration": 1747,
    "start_time": "2023-04-25T19:42:32.074Z"
   },
   {
    "duration": 1703,
    "start_time": "2023-04-25T19:42:50.301Z"
   },
   {
    "duration": 18,
    "start_time": "2023-04-25T19:43:00.915Z"
   },
   {
    "duration": 146,
    "start_time": "2023-04-25T19:43:15.066Z"
   },
   {
    "duration": 22,
    "start_time": "2023-04-25T19:43:18.974Z"
   },
   {
    "duration": 13,
    "start_time": "2023-04-25T19:43:25.201Z"
   },
   {
    "duration": 40,
    "start_time": "2023-04-25T19:46:48.974Z"
   },
   {
    "duration": 42,
    "start_time": "2023-04-25T19:53:57.488Z"
   },
   {
    "duration": 37,
    "start_time": "2023-04-25T19:55:11.807Z"
   },
   {
    "duration": 49,
    "start_time": "2023-04-25T19:55:40.644Z"
   },
   {
    "duration": 60,
    "start_time": "2023-04-25T19:56:00.246Z"
   },
   {
    "duration": 2194,
    "start_time": "2023-04-25T19:56:37.295Z"
   },
   {
    "duration": 1652,
    "start_time": "2023-04-25T19:57:22.582Z"
   },
   {
    "duration": 38,
    "start_time": "2023-04-25T19:57:52.570Z"
   },
   {
    "duration": 60,
    "start_time": "2023-04-26T12:49:25.476Z"
   },
   {
    "duration": 59,
    "start_time": "2023-04-26T12:49:39.908Z"
   },
   {
    "duration": 1274,
    "start_time": "2023-04-26T12:49:44.049Z"
   },
   {
    "duration": 328,
    "start_time": "2023-04-26T12:49:45.325Z"
   },
   {
    "duration": 26,
    "start_time": "2023-04-26T12:49:45.655Z"
   },
   {
    "duration": 25,
    "start_time": "2023-04-26T12:49:45.683Z"
   },
   {
    "duration": 44,
    "start_time": "2023-04-26T12:49:45.709Z"
   },
   {
    "duration": 274,
    "start_time": "2023-04-26T12:49:45.755Z"
   },
   {
    "duration": 330,
    "start_time": "2023-04-26T12:49:46.031Z"
   },
   {
    "duration": 17,
    "start_time": "2023-04-26T12:49:46.362Z"
   },
   {
    "duration": 6,
    "start_time": "2023-04-26T12:49:46.380Z"
   },
   {
    "duration": 14,
    "start_time": "2023-04-26T12:49:46.388Z"
   },
   {
    "duration": 115,
    "start_time": "2023-04-26T12:49:46.418Z"
   },
   {
    "duration": 6,
    "start_time": "2023-04-26T12:49:46.535Z"
   },
   {
    "duration": 141,
    "start_time": "2023-04-26T12:49:46.542Z"
   },
   {
    "duration": 123,
    "start_time": "2023-04-26T12:49:46.685Z"
   },
   {
    "duration": 140,
    "start_time": "2023-04-26T12:49:46.809Z"
   },
   {
    "duration": 7,
    "start_time": "2023-04-26T12:49:46.950Z"
   },
   {
    "duration": 132,
    "start_time": "2023-04-26T12:49:46.958Z"
   },
   {
    "duration": 148,
    "start_time": "2023-04-26T12:49:47.092Z"
   },
   {
    "duration": 163,
    "start_time": "2023-04-26T12:49:47.242Z"
   },
   {
    "duration": 340,
    "start_time": "2023-04-26T12:49:47.407Z"
   },
   {
    "duration": 329,
    "start_time": "2023-04-26T12:49:47.749Z"
   },
   {
    "duration": 69,
    "start_time": "2023-04-26T12:49:48.080Z"
   },
   {
    "duration": 26,
    "start_time": "2023-04-26T12:49:48.151Z"
   },
   {
    "duration": 609,
    "start_time": "2023-04-26T12:49:48.179Z"
   },
   {
    "duration": 519,
    "start_time": "2023-04-26T12:49:48.790Z"
   },
   {
    "duration": 45,
    "start_time": "2023-04-26T12:49:49.311Z"
   },
   {
    "duration": 130,
    "start_time": "2023-04-26T12:49:49.357Z"
   },
   {
    "duration": 0,
    "start_time": "2023-04-26T12:49:49.488Z"
   },
   {
    "duration": 0,
    "start_time": "2023-04-26T12:49:49.489Z"
   },
   {
    "duration": 748,
    "start_time": "2023-04-26T12:50:12.351Z"
   },
   {
    "duration": 23,
    "start_time": "2023-04-26T12:50:29.989Z"
   },
   {
    "duration": 93,
    "start_time": "2023-04-26T12:50:34.823Z"
   },
   {
    "duration": 16,
    "start_time": "2023-04-26T12:50:39.563Z"
   },
   {
    "duration": 17,
    "start_time": "2023-04-26T12:50:41.651Z"
   },
   {
    "duration": 783,
    "start_time": "2023-04-26T12:50:58.719Z"
   },
   {
    "duration": 92,
    "start_time": "2023-04-26T12:51:11.472Z"
   },
   {
    "duration": 16,
    "start_time": "2023-04-26T12:51:16.368Z"
   },
   {
    "duration": 12,
    "start_time": "2023-04-26T12:51:16.903Z"
   },
   {
    "duration": 93,
    "start_time": "2023-04-26T12:51:28.800Z"
   },
   {
    "duration": 14,
    "start_time": "2023-04-26T12:51:32.613Z"
   },
   {
    "duration": 12,
    "start_time": "2023-04-26T12:51:33.169Z"
   },
   {
    "duration": 814,
    "start_time": "2023-04-26T12:51:51.470Z"
   },
   {
    "duration": 804,
    "start_time": "2023-04-26T12:51:59.562Z"
   },
   {
    "duration": 93,
    "start_time": "2023-04-26T12:52:11.483Z"
   },
   {
    "duration": 29,
    "start_time": "2023-04-26T12:53:17.486Z"
   },
   {
    "duration": 31,
    "start_time": "2023-04-26T12:54:08.150Z"
   },
   {
    "duration": 30,
    "start_time": "2023-04-26T12:54:12.673Z"
   },
   {
    "duration": 1122,
    "start_time": "2023-04-26T12:54:29.634Z"
   },
   {
    "duration": 86,
    "start_time": "2023-04-26T12:54:30.758Z"
   },
   {
    "duration": 26,
    "start_time": "2023-04-26T12:54:30.845Z"
   },
   {
    "duration": 52,
    "start_time": "2023-04-26T12:54:30.874Z"
   },
   {
    "duration": 39,
    "start_time": "2023-04-26T12:54:30.928Z"
   },
   {
    "duration": 283,
    "start_time": "2023-04-26T12:54:30.969Z"
   },
   {
    "duration": 349,
    "start_time": "2023-04-26T12:54:31.254Z"
   },
   {
    "duration": 19,
    "start_time": "2023-04-26T12:54:31.605Z"
   },
   {
    "duration": 25,
    "start_time": "2023-04-26T12:54:31.625Z"
   },
   {
    "duration": 15,
    "start_time": "2023-04-26T12:54:31.652Z"
   },
   {
    "duration": 125,
    "start_time": "2023-04-26T12:54:31.669Z"
   },
   {
    "duration": 6,
    "start_time": "2023-04-26T12:54:31.796Z"
   },
   {
    "duration": 130,
    "start_time": "2023-04-26T12:54:31.804Z"
   },
   {
    "duration": 120,
    "start_time": "2023-04-26T12:54:31.937Z"
   },
   {
    "duration": 126,
    "start_time": "2023-04-26T12:54:32.059Z"
   },
   {
    "duration": 7,
    "start_time": "2023-04-26T12:54:32.187Z"
   },
   {
    "duration": 133,
    "start_time": "2023-04-26T12:54:32.195Z"
   },
   {
    "duration": 140,
    "start_time": "2023-04-26T12:54:32.330Z"
   },
   {
    "duration": 133,
    "start_time": "2023-04-26T12:54:32.472Z"
   },
   {
    "duration": 325,
    "start_time": "2023-04-26T12:54:32.607Z"
   },
   {
    "duration": 323,
    "start_time": "2023-04-26T12:54:32.934Z"
   },
   {
    "duration": 78,
    "start_time": "2023-04-26T12:54:33.259Z"
   },
   {
    "duration": 25,
    "start_time": "2023-04-26T12:54:33.340Z"
   },
   {
    "duration": 601,
    "start_time": "2023-04-26T12:54:33.367Z"
   },
   {
    "duration": 548,
    "start_time": "2023-04-26T12:54:33.970Z"
   },
   {
    "duration": 33,
    "start_time": "2023-04-26T12:54:34.520Z"
   },
   {
    "duration": 918,
    "start_time": "2023-04-26T12:54:34.555Z"
   },
   {
    "duration": 0,
    "start_time": "2023-04-26T12:54:35.476Z"
   },
   {
    "duration": 0,
    "start_time": "2023-04-26T12:54:35.477Z"
   },
   {
    "duration": 770,
    "start_time": "2023-04-26T12:54:59.544Z"
   },
   {
    "duration": 0,
    "start_time": "2023-04-26T12:55:00.316Z"
   },
   {
    "duration": 141,
    "start_time": "2023-04-26T12:55:58.538Z"
   },
   {
    "duration": 16,
    "start_time": "2023-04-26T12:56:08.255Z"
   },
   {
    "duration": 11,
    "start_time": "2023-04-26T12:56:08.649Z"
   },
   {
    "duration": 22,
    "start_time": "2023-04-26T12:57:25.631Z"
   },
   {
    "duration": 12,
    "start_time": "2023-04-26T12:57:42.240Z"
   },
   {
    "duration": 46,
    "start_time": "2023-04-26T12:58:15.401Z"
   },
   {
    "duration": 8,
    "start_time": "2023-04-26T12:58:41.890Z"
   },
   {
    "duration": 17,
    "start_time": "2023-04-26T12:59:28.640Z"
   },
   {
    "duration": 22,
    "start_time": "2023-04-26T13:02:59.943Z"
   },
   {
    "duration": 20,
    "start_time": "2023-04-26T13:03:56.049Z"
   },
   {
    "duration": 31,
    "start_time": "2023-04-26T13:04:39.091Z"
   },
   {
    "duration": 30,
    "start_time": "2023-04-26T13:04:53.667Z"
   },
   {
    "duration": 18,
    "start_time": "2023-04-26T13:06:11.276Z"
   },
   {
    "duration": 96,
    "start_time": "2023-04-26T13:06:22.372Z"
   },
   {
    "duration": 159,
    "start_time": "2023-04-26T13:06:41.459Z"
   },
   {
    "duration": 164,
    "start_time": "2023-04-26T13:07:24.110Z"
   },
   {
    "duration": 166,
    "start_time": "2023-04-26T13:07:51.156Z"
   },
   {
    "duration": 15,
    "start_time": "2023-04-26T13:08:11.755Z"
   },
   {
    "duration": 13,
    "start_time": "2023-04-26T13:08:14.171Z"
   },
   {
    "duration": 164,
    "start_time": "2023-04-26T13:11:34.749Z"
   },
   {
    "duration": 172,
    "start_time": "2023-04-26T13:11:54.101Z"
   },
   {
    "duration": 189,
    "start_time": "2023-04-26T13:12:26.566Z"
   },
   {
    "duration": 171,
    "start_time": "2023-04-26T13:15:12.392Z"
   },
   {
    "duration": 15,
    "start_time": "2023-04-26T13:15:21.886Z"
   },
   {
    "duration": 12,
    "start_time": "2023-04-26T13:15:25.629Z"
   },
   {
    "duration": 10,
    "start_time": "2023-04-26T13:16:11.774Z"
   },
   {
    "duration": 51,
    "start_time": "2023-04-26T13:19:01.400Z"
   },
   {
    "duration": 139,
    "start_time": "2023-04-26T13:19:11.502Z"
   },
   {
    "duration": 12,
    "start_time": "2023-04-26T13:19:16.912Z"
   },
   {
    "duration": 11,
    "start_time": "2023-04-26T13:19:17.422Z"
   },
   {
    "duration": 12,
    "start_time": "2023-04-26T13:19:32.543Z"
   },
   {
    "duration": 15,
    "start_time": "2023-04-26T13:19:36.504Z"
   },
   {
    "duration": 128,
    "start_time": "2023-04-26T13:20:29.255Z"
   },
   {
    "duration": 15,
    "start_time": "2023-04-26T13:20:31.121Z"
   },
   {
    "duration": 11,
    "start_time": "2023-04-26T13:20:31.487Z"
   },
   {
    "duration": 12,
    "start_time": "2023-04-26T13:20:39.832Z"
   },
   {
    "duration": 11,
    "start_time": "2023-04-26T13:20:40.303Z"
   },
   {
    "duration": 1129,
    "start_time": "2023-04-26T13:44:44.507Z"
   },
   {
    "duration": 84,
    "start_time": "2023-04-26T13:44:45.639Z"
   },
   {
    "duration": 27,
    "start_time": "2023-04-26T13:44:45.725Z"
   },
   {
    "duration": 26,
    "start_time": "2023-04-26T13:44:45.754Z"
   },
   {
    "duration": 70,
    "start_time": "2023-04-26T13:44:45.782Z"
   },
   {
    "duration": 304,
    "start_time": "2023-04-26T13:44:45.854Z"
   },
   {
    "duration": 325,
    "start_time": "2023-04-26T13:44:46.160Z"
   },
   {
    "duration": 17,
    "start_time": "2023-04-26T13:44:46.486Z"
   },
   {
    "duration": 17,
    "start_time": "2023-04-26T13:44:46.504Z"
   },
   {
    "duration": 5,
    "start_time": "2023-04-26T13:44:46.523Z"
   },
   {
    "duration": 120,
    "start_time": "2023-04-26T13:44:46.529Z"
   },
   {
    "duration": 6,
    "start_time": "2023-04-26T13:44:46.650Z"
   },
   {
    "duration": 105,
    "start_time": "2023-04-26T13:44:46.657Z"
   },
   {
    "duration": 121,
    "start_time": "2023-04-26T13:44:46.764Z"
   },
   {
    "duration": 118,
    "start_time": "2023-04-26T13:44:46.887Z"
   },
   {
    "duration": 15,
    "start_time": "2023-04-26T13:44:47.006Z"
   },
   {
    "duration": 144,
    "start_time": "2023-04-26T13:44:47.023Z"
   },
   {
    "duration": 155,
    "start_time": "2023-04-26T13:44:47.169Z"
   },
   {
    "duration": 141,
    "start_time": "2023-04-26T13:44:47.326Z"
   },
   {
    "duration": 334,
    "start_time": "2023-04-26T13:44:47.469Z"
   },
   {
    "duration": 331,
    "start_time": "2023-04-26T13:44:47.804Z"
   },
   {
    "duration": 61,
    "start_time": "2023-04-26T13:44:48.136Z"
   },
   {
    "duration": 39,
    "start_time": "2023-04-26T13:44:48.198Z"
   },
   {
    "duration": 588,
    "start_time": "2023-04-26T13:44:48.238Z"
   },
   {
    "duration": 525,
    "start_time": "2023-04-26T13:44:48.828Z"
   },
   {
    "duration": 28,
    "start_time": "2023-04-26T13:44:49.354Z"
   },
   {
    "duration": 147,
    "start_time": "2023-04-26T13:44:49.384Z"
   },
   {
    "duration": 121,
    "start_time": "2023-04-26T13:44:57.905Z"
   },
   {
    "duration": 121,
    "start_time": "2023-04-26T13:45:02.624Z"
   },
   {
    "duration": 5,
    "start_time": "2023-04-26T14:01:03.920Z"
   },
   {
    "duration": 5,
    "start_time": "2023-04-26T14:01:11.184Z"
   },
   {
    "duration": 5,
    "start_time": "2023-04-26T14:01:25.337Z"
   },
   {
    "duration": 4,
    "start_time": "2023-04-26T14:01:32.432Z"
   },
   {
    "duration": 4,
    "start_time": "2023-04-26T14:01:39.688Z"
   },
   {
    "duration": 6,
    "start_time": "2023-04-26T14:02:09.564Z"
   },
   {
    "duration": 5,
    "start_time": "2023-04-26T14:02:20.978Z"
   },
   {
    "duration": 5,
    "start_time": "2023-04-26T14:04:22.924Z"
   },
   {
    "duration": 4,
    "start_time": "2023-04-26T14:04:29.164Z"
   },
   {
    "duration": 3,
    "start_time": "2023-04-26T14:07:33.313Z"
   },
   {
    "duration": 4,
    "start_time": "2023-04-26T14:07:35.234Z"
   },
   {
    "duration": 119,
    "start_time": "2023-04-26T14:09:45.330Z"
   },
   {
    "duration": 124,
    "start_time": "2023-04-26T14:09:47.564Z"
   },
   {
    "duration": 237,
    "start_time": "2023-04-26T14:10:52.531Z"
   },
   {
    "duration": 1175,
    "start_time": "2023-04-26T16:41:43.875Z"
   },
   {
    "duration": 87,
    "start_time": "2023-04-26T16:41:45.052Z"
   },
   {
    "duration": 26,
    "start_time": "2023-04-26T16:41:45.141Z"
   },
   {
    "duration": 26,
    "start_time": "2023-04-26T16:41:45.168Z"
   },
   {
    "duration": 38,
    "start_time": "2023-04-26T16:41:45.217Z"
   },
   {
    "duration": 264,
    "start_time": "2023-04-26T16:41:45.256Z"
   },
   {
    "duration": 335,
    "start_time": "2023-04-26T16:41:45.521Z"
   },
   {
    "duration": 16,
    "start_time": "2023-04-26T16:41:45.857Z"
   },
   {
    "duration": 5,
    "start_time": "2023-04-26T16:41:45.875Z"
   },
   {
    "duration": 5,
    "start_time": "2023-04-26T16:41:45.883Z"
   },
   {
    "duration": 131,
    "start_time": "2023-04-26T16:41:45.889Z"
   },
   {
    "duration": 6,
    "start_time": "2023-04-26T16:41:46.022Z"
   },
   {
    "duration": 109,
    "start_time": "2023-04-26T16:41:46.029Z"
   },
   {
    "duration": 124,
    "start_time": "2023-04-26T16:41:46.140Z"
   },
   {
    "duration": 115,
    "start_time": "2023-04-26T16:41:46.266Z"
   },
   {
    "duration": 7,
    "start_time": "2023-04-26T16:41:46.382Z"
   },
   {
    "duration": 131,
    "start_time": "2023-04-26T16:41:46.391Z"
   },
   {
    "duration": 143,
    "start_time": "2023-04-26T16:41:46.524Z"
   },
   {
    "duration": 139,
    "start_time": "2023-04-26T16:41:46.668Z"
   },
   {
    "duration": 345,
    "start_time": "2023-04-26T16:41:46.810Z"
   },
   {
    "duration": 341,
    "start_time": "2023-04-26T16:41:47.156Z"
   },
   {
    "duration": 67,
    "start_time": "2023-04-26T16:41:47.499Z"
   },
   {
    "duration": 26,
    "start_time": "2023-04-26T16:41:47.568Z"
   },
   {
    "duration": 608,
    "start_time": "2023-04-26T16:41:47.596Z"
   },
   {
    "duration": 515,
    "start_time": "2023-04-26T16:41:48.206Z"
   },
   {
    "duration": 31,
    "start_time": "2023-04-26T16:41:48.722Z"
   },
   {
    "duration": 136,
    "start_time": "2023-04-26T16:41:48.754Z"
   },
   {
    "duration": 6,
    "start_time": "2023-04-26T16:41:48.892Z"
   },
   {
    "duration": 134,
    "start_time": "2023-04-26T16:41:48.899Z"
   },
   {
    "duration": 142,
    "start_time": "2023-04-26T16:41:49.034Z"
   },
   {
    "duration": 50,
    "start_time": "2023-04-26T16:41:49.177Z"
   },
   {
    "duration": 7,
    "start_time": "2023-04-26T16:42:50.298Z"
   },
   {
    "duration": 5,
    "start_time": "2023-04-26T16:42:58.075Z"
   },
   {
    "duration": 5,
    "start_time": "2023-04-26T16:43:36.131Z"
   },
   {
    "duration": 6,
    "start_time": "2023-04-26T16:43:50.962Z"
   },
   {
    "duration": 5,
    "start_time": "2023-04-26T16:44:27.803Z"
   },
   {
    "duration": 111,
    "start_time": "2023-04-26T16:45:12.405Z"
   },
   {
    "duration": 5,
    "start_time": "2023-04-26T16:45:19.786Z"
   },
   {
    "duration": 5,
    "start_time": "2023-04-26T16:45:29.369Z"
   },
   {
    "duration": 5,
    "start_time": "2023-04-26T16:53:36.434Z"
   },
   {
    "duration": 8,
    "start_time": "2023-04-26T16:55:50.987Z"
   },
   {
    "duration": 6,
    "start_time": "2023-04-26T16:56:03.992Z"
   },
   {
    "duration": 5,
    "start_time": "2023-04-26T17:06:11.218Z"
   },
   {
    "duration": 4,
    "start_time": "2023-04-26T17:06:24.427Z"
   },
   {
    "duration": 5,
    "start_time": "2023-04-26T17:06:45.498Z"
   },
   {
    "duration": 17,
    "start_time": "2023-04-26T17:07:00.375Z"
   },
   {
    "duration": 16,
    "start_time": "2023-04-26T17:07:23.749Z"
   },
   {
    "duration": 5,
    "start_time": "2023-04-26T17:07:35.914Z"
   },
   {
    "duration": 7,
    "start_time": "2023-04-26T17:07:57.143Z"
   },
   {
    "duration": 5,
    "start_time": "2023-04-26T17:08:03.651Z"
   },
   {
    "duration": 9,
    "start_time": "2023-04-26T17:13:39.835Z"
   },
   {
    "duration": 43,
    "start_time": "2023-04-26T17:13:55.301Z"
   },
   {
    "duration": 4,
    "start_time": "2023-04-26T17:14:11.217Z"
   },
   {
    "duration": 5,
    "start_time": "2023-04-26T17:14:18.679Z"
   },
   {
    "duration": 10,
    "start_time": "2023-04-26T17:15:27.742Z"
   },
   {
    "duration": 6,
    "start_time": "2023-04-26T17:15:43.599Z"
   },
   {
    "duration": 6,
    "start_time": "2023-04-26T17:15:53.622Z"
   },
   {
    "duration": 5,
    "start_time": "2023-04-26T17:16:58.951Z"
   },
   {
    "duration": 5,
    "start_time": "2023-04-26T17:17:29.151Z"
   },
   {
    "duration": 5,
    "start_time": "2023-04-26T17:17:43.858Z"
   },
   {
    "duration": 6,
    "start_time": "2023-04-26T17:21:30.202Z"
   },
   {
    "duration": 5,
    "start_time": "2023-04-26T17:22:48.898Z"
   },
   {
    "duration": 136,
    "start_time": "2023-04-26T17:23:11.098Z"
   },
   {
    "duration": 201,
    "start_time": "2023-04-26T17:25:09.675Z"
   },
   {
    "duration": 48,
    "start_time": "2023-04-26T17:25:22.363Z"
   },
   {
    "duration": 106,
    "start_time": "2023-04-26T17:25:28.580Z"
   },
   {
    "duration": 114,
    "start_time": "2023-04-26T17:25:44.805Z"
   },
   {
    "duration": 110,
    "start_time": "2023-04-26T17:26:08.491Z"
   },
   {
    "duration": 114,
    "start_time": "2023-04-26T17:26:17.765Z"
   },
   {
    "duration": 110,
    "start_time": "2023-04-26T17:26:25.382Z"
   },
   {
    "duration": 107,
    "start_time": "2023-04-26T17:27:05.366Z"
   },
   {
    "duration": 104,
    "start_time": "2023-04-26T17:27:16.157Z"
   },
   {
    "duration": 111,
    "start_time": "2023-04-26T17:27:26.427Z"
   },
   {
    "duration": 111,
    "start_time": "2023-04-26T17:27:35.662Z"
   },
   {
    "duration": 11,
    "start_time": "2023-04-26T17:27:47.036Z"
   },
   {
    "duration": 108,
    "start_time": "2023-04-26T17:28:44.324Z"
   },
   {
    "duration": 5,
    "start_time": "2023-04-26T17:29:28.229Z"
   },
   {
    "duration": 135,
    "start_time": "2023-04-26T17:31:35.007Z"
   },
   {
    "duration": 125,
    "start_time": "2023-04-26T17:31:55.271Z"
   },
   {
    "duration": 216,
    "start_time": "2023-04-26T17:32:04.688Z"
   },
   {
    "duration": 111,
    "start_time": "2023-04-26T17:32:34.809Z"
   },
   {
    "duration": 124,
    "start_time": "2023-04-26T17:32:46.984Z"
   },
   {
    "duration": 130,
    "start_time": "2023-04-26T17:33:03.152Z"
   },
   {
    "duration": 127,
    "start_time": "2023-04-26T17:33:32.913Z"
   },
   {
    "duration": 129,
    "start_time": "2023-04-26T17:33:43.344Z"
   },
   {
    "duration": 131,
    "start_time": "2023-04-26T17:33:47.105Z"
   },
   {
    "duration": 124,
    "start_time": "2023-04-26T17:34:25.633Z"
   },
   {
    "duration": 73,
    "start_time": "2023-04-27T12:25:07.807Z"
   },
   {
    "duration": 69,
    "start_time": "2023-04-27T12:26:24.888Z"
   },
   {
    "duration": 48,
    "start_time": "2023-04-27T12:26:31.213Z"
   },
   {
    "duration": 1515,
    "start_time": "2023-04-27T12:26:47.818Z"
   },
   {
    "duration": 671,
    "start_time": "2023-04-27T12:26:49.335Z"
   },
   {
    "duration": 8,
    "start_time": "2023-04-27T12:26:50.008Z"
   },
   {
    "duration": 54,
    "start_time": "2023-04-27T12:26:50.018Z"
   },
   {
    "duration": 41,
    "start_time": "2023-04-27T12:26:50.075Z"
   },
   {
    "duration": 48,
    "start_time": "2023-04-27T12:26:50.117Z"
   },
   {
    "duration": 351,
    "start_time": "2023-04-27T12:26:50.167Z"
   },
   {
    "duration": 771,
    "start_time": "2023-04-27T12:26:50.521Z"
   },
   {
    "duration": 22,
    "start_time": "2023-04-27T12:26:51.294Z"
   },
   {
    "duration": 9,
    "start_time": "2023-04-27T12:26:51.318Z"
   },
   {
    "duration": 37,
    "start_time": "2023-04-27T12:26:51.330Z"
   },
   {
    "duration": 179,
    "start_time": "2023-04-27T12:26:51.370Z"
   },
   {
    "duration": 8,
    "start_time": "2023-04-27T12:26:51.552Z"
   },
   {
    "duration": 175,
    "start_time": "2023-04-27T12:26:51.564Z"
   },
   {
    "duration": 232,
    "start_time": "2023-04-27T12:26:51.741Z"
   },
   {
    "duration": 193,
    "start_time": "2023-04-27T12:26:51.976Z"
   },
   {
    "duration": 23,
    "start_time": "2023-04-27T12:26:52.171Z"
   },
   {
    "duration": 305,
    "start_time": "2023-04-27T12:26:52.201Z"
   },
   {
    "duration": 109,
    "start_time": "2023-04-27T12:26:52.509Z"
   },
   {
    "duration": 185,
    "start_time": "2023-04-27T12:26:52.621Z"
   },
   {
    "duration": 501,
    "start_time": "2023-04-27T12:26:52.811Z"
   },
   {
    "duration": 492,
    "start_time": "2023-04-27T12:26:53.314Z"
   },
   {
    "duration": 105,
    "start_time": "2023-04-27T12:26:53.809Z"
   },
   {
    "duration": 36,
    "start_time": "2023-04-27T12:26:53.917Z"
   },
   {
    "duration": 821,
    "start_time": "2023-04-27T12:26:53.955Z"
   },
   {
    "duration": 704,
    "start_time": "2023-04-27T12:26:54.779Z"
   },
   {
    "duration": 40,
    "start_time": "2023-04-27T12:26:55.489Z"
   },
   {
    "duration": 171,
    "start_time": "2023-04-27T12:26:55.531Z"
   },
   {
    "duration": 126,
    "start_time": "2023-04-27T12:26:55.704Z"
   },
   {
    "duration": 0,
    "start_time": "2023-04-27T12:26:55.832Z"
   },
   {
    "duration": 0,
    "start_time": "2023-04-27T12:26:55.833Z"
   },
   {
    "duration": 0,
    "start_time": "2023-04-27T12:26:55.834Z"
   },
   {
    "duration": 3,
    "start_time": "2023-04-27T12:36:13.819Z"
   },
   {
    "duration": 15,
    "start_time": "2023-04-27T12:36:36.453Z"
   },
   {
    "duration": 183,
    "start_time": "2023-04-27T12:36:57.885Z"
   },
   {
    "duration": 27,
    "start_time": "2023-04-27T12:37:29.274Z"
   },
   {
    "duration": 9,
    "start_time": "2023-04-27T12:38:29.551Z"
   },
   {
    "duration": 30,
    "start_time": "2023-04-27T12:38:44.943Z"
   },
   {
    "duration": 21,
    "start_time": "2023-04-27T12:38:58.891Z"
   },
   {
    "duration": 21,
    "start_time": "2023-04-27T12:39:36.917Z"
   },
   {
    "duration": 18,
    "start_time": "2023-04-27T12:39:58.695Z"
   },
   {
    "duration": 13,
    "start_time": "2023-04-27T12:40:05.168Z"
   },
   {
    "duration": 12,
    "start_time": "2023-04-27T12:40:09.345Z"
   },
   {
    "duration": 13,
    "start_time": "2023-04-27T12:40:15.213Z"
   },
   {
    "duration": 16,
    "start_time": "2023-04-27T12:40:21.050Z"
   },
   {
    "duration": 16,
    "start_time": "2023-04-27T12:40:24.562Z"
   },
   {
    "duration": 4,
    "start_time": "2023-04-27T12:40:45.425Z"
   },
   {
    "duration": 133,
    "start_time": "2023-04-27T12:40:46.123Z"
   },
   {
    "duration": 33,
    "start_time": "2023-04-27T12:40:46.440Z"
   },
   {
    "duration": 32,
    "start_time": "2023-04-27T12:40:46.790Z"
   },
   {
    "duration": 42,
    "start_time": "2023-04-27T12:40:47.535Z"
   },
   {
    "duration": 319,
    "start_time": "2023-04-27T12:40:47.821Z"
   },
   {
    "duration": 429,
    "start_time": "2023-04-27T12:40:48.535Z"
   },
   {
    "duration": 13,
    "start_time": "2023-04-27T12:40:51.108Z"
   },
   {
    "duration": 15,
    "start_time": "2023-04-27T12:40:52.544Z"
   },
   {
    "duration": 12,
    "start_time": "2023-04-27T12:40:53.768Z"
   },
   {
    "duration": 5,
    "start_time": "2023-04-27T12:40:55.170Z"
   },
   {
    "duration": 68,
    "start_time": "2023-04-27T12:43:06.006Z"
   },
   {
    "duration": 229,
    "start_time": "2023-04-27T12:46:02.035Z"
   },
   {
    "duration": 208,
    "start_time": "2023-04-27T12:46:20.972Z"
   },
   {
    "duration": 210,
    "start_time": "2023-04-27T12:46:26.445Z"
   },
   {
    "duration": 12,
    "start_time": "2023-04-27T12:47:58.731Z"
   },
   {
    "duration": 149,
    "start_time": "2023-04-27T12:48:04.861Z"
   },
   {
    "duration": 139,
    "start_time": "2023-04-27T12:48:06.430Z"
   },
   {
    "duration": 152,
    "start_time": "2023-04-27T12:48:15.273Z"
   },
   {
    "duration": 190,
    "start_time": "2023-04-27T12:49:52.525Z"
   },
   {
    "duration": 152,
    "start_time": "2023-04-27T12:49:58.607Z"
   },
   {
    "duration": 310,
    "start_time": "2023-04-27T12:50:02.138Z"
   },
   {
    "duration": 7,
    "start_time": "2023-04-27T12:50:12.754Z"
   },
   {
    "duration": 1336,
    "start_time": "2023-04-27T12:51:38.525Z"
   },
   {
    "duration": 129,
    "start_time": "2023-04-27T12:51:39.863Z"
   },
   {
    "duration": 43,
    "start_time": "2023-04-27T12:51:40.730Z"
   },
   {
    "duration": 30,
    "start_time": "2023-04-27T12:51:41.518Z"
   },
   {
    "duration": 40,
    "start_time": "2023-04-27T12:51:43.071Z"
   },
   {
    "duration": 433,
    "start_time": "2023-04-27T12:51:43.537Z"
   },
   {
    "duration": 453,
    "start_time": "2023-04-27T12:51:44.011Z"
   },
   {
    "duration": 144,
    "start_time": "2023-04-27T12:51:44.629Z"
   },
   {
    "duration": 166,
    "start_time": "2023-04-27T12:51:44.827Z"
   },
   {
    "duration": 9,
    "start_time": "2023-04-27T12:51:47.325Z"
   },
   {
    "duration": 18,
    "start_time": "2023-04-27T12:51:48.812Z"
   },
   {
    "duration": 27,
    "start_time": "2023-04-27T12:51:51.788Z"
   },
   {
    "duration": 12,
    "start_time": "2023-04-27T12:52:04.422Z"
   },
   {
    "duration": 207,
    "start_time": "2023-04-27T12:53:19.772Z"
   },
   {
    "duration": 141,
    "start_time": "2023-04-27T12:53:26.442Z"
   },
   {
    "duration": 71,
    "start_time": "2023-04-27T12:53:53.985Z"
   },
   {
    "duration": 170,
    "start_time": "2023-04-27T12:54:39.134Z"
   },
   {
    "duration": 294,
    "start_time": "2023-04-27T12:54:51.708Z"
   },
   {
    "duration": 123,
    "start_time": "2023-04-27T13:02:43.232Z"
   },
   {
    "duration": 108,
    "start_time": "2023-04-27T13:04:04.427Z"
   },
   {
    "duration": 272,
    "start_time": "2023-04-27T13:04:22.836Z"
   },
   {
    "duration": 202,
    "start_time": "2023-04-27T13:04:31.086Z"
   },
   {
    "duration": 117,
    "start_time": "2023-04-27T13:04:49.436Z"
   },
   {
    "duration": 174,
    "start_time": "2023-04-27T13:14:05.013Z"
   },
   {
    "duration": 169,
    "start_time": "2023-04-27T13:14:11.125Z"
   },
   {
    "duration": 59,
    "start_time": "2023-04-27T13:14:54.817Z"
   },
   {
    "duration": 179,
    "start_time": "2023-04-27T13:15:01.158Z"
   },
   {
    "duration": 543,
    "start_time": "2023-04-27T13:15:34.123Z"
   },
   {
    "duration": 468,
    "start_time": "2023-04-27T13:15:44.198Z"
   },
   {
    "duration": 458,
    "start_time": "2023-04-27T13:18:39.465Z"
   },
   {
    "duration": 118,
    "start_time": "2023-04-27T13:23:54.677Z"
   },
   {
    "duration": 21,
    "start_time": "2023-04-27T13:24:01.421Z"
   },
   {
    "duration": 69,
    "start_time": "2023-04-27T13:24:04.129Z"
   },
   {
    "duration": 36,
    "start_time": "2023-04-27T13:24:50.017Z"
   },
   {
    "duration": 951,
    "start_time": "2023-04-27T13:25:28.678Z"
   },
   {
    "duration": 751,
    "start_time": "2023-04-27T13:26:28.406Z"
   },
   {
    "duration": 78,
    "start_time": "2023-04-27T13:30:37.686Z"
   },
   {
    "duration": 48,
    "start_time": "2023-04-27T13:35:13.225Z"
   },
   {
    "duration": 12,
    "start_time": "2023-04-27T13:38:17.722Z"
   },
   {
    "duration": 4,
    "start_time": "2023-04-27T13:38:35.514Z"
   },
   {
    "duration": 177,
    "start_time": "2023-04-27T13:38:40.892Z"
   },
   {
    "duration": 5,
    "start_time": "2023-04-27T13:39:59.935Z"
   },
   {
    "duration": 6,
    "start_time": "2023-04-27T13:40:14.043Z"
   },
   {
    "duration": 225,
    "start_time": "2023-04-27T13:41:25.134Z"
   },
   {
    "duration": 224,
    "start_time": "2023-04-27T13:41:39.821Z"
   },
   {
    "duration": 1352,
    "start_time": "2023-04-27T13:43:07.559Z"
   },
   {
    "duration": 135,
    "start_time": "2023-04-27T13:43:08.918Z"
   },
   {
    "duration": 47,
    "start_time": "2023-04-27T13:43:09.055Z"
   },
   {
    "duration": 27,
    "start_time": "2023-04-27T13:43:09.107Z"
   },
   {
    "duration": 35,
    "start_time": "2023-04-27T13:43:09.136Z"
   },
   {
    "duration": 378,
    "start_time": "2023-04-27T13:43:09.173Z"
   },
   {
    "duration": 486,
    "start_time": "2023-04-27T13:43:09.553Z"
   },
   {
    "duration": 178,
    "start_time": "2023-04-27T13:43:10.042Z"
   },
   {
    "duration": 199,
    "start_time": "2023-04-27T13:43:10.224Z"
   },
   {
    "duration": 14,
    "start_time": "2023-04-27T13:43:10.427Z"
   },
   {
    "duration": 41,
    "start_time": "2023-04-27T13:43:10.444Z"
   },
   {
    "duration": 26,
    "start_time": "2023-04-27T13:43:10.488Z"
   },
   {
    "duration": 20,
    "start_time": "2023-04-27T13:43:10.516Z"
   },
   {
    "duration": 228,
    "start_time": "2023-04-27T13:43:10.538Z"
   },
   {
    "duration": 159,
    "start_time": "2023-04-27T13:43:10.769Z"
   },
   {
    "duration": 197,
    "start_time": "2023-04-27T13:43:10.931Z"
   },
   {
    "duration": 576,
    "start_time": "2023-04-27T13:43:11.130Z"
   },
   {
    "duration": 462,
    "start_time": "2023-04-27T13:43:11.713Z"
   },
   {
    "duration": 27,
    "start_time": "2023-04-27T13:43:12.178Z"
   },
   {
    "duration": 69,
    "start_time": "2023-04-27T13:43:12.207Z"
   },
   {
    "duration": 42,
    "start_time": "2023-04-27T13:43:12.292Z"
   },
   {
    "duration": 780,
    "start_time": "2023-04-27T13:43:12.336Z"
   },
   {
    "duration": 915,
    "start_time": "2023-04-27T13:43:13.121Z"
   },
   {
    "duration": 37,
    "start_time": "2023-04-27T13:43:14.039Z"
   },
   {
    "duration": 187,
    "start_time": "2023-04-27T13:43:14.077Z"
   },
   {
    "duration": 9,
    "start_time": "2023-04-27T13:43:14.267Z"
   },
   {
    "duration": 197,
    "start_time": "2023-04-27T13:43:14.292Z"
   },
   {
    "duration": 14,
    "start_time": "2023-04-27T13:43:14.493Z"
   },
   {
    "duration": 204,
    "start_time": "2023-04-27T13:43:14.512Z"
   },
   {
    "duration": 9,
    "start_time": "2023-04-27T13:43:32.866Z"
   },
   {
    "duration": 8,
    "start_time": "2023-04-27T13:43:36.950Z"
   },
   {
    "duration": 8,
    "start_time": "2023-04-27T13:43:44.823Z"
   },
   {
    "duration": 187,
    "start_time": "2023-04-27T13:47:27.560Z"
   },
   {
    "duration": 202,
    "start_time": "2023-04-27T13:47:31.570Z"
   },
   {
    "duration": 13,
    "start_time": "2023-04-27T13:47:51.618Z"
   },
   {
    "duration": 13,
    "start_time": "2023-04-27T13:49:32.620Z"
   },
   {
    "duration": 12,
    "start_time": "2023-04-27T13:50:11.755Z"
   },
   {
    "duration": 1453,
    "start_time": "2023-04-28T11:20:26.784Z"
   },
   {
    "duration": 374,
    "start_time": "2023-04-28T11:20:28.238Z"
   },
   {
    "duration": 28,
    "start_time": "2023-04-28T11:20:28.613Z"
   },
   {
    "duration": 26,
    "start_time": "2023-04-28T11:20:28.643Z"
   },
   {
    "duration": 30,
    "start_time": "2023-04-28T11:20:28.672Z"
   },
   {
    "duration": 293,
    "start_time": "2023-04-28T11:20:28.704Z"
   },
   {
    "duration": 381,
    "start_time": "2023-04-28T11:20:28.998Z"
   },
   {
    "duration": 141,
    "start_time": "2023-04-28T11:20:29.381Z"
   },
   {
    "duration": 162,
    "start_time": "2023-04-28T11:20:29.524Z"
   },
   {
    "duration": 10,
    "start_time": "2023-04-28T11:20:29.688Z"
   },
   {
    "duration": 22,
    "start_time": "2023-04-28T11:20:29.701Z"
   },
   {
    "duration": 15,
    "start_time": "2023-04-28T11:20:29.725Z"
   },
   {
    "duration": 26,
    "start_time": "2023-04-28T11:20:29.743Z"
   },
   {
    "duration": 192,
    "start_time": "2023-04-28T11:20:29.775Z"
   },
   {
    "duration": 120,
    "start_time": "2023-04-28T11:20:29.971Z"
   },
   {
    "duration": 150,
    "start_time": "2023-04-28T11:20:30.094Z"
   },
   {
    "duration": 541,
    "start_time": "2023-04-28T11:20:30.246Z"
   },
   {
    "duration": 410,
    "start_time": "2023-04-28T11:20:30.789Z"
   },
   {
    "duration": 19,
    "start_time": "2023-04-28T11:20:31.201Z"
   },
   {
    "duration": 157,
    "start_time": "2023-04-28T11:20:31.222Z"
   },
   {
    "duration": 25,
    "start_time": "2023-04-28T11:20:31.382Z"
   },
   {
    "duration": 684,
    "start_time": "2023-04-28T11:20:31.409Z"
   },
   {
    "duration": 733,
    "start_time": "2023-04-28T11:20:32.095Z"
   },
   {
    "duration": 51,
    "start_time": "2023-04-28T11:20:32.830Z"
   },
   {
    "duration": 135,
    "start_time": "2023-04-28T11:20:32.883Z"
   },
   {
    "duration": 7,
    "start_time": "2023-04-28T11:20:33.020Z"
   },
   {
    "duration": 11,
    "start_time": "2023-04-28T11:20:33.029Z"
   },
   {
    "duration": 28,
    "start_time": "2023-04-28T11:20:33.042Z"
   },
   {
    "duration": 122,
    "start_time": "2023-04-28T11:56:42.013Z"
   },
   {
    "duration": 131,
    "start_time": "2023-04-28T12:02:38.289Z"
   },
   {
    "duration": 7,
    "start_time": "2023-04-28T12:17:15.386Z"
   },
   {
    "duration": 118,
    "start_time": "2023-04-28T12:25:33.281Z"
   },
   {
    "duration": 5,
    "start_time": "2023-04-28T12:25:44.725Z"
   },
   {
    "duration": 7,
    "start_time": "2023-04-28T12:26:41.285Z"
   },
   {
    "duration": 43,
    "start_time": "2023-04-28T13:31:33.217Z"
   },
   {
    "duration": 1256,
    "start_time": "2023-04-28T13:31:39.317Z"
   },
   {
    "duration": 317,
    "start_time": "2023-04-28T13:31:40.575Z"
   },
   {
    "duration": 29,
    "start_time": "2023-04-28T13:31:40.893Z"
   },
   {
    "duration": 7,
    "start_time": "2023-04-28T13:31:40.924Z"
   },
   {
    "duration": 27,
    "start_time": "2023-04-28T13:31:40.933Z"
   },
   {
    "duration": 291,
    "start_time": "2023-04-28T13:31:40.961Z"
   },
   {
    "duration": 409,
    "start_time": "2023-04-28T13:31:41.253Z"
   },
   {
    "duration": 112,
    "start_time": "2023-04-28T13:31:41.663Z"
   },
   {
    "duration": 119,
    "start_time": "2023-04-28T13:31:41.777Z"
   },
   {
    "duration": 7,
    "start_time": "2023-04-28T13:31:41.899Z"
   },
   {
    "duration": 14,
    "start_time": "2023-04-28T13:31:41.908Z"
   },
   {
    "duration": 10,
    "start_time": "2023-04-28T13:31:41.923Z"
   },
   {
    "duration": 5,
    "start_time": "2023-04-28T13:31:41.935Z"
   },
   {
    "duration": 158,
    "start_time": "2023-04-28T13:31:41.941Z"
   },
   {
    "duration": 78,
    "start_time": "2023-04-28T13:31:42.100Z"
   },
   {
    "duration": 139,
    "start_time": "2023-04-28T13:31:42.180Z"
   },
   {
    "duration": 421,
    "start_time": "2023-04-28T13:31:42.321Z"
   },
   {
    "duration": 338,
    "start_time": "2023-04-28T13:31:42.744Z"
   },
   {
    "duration": 21,
    "start_time": "2023-04-28T13:31:43.084Z"
   },
   {
    "duration": 47,
    "start_time": "2023-04-28T13:31:43.107Z"
   },
   {
    "duration": 46,
    "start_time": "2023-04-28T13:31:43.156Z"
   },
   {
    "duration": 559,
    "start_time": "2023-04-28T13:31:43.204Z"
   },
   {
    "duration": 745,
    "start_time": "2023-04-28T13:31:43.765Z"
   },
   {
    "duration": 28,
    "start_time": "2023-04-28T13:31:44.512Z"
   },
   {
    "duration": 136,
    "start_time": "2023-04-28T13:31:44.542Z"
   },
   {
    "duration": 7,
    "start_time": "2023-04-28T13:31:44.680Z"
   },
   {
    "duration": 8,
    "start_time": "2023-04-28T13:31:44.695Z"
   },
   {
    "duration": 7,
    "start_time": "2023-04-28T13:31:44.705Z"
   },
   {
    "duration": 50,
    "start_time": "2023-04-28T13:32:14.111Z"
   },
   {
    "duration": 7,
    "start_time": "2023-04-28T13:34:36.441Z"
   },
   {
    "duration": 5,
    "start_time": "2023-04-28T13:34:46.707Z"
   },
   {
    "duration": 8,
    "start_time": "2023-04-28T13:35:09.779Z"
   },
   {
    "duration": 6,
    "start_time": "2023-04-28T13:35:19.226Z"
   },
   {
    "duration": 6,
    "start_time": "2023-04-28T13:36:27.923Z"
   },
   {
    "duration": 47,
    "start_time": "2023-04-28T13:37:05.778Z"
   },
   {
    "duration": 146,
    "start_time": "2023-04-28T13:38:33.112Z"
   },
   {
    "duration": 202,
    "start_time": "2023-04-28T13:38:55.013Z"
   },
   {
    "duration": 138,
    "start_time": "2023-04-28T13:39:12.712Z"
   },
   {
    "duration": 59,
    "start_time": "2023-04-28T13:46:06.622Z"
   },
   {
    "duration": 139,
    "start_time": "2023-04-28T13:49:15.413Z"
   },
   {
    "duration": 135,
    "start_time": "2023-04-28T13:49:33.056Z"
   },
   {
    "duration": 248,
    "start_time": "2023-04-28T13:49:48.239Z"
   },
   {
    "duration": 390,
    "start_time": "2023-04-28T13:50:31.230Z"
   },
   {
    "duration": 394,
    "start_time": "2023-04-28T13:51:07.111Z"
   },
   {
    "duration": 356,
    "start_time": "2023-04-28T13:51:16.666Z"
   },
   {
    "duration": 138,
    "start_time": "2023-04-28T13:53:10.602Z"
   },
   {
    "duration": 279,
    "start_time": "2023-04-28T13:53:30.307Z"
   },
   {
    "duration": 137,
    "start_time": "2023-04-28T13:53:50.353Z"
   },
   {
    "duration": 163,
    "start_time": "2023-04-28T13:53:54.739Z"
   },
   {
    "duration": 155,
    "start_time": "2023-04-28T13:56:13.404Z"
   },
   {
    "duration": 881,
    "start_time": "2023-04-28T13:56:30.267Z"
   },
   {
    "duration": 364,
    "start_time": "2023-04-28T13:56:49.100Z"
   },
   {
    "duration": 757,
    "start_time": "2023-04-28T13:56:55.602Z"
   },
   {
    "duration": 753,
    "start_time": "2023-04-28T13:57:06.572Z"
   },
   {
    "duration": 727,
    "start_time": "2023-04-28T13:57:10.163Z"
   },
   {
    "duration": 1136,
    "start_time": "2023-04-28T13:57:13.740Z"
   },
   {
    "duration": 83,
    "start_time": "2023-04-28T13:57:14.877Z"
   },
   {
    "duration": 28,
    "start_time": "2023-04-28T13:57:14.961Z"
   },
   {
    "duration": 8,
    "start_time": "2023-04-28T13:57:14.991Z"
   },
   {
    "duration": 51,
    "start_time": "2023-04-28T13:57:15.000Z"
   },
   {
    "duration": 266,
    "start_time": "2023-04-28T13:57:15.052Z"
   },
   {
    "duration": 366,
    "start_time": "2023-04-28T13:57:15.319Z"
   },
   {
    "duration": 116,
    "start_time": "2023-04-28T13:57:15.694Z"
   },
   {
    "duration": 114,
    "start_time": "2023-04-28T13:57:15.811Z"
   },
   {
    "duration": 6,
    "start_time": "2023-04-28T13:57:15.927Z"
   },
   {
    "duration": 11,
    "start_time": "2023-04-28T13:57:15.935Z"
   },
   {
    "duration": 12,
    "start_time": "2023-04-28T13:57:15.947Z"
   },
   {
    "duration": 9,
    "start_time": "2023-04-28T13:57:15.960Z"
   },
   {
    "duration": 29,
    "start_time": "2023-04-28T13:57:15.971Z"
   },
   {
    "duration": 122,
    "start_time": "2023-04-28T13:57:16.002Z"
   },
   {
    "duration": 144,
    "start_time": "2023-04-28T13:57:16.126Z"
   },
   {
    "duration": 82,
    "start_time": "2023-04-28T13:57:16.271Z"
   },
   {
    "duration": 235,
    "start_time": "2023-04-28T13:57:16.355Z"
   },
   {
    "duration": 826,
    "start_time": "2023-04-28T13:57:16.592Z"
   },
   {
    "duration": 0,
    "start_time": "2023-04-28T13:57:17.420Z"
   },
   {
    "duration": 0,
    "start_time": "2023-04-28T13:57:17.421Z"
   },
   {
    "duration": 0,
    "start_time": "2023-04-28T13:57:17.422Z"
   },
   {
    "duration": 0,
    "start_time": "2023-04-28T13:57:17.424Z"
   },
   {
    "duration": 0,
    "start_time": "2023-04-28T13:57:17.425Z"
   },
   {
    "duration": 0,
    "start_time": "2023-04-28T13:57:17.426Z"
   },
   {
    "duration": 0,
    "start_time": "2023-04-28T13:57:17.427Z"
   },
   {
    "duration": 0,
    "start_time": "2023-04-28T13:57:17.428Z"
   },
   {
    "duration": 0,
    "start_time": "2023-04-28T13:57:17.429Z"
   },
   {
    "duration": 0,
    "start_time": "2023-04-28T13:57:17.431Z"
   },
   {
    "duration": 0,
    "start_time": "2023-04-28T13:57:17.432Z"
   },
   {
    "duration": 56,
    "start_time": "2023-04-28T14:00:24.306Z"
   },
   {
    "duration": 771,
    "start_time": "2023-04-28T14:01:09.603Z"
   },
   {
    "duration": 384,
    "start_time": "2023-04-28T14:01:21.960Z"
   },
   {
    "duration": 883,
    "start_time": "2023-04-28T14:01:26.554Z"
   },
   {
    "duration": 850,
    "start_time": "2023-04-28T14:01:33.863Z"
   },
   {
    "duration": 767,
    "start_time": "2023-04-28T14:01:58.270Z"
   },
   {
    "duration": 1187,
    "start_time": "2023-04-28T14:02:11.865Z"
   },
   {
    "duration": 85,
    "start_time": "2023-04-28T14:02:13.053Z"
   },
   {
    "duration": 36,
    "start_time": "2023-04-28T14:02:13.140Z"
   },
   {
    "duration": 21,
    "start_time": "2023-04-28T14:02:13.179Z"
   },
   {
    "duration": 35,
    "start_time": "2023-04-28T14:02:13.202Z"
   },
   {
    "duration": 311,
    "start_time": "2023-04-28T14:02:13.239Z"
   },
   {
    "duration": 364,
    "start_time": "2023-04-28T14:02:13.552Z"
   },
   {
    "duration": 137,
    "start_time": "2023-04-28T14:02:13.917Z"
   },
   {
    "duration": 155,
    "start_time": "2023-04-28T14:02:14.056Z"
   },
   {
    "duration": 8,
    "start_time": "2023-04-28T14:02:14.213Z"
   },
   {
    "duration": 24,
    "start_time": "2023-04-28T14:02:14.225Z"
   },
   {
    "duration": 18,
    "start_time": "2023-04-28T14:02:14.251Z"
   },
   {
    "duration": 13,
    "start_time": "2023-04-28T14:02:14.273Z"
   },
   {
    "duration": 11,
    "start_time": "2023-04-28T14:02:14.287Z"
   },
   {
    "duration": 144,
    "start_time": "2023-04-28T14:02:14.300Z"
   },
   {
    "duration": 139,
    "start_time": "2023-04-28T14:02:14.446Z"
   },
   {
    "duration": 102,
    "start_time": "2023-04-28T14:02:14.594Z"
   },
   {
    "duration": 255,
    "start_time": "2023-04-28T14:02:14.698Z"
   },
   {
    "duration": 987,
    "start_time": "2023-04-28T14:02:14.954Z"
   },
   {
    "duration": 0,
    "start_time": "2023-04-28T14:02:15.943Z"
   },
   {
    "duration": 0,
    "start_time": "2023-04-28T14:02:15.944Z"
   },
   {
    "duration": 0,
    "start_time": "2023-04-28T14:02:15.945Z"
   },
   {
    "duration": 0,
    "start_time": "2023-04-28T14:02:15.946Z"
   },
   {
    "duration": 0,
    "start_time": "2023-04-28T14:02:15.947Z"
   },
   {
    "duration": 0,
    "start_time": "2023-04-28T14:02:15.948Z"
   },
   {
    "duration": 0,
    "start_time": "2023-04-28T14:02:15.949Z"
   },
   {
    "duration": 0,
    "start_time": "2023-04-28T14:02:15.951Z"
   },
   {
    "duration": 0,
    "start_time": "2023-04-28T14:02:15.952Z"
   },
   {
    "duration": 0,
    "start_time": "2023-04-28T14:02:15.953Z"
   },
   {
    "duration": 0,
    "start_time": "2023-04-28T14:02:15.954Z"
   },
   {
    "duration": 0,
    "start_time": "2023-04-28T14:02:15.956Z"
   },
   {
    "duration": 9,
    "start_time": "2023-04-28T14:02:40.503Z"
   },
   {
    "duration": 382,
    "start_time": "2023-04-28T14:02:48.186Z"
   },
   {
    "duration": 394,
    "start_time": "2023-04-28T14:04:01.103Z"
   },
   {
    "duration": 353,
    "start_time": "2023-04-28T14:04:10.003Z"
   },
   {
    "duration": 41,
    "start_time": "2023-04-28T14:05:27.761Z"
   },
   {
    "duration": 54,
    "start_time": "2023-04-28T14:05:49.047Z"
   },
   {
    "duration": 529,
    "start_time": "2023-04-28T14:06:04.107Z"
   },
   {
    "duration": 18,
    "start_time": "2023-04-28T14:07:41.949Z"
   },
   {
    "duration": 59,
    "start_time": "2023-04-28T14:07:45.105Z"
   },
   {
    "duration": 20,
    "start_time": "2023-04-28T14:07:53.437Z"
   },
   {
    "duration": 58,
    "start_time": "2023-04-28T14:07:54.885Z"
   },
   {
    "duration": 15,
    "start_time": "2023-04-28T14:08:15.132Z"
   },
   {
    "duration": 23,
    "start_time": "2023-04-28T14:08:22.171Z"
   },
   {
    "duration": 55,
    "start_time": "2023-04-28T14:08:25.156Z"
   },
   {
    "duration": 1066,
    "start_time": "2023-04-28T14:10:08.445Z"
   },
   {
    "duration": 81,
    "start_time": "2023-04-28T14:10:09.513Z"
   },
   {
    "duration": 29,
    "start_time": "2023-04-28T14:10:09.595Z"
   },
   {
    "duration": 10,
    "start_time": "2023-04-28T14:10:09.626Z"
   },
   {
    "duration": 57,
    "start_time": "2023-04-28T14:10:09.638Z"
   },
   {
    "duration": 282,
    "start_time": "2023-04-28T14:10:09.697Z"
   },
   {
    "duration": 345,
    "start_time": "2023-04-28T14:10:09.981Z"
   },
   {
    "duration": 110,
    "start_time": "2023-04-28T14:10:10.327Z"
   },
   {
    "duration": 117,
    "start_time": "2023-04-28T14:10:10.438Z"
   },
   {
    "duration": 7,
    "start_time": "2023-04-28T14:10:10.557Z"
   },
   {
    "duration": 7,
    "start_time": "2023-04-28T14:10:10.566Z"
   },
   {
    "duration": 30,
    "start_time": "2023-04-28T14:10:10.575Z"
   },
   {
    "duration": 10,
    "start_time": "2023-04-28T14:10:10.607Z"
   },
   {
    "duration": 6,
    "start_time": "2023-04-28T14:10:10.619Z"
   },
   {
    "duration": 144,
    "start_time": "2023-04-28T14:10:10.626Z"
   },
   {
    "duration": 140,
    "start_time": "2023-04-28T14:10:10.772Z"
   },
   {
    "duration": 100,
    "start_time": "2023-04-28T14:10:10.914Z"
   },
   {
    "duration": 239,
    "start_time": "2023-04-28T14:10:11.015Z"
   },
   {
    "duration": 394,
    "start_time": "2023-04-28T14:10:11.256Z"
   },
   {
    "duration": 385,
    "start_time": "2023-04-28T14:10:11.652Z"
   },
   {
    "duration": 17,
    "start_time": "2023-04-28T14:10:12.039Z"
   },
   {
    "duration": 67,
    "start_time": "2023-04-28T14:10:12.058Z"
   },
   {
    "duration": 26,
    "start_time": "2023-04-28T14:10:12.127Z"
   },
   {
    "duration": 727,
    "start_time": "2023-04-28T14:10:12.155Z"
   },
   {
    "duration": 624,
    "start_time": "2023-04-28T14:10:12.883Z"
   },
   {
    "duration": 35,
    "start_time": "2023-04-28T14:10:13.509Z"
   },
   {
    "duration": 168,
    "start_time": "2023-04-28T14:10:13.545Z"
   },
   {
    "duration": 8,
    "start_time": "2023-04-28T14:10:13.715Z"
   },
   {
    "duration": 39,
    "start_time": "2023-04-28T14:10:13.725Z"
   },
   {
    "duration": 26,
    "start_time": "2023-04-28T14:10:13.766Z"
   },
   {
    "duration": 798,
    "start_time": "2023-04-28T14:11:52.331Z"
   },
   {
    "duration": 797,
    "start_time": "2023-04-28T14:12:23.401Z"
   },
   {
    "duration": 820,
    "start_time": "2023-04-28T14:12:52.763Z"
   },
   {
    "duration": 716,
    "start_time": "2023-04-28T14:13:45.771Z"
   },
   {
    "duration": 56,
    "start_time": "2023-04-28T14:14:38.911Z"
   },
   {
    "duration": 644,
    "start_time": "2023-04-28T14:14:47.428Z"
   },
   {
    "duration": 692,
    "start_time": "2023-04-28T14:15:11.661Z"
   },
   {
    "duration": 5,
    "start_time": "2023-04-28T14:19:29.287Z"
   },
   {
    "duration": 6,
    "start_time": "2023-04-28T14:20:12.802Z"
   },
   {
    "duration": 5,
    "start_time": "2023-04-28T14:20:26.911Z"
   },
   {
    "duration": 5,
    "start_time": "2023-04-28T14:20:35.871Z"
   },
   {
    "duration": 5,
    "start_time": "2023-04-28T14:20:44.839Z"
   },
   {
    "duration": 56,
    "start_time": "2023-04-28T14:21:35.606Z"
   },
   {
    "duration": 64,
    "start_time": "2023-04-28T14:21:41.217Z"
   },
   {
    "duration": 5,
    "start_time": "2023-04-28T14:21:47.415Z"
   },
   {
    "duration": 5,
    "start_time": "2023-04-28T14:23:06.751Z"
   },
   {
    "duration": 52,
    "start_time": "2023-04-28T14:23:40.848Z"
   },
   {
    "duration": 5,
    "start_time": "2023-04-28T14:23:46.801Z"
   },
   {
    "duration": 6,
    "start_time": "2023-04-28T14:24:44.834Z"
   },
   {
    "duration": 7,
    "start_time": "2023-04-28T14:24:56.225Z"
   },
   {
    "duration": 6,
    "start_time": "2023-04-28T14:25:09.961Z"
   },
   {
    "duration": 7,
    "start_time": "2023-04-28T14:25:22.753Z"
   },
   {
    "duration": 6,
    "start_time": "2023-04-28T14:25:35.938Z"
   },
   {
    "duration": 6,
    "start_time": "2023-04-28T14:25:46.338Z"
   },
   {
    "duration": 6,
    "start_time": "2023-04-28T14:26:05.618Z"
   },
   {
    "duration": 71,
    "start_time": "2023-04-28T14:26:30.435Z"
   },
   {
    "duration": 5,
    "start_time": "2023-04-28T14:26:44.041Z"
   },
   {
    "duration": 9,
    "start_time": "2023-04-28T14:27:44.947Z"
   },
   {
    "duration": 5,
    "start_time": "2023-04-28T14:28:06.683Z"
   },
   {
    "duration": 6,
    "start_time": "2023-04-28T14:28:26.884Z"
   },
   {
    "duration": 6,
    "start_time": "2023-04-28T14:29:46.339Z"
   },
   {
    "duration": 862,
    "start_time": "2023-04-28T14:30:04.244Z"
   },
   {
    "duration": 737,
    "start_time": "2023-04-28T14:30:26.210Z"
   },
   {
    "duration": 63,
    "start_time": "2023-04-28T14:32:09.579Z"
   },
   {
    "duration": 46,
    "start_time": "2023-04-28T14:41:14.593Z"
   },
   {
    "duration": 62,
    "start_time": "2023-04-28T14:44:29.942Z"
   },
   {
    "duration": 9,
    "start_time": "2023-04-28T14:51:00.177Z"
   },
   {
    "duration": 9,
    "start_time": "2023-04-28T14:51:06.565Z"
   },
   {
    "duration": 7,
    "start_time": "2023-04-28T14:51:21.520Z"
   },
   {
    "duration": 9,
    "start_time": "2023-04-28T14:51:28.311Z"
   },
   {
    "duration": 7,
    "start_time": "2023-04-28T14:51:34.649Z"
   },
   {
    "duration": 8,
    "start_time": "2023-04-28T14:51:46.695Z"
   },
   {
    "duration": 109,
    "start_time": "2023-04-28T14:52:41.849Z"
   },
   {
    "duration": 11,
    "start_time": "2023-04-28T14:57:12.370Z"
   },
   {
    "duration": 7,
    "start_time": "2023-04-28T15:00:37.099Z"
   },
   {
    "duration": 8,
    "start_time": "2023-04-28T15:00:46.798Z"
   },
   {
    "duration": 139,
    "start_time": "2023-04-28T15:03:24.982Z"
   },
   {
    "duration": 49,
    "start_time": "2023-04-28T15:05:00.287Z"
   },
   {
    "duration": 7,
    "start_time": "2023-04-28T15:06:15.247Z"
   },
   {
    "duration": 7,
    "start_time": "2023-04-28T15:07:12.839Z"
   },
   {
    "duration": 56,
    "start_time": "2023-04-28T15:08:35.295Z"
   },
   {
    "duration": 50,
    "start_time": "2023-04-28T15:08:47.687Z"
   },
   {
    "duration": 7,
    "start_time": "2023-04-28T15:08:51.935Z"
   },
   {
    "duration": 6,
    "start_time": "2023-04-28T15:08:58.711Z"
   },
   {
    "duration": 48,
    "start_time": "2023-04-28T15:10:07.992Z"
   },
   {
    "duration": 7,
    "start_time": "2023-04-28T15:14:19.179Z"
   },
   {
    "duration": 8,
    "start_time": "2023-04-28T15:14:40.050Z"
   },
   {
    "duration": 7,
    "start_time": "2023-04-28T15:14:59.331Z"
   },
   {
    "duration": 9,
    "start_time": "2023-04-28T15:16:01.988Z"
   },
   {
    "duration": 8,
    "start_time": "2023-04-28T15:18:59.317Z"
   },
   {
    "duration": 50,
    "start_time": "2023-04-28T15:19:20.708Z"
   },
   {
    "duration": 46,
    "start_time": "2023-04-28T15:19:57.212Z"
   },
   {
    "duration": 71,
    "start_time": "2023-04-28T15:31:23.210Z"
   },
   {
    "duration": 93,
    "start_time": "2023-04-29T10:07:51.949Z"
   },
   {
    "duration": 43,
    "start_time": "2023-04-29T10:25:28.977Z"
   },
   {
    "duration": 1201,
    "start_time": "2023-04-29T10:25:39.379Z"
   },
   {
    "duration": 199,
    "start_time": "2023-04-29T10:25:40.582Z"
   },
   {
    "duration": 29,
    "start_time": "2023-04-29T10:25:40.783Z"
   },
   {
    "duration": 8,
    "start_time": "2023-04-29T10:25:40.814Z"
   },
   {
    "duration": 58,
    "start_time": "2023-04-29T10:25:40.824Z"
   },
   {
    "duration": 237,
    "start_time": "2023-04-29T10:25:40.884Z"
   },
   {
    "duration": 292,
    "start_time": "2023-04-29T10:25:41.122Z"
   },
   {
    "duration": 101,
    "start_time": "2023-04-29T10:25:41.415Z"
   },
   {
    "duration": 105,
    "start_time": "2023-04-29T10:25:41.517Z"
   },
   {
    "duration": 6,
    "start_time": "2023-04-29T10:25:41.624Z"
   },
   {
    "duration": 27,
    "start_time": "2023-04-29T10:25:41.631Z"
   },
   {
    "duration": 22,
    "start_time": "2023-04-29T10:25:41.659Z"
   },
   {
    "duration": 31,
    "start_time": "2023-04-29T10:25:41.682Z"
   },
   {
    "duration": 34,
    "start_time": "2023-04-29T10:25:41.714Z"
   },
   {
    "duration": 113,
    "start_time": "2023-04-29T10:25:41.749Z"
   },
   {
    "duration": 112,
    "start_time": "2023-04-29T10:25:41.863Z"
   },
   {
    "duration": 72,
    "start_time": "2023-04-29T10:25:41.976Z"
   },
   {
    "duration": 195,
    "start_time": "2023-04-29T10:25:42.050Z"
   },
   {
    "duration": 295,
    "start_time": "2023-04-29T10:25:42.247Z"
   },
   {
    "duration": 297,
    "start_time": "2023-04-29T10:25:42.544Z"
   },
   {
    "duration": 14,
    "start_time": "2023-04-29T10:25:42.843Z"
   },
   {
    "duration": 48,
    "start_time": "2023-04-29T10:25:42.858Z"
   },
   {
    "duration": 26,
    "start_time": "2023-04-29T10:25:42.907Z"
   },
   {
    "duration": 734,
    "start_time": "2023-04-29T10:25:42.934Z"
   },
   {
    "duration": 576,
    "start_time": "2023-04-29T10:25:43.671Z"
   },
   {
    "duration": 34,
    "start_time": "2023-04-29T10:25:44.249Z"
   },
   {
    "duration": 117,
    "start_time": "2023-04-29T10:25:44.284Z"
   },
   {
    "duration": 6,
    "start_time": "2023-04-29T10:25:44.403Z"
   },
   {
    "duration": 81,
    "start_time": "2023-04-29T10:25:44.410Z"
   },
   {
    "duration": 0,
    "start_time": "2023-04-29T10:25:44.492Z"
   },
   {
    "duration": 0,
    "start_time": "2023-04-29T10:25:44.494Z"
   },
   {
    "duration": 6,
    "start_time": "2023-04-29T10:26:43.430Z"
   },
   {
    "duration": 102,
    "start_time": "2023-04-29T10:39:48.801Z"
   },
   {
    "duration": 1127,
    "start_time": "2023-04-29T10:41:45.156Z"
   },
   {
    "duration": 78,
    "start_time": "2023-04-29T10:41:46.284Z"
   },
   {
    "duration": 25,
    "start_time": "2023-04-29T10:41:46.363Z"
   },
   {
    "duration": 9,
    "start_time": "2023-04-29T10:41:46.390Z"
   },
   {
    "duration": 24,
    "start_time": "2023-04-29T10:41:46.400Z"
   },
   {
    "duration": 237,
    "start_time": "2023-04-29T10:41:46.425Z"
   },
   {
    "duration": 288,
    "start_time": "2023-04-29T10:41:46.663Z"
   },
   {
    "duration": 99,
    "start_time": "2023-04-29T10:41:46.952Z"
   },
   {
    "duration": 110,
    "start_time": "2023-04-29T10:41:47.052Z"
   },
   {
    "duration": 11,
    "start_time": "2023-04-29T10:41:47.164Z"
   },
   {
    "duration": 6,
    "start_time": "2023-04-29T10:41:47.176Z"
   },
   {
    "duration": 13,
    "start_time": "2023-04-29T10:41:47.183Z"
   },
   {
    "duration": 8,
    "start_time": "2023-04-29T10:41:47.197Z"
   },
   {
    "duration": 5,
    "start_time": "2023-04-29T10:41:47.206Z"
   },
   {
    "duration": 131,
    "start_time": "2023-04-29T10:41:47.212Z"
   },
   {
    "duration": 117,
    "start_time": "2023-04-29T10:41:47.345Z"
   },
   {
    "duration": 72,
    "start_time": "2023-04-29T10:41:47.471Z"
   },
   {
    "duration": 201,
    "start_time": "2023-04-29T10:41:47.545Z"
   },
   {
    "duration": 299,
    "start_time": "2023-04-29T10:41:47.748Z"
   },
   {
    "duration": 300,
    "start_time": "2023-04-29T10:41:48.049Z"
   },
   {
    "duration": 22,
    "start_time": "2023-04-29T10:41:48.350Z"
   },
   {
    "duration": 43,
    "start_time": "2023-04-29T10:41:48.373Z"
   },
   {
    "duration": 20,
    "start_time": "2023-04-29T10:41:48.417Z"
   },
   {
    "duration": 672,
    "start_time": "2023-04-29T10:41:48.438Z"
   },
   {
    "duration": 588,
    "start_time": "2023-04-29T10:41:49.112Z"
   },
   {
    "duration": 28,
    "start_time": "2023-04-29T10:41:49.701Z"
   },
   {
    "duration": 117,
    "start_time": "2023-04-29T10:41:49.730Z"
   },
   {
    "duration": 6,
    "start_time": "2023-04-29T10:41:49.850Z"
   },
   {
    "duration": 16,
    "start_time": "2023-04-29T10:41:49.857Z"
   },
   {
    "duration": 6,
    "start_time": "2023-04-29T10:41:49.875Z"
   },
   {
    "duration": 50,
    "start_time": "2023-04-29T11:04:49.124Z"
   },
   {
    "duration": 46,
    "start_time": "2023-04-29T11:13:52.368Z"
   },
   {
    "duration": 1287,
    "start_time": "2023-04-29T11:21:07.420Z"
   },
   {
    "duration": 320,
    "start_time": "2023-04-29T11:21:08.709Z"
   },
   {
    "duration": 27,
    "start_time": "2023-04-29T11:21:09.030Z"
   },
   {
    "duration": 7,
    "start_time": "2023-04-29T11:21:09.059Z"
   },
   {
    "duration": 40,
    "start_time": "2023-04-29T11:21:09.068Z"
   },
   {
    "duration": 284,
    "start_time": "2023-04-29T11:21:09.110Z"
   },
   {
    "duration": 362,
    "start_time": "2023-04-29T11:21:09.396Z"
   },
   {
    "duration": 120,
    "start_time": "2023-04-29T11:21:09.759Z"
   },
   {
    "duration": 128,
    "start_time": "2023-04-29T11:21:09.881Z"
   },
   {
    "duration": 7,
    "start_time": "2023-04-29T11:21:10.011Z"
   },
   {
    "duration": 19,
    "start_time": "2023-04-29T11:21:10.020Z"
   },
   {
    "duration": 15,
    "start_time": "2023-04-29T11:21:10.041Z"
   },
   {
    "duration": 10,
    "start_time": "2023-04-29T11:21:10.057Z"
   },
   {
    "duration": 7,
    "start_time": "2023-04-29T11:21:10.070Z"
   },
   {
    "duration": 135,
    "start_time": "2023-04-29T11:21:10.093Z"
   },
   {
    "duration": 148,
    "start_time": "2023-04-29T11:21:10.230Z"
   },
   {
    "duration": 84,
    "start_time": "2023-04-29T11:21:10.379Z"
   },
   {
    "duration": 243,
    "start_time": "2023-04-29T11:21:10.464Z"
   },
   {
    "duration": 393,
    "start_time": "2023-04-29T11:21:10.709Z"
   },
   {
    "duration": 394,
    "start_time": "2023-04-29T11:21:11.104Z"
   },
   {
    "duration": 17,
    "start_time": "2023-04-29T11:21:11.499Z"
   },
   {
    "duration": 49,
    "start_time": "2023-04-29T11:21:11.517Z"
   },
   {
    "duration": 46,
    "start_time": "2023-04-29T11:21:11.567Z"
   },
   {
    "duration": 926,
    "start_time": "2023-04-29T11:21:11.615Z"
   },
   {
    "duration": 882,
    "start_time": "2023-04-29T11:21:12.543Z"
   },
   {
    "duration": 31,
    "start_time": "2023-04-29T11:21:13.427Z"
   },
   {
    "duration": 139,
    "start_time": "2023-04-29T11:21:13.459Z"
   },
   {
    "duration": 7,
    "start_time": "2023-04-29T11:21:13.599Z"
   },
   {
    "duration": 5,
    "start_time": "2023-04-29T11:21:13.608Z"
   },
   {
    "duration": 9,
    "start_time": "2023-04-29T11:21:13.614Z"
   }
  ],
  "kernelspec": {
   "display_name": "Python 3 (ipykernel)",
   "language": "python",
   "name": "python3"
  },
  "language_info": {
   "codemirror_mode": {
    "name": "ipython",
    "version": 3
   },
   "file_extension": ".py",
   "mimetype": "text/x-python",
   "name": "python",
   "nbconvert_exporter": "python",
   "pygments_lexer": "ipython3",
   "version": "3.9.13"
  },
  "toc": {
   "base_numbering": 1,
   "nav_menu": {},
   "number_sections": true,
   "sideBar": true,
   "skip_h1_title": true,
   "title_cell": "Table of Contents",
   "title_sidebar": "Contents",
   "toc_cell": false,
   "toc_position": {
    "height": "calc(100% - 180px)",
    "left": "10px",
    "top": "150px",
    "width": "294.237px"
   },
   "toc_section_display": true,
   "toc_window_display": true
  }
 },
 "nbformat": 4,
 "nbformat_minor": 5
}
